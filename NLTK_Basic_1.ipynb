{
  "nbformat": 4,
  "nbformat_minor": 0,
  "metadata": {
    "colab": {
      "name": "NLTK_Basic_1.ipynb",
      "provenance": []
    },
    "kernelspec": {
      "name": "python3",
      "display_name": "Python 3"
    }
  },
  "cells": [
    {
      "cell_type": "code",
      "metadata": {
        "id": "sNmXPW_XePgZ",
        "colab_type": "code",
        "colab": {
          "base_uri": "https://localhost:8080/",
          "height": 144
        },
        "outputId": "e9ca563a-34de-4e6c-d022-32f374edd4ad"
      },
      "source": [
        "from google.colab import drive\n",
        "drive.mount('/gdrive')\n",
        "%cd /gdrive"
      ],
      "execution_count": 1,
      "outputs": [
        {
          "output_type": "stream",
          "text": [
            "Go to this URL in a browser: https://accounts.google.com/o/oauth2/auth?client_id=947318989803-6bn6qk8qdgf4n4g3pfee6491hc0brc4i.apps.googleusercontent.com&redirect_uri=urn%3aietf%3awg%3aoauth%3a2.0%3aoob&response_type=code&scope=email%20https%3a%2f%2fwww.googleapis.com%2fauth%2fdocs.test%20https%3a%2f%2fwww.googleapis.com%2fauth%2fdrive%20https%3a%2f%2fwww.googleapis.com%2fauth%2fdrive.photos.readonly%20https%3a%2f%2fwww.googleapis.com%2fauth%2fpeopleapi.readonly\n",
            "\n",
            "Enter your authorization code:\n",
            "··········\n",
            "Mounted at /gdrive\n",
            "/gdrive\n"
          ],
          "name": "stdout"
        }
      ]
    },
    {
      "cell_type": "code",
      "metadata": {
        "id": "4BFOstmBedG6",
        "colab_type": "code",
        "colab": {
          "base_uri": "https://localhost:8080/",
          "height": 1000
        },
        "outputId": "0edb83c0-73b4-4616-f457-2a064f50a614"
      },
      "source": [
        "import nltk\n",
        "from nltk.tokenize import word_tokenize\n",
        "nltk.download('all')\n",
        "nltk.download('words')"
      ],
      "execution_count": 3,
      "outputs": [
        {
          "output_type": "stream",
          "text": [
            "[nltk_data] Downloading collection 'all'\n",
            "[nltk_data]    | \n",
            "[nltk_data]    | Downloading package abc to /root/nltk_data...\n",
            "[nltk_data]    |   Unzipping corpora/abc.zip.\n",
            "[nltk_data]    | Downloading package alpino to /root/nltk_data...\n",
            "[nltk_data]    |   Unzipping corpora/alpino.zip.\n",
            "[nltk_data]    | Downloading package biocreative_ppi to\n",
            "[nltk_data]    |     /root/nltk_data...\n",
            "[nltk_data]    |   Unzipping corpora/biocreative_ppi.zip.\n",
            "[nltk_data]    | Downloading package brown to /root/nltk_data...\n",
            "[nltk_data]    |   Unzipping corpora/brown.zip.\n",
            "[nltk_data]    | Downloading package brown_tei to /root/nltk_data...\n",
            "[nltk_data]    |   Unzipping corpora/brown_tei.zip.\n",
            "[nltk_data]    | Downloading package cess_cat to /root/nltk_data...\n",
            "[nltk_data]    |   Unzipping corpora/cess_cat.zip.\n",
            "[nltk_data]    | Downloading package cess_esp to /root/nltk_data...\n",
            "[nltk_data]    |   Unzipping corpora/cess_esp.zip.\n",
            "[nltk_data]    | Downloading package chat80 to /root/nltk_data...\n",
            "[nltk_data]    |   Unzipping corpora/chat80.zip.\n",
            "[nltk_data]    | Downloading package city_database to\n",
            "[nltk_data]    |     /root/nltk_data...\n",
            "[nltk_data]    |   Unzipping corpora/city_database.zip.\n",
            "[nltk_data]    | Downloading package cmudict to /root/nltk_data...\n",
            "[nltk_data]    |   Unzipping corpora/cmudict.zip.\n",
            "[nltk_data]    | Downloading package comparative_sentences to\n",
            "[nltk_data]    |     /root/nltk_data...\n",
            "[nltk_data]    |   Unzipping corpora/comparative_sentences.zip.\n",
            "[nltk_data]    | Downloading package comtrans to /root/nltk_data...\n",
            "[nltk_data]    | Downloading package conll2000 to /root/nltk_data...\n",
            "[nltk_data]    |   Unzipping corpora/conll2000.zip.\n",
            "[nltk_data]    | Downloading package conll2002 to /root/nltk_data...\n",
            "[nltk_data]    |   Unzipping corpora/conll2002.zip.\n",
            "[nltk_data]    | Downloading package conll2007 to /root/nltk_data...\n",
            "[nltk_data]    | Downloading package crubadan to /root/nltk_data...\n",
            "[nltk_data]    |   Unzipping corpora/crubadan.zip.\n",
            "[nltk_data]    | Downloading package dependency_treebank to\n",
            "[nltk_data]    |     /root/nltk_data...\n",
            "[nltk_data]    |   Unzipping corpora/dependency_treebank.zip.\n",
            "[nltk_data]    | Downloading package dolch to /root/nltk_data...\n",
            "[nltk_data]    |   Unzipping corpora/dolch.zip.\n",
            "[nltk_data]    | Downloading package europarl_raw to\n",
            "[nltk_data]    |     /root/nltk_data...\n",
            "[nltk_data]    |   Unzipping corpora/europarl_raw.zip.\n",
            "[nltk_data]    | Downloading package floresta to /root/nltk_data...\n",
            "[nltk_data]    |   Unzipping corpora/floresta.zip.\n",
            "[nltk_data]    | Downloading package framenet_v15 to\n",
            "[nltk_data]    |     /root/nltk_data...\n",
            "[nltk_data]    |   Unzipping corpora/framenet_v15.zip.\n",
            "[nltk_data]    | Downloading package framenet_v17 to\n",
            "[nltk_data]    |     /root/nltk_data...\n",
            "[nltk_data]    |   Unzipping corpora/framenet_v17.zip.\n",
            "[nltk_data]    | Downloading package gazetteers to /root/nltk_data...\n",
            "[nltk_data]    |   Unzipping corpora/gazetteers.zip.\n",
            "[nltk_data]    | Downloading package genesis to /root/nltk_data...\n",
            "[nltk_data]    |   Unzipping corpora/genesis.zip.\n",
            "[nltk_data]    | Downloading package gutenberg to /root/nltk_data...\n",
            "[nltk_data]    |   Unzipping corpora/gutenberg.zip.\n",
            "[nltk_data]    | Downloading package ieer to /root/nltk_data...\n",
            "[nltk_data]    |   Unzipping corpora/ieer.zip.\n",
            "[nltk_data]    | Downloading package inaugural to /root/nltk_data...\n",
            "[nltk_data]    |   Unzipping corpora/inaugural.zip.\n",
            "[nltk_data]    | Downloading package indian to /root/nltk_data...\n",
            "[nltk_data]    |   Unzipping corpora/indian.zip.\n",
            "[nltk_data]    | Downloading package jeita to /root/nltk_data...\n",
            "[nltk_data]    | Downloading package kimmo to /root/nltk_data...\n",
            "[nltk_data]    |   Unzipping corpora/kimmo.zip.\n",
            "[nltk_data]    | Downloading package knbc to /root/nltk_data...\n",
            "[nltk_data]    | Downloading package lin_thesaurus to\n",
            "[nltk_data]    |     /root/nltk_data...\n",
            "[nltk_data]    |   Unzipping corpora/lin_thesaurus.zip.\n",
            "[nltk_data]    | Downloading package mac_morpho to /root/nltk_data...\n",
            "[nltk_data]    |   Unzipping corpora/mac_morpho.zip.\n",
            "[nltk_data]    | Downloading package machado to /root/nltk_data...\n",
            "[nltk_data]    | Downloading package masc_tagged to /root/nltk_data...\n",
            "[nltk_data]    | Downloading package moses_sample to\n",
            "[nltk_data]    |     /root/nltk_data...\n",
            "[nltk_data]    |   Unzipping models/moses_sample.zip.\n",
            "[nltk_data]    | Downloading package movie_reviews to\n",
            "[nltk_data]    |     /root/nltk_data...\n",
            "[nltk_data]    |   Unzipping corpora/movie_reviews.zip.\n",
            "[nltk_data]    | Downloading package names to /root/nltk_data...\n",
            "[nltk_data]    |   Unzipping corpora/names.zip.\n",
            "[nltk_data]    | Downloading package nombank.1.0 to /root/nltk_data...\n",
            "[nltk_data]    | Downloading package nps_chat to /root/nltk_data...\n",
            "[nltk_data]    |   Unzipping corpora/nps_chat.zip.\n",
            "[nltk_data]    | Downloading package omw to /root/nltk_data...\n",
            "[nltk_data]    |   Unzipping corpora/omw.zip.\n",
            "[nltk_data]    | Downloading package opinion_lexicon to\n",
            "[nltk_data]    |     /root/nltk_data...\n",
            "[nltk_data]    |   Unzipping corpora/opinion_lexicon.zip.\n",
            "[nltk_data]    | Downloading package paradigms to /root/nltk_data...\n",
            "[nltk_data]    |   Unzipping corpora/paradigms.zip.\n",
            "[nltk_data]    | Downloading package pil to /root/nltk_data...\n",
            "[nltk_data]    |   Unzipping corpora/pil.zip.\n",
            "[nltk_data]    | Downloading package pl196x to /root/nltk_data...\n",
            "[nltk_data]    |   Unzipping corpora/pl196x.zip.\n",
            "[nltk_data]    | Downloading package ppattach to /root/nltk_data...\n",
            "[nltk_data]    |   Unzipping corpora/ppattach.zip.\n",
            "[nltk_data]    | Downloading package problem_reports to\n",
            "[nltk_data]    |     /root/nltk_data...\n",
            "[nltk_data]    |   Unzipping corpora/problem_reports.zip.\n",
            "[nltk_data]    | Downloading package propbank to /root/nltk_data...\n",
            "[nltk_data]    | Downloading package ptb to /root/nltk_data...\n",
            "[nltk_data]    |   Unzipping corpora/ptb.zip.\n",
            "[nltk_data]    | Downloading package product_reviews_1 to\n",
            "[nltk_data]    |     /root/nltk_data...\n",
            "[nltk_data]    |   Unzipping corpora/product_reviews_1.zip.\n",
            "[nltk_data]    | Downloading package product_reviews_2 to\n",
            "[nltk_data]    |     /root/nltk_data...\n",
            "[nltk_data]    |   Unzipping corpora/product_reviews_2.zip.\n",
            "[nltk_data]    | Downloading package pros_cons to /root/nltk_data...\n",
            "[nltk_data]    |   Unzipping corpora/pros_cons.zip.\n",
            "[nltk_data]    | Downloading package qc to /root/nltk_data...\n",
            "[nltk_data]    |   Unzipping corpora/qc.zip.\n",
            "[nltk_data]    | Downloading package reuters to /root/nltk_data...\n",
            "[nltk_data]    | Downloading package rte to /root/nltk_data...\n",
            "[nltk_data]    |   Unzipping corpora/rte.zip.\n",
            "[nltk_data]    | Downloading package semcor to /root/nltk_data...\n",
            "[nltk_data]    | Downloading package senseval to /root/nltk_data...\n",
            "[nltk_data]    |   Unzipping corpora/senseval.zip.\n",
            "[nltk_data]    | Downloading package sentiwordnet to\n",
            "[nltk_data]    |     /root/nltk_data...\n",
            "[nltk_data]    |   Unzipping corpora/sentiwordnet.zip.\n",
            "[nltk_data]    | Downloading package sentence_polarity to\n",
            "[nltk_data]    |     /root/nltk_data...\n",
            "[nltk_data]    |   Unzipping corpora/sentence_polarity.zip.\n",
            "[nltk_data]    | Downloading package shakespeare to /root/nltk_data...\n",
            "[nltk_data]    |   Unzipping corpora/shakespeare.zip.\n",
            "[nltk_data]    | Downloading package sinica_treebank to\n",
            "[nltk_data]    |     /root/nltk_data...\n",
            "[nltk_data]    |   Unzipping corpora/sinica_treebank.zip.\n",
            "[nltk_data]    | Downloading package smultron to /root/nltk_data...\n",
            "[nltk_data]    |   Unzipping corpora/smultron.zip.\n",
            "[nltk_data]    | Downloading package state_union to /root/nltk_data...\n",
            "[nltk_data]    |   Unzipping corpora/state_union.zip.\n",
            "[nltk_data]    | Downloading package stopwords to /root/nltk_data...\n",
            "[nltk_data]    |   Unzipping corpora/stopwords.zip.\n",
            "[nltk_data]    | Downloading package subjectivity to\n",
            "[nltk_data]    |     /root/nltk_data...\n",
            "[nltk_data]    |   Unzipping corpora/subjectivity.zip.\n",
            "[nltk_data]    | Downloading package swadesh to /root/nltk_data...\n",
            "[nltk_data]    |   Unzipping corpora/swadesh.zip.\n",
            "[nltk_data]    | Downloading package switchboard to /root/nltk_data...\n",
            "[nltk_data]    |   Unzipping corpora/switchboard.zip.\n",
            "[nltk_data]    | Downloading package timit to /root/nltk_data...\n",
            "[nltk_data]    |   Unzipping corpora/timit.zip.\n",
            "[nltk_data]    | Downloading package toolbox to /root/nltk_data...\n",
            "[nltk_data]    |   Unzipping corpora/toolbox.zip.\n",
            "[nltk_data]    | Downloading package treebank to /root/nltk_data...\n",
            "[nltk_data]    |   Unzipping corpora/treebank.zip.\n",
            "[nltk_data]    | Downloading package twitter_samples to\n",
            "[nltk_data]    |     /root/nltk_data...\n",
            "[nltk_data]    |   Unzipping corpora/twitter_samples.zip.\n",
            "[nltk_data]    | Downloading package udhr to /root/nltk_data...\n",
            "[nltk_data]    |   Unzipping corpora/udhr.zip.\n",
            "[nltk_data]    | Downloading package udhr2 to /root/nltk_data...\n",
            "[nltk_data]    |   Unzipping corpora/udhr2.zip.\n",
            "[nltk_data]    | Downloading package unicode_samples to\n",
            "[nltk_data]    |     /root/nltk_data...\n",
            "[nltk_data]    |   Unzipping corpora/unicode_samples.zip.\n",
            "[nltk_data]    | Downloading package universal_treebanks_v20 to\n",
            "[nltk_data]    |     /root/nltk_data...\n",
            "[nltk_data]    | Downloading package verbnet to /root/nltk_data...\n",
            "[nltk_data]    |   Unzipping corpora/verbnet.zip.\n",
            "[nltk_data]    | Downloading package verbnet3 to /root/nltk_data...\n",
            "[nltk_data]    |   Unzipping corpora/verbnet3.zip.\n",
            "[nltk_data]    | Downloading package webtext to /root/nltk_data...\n",
            "[nltk_data]    |   Unzipping corpora/webtext.zip.\n",
            "[nltk_data]    | Downloading package wordnet to /root/nltk_data...\n",
            "[nltk_data]    |   Unzipping corpora/wordnet.zip.\n",
            "[nltk_data]    | Downloading package wordnet_ic to /root/nltk_data...\n",
            "[nltk_data]    |   Unzipping corpora/wordnet_ic.zip.\n",
            "[nltk_data]    | Downloading package words to /root/nltk_data...\n",
            "[nltk_data]    |   Unzipping corpora/words.zip.\n",
            "[nltk_data]    | Downloading package ycoe to /root/nltk_data...\n",
            "[nltk_data]    |   Unzipping corpora/ycoe.zip.\n",
            "[nltk_data]    | Downloading package rslp to /root/nltk_data...\n",
            "[nltk_data]    |   Unzipping stemmers/rslp.zip.\n",
            "[nltk_data]    | Downloading package maxent_treebank_pos_tagger to\n",
            "[nltk_data]    |     /root/nltk_data...\n",
            "[nltk_data]    |   Unzipping taggers/maxent_treebank_pos_tagger.zip.\n",
            "[nltk_data]    | Downloading package universal_tagset to\n",
            "[nltk_data]    |     /root/nltk_data...\n",
            "[nltk_data]    |   Unzipping taggers/universal_tagset.zip.\n",
            "[nltk_data]    | Downloading package maxent_ne_chunker to\n",
            "[nltk_data]    |     /root/nltk_data...\n",
            "[nltk_data]    |   Unzipping chunkers/maxent_ne_chunker.zip.\n",
            "[nltk_data]    | Downloading package punkt to /root/nltk_data...\n",
            "[nltk_data]    |   Unzipping tokenizers/punkt.zip.\n",
            "[nltk_data]    | Downloading package book_grammars to\n",
            "[nltk_data]    |     /root/nltk_data...\n",
            "[nltk_data]    |   Unzipping grammars/book_grammars.zip.\n",
            "[nltk_data]    | Downloading package sample_grammars to\n",
            "[nltk_data]    |     /root/nltk_data...\n",
            "[nltk_data]    |   Unzipping grammars/sample_grammars.zip.\n",
            "[nltk_data]    | Downloading package spanish_grammars to\n",
            "[nltk_data]    |     /root/nltk_data...\n",
            "[nltk_data]    |   Unzipping grammars/spanish_grammars.zip.\n",
            "[nltk_data]    | Downloading package basque_grammars to\n",
            "[nltk_data]    |     /root/nltk_data...\n",
            "[nltk_data]    |   Unzipping grammars/basque_grammars.zip.\n",
            "[nltk_data]    | Downloading package large_grammars to\n",
            "[nltk_data]    |     /root/nltk_data...\n",
            "[nltk_data]    |   Unzipping grammars/large_grammars.zip.\n",
            "[nltk_data]    | Downloading package tagsets to /root/nltk_data...\n",
            "[nltk_data]    |   Unzipping help/tagsets.zip.\n",
            "[nltk_data]    | Downloading package snowball_data to\n",
            "[nltk_data]    |     /root/nltk_data...\n",
            "[nltk_data]    | Downloading package bllip_wsj_no_aux to\n",
            "[nltk_data]    |     /root/nltk_data...\n",
            "[nltk_data]    |   Unzipping models/bllip_wsj_no_aux.zip.\n",
            "[nltk_data]    | Downloading package word2vec_sample to\n",
            "[nltk_data]    |     /root/nltk_data...\n",
            "[nltk_data]    |   Unzipping models/word2vec_sample.zip.\n",
            "[nltk_data]    | Downloading package panlex_swadesh to\n",
            "[nltk_data]    |     /root/nltk_data...\n",
            "[nltk_data]    | Downloading package mte_teip5 to /root/nltk_data...\n",
            "[nltk_data]    |   Unzipping corpora/mte_teip5.zip.\n",
            "[nltk_data]    | Downloading package averaged_perceptron_tagger to\n",
            "[nltk_data]    |     /root/nltk_data...\n",
            "[nltk_data]    |   Unzipping taggers/averaged_perceptron_tagger.zip.\n",
            "[nltk_data]    | Downloading package averaged_perceptron_tagger_ru to\n",
            "[nltk_data]    |     /root/nltk_data...\n",
            "[nltk_data]    |   Unzipping\n",
            "[nltk_data]    |       taggers/averaged_perceptron_tagger_ru.zip.\n",
            "[nltk_data]    | Downloading package perluniprops to\n",
            "[nltk_data]    |     /root/nltk_data...\n",
            "[nltk_data]    |   Unzipping misc/perluniprops.zip.\n",
            "[nltk_data]    | Downloading package nonbreaking_prefixes to\n",
            "[nltk_data]    |     /root/nltk_data...\n",
            "[nltk_data]    |   Unzipping corpora/nonbreaking_prefixes.zip.\n",
            "[nltk_data]    | Downloading package vader_lexicon to\n",
            "[nltk_data]    |     /root/nltk_data...\n",
            "[nltk_data]    | Downloading package porter_test to /root/nltk_data...\n",
            "[nltk_data]    |   Unzipping stemmers/porter_test.zip.\n",
            "[nltk_data]    | Downloading package wmt15_eval to /root/nltk_data...\n",
            "[nltk_data]    |   Unzipping models/wmt15_eval.zip.\n",
            "[nltk_data]    | Downloading package mwa_ppdb to /root/nltk_data...\n",
            "[nltk_data]    |   Unzipping misc/mwa_ppdb.zip.\n",
            "[nltk_data]    | \n",
            "[nltk_data]  Done downloading collection all\n",
            "[nltk_data] Downloading package words to /root/nltk_data...\n",
            "[nltk_data]   Package words is already up-to-date!\n"
          ],
          "name": "stdout"
        },
        {
          "output_type": "execute_result",
          "data": {
            "text/plain": [
              "True"
            ]
          },
          "metadata": {
            "tags": []
          },
          "execution_count": 3
        }
      ]
    },
    {
      "cell_type": "code",
      "metadata": {
        "id": "_FTJ7LFNfofs",
        "colab_type": "code",
        "colab": {}
      },
      "source": [
        "%matplotlib inline"
      ],
      "execution_count": 0,
      "outputs": []
    },
    {
      "cell_type": "code",
      "metadata": {
        "id": "CZeO_dP5f52K",
        "colab_type": "code",
        "colab": {}
      },
      "source": [
        "text = \"\"\"\n",
        "In the southeastern corner of Kentucky, in the stretch of\n",
        "the Appalachian Mountains known as the Cumberland\n",
        "Plateau, lies a small town called Harlan.\n",
        "The Cumberland Plateau is a wild and mountainous\n",
        "region of flat-topped ridges, mountain walls five hundred\n",
        "to a thousand feet high, and narrow valleys, some wide\n",
        "enough only for a one-lane road and a creek. When the\n",
        "area was first settled, the plateau was covered with a dense\n",
        "primeval forest. Giant tulip poplars grew in the coves and\n",
        "at the foot of the hills, some with trunks as wide as seven\n",
        "or eight feet in diameter. Alongside them were white oaks,\n",
        "beeches, maples, walnuts, sycamores, birches, willows,\n",
        "cedars, pines, and hemlocks, all enmeshed in a lattice of\n",
        "wild grapevine, comprising one of the greatest assortment\n",
        "of forest trees in the Northern Hemisphere. On the ground\n",
        "1 6 1O U T L I E R S\n",
        "were bears and mountain lions and rattlesnakes; in the\n",
        "treetops, an astonishing array of squirrels; and beneath\n",
        "the soil, one thick seam after another of coal.\n",
        "Harlan County was founded in 1819 by eight immigrant families from the northern regions of the British\n",
        "Isles. They had come to Virginia in the eighteenth century and then moved west into the Appalachians in search\n",
        "of land. The county was never wealthy. For its first one\n",
        "hundred years, it was thinly populated, rarely numbering more than ten thousand people. The first settlers kept\n",
        "pigs and herded sheep on the hillsides, scratching out a\n",
        "living on small farms in the valleys. They made whiskey\n",
        "in backyard stills and felled trees, floating them down\n",
        "the Cumberland River in the spring, when the water was\n",
        "high. Until well into the twentieth century, getting to\n",
        "the nearest train station was a two-day wagon trip. The\n",
        "only way out of town was up Pine Mountain, which was\n",
        "nine steep miles on a road that turned on occasion into\n",
        "no more than a muddy, rocky trail. Harlan was a remote\n",
        "and strange place, unknown by the larger society around\n",
        "it, and it might well have remained so but for the fact that\n",
        "two of the town's founding families—the Howards and\n",
        "the Turners—did not get along.\n",
        "The patriarch of the Howard clan was Samuel Howard. He built the town courthouse and the jail. His counterpart was William Turner, who owned a tavern and\n",
        "two general stores. Once a storm blew down the fence\n",
        "to the Turner property, and a neighbor's cow wandered\n",
        "onto their land. William Turner's grandson, \"Devil Jim,\"\n",
        "shot the cow dead. The neighbor was too terrified to press\n",
        "charges and fled the county. Another time, a man tried to\n",
        "1 6 2H A R L A N , K E N T U C K Y\n",
        "open a competitor to the Turners' general store. The Turners had a word with him. He closed the store and moved\n",
        "to Indiana. These were not pleasant people.\n",
        "One night Wix Howard and \"Little Bob\" Turner—the\n",
        "grandsons of Samuel and William, respectively—played\n",
        "against each other in a game of poker. Each accused the\n",
        "other of cheating. They fought. The following day they\n",
        "met in the street, and after a flurry of gunshots, Little Bob\n",
        "Turner lay dead with a shotgun blast to the chest. A group\n",
        "of Turners went to the Howards' general store and spoke\n",
        "roughly to Mrs. Howard. She was insulted and told her\n",
        "son Wilse Howard, and the following week he exchanged\n",
        "gunfire with another of Turner's grandsons, young Will\n",
        "Turner, on the road to Hagan, Virginia. That night one\n",
        "of the Turners and a friend attacked the Howard home.\n",
        "The two families then clashed outside the Harlan courthouse. In the gunfire, Will Turner was shot and killed. A\n",
        "contingent of Howards then went to see Mrs. Turner, the\n",
        "mother of Will Turner and Little Bob, to ask for a truce.\n",
        "She declined: \"You can't wipe out that blood,\" she said,\n",
        "pointing to the dirt where her son had died.\n",
        "Things quickly went from bad to worse. Wilse Howard ran into \"Little George\" Turner near Sulphur Springs\n",
        "and shot him dead. The Howards ambushed three friends\n",
        "of the Turners—the Cawoods—killing all of them. A posse\n",
        "was sent out in search of the Howards. In the resulting\n",
        "gunfight, six more were killed or wounded. Wilse Howard\n",
        "heard the Turners were after him, and he and a friend rode\n",
        "into Harlan and attacked the Turner home. Riding back,\n",
        "the Howards were ambushed. In the fighting, another person died. Wilse Howard rode to Little George Turner's\n",
        "1 6 3O U T L I E R S\n",
        "house and fired at him but missed and killed another man.\n",
        "A posse surrounded the Howard home. There was another\n",
        "gunfight. More dead. The county was in an uproar. I think\n",
        "you get the picture. There were places in nineteenthcentury America where people lived in harmony. Harlan,\n",
        "Kentucky, was not one of them.\n",
        "\"Stop that!\" Will Turner's mother snapped at him\n",
        "when he staggered home, howling in pain after being shot\n",
        "in the courthouse gun battle with the Howards. \"Die like\n",
        "a man, like your brother did!\" She belonged to a world so\n",
        "well acquainted with fatal gunshots that she had certain\n",
        "expectations about how they ought to be endured. Will\n",
        "shut his mouth, and he died.\"\"\""
      ],
      "execution_count": 0,
      "outputs": []
    },
    {
      "cell_type": "markdown",
      "metadata": {
        "id": "V3fJ2Y3mgBb9",
        "colab_type": "text"
      },
      "source": [
        "# Tokenization"
      ]
    },
    {
      "cell_type": "code",
      "metadata": {
        "id": "ycR2OMgOf9Kd",
        "colab_type": "code",
        "colab": {
          "base_uri": "https://localhost:8080/",
          "height": 55
        },
        "outputId": "c161066c-7012-4bc9-b241-9289a4955089"
      },
      "source": [
        "token = [w for w in text.split()]\n",
        "print(token)"
      ],
      "execution_count": 9,
      "outputs": [
        {
          "output_type": "stream",
          "text": [
            "['In', 'the', 'southeastern', 'corner', 'of', 'Kentucky,', 'in', 'the', 'stretch', 'of', 'the', 'Appalachian', 'Mountains', 'known', 'as', 'the', 'Cumberland', 'Plateau,', 'lies', 'a', 'small', 'town', 'called', 'Harlan.', 'The', 'Cumberland', 'Plateau', 'is', 'a', 'wild', 'and', 'mountainous', 'region', 'of', 'flat-topped', 'ridges,', 'mountain', 'walls', 'five', 'hundred', 'to', 'a', 'thousand', 'feet', 'high,', 'and', 'narrow', 'valleys,', 'some', 'wide', 'enough', 'only', 'for', 'a', 'one-lane', 'road', 'and', 'a', 'creek.', 'When', 'the', 'area', 'was', 'first', 'settled,', 'the', 'plateau', 'was', 'covered', 'with', 'a', 'dense', 'primeval', 'forest.', 'Giant', 'tulip', 'poplars', 'grew', 'in', 'the', 'coves', 'and', 'at', 'the', 'foot', 'of', 'the', 'hills,', 'some', 'with', 'trunks', 'as', 'wide', 'as', 'seven', 'or', 'eight', 'feet', 'in', 'diameter.', 'Alongside', 'them', 'were', 'white', 'oaks,', 'beeches,', 'maples,', 'walnuts,', 'sycamores,', 'birches,', 'willows,', 'cedars,', 'pines,', 'and', 'hemlocks,', 'all', 'enmeshed', 'in', 'a', 'lattice', 'of', 'wild', 'grapevine,', 'comprising', 'one', 'of', 'the', 'greatest', 'assortment', 'of', 'forest', 'trees', 'in', 'the', 'Northern', 'Hemisphere.', 'On', 'the', 'ground', '1', '6', '1O', 'U', 'T', 'L', 'I', 'E', 'R', 'S', 'were', 'bears', 'and', 'mountain', 'lions', 'and', 'rattlesnakes;', 'in', 'the', 'treetops,', 'an', 'astonishing', 'array', 'of', 'squirrels;', 'and', 'beneath', 'the', 'soil,', 'one', 'thick', 'seam', 'after', 'another', 'of', 'coal.', 'Harlan', 'County', 'was', 'founded', 'in', '1819', 'by', 'eight', 'immigrant', 'families', 'from', 'the', 'northern', 'regions', 'of', 'the', 'British', 'Isles.', 'They', 'had', 'come', 'to', 'Virginia', 'in', 'the', 'eighteenth', 'century', 'and', 'then', 'moved', 'west', 'into', 'the', 'Appalachians', 'in', 'search', 'of', 'land.', 'The', 'county', 'was', 'never', 'wealthy.', 'For', 'its', 'first', 'one', 'hundred', 'years,', 'it', 'was', 'thinly', 'populated,', 'rarely', 'numbering', 'more', 'than', 'ten', 'thousand', 'people.', 'The', 'first', 'settlers', 'kept', 'pigs', 'and', 'herded', 'sheep', 'on', 'the', 'hillsides,', 'scratching', 'out', 'a', 'living', 'on', 'small', 'farms', 'in', 'the', 'valleys.', 'They', 'made', 'whiskey', 'in', 'backyard', 'stills', 'and', 'felled', 'trees,', 'floating', 'them', 'down', 'the', 'Cumberland', 'River', 'in', 'the', 'spring,', 'when', 'the', 'water', 'was', 'high.', 'Until', 'well', 'into', 'the', 'twentieth', 'century,', 'getting', 'to', 'the', 'nearest', 'train', 'station', 'was', 'a', 'two-day', 'wagon', 'trip.', 'The', 'only', 'way', 'out', 'of', 'town', 'was', 'up', 'Pine', 'Mountain,', 'which', 'was', 'nine', 'steep', 'miles', 'on', 'a', 'road', 'that', 'turned', 'on', 'occasion', 'into', 'no', 'more', 'than', 'a', 'muddy,', 'rocky', 'trail.', 'Harlan', 'was', 'a', 'remote', 'and', 'strange', 'place,', 'unknown', 'by', 'the', 'larger', 'society', 'around', 'it,', 'and', 'it', 'might', 'well', 'have', 'remained', 'so', 'but', 'for', 'the', 'fact', 'that', 'two', 'of', 'the', \"town's\", 'founding', 'families—the', 'Howards', 'and', 'the', 'Turners—did', 'not', 'get', 'along.', 'The', 'patriarch', 'of', 'the', 'Howard', 'clan', 'was', 'Samuel', 'Howard.', 'He', 'built', 'the', 'town', 'courthouse', 'and', 'the', 'jail.', 'His', 'counterpart', 'was', 'William', 'Turner,', 'who', 'owned', 'a', 'tavern', 'and', 'two', 'general', 'stores.', 'Once', 'a', 'storm', 'blew', 'down', 'the', 'fence', 'to', 'the', 'Turner', 'property,', 'and', 'a', \"neighbor's\", 'cow', 'wandered', 'onto', 'their', 'land.', 'William', \"Turner's\", 'grandson,', '\"Devil', 'Jim,\"', 'shot', 'the', 'cow', 'dead.', 'The', 'neighbor', 'was', 'too', 'terrified', 'to', 'press', 'charges', 'and', 'fled', 'the', 'county.', 'Another', 'time,', 'a', 'man', 'tried', 'to', '1', '6', '2H', 'A', 'R', 'L', 'A', 'N', ',', 'K', 'E', 'N', 'T', 'U', 'C', 'K', 'Y', 'open', 'a', 'competitor', 'to', 'the', \"Turners'\", 'general', 'store.', 'The', 'Turners', 'had', 'a', 'word', 'with', 'him.', 'He', 'closed', 'the', 'store', 'and', 'moved', 'to', 'Indiana.', 'These', 'were', 'not', 'pleasant', 'people.', 'One', 'night', 'Wix', 'Howard', 'and', '\"Little', 'Bob\"', 'Turner—the', 'grandsons', 'of', 'Samuel', 'and', 'William,', 'respectively—played', 'against', 'each', 'other', 'in', 'a', 'game', 'of', 'poker.', 'Each', 'accused', 'the', 'other', 'of', 'cheating.', 'They', 'fought.', 'The', 'following', 'day', 'they', 'met', 'in', 'the', 'street,', 'and', 'after', 'a', 'flurry', 'of', 'gunshots,', 'Little', 'Bob', 'Turner', 'lay', 'dead', 'with', 'a', 'shotgun', 'blast', 'to', 'the', 'chest.', 'A', 'group', 'of', 'Turners', 'went', 'to', 'the', \"Howards'\", 'general', 'store', 'and', 'spoke', 'roughly', 'to', 'Mrs.', 'Howard.', 'She', 'was', 'insulted', 'and', 'told', 'her', 'son', 'Wilse', 'Howard,', 'and', 'the', 'following', 'week', 'he', 'exchanged', 'gunfire', 'with', 'another', 'of', \"Turner's\", 'grandsons,', 'young', 'Will', 'Turner,', 'on', 'the', 'road', 'to', 'Hagan,', 'Virginia.', 'That', 'night', 'one', 'of', 'the', 'Turners', 'and', 'a', 'friend', 'attacked', 'the', 'Howard', 'home.', 'The', 'two', 'families', 'then', 'clashed', 'outside', 'the', 'Harlan', 'courthouse.', 'In', 'the', 'gunfire,', 'Will', 'Turner', 'was', 'shot', 'and', 'killed.', 'A', 'contingent', 'of', 'Howards', 'then', 'went', 'to', 'see', 'Mrs.', 'Turner,', 'the', 'mother', 'of', 'Will', 'Turner', 'and', 'Little', 'Bob,', 'to', 'ask', 'for', 'a', 'truce.', 'She', 'declined:', '\"You', \"can't\", 'wipe', 'out', 'that', 'blood,\"', 'she', 'said,', 'pointing', 'to', 'the', 'dirt', 'where', 'her', 'son', 'had', 'died.', 'Things', 'quickly', 'went', 'from', 'bad', 'to', 'worse.', 'Wilse', 'Howard', 'ran', 'into', '\"Little', 'George\"', 'Turner', 'near', 'Sulphur', 'Springs', 'and', 'shot', 'him', 'dead.', 'The', 'Howards', 'ambushed', 'three', 'friends', 'of', 'the', 'Turners—the', 'Cawoods—killing', 'all', 'of', 'them.', 'A', 'posse', 'was', 'sent', 'out', 'in', 'search', 'of', 'the', 'Howards.', 'In', 'the', 'resulting', 'gunfight,', 'six', 'more', 'were', 'killed', 'or', 'wounded.', 'Wilse', 'Howard', 'heard', 'the', 'Turners', 'were', 'after', 'him,', 'and', 'he', 'and', 'a', 'friend', 'rode', 'into', 'Harlan', 'and', 'attacked', 'the', 'Turner', 'home.', 'Riding', 'back,', 'the', 'Howards', 'were', 'ambushed.', 'In', 'the', 'fighting,', 'another', 'person', 'died.', 'Wilse', 'Howard', 'rode', 'to', 'Little', 'George', \"Turner's\", '1', '6', '3O', 'U', 'T', 'L', 'I', 'E', 'R', 'S', 'house', 'and', 'fired', 'at', 'him', 'but', 'missed', 'and', 'killed', 'another', 'man.', 'A', 'posse', 'surrounded', 'the', 'Howard', 'home.', 'There', 'was', 'another', 'gunfight.', 'More', 'dead.', 'The', 'county', 'was', 'in', 'an', 'uproar.', 'I', 'think', 'you', 'get', 'the', 'picture.', 'There', 'were', 'places', 'in', 'nineteenthcentury', 'America', 'where', 'people', 'lived', 'in', 'harmony.', 'Harlan,', 'Kentucky,', 'was', 'not', 'one', 'of', 'them.', '\"Stop', 'that!\"', 'Will', \"Turner's\", 'mother', 'snapped', 'at', 'him', 'when', 'he', 'staggered', 'home,', 'howling', 'in', 'pain', 'after', 'being', 'shot', 'in', 'the', 'courthouse', 'gun', 'battle', 'with', 'the', 'Howards.', '\"Die', 'like', 'a', 'man,', 'like', 'your', 'brother', 'did!\"', 'She', 'belonged', 'to', 'a', 'world', 'so', 'well', 'acquainted', 'with', 'fatal', 'gunshots', 'that', 'she', 'had', 'certain', 'expectations', 'about', 'how', 'they', 'ought', 'to', 'be', 'endured.', 'Will', 'shut', 'his', 'mouth,', 'and', 'he', 'died.']\n"
          ],
          "name": "stdout"
        }
      ]
    },
    {
      "cell_type": "markdown",
      "metadata": {
        "id": "vjd4O3UQgSGd",
        "colab_type": "text"
      },
      "source": [
        "# Top Tokens"
      ]
    },
    {
      "cell_type": "code",
      "metadata": {
        "id": "H74dHig6gGlF",
        "colab_type": "code",
        "colab": {
          "base_uri": "https://localhost:8080/",
          "height": 1000
        },
        "outputId": "63285dff-6e37-4b83-d687-0c1c505a1093"
      },
      "source": [
        "import nltk\n",
        "freq = nltk.FreqDist(token) #gives frequency distribution of tokens\n",
        "for key,val in freq.items(): #for loop for key and value pair\n",
        "    print(str(key)+':'+str(val)) #printing key and value pair\n",
        "freq.plot(20, cumulative=False) #plotting top 20 tokens"
      ],
      "execution_count": 10,
      "outputs": [
        {
          "output_type": "stream",
          "text": [
            "In:4\n",
            "the:61\n",
            "southeastern:1\n",
            "corner:1\n",
            "of:27\n",
            "Kentucky,:2\n",
            "in:20\n",
            "stretch:1\n",
            "Appalachian:1\n",
            "Mountains:1\n",
            "known:1\n",
            "as:3\n",
            "Cumberland:3\n",
            "Plateau,:1\n",
            "lies:1\n",
            "a:26\n",
            "small:2\n",
            "town:3\n",
            "called:1\n",
            "Harlan.:1\n",
            "The:11\n",
            "Plateau:1\n",
            "is:1\n",
            "wild:2\n",
            "and:35\n",
            "mountainous:1\n",
            "region:1\n",
            "flat-topped:1\n",
            "ridges,:1\n",
            "mountain:2\n",
            "walls:1\n",
            "five:1\n",
            "hundred:2\n",
            "to:19\n",
            "thousand:2\n",
            "feet:2\n",
            "high,:1\n",
            "narrow:1\n",
            "valleys,:1\n",
            "some:2\n",
            "wide:2\n",
            "enough:1\n",
            "only:2\n",
            "for:3\n",
            "one-lane:1\n",
            "road:3\n",
            "creek.:1\n",
            "When:1\n",
            "area:1\n",
            "was:19\n",
            "first:3\n",
            "settled,:1\n",
            "plateau:1\n",
            "covered:1\n",
            "with:7\n",
            "dense:1\n",
            "primeval:1\n",
            "forest.:1\n",
            "Giant:1\n",
            "tulip:1\n",
            "poplars:1\n",
            "grew:1\n",
            "coves:1\n",
            "at:3\n",
            "foot:1\n",
            "hills,:1\n",
            "trunks:1\n",
            "seven:1\n",
            "or:2\n",
            "eight:2\n",
            "diameter.:1\n",
            "Alongside:1\n",
            "them:2\n",
            "were:7\n",
            "white:1\n",
            "oaks,:1\n",
            "beeches,:1\n",
            "maples,:1\n",
            "walnuts,:1\n",
            "sycamores,:1\n",
            "birches,:1\n",
            "willows,:1\n",
            "cedars,:1\n",
            "pines,:1\n",
            "hemlocks,:1\n",
            "all:2\n",
            "enmeshed:1\n",
            "lattice:1\n",
            "grapevine,:1\n",
            "comprising:1\n",
            "one:5\n",
            "greatest:1\n",
            "assortment:1\n",
            "forest:1\n",
            "trees:1\n",
            "Northern:1\n",
            "Hemisphere.:1\n",
            "On:1\n",
            "ground:1\n",
            "1:3\n",
            "6:3\n",
            "1O:1\n",
            "U:3\n",
            "T:3\n",
            "L:3\n",
            "I:3\n",
            "E:3\n",
            "R:3\n",
            "S:2\n",
            "bears:1\n",
            "lions:1\n",
            "rattlesnakes;:1\n",
            "treetops,:1\n",
            "an:2\n",
            "astonishing:1\n",
            "array:1\n",
            "squirrels;:1\n",
            "beneath:1\n",
            "soil,:1\n",
            "thick:1\n",
            "seam:1\n",
            "after:4\n",
            "another:5\n",
            "coal.:1\n",
            "Harlan:4\n",
            "County:1\n",
            "founded:1\n",
            "1819:1\n",
            "by:2\n",
            "immigrant:1\n",
            "families:2\n",
            "from:2\n",
            "northern:1\n",
            "regions:1\n",
            "British:1\n",
            "Isles.:1\n",
            "They:3\n",
            "had:4\n",
            "come:1\n",
            "Virginia:1\n",
            "eighteenth:1\n",
            "century:1\n",
            "then:3\n",
            "moved:2\n",
            "west:1\n",
            "into:5\n",
            "Appalachians:1\n",
            "search:2\n",
            "land.:2\n",
            "county:2\n",
            "never:1\n",
            "wealthy.:1\n",
            "For:1\n",
            "its:1\n",
            "years,:1\n",
            "it:2\n",
            "thinly:1\n",
            "populated,:1\n",
            "rarely:1\n",
            "numbering:1\n",
            "more:3\n",
            "than:2\n",
            "ten:1\n",
            "people.:2\n",
            "settlers:1\n",
            "kept:1\n",
            "pigs:1\n",
            "herded:1\n",
            "sheep:1\n",
            "on:5\n",
            "hillsides,:1\n",
            "scratching:1\n",
            "out:4\n",
            "living:1\n",
            "farms:1\n",
            "valleys.:1\n",
            "made:1\n",
            "whiskey:1\n",
            "backyard:1\n",
            "stills:1\n",
            "felled:1\n",
            "trees,:1\n",
            "floating:1\n",
            "down:2\n",
            "River:1\n",
            "spring,:1\n",
            "when:2\n",
            "water:1\n",
            "high.:1\n",
            "Until:1\n",
            "well:3\n",
            "twentieth:1\n",
            "century,:1\n",
            "getting:1\n",
            "nearest:1\n",
            "train:1\n",
            "station:1\n",
            "two-day:1\n",
            "wagon:1\n",
            "trip.:1\n",
            "way:1\n",
            "up:1\n",
            "Pine:1\n",
            "Mountain,:1\n",
            "which:1\n",
            "nine:1\n",
            "steep:1\n",
            "miles:1\n",
            "that:4\n",
            "turned:1\n",
            "occasion:1\n",
            "no:1\n",
            "muddy,:1\n",
            "rocky:1\n",
            "trail.:1\n",
            "remote:1\n",
            "strange:1\n",
            "place,:1\n",
            "unknown:1\n",
            "larger:1\n",
            "society:1\n",
            "around:1\n",
            "it,:1\n",
            "might:1\n",
            "have:1\n",
            "remained:1\n",
            "so:2\n",
            "but:2\n",
            "fact:1\n",
            "two:3\n",
            "town's:1\n",
            "founding:1\n",
            "families—the:1\n",
            "Howards:4\n",
            "Turners—did:1\n",
            "not:3\n",
            "get:2\n",
            "along.:1\n",
            "patriarch:1\n",
            "Howard:7\n",
            "clan:1\n",
            "Samuel:2\n",
            "Howard.:2\n",
            "He:2\n",
            "built:1\n",
            "courthouse:2\n",
            "jail.:1\n",
            "His:1\n",
            "counterpart:1\n",
            "William:2\n",
            "Turner,:3\n",
            "who:1\n",
            "owned:1\n",
            "tavern:1\n",
            "general:3\n",
            "stores.:1\n",
            "Once:1\n",
            "storm:1\n",
            "blew:1\n",
            "fence:1\n",
            "Turner:6\n",
            "property,:1\n",
            "neighbor's:1\n",
            "cow:2\n",
            "wandered:1\n",
            "onto:1\n",
            "their:1\n",
            "Turner's:4\n",
            "grandson,:1\n",
            "\"Devil:1\n",
            "Jim,\":1\n",
            "shot:4\n",
            "dead.:3\n",
            "neighbor:1\n",
            "too:1\n",
            "terrified:1\n",
            "press:1\n",
            "charges:1\n",
            "fled:1\n",
            "county.:1\n",
            "Another:1\n",
            "time,:1\n",
            "man:1\n",
            "tried:1\n",
            "2H:1\n",
            "A:6\n",
            "N:2\n",
            ",:1\n",
            "K:2\n",
            "C:1\n",
            "Y:1\n",
            "open:1\n",
            "competitor:1\n",
            "Turners':1\n",
            "store.:1\n",
            "Turners:4\n",
            "word:1\n",
            "him.:1\n",
            "closed:1\n",
            "store:2\n",
            "Indiana.:1\n",
            "These:1\n",
            "pleasant:1\n",
            "One:1\n",
            "night:2\n",
            "Wix:1\n",
            "\"Little:2\n",
            "Bob\":1\n",
            "Turner—the:1\n",
            "grandsons:1\n",
            "William,:1\n",
            "respectively—played:1\n",
            "against:1\n",
            "each:1\n",
            "other:2\n",
            "game:1\n",
            "poker.:1\n",
            "Each:1\n",
            "accused:1\n",
            "cheating.:1\n",
            "fought.:1\n",
            "following:2\n",
            "day:1\n",
            "they:2\n",
            "met:1\n",
            "street,:1\n",
            "flurry:1\n",
            "gunshots,:1\n",
            "Little:3\n",
            "Bob:1\n",
            "lay:1\n",
            "dead:1\n",
            "shotgun:1\n",
            "blast:1\n",
            "chest.:1\n",
            "group:1\n",
            "went:3\n",
            "Howards':1\n",
            "spoke:1\n",
            "roughly:1\n",
            "Mrs.:2\n",
            "She:3\n",
            "insulted:1\n",
            "told:1\n",
            "her:2\n",
            "son:2\n",
            "Wilse:4\n",
            "Howard,:1\n",
            "week:1\n",
            "he:4\n",
            "exchanged:1\n",
            "gunfire:1\n",
            "grandsons,:1\n",
            "young:1\n",
            "Will:5\n",
            "Hagan,:1\n",
            "Virginia.:1\n",
            "That:1\n",
            "friend:2\n",
            "attacked:2\n",
            "home.:3\n",
            "clashed:1\n",
            "outside:1\n",
            "courthouse.:1\n",
            "gunfire,:1\n",
            "killed.:1\n",
            "contingent:1\n",
            "see:1\n",
            "mother:2\n",
            "Bob,:1\n",
            "ask:1\n",
            "truce.:1\n",
            "declined::1\n",
            "\"You:1\n",
            "can't:1\n",
            "wipe:1\n",
            "blood,\":1\n",
            "she:2\n",
            "said,:1\n",
            "pointing:1\n",
            "dirt:1\n",
            "where:2\n",
            "died.:3\n",
            "Things:1\n",
            "quickly:1\n",
            "bad:1\n",
            "worse.:1\n",
            "ran:1\n",
            "George\":1\n",
            "near:1\n",
            "Sulphur:1\n",
            "Springs:1\n",
            "him:3\n",
            "ambushed:1\n",
            "three:1\n",
            "friends:1\n",
            "Turners—the:1\n",
            "Cawoods—killing:1\n",
            "them.:2\n",
            "posse:2\n",
            "sent:1\n",
            "Howards.:2\n",
            "resulting:1\n",
            "gunfight,:1\n",
            "six:1\n",
            "killed:2\n",
            "wounded.:1\n",
            "heard:1\n",
            "him,:1\n",
            "rode:2\n",
            "Riding:1\n",
            "back,:1\n",
            "ambushed.:1\n",
            "fighting,:1\n",
            "person:1\n",
            "George:1\n",
            "3O:1\n",
            "house:1\n",
            "fired:1\n",
            "missed:1\n",
            "man.:1\n",
            "surrounded:1\n",
            "There:2\n",
            "gunfight.:1\n",
            "More:1\n",
            "uproar.:1\n",
            "think:1\n",
            "you:1\n",
            "picture.:1\n",
            "places:1\n",
            "nineteenthcentury:1\n",
            "America:1\n",
            "people:1\n",
            "lived:1\n",
            "harmony.:1\n",
            "Harlan,:1\n",
            "\"Stop:1\n",
            "that!\":1\n",
            "snapped:1\n",
            "staggered:1\n",
            "home,:1\n",
            "howling:1\n",
            "pain:1\n",
            "being:1\n",
            "gun:1\n",
            "battle:1\n",
            "\"Die:1\n",
            "like:2\n",
            "man,:1\n",
            "your:1\n",
            "brother:1\n",
            "did!\":1\n",
            "belonged:1\n",
            "world:1\n",
            "acquainted:1\n",
            "fatal:1\n",
            "gunshots:1\n",
            "certain:1\n",
            "expectations:1\n",
            "about:1\n",
            "how:1\n",
            "ought:1\n",
            "be:1\n",
            "endured.:1\n",
            "shut:1\n",
            "his:1\n",
            "mouth,:1\n"
          ],
          "name": "stdout"
        },
        {
          "output_type": "display_data",
          "data": {
            "image/png": "[encoded data removed]",
            "text/plain": [
              "<Figure size 432x288 with 1 Axes>"
            ]
          },
          "metadata": {
            "tags": [],
            "needs_background": "light"
          }
        }
      ]
    },
    {
      "cell_type": "markdown",
      "metadata": {
        "id": "CNWrL9wxgkvd",
        "colab_type": "text"
      },
      "source": [
        "# Removing Stopwords"
      ]
    },
    {
      "cell_type": "code",
      "metadata": {
        "id": "dVmCK747ggVx",
        "colab_type": "code",
        "colab": {
          "base_uri": "https://localhost:8080/",
          "height": 55
        },
        "outputId": "bc15d20c-2acd-4e73-84c7-5b587b727b25"
      },
      "source": [
        "#We need to get rid of stopwords to reduce the size of corpus\n",
        "from nltk.corpus import stopwords\n",
        "\n",
        "print(stopwords.words('english'))"
      ],
      "execution_count": 12,
      "outputs": [
        {
          "output_type": "stream",
          "text": [
            "['i', 'me', 'my', 'myself', 'we', 'our', 'ours', 'ourselves', 'you', \"you're\", \"you've\", \"you'll\", \"you'd\", 'your', 'yours', 'yourself', 'yourselves', 'he', 'him', 'his', 'himself', 'she', \"she's\", 'her', 'hers', 'herself', 'it', \"it's\", 'its', 'itself', 'they', 'them', 'their', 'theirs', 'themselves', 'what', 'which', 'who', 'whom', 'this', 'that', \"that'll\", 'these', 'those', 'am', 'is', 'are', 'was', 'were', 'be', 'been', 'being', 'have', 'has', 'had', 'having', 'do', 'does', 'did', 'doing', 'a', 'an', 'the', 'and', 'but', 'if', 'or', 'because', 'as', 'until', 'while', 'of', 'at', 'by', 'for', 'with', 'about', 'against', 'between', 'into', 'through', 'during', 'before', 'after', 'above', 'below', 'to', 'from', 'up', 'down', 'in', 'out', 'on', 'off', 'over', 'under', 'again', 'further', 'then', 'once', 'here', 'there', 'when', 'where', 'why', 'how', 'all', 'any', 'both', 'each', 'few', 'more', 'most', 'other', 'some', 'such', 'no', 'nor', 'not', 'only', 'own', 'same', 'so', 'than', 'too', 'very', 's', 't', 'can', 'will', 'just', 'don', \"don't\", 'should', \"should've\", 'now', 'd', 'll', 'm', 'o', 're', 've', 'y', 'ain', 'aren', \"aren't\", 'couldn', \"couldn't\", 'didn', \"didn't\", 'doesn', \"doesn't\", 'hadn', \"hadn't\", 'hasn', \"hasn't\", 'haven', \"haven't\", 'isn', \"isn't\", 'ma', 'mightn', \"mightn't\", 'mustn', \"mustn't\", 'needn', \"needn't\", 'shan', \"shan't\", 'shouldn', \"shouldn't\", 'wasn', \"wasn't\", 'weren', \"weren't\", 'won', \"won't\", 'wouldn', \"wouldn't\"]\n"
          ],
          "name": "stdout"
        }
      ]
    },
    {
      "cell_type": "code",
      "metadata": {
        "id": "0OfnQO2Ngqs2",
        "colab_type": "code",
        "colab": {}
      },
      "source": [
        "#we will make a copy of the list, then we will iterate over the tokens and remove the stop words\n",
        "clean_tokens = token[:]\n",
        "\n",
        "stop = stopwords.words('english')\n",
        "\n",
        "for token_p in token:\n",
        "\n",
        "    if token_p in stop:\n",
        "\n",
        "        clean_tokens.remove(token_p)"
      ],
      "execution_count": 0,
      "outputs": []
    },
    {
      "cell_type": "code",
      "metadata": {
        "id": "WUdwNsd7g2NK",
        "colab_type": "code",
        "colab": {
          "base_uri": "https://localhost:8080/",
          "height": 330
        },
        "outputId": "f5cb47ce-c765-4442-f4e1-1098423edaab"
      },
      "source": [
        "freq = nltk.FreqDist(clean_tokens) #seeing frequency distribution of clean tokens without stop words\n",
        "freq.plot(20,cumulative=False)"
      ],
      "execution_count": 14,
      "outputs": [
        {
          "output_type": "display_data",
          "data": {
            "image/png": "[encoded data removed]",
            "text/plain": [
              "<Figure size 432x288 with 1 Axes>"
            ]
          },
          "metadata": {
            "tags": [],
            "needs_background": "light"
          }
        }
      ]
    },
    {
      "cell_type": "code",
      "metadata": {
        "id": "nWQjUmzpg8jn",
        "colab_type": "code",
        "colab": {}
      },
      "source": [
        "#We can see important words now but still we can see words like Howard and Howards which are similar in meaning. \n",
        "#NLTK is shipped with sentence tokenizer and word tokenizer. Let's see how it performs.\n",
        "tokens_nltk = word_tokenize(text)"
      ],
      "execution_count": 0,
      "outputs": []
    },
    {
      "cell_type": "code",
      "metadata": {
        "id": "pGVL18hLhHQM",
        "colab_type": "code",
        "colab": {
          "base_uri": "https://localhost:8080/",
          "height": 313
        },
        "outputId": "9fcaa446-020e-4b5d-dbe8-390b55610828"
      },
      "source": [
        "#plot top 20\n",
        "freq = nltk.FreqDist(tokens_nltk)\n",
        "freq.plot(20,cumulative=False)"
      ],
      "execution_count": 16,
      "outputs": [
        {
          "output_type": "display_data",
          "data": {
            "image/png": "[encoded data removed]",
            "text/plain": [
              "<Figure size 432x288 with 1 Axes>"
            ]
          },
          "metadata": {
            "tags": [],
            "needs_background": "light"
          }
        }
      ]
    },
    {
      "cell_type": "code",
      "metadata": {
        "id": "Ov1mroQRhJVo",
        "colab_type": "code",
        "colab": {
          "base_uri": "https://localhost:8080/",
          "height": 313
        },
        "outputId": "ea9bf772-bb9d-47de-8f1d-6d4c09127b2e"
      },
      "source": [
        "#remove keywords and check\n",
        "clean_tokens_nltk = tokens_nltk[:]\n",
        "\n",
        "for token_nltk in tokens_nltk:\n",
        "    if token_nltk in stopwords.words('english'):\n",
        "        clean_tokens_nltk.remove(token_nltk)\n",
        "\n",
        "freq = nltk.FreqDist(clean_tokens_nltk)\n",
        "freq.plot(20,cumulative=False)"
      ],
      "execution_count": 17,
      "outputs": [
        {
          "output_type": "display_data",
          "data": {
            "image/png": "[encoded data removed]",
            "text/plain": [
              "<Figure size 432x288 with 1 Axes>"
            ]
          },
          "metadata": {
            "tags": [],
            "needs_background": "light"
          }
        }
      ]
    },
    {
      "cell_type": "markdown",
      "metadata": {
        "id": "sBCSkt27hOpT",
        "colab_type": "text"
      },
      "source": [
        "# Tokenise non-english words"
      ]
    },
    {
      "cell_type": "code",
      "metadata": {
        "id": "uB9m5yf7hK-1",
        "colab_type": "code",
        "colab": {
          "base_uri": "https://localhost:8080/",
          "height": 35
        },
        "outputId": "809c7b61-a4fe-44cf-d17d-802fdc10c363"
      },
      "source": [
        "mytext = \"Bonjour M. Adam, comment allez-vous? J'espère que tout va bien. Aujourd'hui est un bon jour.\"\n",
        "\n",
        "print(word_tokenize(mytext,\"french\"))"
      ],
      "execution_count": 18,
      "outputs": [
        {
          "output_type": "stream",
          "text": [
            "['Bonjour', 'M.', 'Adam', ',', 'comment', 'allez-vous', '?', \"J'espère\", 'que', 'tout', 'va', 'bien', '.', \"Aujourd'hui\", 'est', 'un', 'bon', 'jour', '.']\n"
          ],
          "name": "stdout"
        }
      ]
    },
    {
      "cell_type": "markdown",
      "metadata": {
        "id": "N0tMiClmhUWk",
        "colab_type": "text"
      },
      "source": [
        "# Stemming"
      ]
    },
    {
      "cell_type": "code",
      "metadata": {
        "id": "c4oudupfhQgw",
        "colab_type": "code",
        "colab": {
          "base_uri": "https://localhost:8080/",
          "height": 52
        },
        "outputId": "9cefcdab-8e97-4737-d065-a254b817d10e"
      },
      "source": [
        "#Stemming using PorterStemmer\n",
        "\n",
        "from nltk.stem import PorterStemmer\n",
        "from nltk.stem.snowball import SnowballStemmer\n",
        "\n",
        "plurals = ['caresses', 'flies', 'dies', 'mules', 'denied','died', 'agreed', 'owned', 'humbled', 'sized',\n",
        "           'meeting', 'stating', 'siezing', 'itemization',\n",
        "           'sensational', 'traditional', 'reference', 'colonizer','plotted']\n",
        "\n",
        "stemmerP = PorterStemmer()\n",
        "stemmerS = SnowballStemmer(\"english\")\n",
        "\n",
        "print([stemmerP.stem(plural) for plural in plurals])\n",
        "print([stemmerS.stem(plural) for plural in plurals])"
      ],
      "execution_count": 19,
      "outputs": [
        {
          "output_type": "stream",
          "text": [
            "['caress', 'fli', 'die', 'mule', 'deni', 'die', 'agre', 'own', 'humbl', 'size', 'meet', 'state', 'siez', 'item', 'sensat', 'tradit', 'refer', 'colon', 'plot']\n",
            "['caress', 'fli', 'die', 'mule', 'deni', 'die', 'agre', 'own', 'humbl', 'size', 'meet', 'state', 'siez', 'item', 'sensat', 'tradit', 'refer', 'colon', 'plot']\n"
          ],
          "name": "stdout"
        }
      ]
    },
    {
      "cell_type": "markdown",
      "metadata": {
        "id": "di6jUWGvhdN4",
        "colab_type": "text"
      },
      "source": [
        "# Lemmatization"
      ]
    },
    {
      "cell_type": "code",
      "metadata": {
        "id": "Qd2D8E0thY6w",
        "colab_type": "code",
        "colab": {
          "base_uri": "https://localhost:8080/",
          "height": 70
        },
        "outputId": "b2bf6bee-78ed-420d-a769-3b1714c1b19c"
      },
      "source": [
        "#Lemmatization. Word lemmatizing returns a real word even if it’s not the same word, it could be a synonym\n",
        "\n",
        "print(stemmerP.stem('increases'))\n",
        "\n",
        "from nltk.stem import WordNetLemmatizer\n",
        "\n",
        "lemmatizer = WordNetLemmatizer()\n",
        "\n",
        "print(lemmatizer.lemmatize('increases'))\n",
        "\n",
        "#we can specify POS too\n",
        "print(lemmatizer.lemmatize('playing', pos=\"v\"))"
      ],
      "execution_count": 22,
      "outputs": [
        {
          "output_type": "stream",
          "text": [
            "increas\n",
            "increase\n",
            "play\n"
          ],
          "name": "stdout"
        }
      ]
    },
    {
      "cell_type": "markdown",
      "metadata": {
        "id": "COPh3rnShynq",
        "colab_type": "text"
      },
      "source": [
        "# Wordnet"
      ]
    },
    {
      "cell_type": "code",
      "metadata": {
        "id": "lugSRyoohgKE",
        "colab_type": "code",
        "colab": {
          "base_uri": "https://localhost:8080/",
          "height": 72
        },
        "outputId": "370d61db-27c9-46b9-cb1b-f5b88d37a2e7"
      },
      "source": [
        "#Synonyms and antonyms using wordnet\n",
        "\n",
        "from nltk.corpus import wordnet\n",
        "\n",
        "antonyms = []\n",
        "\n",
        "for syn in wordnet.synsets(\"small\"):\n",
        "\n",
        "    for l in syn.lemmas():\n",
        "\n",
        "        if l.antonyms():\n",
        "\n",
        "            antonyms.append(l.antonyms()[0].name())\n",
        "\n",
        "print(antonyms)\n",
        "\n",
        "\n",
        "synonyms = []\n",
        "\n",
        "for syn in wordnet.synsets('Computer'):\n",
        "\n",
        "    for lemma in syn.lemmas():\n",
        "\n",
        "        synonyms.append(lemma.name())\n",
        "\n",
        "print(synonyms)"
      ],
      "execution_count": 23,
      "outputs": [
        {
          "output_type": "stream",
          "text": [
            "['large', 'big', 'big']\n",
            "['computer', 'computing_machine', 'computing_device', 'data_processor', 'electronic_computer', 'information_processing_system', 'calculator', 'reckoner', 'figurer', 'estimator', 'computer']\n"
          ],
          "name": "stdout"
        }
      ]
    },
    {
      "cell_type": "code",
      "metadata": {
        "id": "0xG7mLh5h5Rk",
        "colab_type": "code",
        "colab": {}
      },
      "source": [
        ""
      ],
      "execution_count": 0,
      "outputs": []
    }
  ]
}