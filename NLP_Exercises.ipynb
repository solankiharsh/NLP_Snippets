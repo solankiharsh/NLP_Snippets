{
  "nbformat": 4,
  "nbformat_minor": 0,
  "metadata": {
    "colab": {
      "name": "NLP_Exercises.ipynb",
      "provenance": [],
      "authorship_tag": "ABX9TyODHct8U8F8F/q31JU/imhO",
      "include_colab_link": true
    },
    "kernelspec": {
      "name": "python3",
      "display_name": "Python 3"
    },
    "widgets": {
      "application/vnd.jupyter.widget-state+json": {
        "806764a4a1ec4571988878a9d06e19f9": {
          "model_module": "@jupyter-widgets/controls",
          "model_name": "HBoxModel",
          "state": {
            "_view_name": "HBoxView",
            "_dom_classes": [],
            "_model_name": "HBoxModel",
            "_view_module": "@jupyter-widgets/controls",
            "_model_module_version": "1.5.0",
            "_view_count": null,
            "_view_module_version": "1.5.0",
            "box_style": "",
            "layout": "IPY_MODEL_ebe81a1c081349fa8ceb149ae625202c",
            "_model_module": "@jupyter-widgets/controls",
            "children": [
              "IPY_MODEL_8a2fd7ae70fb4e8e806fc2df7bbe1214",
              "IPY_MODEL_4f750a1343f34cbd8c6cca4ec06140b2",
              "IPY_MODEL_a5821e631d2048c6b2500974f452c8cf"
            ]
          }
        },
        "ebe81a1c081349fa8ceb149ae625202c": {
          "model_module": "@jupyter-widgets/base",
          "model_name": "LayoutModel",
          "state": {
            "_view_name": "LayoutView",
            "grid_template_rows": null,
            "right": null,
            "justify_content": null,
            "_view_module": "@jupyter-widgets/base",
            "overflow": null,
            "_model_module_version": "1.2.0",
            "_view_count": null,
            "flex_flow": null,
            "width": null,
            "min_width": null,
            "border": null,
            "align_items": null,
            "bottom": null,
            "_model_module": "@jupyter-widgets/base",
            "top": null,
            "grid_column": null,
            "overflow_y": null,
            "overflow_x": null,
            "grid_auto_flow": null,
            "grid_area": null,
            "grid_template_columns": null,
            "flex": null,
            "_model_name": "LayoutModel",
            "justify_items": null,
            "grid_row": null,
            "max_height": null,
            "align_content": null,
            "visibility": null,
            "align_self": null,
            "height": null,
            "min_height": null,
            "padding": null,
            "grid_auto_rows": null,
            "grid_gap": null,
            "max_width": null,
            "order": null,
            "_view_module_version": "1.2.0",
            "grid_template_areas": null,
            "object_position": null,
            "object_fit": null,
            "grid_auto_columns": null,
            "margin": null,
            "display": null,
            "left": null
          }
        },
        "8a2fd7ae70fb4e8e806fc2df7bbe1214": {
          "model_module": "@jupyter-widgets/controls",
          "model_name": "HTMLModel",
          "state": {
            "_view_name": "HTMLView",
            "style": "IPY_MODEL_d78c7a03ee334a90947b85a1de50bd77",
            "_dom_classes": [],
            "description": "",
            "_model_name": "HTMLModel",
            "placeholder": "​",
            "_view_module": "@jupyter-widgets/controls",
            "_model_module_version": "1.5.0",
            "value": "100%",
            "_view_count": null,
            "_view_module_version": "1.5.0",
            "description_tooltip": null,
            "_model_module": "@jupyter-widgets/controls",
            "layout": "IPY_MODEL_114ddbdf27f1486fad748d16277694fa"
          }
        },
        "4f750a1343f34cbd8c6cca4ec06140b2": {
          "model_module": "@jupyter-widgets/controls",
          "model_name": "FloatProgressModel",
          "state": {
            "_view_name": "ProgressView",
            "style": "IPY_MODEL_817c8775abfc425c99d484200616236b",
            "_dom_classes": [],
            "description": "",
            "_model_name": "FloatProgressModel",
            "bar_style": "success",
            "max": 7,
            "_view_module": "@jupyter-widgets/controls",
            "_model_module_version": "1.5.0",
            "value": 7,
            "_view_count": null,
            "_view_module_version": "1.5.0",
            "orientation": "horizontal",
            "min": 0,
            "description_tooltip": null,
            "_model_module": "@jupyter-widgets/controls",
            "layout": "IPY_MODEL_246d15fc7ee347a1a4648c69793342e8"
          }
        },
        "a5821e631d2048c6b2500974f452c8cf": {
          "model_module": "@jupyter-widgets/controls",
          "model_name": "HTMLModel",
          "state": {
            "_view_name": "HTMLView",
            "style": "IPY_MODEL_adae472f096c4ec498d4a3698f639990",
            "_dom_classes": [],
            "description": "",
            "_model_name": "HTMLModel",
            "placeholder": "​",
            "_view_module": "@jupyter-widgets/controls",
            "_model_module_version": "1.5.0",
            "value": " 7/7 [00:00&lt;00:00, 26.58it/s]",
            "_view_count": null,
            "_view_module_version": "1.5.0",
            "description_tooltip": null,
            "_model_module": "@jupyter-widgets/controls",
            "layout": "IPY_MODEL_7a90e65cc4aa48829fab865fe63a1944"
          }
        },
        "d78c7a03ee334a90947b85a1de50bd77": {
          "model_module": "@jupyter-widgets/controls",
          "model_name": "DescriptionStyleModel",
          "state": {
            "_view_name": "StyleView",
            "_model_name": "DescriptionStyleModel",
            "description_width": "",
            "_view_module": "@jupyter-widgets/base",
            "_model_module_version": "1.5.0",
            "_view_count": null,
            "_view_module_version": "1.2.0",
            "_model_module": "@jupyter-widgets/controls"
          }
        },
        "114ddbdf27f1486fad748d16277694fa": {
          "model_module": "@jupyter-widgets/base",
          "model_name": "LayoutModel",
          "state": {
            "_view_name": "LayoutView",
            "grid_template_rows": null,
            "right": null,
            "justify_content": null,
            "_view_module": "@jupyter-widgets/base",
            "overflow": null,
            "_model_module_version": "1.2.0",
            "_view_count": null,
            "flex_flow": null,
            "width": null,
            "min_width": null,
            "border": null,
            "align_items": null,
            "bottom": null,
            "_model_module": "@jupyter-widgets/base",
            "top": null,
            "grid_column": null,
            "overflow_y": null,
            "overflow_x": null,
            "grid_auto_flow": null,
            "grid_area": null,
            "grid_template_columns": null,
            "flex": null,
            "_model_name": "LayoutModel",
            "justify_items": null,
            "grid_row": null,
            "max_height": null,
            "align_content": null,
            "visibility": null,
            "align_self": null,
            "height": null,
            "min_height": null,
            "padding": null,
            "grid_auto_rows": null,
            "grid_gap": null,
            "max_width": null,
            "order": null,
            "_view_module_version": "1.2.0",
            "grid_template_areas": null,
            "object_position": null,
            "object_fit": null,
            "grid_auto_columns": null,
            "margin": null,
            "display": null,
            "left": null
          }
        },
        "817c8775abfc425c99d484200616236b": {
          "model_module": "@jupyter-widgets/controls",
          "model_name": "ProgressStyleModel",
          "state": {
            "_view_name": "StyleView",
            "_model_name": "ProgressStyleModel",
            "description_width": "",
            "_view_module": "@jupyter-widgets/base",
            "_model_module_version": "1.5.0",
            "_view_count": null,
            "_view_module_version": "1.2.0",
            "bar_color": null,
            "_model_module": "@jupyter-widgets/controls"
          }
        },
        "246d15fc7ee347a1a4648c69793342e8": {
          "model_module": "@jupyter-widgets/base",
          "model_name": "LayoutModel",
          "state": {
            "_view_name": "LayoutView",
            "grid_template_rows": null,
            "right": null,
            "justify_content": null,
            "_view_module": "@jupyter-widgets/base",
            "overflow": null,
            "_model_module_version": "1.2.0",
            "_view_count": null,
            "flex_flow": null,
            "width": null,
            "min_width": null,
            "border": null,
            "align_items": null,
            "bottom": null,
            "_model_module": "@jupyter-widgets/base",
            "top": null,
            "grid_column": null,
            "overflow_y": null,
            "overflow_x": null,
            "grid_auto_flow": null,
            "grid_area": null,
            "grid_template_columns": null,
            "flex": null,
            "_model_name": "LayoutModel",
            "justify_items": null,
            "grid_row": null,
            "max_height": null,
            "align_content": null,
            "visibility": null,
            "align_self": null,
            "height": null,
            "min_height": null,
            "padding": null,
            "grid_auto_rows": null,
            "grid_gap": null,
            "max_width": null,
            "order": null,
            "_view_module_version": "1.2.0",
            "grid_template_areas": null,
            "object_position": null,
            "object_fit": null,
            "grid_auto_columns": null,
            "margin": null,
            "display": null,
            "left": null
          }
        },
        "adae472f096c4ec498d4a3698f639990": {
          "model_module": "@jupyter-widgets/controls",
          "model_name": "DescriptionStyleModel",
          "state": {
            "_view_name": "StyleView",
            "_model_name": "DescriptionStyleModel",
            "description_width": "",
            "_view_module": "@jupyter-widgets/base",
            "_model_module_version": "1.5.0",
            "_view_count": null,
            "_view_module_version": "1.2.0",
            "_model_module": "@jupyter-widgets/controls"
          }
        },
        "7a90e65cc4aa48829fab865fe63a1944": {
          "model_module": "@jupyter-widgets/base",
          "model_name": "LayoutModel",
          "state": {
            "_view_name": "LayoutView",
            "grid_template_rows": null,
            "right": null,
            "justify_content": null,
            "_view_module": "@jupyter-widgets/base",
            "overflow": null,
            "_model_module_version": "1.2.0",
            "_view_count": null,
            "flex_flow": null,
            "width": null,
            "min_width": null,
            "border": null,
            "align_items": null,
            "bottom": null,
            "_model_module": "@jupyter-widgets/base",
            "top": null,
            "grid_column": null,
            "overflow_y": null,
            "overflow_x": null,
            "grid_auto_flow": null,
            "grid_area": null,
            "grid_template_columns": null,
            "flex": null,
            "_model_name": "LayoutModel",
            "justify_items": null,
            "grid_row": null,
            "max_height": null,
            "align_content": null,
            "visibility": null,
            "align_self": null,
            "height": null,
            "min_height": null,
            "padding": null,
            "grid_auto_rows": null,
            "grid_gap": null,
            "max_width": null,
            "order": null,
            "_view_module_version": "1.2.0",
            "grid_template_areas": null,
            "object_position": null,
            "object_fit": null,
            "grid_auto_columns": null,
            "margin": null,
            "display": null,
            "left": null
          }
        },
        "4c871791b5804561a20acf9124180648": {
          "model_module": "@jupyter-widgets/controls",
          "model_name": "HBoxModel",
          "state": {
            "_view_name": "HBoxView",
            "_dom_classes": [],
            "_model_name": "HBoxModel",
            "_view_module": "@jupyter-widgets/controls",
            "_model_module_version": "1.5.0",
            "_view_count": null,
            "_view_module_version": "1.5.0",
            "box_style": "",
            "layout": "IPY_MODEL_fa4d7ce7c9fb4819be4a3c08763d0fe4",
            "_model_module": "@jupyter-widgets/controls",
            "children": [
              "IPY_MODEL_8fd904d5677f4e5384b64174c0f18788",
              "IPY_MODEL_4309c0cccb2d4b30afd8f451954a25de",
              "IPY_MODEL_9597f6a2f66c4f56bc6a2acb7151da99"
            ]
          }
        },
        "fa4d7ce7c9fb4819be4a3c08763d0fe4": {
          "model_module": "@jupyter-widgets/base",
          "model_name": "LayoutModel",
          "state": {
            "_view_name": "LayoutView",
            "grid_template_rows": null,
            "right": null,
            "justify_content": null,
            "_view_module": "@jupyter-widgets/base",
            "overflow": null,
            "_model_module_version": "1.2.0",
            "_view_count": null,
            "flex_flow": null,
            "width": null,
            "min_width": null,
            "border": null,
            "align_items": null,
            "bottom": null,
            "_model_module": "@jupyter-widgets/base",
            "top": null,
            "grid_column": null,
            "overflow_y": null,
            "overflow_x": null,
            "grid_auto_flow": null,
            "grid_area": null,
            "grid_template_columns": null,
            "flex": null,
            "_model_name": "LayoutModel",
            "justify_items": null,
            "grid_row": null,
            "max_height": null,
            "align_content": null,
            "visibility": null,
            "align_self": null,
            "height": null,
            "min_height": null,
            "padding": null,
            "grid_auto_rows": null,
            "grid_gap": null,
            "max_width": null,
            "order": null,
            "_view_module_version": "1.2.0",
            "grid_template_areas": null,
            "object_position": null,
            "object_fit": null,
            "grid_auto_columns": null,
            "margin": null,
            "display": null,
            "left": null
          }
        },
        "8fd904d5677f4e5384b64174c0f18788": {
          "model_module": "@jupyter-widgets/controls",
          "model_name": "HTMLModel",
          "state": {
            "_view_name": "HTMLView",
            "style": "IPY_MODEL_32e9894a566c44f8908d02ae0bb508fc",
            "_dom_classes": [],
            "description": "",
            "_model_name": "HTMLModel",
            "placeholder": "​",
            "_view_module": "@jupyter-widgets/controls",
            "_model_module_version": "1.5.0",
            "value": "Epoch 5 of 5: 100%",
            "_view_count": null,
            "_view_module_version": "1.5.0",
            "description_tooltip": null,
            "_model_module": "@jupyter-widgets/controls",
            "layout": "IPY_MODEL_9f0f3b078be14a63a58ca1fc607a6be6"
          }
        },
        "4309c0cccb2d4b30afd8f451954a25de": {
          "model_module": "@jupyter-widgets/controls",
          "model_name": "FloatProgressModel",
          "state": {
            "_view_name": "ProgressView",
            "style": "IPY_MODEL_b9c5d2176c004c9589778f2cb49f10ae",
            "_dom_classes": [],
            "description": "",
            "_model_name": "FloatProgressModel",
            "bar_style": "success",
            "max": 5,
            "_view_module": "@jupyter-widgets/controls",
            "_model_module_version": "1.5.0",
            "value": 5,
            "_view_count": null,
            "_view_module_version": "1.5.0",
            "orientation": "horizontal",
            "min": 0,
            "description_tooltip": null,
            "_model_module": "@jupyter-widgets/controls",
            "layout": "IPY_MODEL_078ca311db87497a84609815afe8ac80"
          }
        },
        "9597f6a2f66c4f56bc6a2acb7151da99": {
          "model_module": "@jupyter-widgets/controls",
          "model_name": "HTMLModel",
          "state": {
            "_view_name": "HTMLView",
            "style": "IPY_MODEL_1e1bc9e3c54e435e89698296927b9308",
            "_dom_classes": [],
            "description": "",
            "_model_name": "HTMLModel",
            "placeholder": "​",
            "_view_module": "@jupyter-widgets/controls",
            "_model_module_version": "1.5.0",
            "value": " 5/5 [04:28&lt;00:00, 53.63s/it]",
            "_view_count": null,
            "_view_module_version": "1.5.0",
            "description_tooltip": null,
            "_model_module": "@jupyter-widgets/controls",
            "layout": "IPY_MODEL_e90f080f70f547988666097d06fc7204"
          }
        },
        "32e9894a566c44f8908d02ae0bb508fc": {
          "model_module": "@jupyter-widgets/controls",
          "model_name": "DescriptionStyleModel",
          "state": {
            "_view_name": "StyleView",
            "_model_name": "DescriptionStyleModel",
            "description_width": "",
            "_view_module": "@jupyter-widgets/base",
            "_model_module_version": "1.5.0",
            "_view_count": null,
            "_view_module_version": "1.2.0",
            "_model_module": "@jupyter-widgets/controls"
          }
        },
        "9f0f3b078be14a63a58ca1fc607a6be6": {
          "model_module": "@jupyter-widgets/base",
          "model_name": "LayoutModel",
          "state": {
            "_view_name": "LayoutView",
            "grid_template_rows": null,
            "right": null,
            "justify_content": null,
            "_view_module": "@jupyter-widgets/base",
            "overflow": null,
            "_model_module_version": "1.2.0",
            "_view_count": null,
            "flex_flow": null,
            "width": null,
            "min_width": null,
            "border": null,
            "align_items": null,
            "bottom": null,
            "_model_module": "@jupyter-widgets/base",
            "top": null,
            "grid_column": null,
            "overflow_y": null,
            "overflow_x": null,
            "grid_auto_flow": null,
            "grid_area": null,
            "grid_template_columns": null,
            "flex": null,
            "_model_name": "LayoutModel",
            "justify_items": null,
            "grid_row": null,
            "max_height": null,
            "align_content": null,
            "visibility": null,
            "align_self": null,
            "height": null,
            "min_height": null,
            "padding": null,
            "grid_auto_rows": null,
            "grid_gap": null,
            "max_width": null,
            "order": null,
            "_view_module_version": "1.2.0",
            "grid_template_areas": null,
            "object_position": null,
            "object_fit": null,
            "grid_auto_columns": null,
            "margin": null,
            "display": null,
            "left": null
          }
        },
        "b9c5d2176c004c9589778f2cb49f10ae": {
          "model_module": "@jupyter-widgets/controls",
          "model_name": "ProgressStyleModel",
          "state": {
            "_view_name": "StyleView",
            "_model_name": "ProgressStyleModel",
            "description_width": "",
            "_view_module": "@jupyter-widgets/base",
            "_model_module_version": "1.5.0",
            "_view_count": null,
            "_view_module_version": "1.2.0",
            "bar_color": null,
            "_model_module": "@jupyter-widgets/controls"
          }
        },
        "078ca311db87497a84609815afe8ac80": {
          "model_module": "@jupyter-widgets/base",
          "model_name": "LayoutModel",
          "state": {
            "_view_name": "LayoutView",
            "grid_template_rows": null,
            "right": null,
            "justify_content": null,
            "_view_module": "@jupyter-widgets/base",
            "overflow": null,
            "_model_module_version": "1.2.0",
            "_view_count": null,
            "flex_flow": null,
            "width": null,
            "min_width": null,
            "border": null,
            "align_items": null,
            "bottom": null,
            "_model_module": "@jupyter-widgets/base",
            "top": null,
            "grid_column": null,
            "overflow_y": null,
            "overflow_x": null,
            "grid_auto_flow": null,
            "grid_area": null,
            "grid_template_columns": null,
            "flex": null,
            "_model_name": "LayoutModel",
            "justify_items": null,
            "grid_row": null,
            "max_height": null,
            "align_content": null,
            "visibility": null,
            "align_self": null,
            "height": null,
            "min_height": null,
            "padding": null,
            "grid_auto_rows": null,
            "grid_gap": null,
            "max_width": null,
            "order": null,
            "_view_module_version": "1.2.0",
            "grid_template_areas": null,
            "object_position": null,
            "object_fit": null,
            "grid_auto_columns": null,
            "margin": null,
            "display": null,
            "left": null
          }
        },
        "1e1bc9e3c54e435e89698296927b9308": {
          "model_module": "@jupyter-widgets/controls",
          "model_name": "DescriptionStyleModel",
          "state": {
            "_view_name": "StyleView",
            "_model_name": "DescriptionStyleModel",
            "description_width": "",
            "_view_module": "@jupyter-widgets/base",
            "_model_module_version": "1.5.0",
            "_view_count": null,
            "_view_module_version": "1.2.0",
            "_model_module": "@jupyter-widgets/controls"
          }
        },
        "e90f080f70f547988666097d06fc7204": {
          "model_module": "@jupyter-widgets/base",
          "model_name": "LayoutModel",
          "state": {
            "_view_name": "LayoutView",
            "grid_template_rows": null,
            "right": null,
            "justify_content": null,
            "_view_module": "@jupyter-widgets/base",
            "overflow": null,
            "_model_module_version": "1.2.0",
            "_view_count": null,
            "flex_flow": null,
            "width": null,
            "min_width": null,
            "border": null,
            "align_items": null,
            "bottom": null,
            "_model_module": "@jupyter-widgets/base",
            "top": null,
            "grid_column": null,
            "overflow_y": null,
            "overflow_x": null,
            "grid_auto_flow": null,
            "grid_area": null,
            "grid_template_columns": null,
            "flex": null,
            "_model_name": "LayoutModel",
            "justify_items": null,
            "grid_row": null,
            "max_height": null,
            "align_content": null,
            "visibility": null,
            "align_self": null,
            "height": null,
            "min_height": null,
            "padding": null,
            "grid_auto_rows": null,
            "grid_gap": null,
            "max_width": null,
            "order": null,
            "_view_module_version": "1.2.0",
            "grid_template_areas": null,
            "object_position": null,
            "object_fit": null,
            "grid_auto_columns": null,
            "margin": null,
            "display": null,
            "left": null
          }
        },
        "1f553ae8f4e94b5f9b3e2ec93fc65b9f": {
          "model_module": "@jupyter-widgets/controls",
          "model_name": "HBoxModel",
          "state": {
            "_view_name": "HBoxView",
            "_dom_classes": [],
            "_model_name": "HBoxModel",
            "_view_module": "@jupyter-widgets/controls",
            "_model_module_version": "1.5.0",
            "_view_count": null,
            "_view_module_version": "1.5.0",
            "box_style": "",
            "layout": "IPY_MODEL_0fff293c3d844cccb773a546248f58de",
            "_model_module": "@jupyter-widgets/controls",
            "children": [
              "IPY_MODEL_88ede79145374008bf1d1c7e12513513",
              "IPY_MODEL_74d88594cd0a4618939ee661dffb0267",
              "IPY_MODEL_c2a17788914c4350bead0669184068a1"
            ]
          }
        },
        "0fff293c3d844cccb773a546248f58de": {
          "model_module": "@jupyter-widgets/base",
          "model_name": "LayoutModel",
          "state": {
            "_view_name": "LayoutView",
            "grid_template_rows": null,
            "right": null,
            "justify_content": null,
            "_view_module": "@jupyter-widgets/base",
            "overflow": null,
            "_model_module_version": "1.2.0",
            "_view_count": null,
            "flex_flow": null,
            "width": null,
            "min_width": null,
            "border": null,
            "align_items": null,
            "bottom": null,
            "_model_module": "@jupyter-widgets/base",
            "top": null,
            "grid_column": null,
            "overflow_y": null,
            "overflow_x": null,
            "grid_auto_flow": null,
            "grid_area": null,
            "grid_template_columns": null,
            "flex": null,
            "_model_name": "LayoutModel",
            "justify_items": null,
            "grid_row": null,
            "max_height": null,
            "align_content": null,
            "visibility": null,
            "align_self": null,
            "height": null,
            "min_height": null,
            "padding": null,
            "grid_auto_rows": null,
            "grid_gap": null,
            "max_width": null,
            "order": null,
            "_view_module_version": "1.2.0",
            "grid_template_areas": null,
            "object_position": null,
            "object_fit": null,
            "grid_auto_columns": null,
            "margin": null,
            "display": null,
            "left": null
          }
        },
        "88ede79145374008bf1d1c7e12513513": {
          "model_module": "@jupyter-widgets/controls",
          "model_name": "HTMLModel",
          "state": {
            "_view_name": "HTMLView",
            "style": "IPY_MODEL_8c5be21927834a878929bcff5c7c6b06",
            "_dom_classes": [],
            "description": "",
            "_model_name": "HTMLModel",
            "placeholder": "​",
            "_view_module": "@jupyter-widgets/controls",
            "_model_module_version": "1.5.0",
            "value": "Epochs 0/5. Running Loss:    0.7358: 100%",
            "_view_count": null,
            "_view_module_version": "1.5.0",
            "description_tooltip": null,
            "_model_module": "@jupyter-widgets/controls",
            "layout": "IPY_MODEL_1d7ea3437b7b4096b7d5ee88157ea5cf"
          }
        },
        "74d88594cd0a4618939ee661dffb0267": {
          "model_module": "@jupyter-widgets/controls",
          "model_name": "FloatProgressModel",
          "state": {
            "_view_name": "ProgressView",
            "style": "IPY_MODEL_fdb572d7eb8a456fbada2cde2615d445",
            "_dom_classes": [],
            "description": "",
            "_model_name": "FloatProgressModel",
            "bar_style": "success",
            "max": 1,
            "_view_module": "@jupyter-widgets/controls",
            "_model_module_version": "1.5.0",
            "value": 1,
            "_view_count": null,
            "_view_module_version": "1.5.0",
            "orientation": "horizontal",
            "min": 0,
            "description_tooltip": null,
            "_model_module": "@jupyter-widgets/controls",
            "layout": "IPY_MODEL_2058024fac774da08aef13a441807715"
          }
        },
        "c2a17788914c4350bead0669184068a1": {
          "model_module": "@jupyter-widgets/controls",
          "model_name": "HTMLModel",
          "state": {
            "_view_name": "HTMLView",
            "style": "IPY_MODEL_eb0ed5f1c41f4add894c7fbc05059960",
            "_dom_classes": [],
            "description": "",
            "_model_name": "HTMLModel",
            "placeholder": "​",
            "_view_module": "@jupyter-widgets/controls",
            "_model_module_version": "1.5.0",
            "value": " 1/1 [04:28&lt;00:00, 268.10s/it]",
            "_view_count": null,
            "_view_module_version": "1.5.0",
            "description_tooltip": null,
            "_model_module": "@jupyter-widgets/controls",
            "layout": "IPY_MODEL_3453730fab1a4574908afb0914d2cedc"
          }
        },
        "8c5be21927834a878929bcff5c7c6b06": {
          "model_module": "@jupyter-widgets/controls",
          "model_name": "DescriptionStyleModel",
          "state": {
            "_view_name": "StyleView",
            "_model_name": "DescriptionStyleModel",
            "description_width": "",
            "_view_module": "@jupyter-widgets/base",
            "_model_module_version": "1.5.0",
            "_view_count": null,
            "_view_module_version": "1.2.0",
            "_model_module": "@jupyter-widgets/controls"
          }
        },
        "1d7ea3437b7b4096b7d5ee88157ea5cf": {
          "model_module": "@jupyter-widgets/base",
          "model_name": "LayoutModel",
          "state": {
            "_view_name": "LayoutView",
            "grid_template_rows": null,
            "right": null,
            "justify_content": null,
            "_view_module": "@jupyter-widgets/base",
            "overflow": null,
            "_model_module_version": "1.2.0",
            "_view_count": null,
            "flex_flow": null,
            "width": null,
            "min_width": null,
            "border": null,
            "align_items": null,
            "bottom": null,
            "_model_module": "@jupyter-widgets/base",
            "top": null,
            "grid_column": null,
            "overflow_y": null,
            "overflow_x": null,
            "grid_auto_flow": null,
            "grid_area": null,
            "grid_template_columns": null,
            "flex": null,
            "_model_name": "LayoutModel",
            "justify_items": null,
            "grid_row": null,
            "max_height": null,
            "align_content": null,
            "visibility": null,
            "align_self": null,
            "height": null,
            "min_height": null,
            "padding": null,
            "grid_auto_rows": null,
            "grid_gap": null,
            "max_width": null,
            "order": null,
            "_view_module_version": "1.2.0",
            "grid_template_areas": null,
            "object_position": null,
            "object_fit": null,
            "grid_auto_columns": null,
            "margin": null,
            "display": null,
            "left": null
          }
        },
        "fdb572d7eb8a456fbada2cde2615d445": {
          "model_module": "@jupyter-widgets/controls",
          "model_name": "ProgressStyleModel",
          "state": {
            "_view_name": "StyleView",
            "_model_name": "ProgressStyleModel",
            "description_width": "",
            "_view_module": "@jupyter-widgets/base",
            "_model_module_version": "1.5.0",
            "_view_count": null,
            "_view_module_version": "1.2.0",
            "bar_color": null,
            "_model_module": "@jupyter-widgets/controls"
          }
        },
        "2058024fac774da08aef13a441807715": {
          "model_module": "@jupyter-widgets/base",
          "model_name": "LayoutModel",
          "state": {
            "_view_name": "LayoutView",
            "grid_template_rows": null,
            "right": null,
            "justify_content": null,
            "_view_module": "@jupyter-widgets/base",
            "overflow": null,
            "_model_module_version": "1.2.0",
            "_view_count": null,
            "flex_flow": null,
            "width": null,
            "min_width": null,
            "border": null,
            "align_items": null,
            "bottom": null,
            "_model_module": "@jupyter-widgets/base",
            "top": null,
            "grid_column": null,
            "overflow_y": null,
            "overflow_x": null,
            "grid_auto_flow": null,
            "grid_area": null,
            "grid_template_columns": null,
            "flex": null,
            "_model_name": "LayoutModel",
            "justify_items": null,
            "grid_row": null,
            "max_height": null,
            "align_content": null,
            "visibility": null,
            "align_self": null,
            "height": null,
            "min_height": null,
            "padding": null,
            "grid_auto_rows": null,
            "grid_gap": null,
            "max_width": null,
            "order": null,
            "_view_module_version": "1.2.0",
            "grid_template_areas": null,
            "object_position": null,
            "object_fit": null,
            "grid_auto_columns": null,
            "margin": null,
            "display": null,
            "left": null
          }
        },
        "eb0ed5f1c41f4add894c7fbc05059960": {
          "model_module": "@jupyter-widgets/controls",
          "model_name": "DescriptionStyleModel",
          "state": {
            "_view_name": "StyleView",
            "_model_name": "DescriptionStyleModel",
            "description_width": "",
            "_view_module": "@jupyter-widgets/base",
            "_model_module_version": "1.5.0",
            "_view_count": null,
            "_view_module_version": "1.2.0",
            "_model_module": "@jupyter-widgets/controls"
          }
        },
        "3453730fab1a4574908afb0914d2cedc": {
          "model_module": "@jupyter-widgets/base",
          "model_name": "LayoutModel",
          "state": {
            "_view_name": "LayoutView",
            "grid_template_rows": null,
            "right": null,
            "justify_content": null,
            "_view_module": "@jupyter-widgets/base",
            "overflow": null,
            "_model_module_version": "1.2.0",
            "_view_count": null,
            "flex_flow": null,
            "width": null,
            "min_width": null,
            "border": null,
            "align_items": null,
            "bottom": null,
            "_model_module": "@jupyter-widgets/base",
            "top": null,
            "grid_column": null,
            "overflow_y": null,
            "overflow_x": null,
            "grid_auto_flow": null,
            "grid_area": null,
            "grid_template_columns": null,
            "flex": null,
            "_model_name": "LayoutModel",
            "justify_items": null,
            "grid_row": null,
            "max_height": null,
            "align_content": null,
            "visibility": null,
            "align_self": null,
            "height": null,
            "min_height": null,
            "padding": null,
            "grid_auto_rows": null,
            "grid_gap": null,
            "max_width": null,
            "order": null,
            "_view_module_version": "1.2.0",
            "grid_template_areas": null,
            "object_position": null,
            "object_fit": null,
            "grid_auto_columns": null,
            "margin": null,
            "display": null,
            "left": null
          }
        },
        "4dea396a355b4c1dbf8f41c072274f7f": {
          "model_module": "@jupyter-widgets/controls",
          "model_name": "HBoxModel",
          "state": {
            "_view_name": "HBoxView",
            "_dom_classes": [],
            "_model_name": "HBoxModel",
            "_view_module": "@jupyter-widgets/controls",
            "_model_module_version": "1.5.0",
            "_view_count": null,
            "_view_module_version": "1.5.0",
            "box_style": "",
            "layout": "IPY_MODEL_4b4eeafdb1314b5c9d52793eb2e7a281",
            "_model_module": "@jupyter-widgets/controls",
            "children": [
              "IPY_MODEL_01b8d4f7428f4bb8960d9353dd544305",
              "IPY_MODEL_c4604ea7d6c04b2e8702d5ebcfd92304",
              "IPY_MODEL_90b430915a714c30bd2e9b51f0342d94"
            ]
          }
        },
        "4b4eeafdb1314b5c9d52793eb2e7a281": {
          "model_module": "@jupyter-widgets/base",
          "model_name": "LayoutModel",
          "state": {
            "_view_name": "LayoutView",
            "grid_template_rows": null,
            "right": null,
            "justify_content": null,
            "_view_module": "@jupyter-widgets/base",
            "overflow": null,
            "_model_module_version": "1.2.0",
            "_view_count": null,
            "flex_flow": null,
            "width": null,
            "min_width": null,
            "border": null,
            "align_items": null,
            "bottom": null,
            "_model_module": "@jupyter-widgets/base",
            "top": null,
            "grid_column": null,
            "overflow_y": null,
            "overflow_x": null,
            "grid_auto_flow": null,
            "grid_area": null,
            "grid_template_columns": null,
            "flex": null,
            "_model_name": "LayoutModel",
            "justify_items": null,
            "grid_row": null,
            "max_height": null,
            "align_content": null,
            "visibility": null,
            "align_self": null,
            "height": null,
            "min_height": null,
            "padding": null,
            "grid_auto_rows": null,
            "grid_gap": null,
            "max_width": null,
            "order": null,
            "_view_module_version": "1.2.0",
            "grid_template_areas": null,
            "object_position": null,
            "object_fit": null,
            "grid_auto_columns": null,
            "margin": null,
            "display": null,
            "left": null
          }
        },
        "01b8d4f7428f4bb8960d9353dd544305": {
          "model_module": "@jupyter-widgets/controls",
          "model_name": "HTMLModel",
          "state": {
            "_view_name": "HTMLView",
            "style": "IPY_MODEL_455f35aafc48448783e367685c5cde5e",
            "_dom_classes": [],
            "description": "",
            "_model_name": "HTMLModel",
            "placeholder": "​",
            "_view_module": "@jupyter-widgets/controls",
            "_model_module_version": "1.5.0",
            "value": "Epochs 1/5. Running Loss:    0.7414: 100%",
            "_view_count": null,
            "_view_module_version": "1.5.0",
            "description_tooltip": null,
            "_model_module": "@jupyter-widgets/controls",
            "layout": "IPY_MODEL_4dc9c30d93674ef2b3e57ab87f72a253"
          }
        },
        "c4604ea7d6c04b2e8702d5ebcfd92304": {
          "model_module": "@jupyter-widgets/controls",
          "model_name": "FloatProgressModel",
          "state": {
            "_view_name": "ProgressView",
            "style": "IPY_MODEL_ef1de0283b254b219cd29df0a8e7f4a8",
            "_dom_classes": [],
            "description": "",
            "_model_name": "FloatProgressModel",
            "bar_style": "success",
            "max": 1,
            "_view_module": "@jupyter-widgets/controls",
            "_model_module_version": "1.5.0",
            "value": 1,
            "_view_count": null,
            "_view_module_version": "1.5.0",
            "orientation": "horizontal",
            "min": 0,
            "description_tooltip": null,
            "_model_module": "@jupyter-widgets/controls",
            "layout": "IPY_MODEL_f3af0725c8c74385b341c854a51b4d99"
          }
        },
        "90b430915a714c30bd2e9b51f0342d94": {
          "model_module": "@jupyter-widgets/controls",
          "model_name": "HTMLModel",
          "state": {
            "_view_name": "HTMLView",
            "style": "IPY_MODEL_625c02c81912428ba2a4f398743aaad0",
            "_dom_classes": [],
            "description": "",
            "_model_name": "HTMLModel",
            "placeholder": "​",
            "_view_module": "@jupyter-widgets/controls",
            "_model_module_version": "1.5.0",
            "value": " 1/1 [04:17&lt;00:00, 257.33s/it]",
            "_view_count": null,
            "_view_module_version": "1.5.0",
            "description_tooltip": null,
            "_model_module": "@jupyter-widgets/controls",
            "layout": "IPY_MODEL_dfea57ff9ed647a596d3db0275d18cca"
          }
        },
        "455f35aafc48448783e367685c5cde5e": {
          "model_module": "@jupyter-widgets/controls",
          "model_name": "DescriptionStyleModel",
          "state": {
            "_view_name": "StyleView",
            "_model_name": "DescriptionStyleModel",
            "description_width": "",
            "_view_module": "@jupyter-widgets/base",
            "_model_module_version": "1.5.0",
            "_view_count": null,
            "_view_module_version": "1.2.0",
            "_model_module": "@jupyter-widgets/controls"
          }
        },
        "4dc9c30d93674ef2b3e57ab87f72a253": {
          "model_module": "@jupyter-widgets/base",
          "model_name": "LayoutModel",
          "state": {
            "_view_name": "LayoutView",
            "grid_template_rows": null,
            "right": null,
            "justify_content": null,
            "_view_module": "@jupyter-widgets/base",
            "overflow": null,
            "_model_module_version": "1.2.0",
            "_view_count": null,
            "flex_flow": null,
            "width": null,
            "min_width": null,
            "border": null,
            "align_items": null,
            "bottom": null,
            "_model_module": "@jupyter-widgets/base",
            "top": null,
            "grid_column": null,
            "overflow_y": null,
            "overflow_x": null,
            "grid_auto_flow": null,
            "grid_area": null,
            "grid_template_columns": null,
            "flex": null,
            "_model_name": "LayoutModel",
            "justify_items": null,
            "grid_row": null,
            "max_height": null,
            "align_content": null,
            "visibility": null,
            "align_self": null,
            "height": null,
            "min_height": null,
            "padding": null,
            "grid_auto_rows": null,
            "grid_gap": null,
            "max_width": null,
            "order": null,
            "_view_module_version": "1.2.0",
            "grid_template_areas": null,
            "object_position": null,
            "object_fit": null,
            "grid_auto_columns": null,
            "margin": null,
            "display": null,
            "left": null
          }
        },
        "ef1de0283b254b219cd29df0a8e7f4a8": {
          "model_module": "@jupyter-widgets/controls",
          "model_name": "ProgressStyleModel",
          "state": {
            "_view_name": "StyleView",
            "_model_name": "ProgressStyleModel",
            "description_width": "",
            "_view_module": "@jupyter-widgets/base",
            "_model_module_version": "1.5.0",
            "_view_count": null,
            "_view_module_version": "1.2.0",
            "bar_color": null,
            "_model_module": "@jupyter-widgets/controls"
          }
        },
        "f3af0725c8c74385b341c854a51b4d99": {
          "model_module": "@jupyter-widgets/base",
          "model_name": "LayoutModel",
          "state": {
            "_view_name": "LayoutView",
            "grid_template_rows": null,
            "right": null,
            "justify_content": null,
            "_view_module": "@jupyter-widgets/base",
            "overflow": null,
            "_model_module_version": "1.2.0",
            "_view_count": null,
            "flex_flow": null,
            "width": null,
            "min_width": null,
            "border": null,
            "align_items": null,
            "bottom": null,
            "_model_module": "@jupyter-widgets/base",
            "top": null,
            "grid_column": null,
            "overflow_y": null,
            "overflow_x": null,
            "grid_auto_flow": null,
            "grid_area": null,
            "grid_template_columns": null,
            "flex": null,
            "_model_name": "LayoutModel",
            "justify_items": null,
            "grid_row": null,
            "max_height": null,
            "align_content": null,
            "visibility": null,
            "align_self": null,
            "height": null,
            "min_height": null,
            "padding": null,
            "grid_auto_rows": null,
            "grid_gap": null,
            "max_width": null,
            "order": null,
            "_view_module_version": "1.2.0",
            "grid_template_areas": null,
            "object_position": null,
            "object_fit": null,
            "grid_auto_columns": null,
            "margin": null,
            "display": null,
            "left": null
          }
        },
        "625c02c81912428ba2a4f398743aaad0": {
          "model_module": "@jupyter-widgets/controls",
          "model_name": "DescriptionStyleModel",
          "state": {
            "_view_name": "StyleView",
            "_model_name": "DescriptionStyleModel",
            "description_width": "",
            "_view_module": "@jupyter-widgets/base",
            "_model_module_version": "1.5.0",
            "_view_count": null,
            "_view_module_version": "1.2.0",
            "_model_module": "@jupyter-widgets/controls"
          }
        },
        "dfea57ff9ed647a596d3db0275d18cca": {
          "model_module": "@jupyter-widgets/base",
          "model_name": "LayoutModel",
          "state": {
            "_view_name": "LayoutView",
            "grid_template_rows": null,
            "right": null,
            "justify_content": null,
            "_view_module": "@jupyter-widgets/base",
            "overflow": null,
            "_model_module_version": "1.2.0",
            "_view_count": null,
            "flex_flow": null,
            "width": null,
            "min_width": null,
            "border": null,
            "align_items": null,
            "bottom": null,
            "_model_module": "@jupyter-widgets/base",
            "top": null,
            "grid_column": null,
            "overflow_y": null,
            "overflow_x": null,
            "grid_auto_flow": null,
            "grid_area": null,
            "grid_template_columns": null,
            "flex": null,
            "_model_name": "LayoutModel",
            "justify_items": null,
            "grid_row": null,
            "max_height": null,
            "align_content": null,
            "visibility": null,
            "align_self": null,
            "height": null,
            "min_height": null,
            "padding": null,
            "grid_auto_rows": null,
            "grid_gap": null,
            "max_width": null,
            "order": null,
            "_view_module_version": "1.2.0",
            "grid_template_areas": null,
            "object_position": null,
            "object_fit": null,
            "grid_auto_columns": null,
            "margin": null,
            "display": null,
            "left": null
          }
        },
        "22d088e6fc664bc0b7681b3224423e26": {
          "model_module": "@jupyter-widgets/controls",
          "model_name": "HBoxModel",
          "state": {
            "_view_name": "HBoxView",
            "_dom_classes": [],
            "_model_name": "HBoxModel",
            "_view_module": "@jupyter-widgets/controls",
            "_model_module_version": "1.5.0",
            "_view_count": null,
            "_view_module_version": "1.5.0",
            "box_style": "",
            "layout": "IPY_MODEL_58c2e3a73546482f91d531e1611ce3c4",
            "_model_module": "@jupyter-widgets/controls",
            "children": [
              "IPY_MODEL_0fe8f62ba8964808b6c6fa90edffa969",
              "IPY_MODEL_504894af7a0f451b88ddc3f300dc1b84",
              "IPY_MODEL_570845798b1b495490ba1eb6f2ef1bc5"
            ]
          }
        },
        "58c2e3a73546482f91d531e1611ce3c4": {
          "model_module": "@jupyter-widgets/base",
          "model_name": "LayoutModel",
          "state": {
            "_view_name": "LayoutView",
            "grid_template_rows": null,
            "right": null,
            "justify_content": null,
            "_view_module": "@jupyter-widgets/base",
            "overflow": null,
            "_model_module_version": "1.2.0",
            "_view_count": null,
            "flex_flow": null,
            "width": null,
            "min_width": null,
            "border": null,
            "align_items": null,
            "bottom": null,
            "_model_module": "@jupyter-widgets/base",
            "top": null,
            "grid_column": null,
            "overflow_y": null,
            "overflow_x": null,
            "grid_auto_flow": null,
            "grid_area": null,
            "grid_template_columns": null,
            "flex": null,
            "_model_name": "LayoutModel",
            "justify_items": null,
            "grid_row": null,
            "max_height": null,
            "align_content": null,
            "visibility": null,
            "align_self": null,
            "height": null,
            "min_height": null,
            "padding": null,
            "grid_auto_rows": null,
            "grid_gap": null,
            "max_width": null,
            "order": null,
            "_view_module_version": "1.2.0",
            "grid_template_areas": null,
            "object_position": null,
            "object_fit": null,
            "grid_auto_columns": null,
            "margin": null,
            "display": null,
            "left": null
          }
        },
        "0fe8f62ba8964808b6c6fa90edffa969": {
          "model_module": "@jupyter-widgets/controls",
          "model_name": "HTMLModel",
          "state": {
            "_view_name": "HTMLView",
            "style": "IPY_MODEL_5bacd3612f2043728e3d672c1d7dd21f",
            "_dom_classes": [],
            "description": "",
            "_model_name": "HTMLModel",
            "placeholder": "​",
            "_view_module": "@jupyter-widgets/controls",
            "_model_module_version": "1.5.0",
            "value": "Epochs 2/5. Running Loss:    0.7056: 100%",
            "_view_count": null,
            "_view_module_version": "1.5.0",
            "description_tooltip": null,
            "_model_module": "@jupyter-widgets/controls",
            "layout": "IPY_MODEL_4ba6e12ec9eb4f988df1947b1785ea0e"
          }
        },
        "504894af7a0f451b88ddc3f300dc1b84": {
          "model_module": "@jupyter-widgets/controls",
          "model_name": "FloatProgressModel",
          "state": {
            "_view_name": "ProgressView",
            "style": "IPY_MODEL_7160497b33c141a49ac168a57608c411",
            "_dom_classes": [],
            "description": "",
            "_model_name": "FloatProgressModel",
            "bar_style": "success",
            "max": 1,
            "_view_module": "@jupyter-widgets/controls",
            "_model_module_version": "1.5.0",
            "value": 1,
            "_view_count": null,
            "_view_module_version": "1.5.0",
            "orientation": "horizontal",
            "min": 0,
            "description_tooltip": null,
            "_model_module": "@jupyter-widgets/controls",
            "layout": "IPY_MODEL_20c12b1ea05c4160b17de3fde807eadb"
          }
        },
        "570845798b1b495490ba1eb6f2ef1bc5": {
          "model_module": "@jupyter-widgets/controls",
          "model_name": "HTMLModel",
          "state": {
            "_view_name": "HTMLView",
            "style": "IPY_MODEL_deedb7eb48a4481ab8f0d01779a95e40",
            "_dom_classes": [],
            "description": "",
            "_model_name": "HTMLModel",
            "placeholder": "​",
            "_view_module": "@jupyter-widgets/controls",
            "_model_module_version": "1.5.0",
            "value": " 1/1 [04:05&lt;00:00, 245.93s/it]",
            "_view_count": null,
            "_view_module_version": "1.5.0",
            "description_tooltip": null,
            "_model_module": "@jupyter-widgets/controls",
            "layout": "IPY_MODEL_8786c740a335461998061d261fcf9749"
          }
        },
        "5bacd3612f2043728e3d672c1d7dd21f": {
          "model_module": "@jupyter-widgets/controls",
          "model_name": "DescriptionStyleModel",
          "state": {
            "_view_name": "StyleView",
            "_model_name": "DescriptionStyleModel",
            "description_width": "",
            "_view_module": "@jupyter-widgets/base",
            "_model_module_version": "1.5.0",
            "_view_count": null,
            "_view_module_version": "1.2.0",
            "_model_module": "@jupyter-widgets/controls"
          }
        },
        "4ba6e12ec9eb4f988df1947b1785ea0e": {
          "model_module": "@jupyter-widgets/base",
          "model_name": "LayoutModel",
          "state": {
            "_view_name": "LayoutView",
            "grid_template_rows": null,
            "right": null,
            "justify_content": null,
            "_view_module": "@jupyter-widgets/base",
            "overflow": null,
            "_model_module_version": "1.2.0",
            "_view_count": null,
            "flex_flow": null,
            "width": null,
            "min_width": null,
            "border": null,
            "align_items": null,
            "bottom": null,
            "_model_module": "@jupyter-widgets/base",
            "top": null,
            "grid_column": null,
            "overflow_y": null,
            "overflow_x": null,
            "grid_auto_flow": null,
            "grid_area": null,
            "grid_template_columns": null,
            "flex": null,
            "_model_name": "LayoutModel",
            "justify_items": null,
            "grid_row": null,
            "max_height": null,
            "align_content": null,
            "visibility": null,
            "align_self": null,
            "height": null,
            "min_height": null,
            "padding": null,
            "grid_auto_rows": null,
            "grid_gap": null,
            "max_width": null,
            "order": null,
            "_view_module_version": "1.2.0",
            "grid_template_areas": null,
            "object_position": null,
            "object_fit": null,
            "grid_auto_columns": null,
            "margin": null,
            "display": null,
            "left": null
          }
        },
        "7160497b33c141a49ac168a57608c411": {
          "model_module": "@jupyter-widgets/controls",
          "model_name": "ProgressStyleModel",
          "state": {
            "_view_name": "StyleView",
            "_model_name": "ProgressStyleModel",
            "description_width": "",
            "_view_module": "@jupyter-widgets/base",
            "_model_module_version": "1.5.0",
            "_view_count": null,
            "_view_module_version": "1.2.0",
            "bar_color": null,
            "_model_module": "@jupyter-widgets/controls"
          }
        },
        "20c12b1ea05c4160b17de3fde807eadb": {
          "model_module": "@jupyter-widgets/base",
          "model_name": "LayoutModel",
          "state": {
            "_view_name": "LayoutView",
            "grid_template_rows": null,
            "right": null,
            "justify_content": null,
            "_view_module": "@jupyter-widgets/base",
            "overflow": null,
            "_model_module_version": "1.2.0",
            "_view_count": null,
            "flex_flow": null,
            "width": null,
            "min_width": null,
            "border": null,
            "align_items": null,
            "bottom": null,
            "_model_module": "@jupyter-widgets/base",
            "top": null,
            "grid_column": null,
            "overflow_y": null,
            "overflow_x": null,
            "grid_auto_flow": null,
            "grid_area": null,
            "grid_template_columns": null,
            "flex": null,
            "_model_name": "LayoutModel",
            "justify_items": null,
            "grid_row": null,
            "max_height": null,
            "align_content": null,
            "visibility": null,
            "align_self": null,
            "height": null,
            "min_height": null,
            "padding": null,
            "grid_auto_rows": null,
            "grid_gap": null,
            "max_width": null,
            "order": null,
            "_view_module_version": "1.2.0",
            "grid_template_areas": null,
            "object_position": null,
            "object_fit": null,
            "grid_auto_columns": null,
            "margin": null,
            "display": null,
            "left": null
          }
        },
        "deedb7eb48a4481ab8f0d01779a95e40": {
          "model_module": "@jupyter-widgets/controls",
          "model_name": "DescriptionStyleModel",
          "state": {
            "_view_name": "StyleView",
            "_model_name": "DescriptionStyleModel",
            "description_width": "",
            "_view_module": "@jupyter-widgets/base",
            "_model_module_version": "1.5.0",
            "_view_count": null,
            "_view_module_version": "1.2.0",
            "_model_module": "@jupyter-widgets/controls"
          }
        },
        "8786c740a335461998061d261fcf9749": {
          "model_module": "@jupyter-widgets/base",
          "model_name": "LayoutModel",
          "state": {
            "_view_name": "LayoutView",
            "grid_template_rows": null,
            "right": null,
            "justify_content": null,
            "_view_module": "@jupyter-widgets/base",
            "overflow": null,
            "_model_module_version": "1.2.0",
            "_view_count": null,
            "flex_flow": null,
            "width": null,
            "min_width": null,
            "border": null,
            "align_items": null,
            "bottom": null,
            "_model_module": "@jupyter-widgets/base",
            "top": null,
            "grid_column": null,
            "overflow_y": null,
            "overflow_x": null,
            "grid_auto_flow": null,
            "grid_area": null,
            "grid_template_columns": null,
            "flex": null,
            "_model_name": "LayoutModel",
            "justify_items": null,
            "grid_row": null,
            "max_height": null,
            "align_content": null,
            "visibility": null,
            "align_self": null,
            "height": null,
            "min_height": null,
            "padding": null,
            "grid_auto_rows": null,
            "grid_gap": null,
            "max_width": null,
            "order": null,
            "_view_module_version": "1.2.0",
            "grid_template_areas": null,
            "object_position": null,
            "object_fit": null,
            "grid_auto_columns": null,
            "margin": null,
            "display": null,
            "left": null
          }
        },
        "89104bc7c53741fbacdd69a39daf75ed": {
          "model_module": "@jupyter-widgets/controls",
          "model_name": "HBoxModel",
          "state": {
            "_view_name": "HBoxView",
            "_dom_classes": [],
            "_model_name": "HBoxModel",
            "_view_module": "@jupyter-widgets/controls",
            "_model_module_version": "1.5.0",
            "_view_count": null,
            "_view_module_version": "1.5.0",
            "box_style": "",
            "layout": "IPY_MODEL_b6eea719d1774f939dea314f53994caf",
            "_model_module": "@jupyter-widgets/controls",
            "children": [
              "IPY_MODEL_57bda67d91db4f8982d339857de3bbb2",
              "IPY_MODEL_c9ee5c6b0f8c4040942f0f680e0c23c8",
              "IPY_MODEL_6ba9423515394b97bd85f86a517a2be9"
            ]
          }
        },
        "b6eea719d1774f939dea314f53994caf": {
          "model_module": "@jupyter-widgets/base",
          "model_name": "LayoutModel",
          "state": {
            "_view_name": "LayoutView",
            "grid_template_rows": null,
            "right": null,
            "justify_content": null,
            "_view_module": "@jupyter-widgets/base",
            "overflow": null,
            "_model_module_version": "1.2.0",
            "_view_count": null,
            "flex_flow": null,
            "width": null,
            "min_width": null,
            "border": null,
            "align_items": null,
            "bottom": null,
            "_model_module": "@jupyter-widgets/base",
            "top": null,
            "grid_column": null,
            "overflow_y": null,
            "overflow_x": null,
            "grid_auto_flow": null,
            "grid_area": null,
            "grid_template_columns": null,
            "flex": null,
            "_model_name": "LayoutModel",
            "justify_items": null,
            "grid_row": null,
            "max_height": null,
            "align_content": null,
            "visibility": null,
            "align_self": null,
            "height": null,
            "min_height": null,
            "padding": null,
            "grid_auto_rows": null,
            "grid_gap": null,
            "max_width": null,
            "order": null,
            "_view_module_version": "1.2.0",
            "grid_template_areas": null,
            "object_position": null,
            "object_fit": null,
            "grid_auto_columns": null,
            "margin": null,
            "display": null,
            "left": null
          }
        },
        "57bda67d91db4f8982d339857de3bbb2": {
          "model_module": "@jupyter-widgets/controls",
          "model_name": "HTMLModel",
          "state": {
            "_view_name": "HTMLView",
            "style": "IPY_MODEL_ecf80faa58b44a91ab0d07d466380456",
            "_dom_classes": [],
            "description": "",
            "_model_name": "HTMLModel",
            "placeholder": "​",
            "_view_module": "@jupyter-widgets/controls",
            "_model_module_version": "1.5.0",
            "value": "Epochs 3/5. Running Loss:    0.6824: 100%",
            "_view_count": null,
            "_view_module_version": "1.5.0",
            "description_tooltip": null,
            "_model_module": "@jupyter-widgets/controls",
            "layout": "IPY_MODEL_850e063cc36d4f2ebcf391af689e938e"
          }
        },
        "c9ee5c6b0f8c4040942f0f680e0c23c8": {
          "model_module": "@jupyter-widgets/controls",
          "model_name": "FloatProgressModel",
          "state": {
            "_view_name": "ProgressView",
            "style": "IPY_MODEL_fd96bf296f5442a18cd65f4e7ef3537d",
            "_dom_classes": [],
            "description": "",
            "_model_name": "FloatProgressModel",
            "bar_style": "success",
            "max": 1,
            "_view_module": "@jupyter-widgets/controls",
            "_model_module_version": "1.5.0",
            "value": 1,
            "_view_count": null,
            "_view_module_version": "1.5.0",
            "orientation": "horizontal",
            "min": 0,
            "description_tooltip": null,
            "_model_module": "@jupyter-widgets/controls",
            "layout": "IPY_MODEL_52054f0c4c6546cdb2f15b915613c349"
          }
        },
        "6ba9423515394b97bd85f86a517a2be9": {
          "model_module": "@jupyter-widgets/controls",
          "model_name": "HTMLModel",
          "state": {
            "_view_name": "HTMLView",
            "style": "IPY_MODEL_393b61daacbb404a8910c0ea377a662d",
            "_dom_classes": [],
            "description": "",
            "_model_name": "HTMLModel",
            "placeholder": "​",
            "_view_module": "@jupyter-widgets/controls",
            "_model_module_version": "1.5.0",
            "value": " 1/1 [03:54&lt;00:00, 234.39s/it]",
            "_view_count": null,
            "_view_module_version": "1.5.0",
            "description_tooltip": null,
            "_model_module": "@jupyter-widgets/controls",
            "layout": "IPY_MODEL_a33cc9cb4d2743b5813899323394dd7c"
          }
        },
        "ecf80faa58b44a91ab0d07d466380456": {
          "model_module": "@jupyter-widgets/controls",
          "model_name": "DescriptionStyleModel",
          "state": {
            "_view_name": "StyleView",
            "_model_name": "DescriptionStyleModel",
            "description_width": "",
            "_view_module": "@jupyter-widgets/base",
            "_model_module_version": "1.5.0",
            "_view_count": null,
            "_view_module_version": "1.2.0",
            "_model_module": "@jupyter-widgets/controls"
          }
        },
        "850e063cc36d4f2ebcf391af689e938e": {
          "model_module": "@jupyter-widgets/base",
          "model_name": "LayoutModel",
          "state": {
            "_view_name": "LayoutView",
            "grid_template_rows": null,
            "right": null,
            "justify_content": null,
            "_view_module": "@jupyter-widgets/base",
            "overflow": null,
            "_model_module_version": "1.2.0",
            "_view_count": null,
            "flex_flow": null,
            "width": null,
            "min_width": null,
            "border": null,
            "align_items": null,
            "bottom": null,
            "_model_module": "@jupyter-widgets/base",
            "top": null,
            "grid_column": null,
            "overflow_y": null,
            "overflow_x": null,
            "grid_auto_flow": null,
            "grid_area": null,
            "grid_template_columns": null,
            "flex": null,
            "_model_name": "LayoutModel",
            "justify_items": null,
            "grid_row": null,
            "max_height": null,
            "align_content": null,
            "visibility": null,
            "align_self": null,
            "height": null,
            "min_height": null,
            "padding": null,
            "grid_auto_rows": null,
            "grid_gap": null,
            "max_width": null,
            "order": null,
            "_view_module_version": "1.2.0",
            "grid_template_areas": null,
            "object_position": null,
            "object_fit": null,
            "grid_auto_columns": null,
            "margin": null,
            "display": null,
            "left": null
          }
        },
        "fd96bf296f5442a18cd65f4e7ef3537d": {
          "model_module": "@jupyter-widgets/controls",
          "model_name": "ProgressStyleModel",
          "state": {
            "_view_name": "StyleView",
            "_model_name": "ProgressStyleModel",
            "description_width": "",
            "_view_module": "@jupyter-widgets/base",
            "_model_module_version": "1.5.0",
            "_view_count": null,
            "_view_module_version": "1.2.0",
            "bar_color": null,
            "_model_module": "@jupyter-widgets/controls"
          }
        },
        "52054f0c4c6546cdb2f15b915613c349": {
          "model_module": "@jupyter-widgets/base",
          "model_name": "LayoutModel",
          "state": {
            "_view_name": "LayoutView",
            "grid_template_rows": null,
            "right": null,
            "justify_content": null,
            "_view_module": "@jupyter-widgets/base",
            "overflow": null,
            "_model_module_version": "1.2.0",
            "_view_count": null,
            "flex_flow": null,
            "width": null,
            "min_width": null,
            "border": null,
            "align_items": null,
            "bottom": null,
            "_model_module": "@jupyter-widgets/base",
            "top": null,
            "grid_column": null,
            "overflow_y": null,
            "overflow_x": null,
            "grid_auto_flow": null,
            "grid_area": null,
            "grid_template_columns": null,
            "flex": null,
            "_model_name": "LayoutModel",
            "justify_items": null,
            "grid_row": null,
            "max_height": null,
            "align_content": null,
            "visibility": null,
            "align_self": null,
            "height": null,
            "min_height": null,
            "padding": null,
            "grid_auto_rows": null,
            "grid_gap": null,
            "max_width": null,
            "order": null,
            "_view_module_version": "1.2.0",
            "grid_template_areas": null,
            "object_position": null,
            "object_fit": null,
            "grid_auto_columns": null,
            "margin": null,
            "display": null,
            "left": null
          }
        },
        "393b61daacbb404a8910c0ea377a662d": {
          "model_module": "@jupyter-widgets/controls",
          "model_name": "DescriptionStyleModel",
          "state": {
            "_view_name": "StyleView",
            "_model_name": "DescriptionStyleModel",
            "description_width": "",
            "_view_module": "@jupyter-widgets/base",
            "_model_module_version": "1.5.0",
            "_view_count": null,
            "_view_module_version": "1.2.0",
            "_model_module": "@jupyter-widgets/controls"
          }
        },
        "a33cc9cb4d2743b5813899323394dd7c": {
          "model_module": "@jupyter-widgets/base",
          "model_name": "LayoutModel",
          "state": {
            "_view_name": "LayoutView",
            "grid_template_rows": null,
            "right": null,
            "justify_content": null,
            "_view_module": "@jupyter-widgets/base",
            "overflow": null,
            "_model_module_version": "1.2.0",
            "_view_count": null,
            "flex_flow": null,
            "width": null,
            "min_width": null,
            "border": null,
            "align_items": null,
            "bottom": null,
            "_model_module": "@jupyter-widgets/base",
            "top": null,
            "grid_column": null,
            "overflow_y": null,
            "overflow_x": null,
            "grid_auto_flow": null,
            "grid_area": null,
            "grid_template_columns": null,
            "flex": null,
            "_model_name": "LayoutModel",
            "justify_items": null,
            "grid_row": null,
            "max_height": null,
            "align_content": null,
            "visibility": null,
            "align_self": null,
            "height": null,
            "min_height": null,
            "padding": null,
            "grid_auto_rows": null,
            "grid_gap": null,
            "max_width": null,
            "order": null,
            "_view_module_version": "1.2.0",
            "grid_template_areas": null,
            "object_position": null,
            "object_fit": null,
            "grid_auto_columns": null,
            "margin": null,
            "display": null,
            "left": null
          }
        },
        "713ab593ba8442da952ff6c01f8fa193": {
          "model_module": "@jupyter-widgets/controls",
          "model_name": "HBoxModel",
          "state": {
            "_view_name": "HBoxView",
            "_dom_classes": [],
            "_model_name": "HBoxModel",
            "_view_module": "@jupyter-widgets/controls",
            "_model_module_version": "1.5.0",
            "_view_count": null,
            "_view_module_version": "1.5.0",
            "box_style": "",
            "layout": "IPY_MODEL_872d7077860142c9ab26bb30ea42d810",
            "_model_module": "@jupyter-widgets/controls",
            "children": [
              "IPY_MODEL_ca95f24df9644080a75537c7b1deef14",
              "IPY_MODEL_929b8e0031ca4e15957ce530ad2ee667",
              "IPY_MODEL_775bb6b9545346a19472fb9d7a9503ed"
            ]
          }
        },
        "872d7077860142c9ab26bb30ea42d810": {
          "model_module": "@jupyter-widgets/base",
          "model_name": "LayoutModel",
          "state": {
            "_view_name": "LayoutView",
            "grid_template_rows": null,
            "right": null,
            "justify_content": null,
            "_view_module": "@jupyter-widgets/base",
            "overflow": null,
            "_model_module_version": "1.2.0",
            "_view_count": null,
            "flex_flow": null,
            "width": null,
            "min_width": null,
            "border": null,
            "align_items": null,
            "bottom": null,
            "_model_module": "@jupyter-widgets/base",
            "top": null,
            "grid_column": null,
            "overflow_y": null,
            "overflow_x": null,
            "grid_auto_flow": null,
            "grid_area": null,
            "grid_template_columns": null,
            "flex": null,
            "_model_name": "LayoutModel",
            "justify_items": null,
            "grid_row": null,
            "max_height": null,
            "align_content": null,
            "visibility": null,
            "align_self": null,
            "height": null,
            "min_height": null,
            "padding": null,
            "grid_auto_rows": null,
            "grid_gap": null,
            "max_width": null,
            "order": null,
            "_view_module_version": "1.2.0",
            "grid_template_areas": null,
            "object_position": null,
            "object_fit": null,
            "grid_auto_columns": null,
            "margin": null,
            "display": null,
            "left": null
          }
        },
        "ca95f24df9644080a75537c7b1deef14": {
          "model_module": "@jupyter-widgets/controls",
          "model_name": "HTMLModel",
          "state": {
            "_view_name": "HTMLView",
            "style": "IPY_MODEL_cebda334ff8e4a1baaca94f8a9497c97",
            "_dom_classes": [],
            "description": "",
            "_model_name": "HTMLModel",
            "placeholder": "​",
            "_view_module": "@jupyter-widgets/controls",
            "_model_module_version": "1.5.0",
            "value": "Epochs 4/5. Running Loss:    0.6248: 100%",
            "_view_count": null,
            "_view_module_version": "1.5.0",
            "description_tooltip": null,
            "_model_module": "@jupyter-widgets/controls",
            "layout": "IPY_MODEL_705e1988b99e428da6b93281de011b94"
          }
        },
        "929b8e0031ca4e15957ce530ad2ee667": {
          "model_module": "@jupyter-widgets/controls",
          "model_name": "FloatProgressModel",
          "state": {
            "_view_name": "ProgressView",
            "style": "IPY_MODEL_d69ab902831d4c229a9d2a030a7328df",
            "_dom_classes": [],
            "description": "",
            "_model_name": "FloatProgressModel",
            "bar_style": "success",
            "max": 1,
            "_view_module": "@jupyter-widgets/controls",
            "_model_module_version": "1.5.0",
            "value": 1,
            "_view_count": null,
            "_view_module_version": "1.5.0",
            "orientation": "horizontal",
            "min": 0,
            "description_tooltip": null,
            "_model_module": "@jupyter-widgets/controls",
            "layout": "IPY_MODEL_b3a997462a014e82955e9ccd2fc5a4d0"
          }
        },
        "775bb6b9545346a19472fb9d7a9503ed": {
          "model_module": "@jupyter-widgets/controls",
          "model_name": "HTMLModel",
          "state": {
            "_view_name": "HTMLView",
            "style": "IPY_MODEL_6c7558e0cdeb45e0ab861e73801a41eb",
            "_dom_classes": [],
            "description": "",
            "_model_name": "HTMLModel",
            "placeholder": "​",
            "_view_module": "@jupyter-widgets/controls",
            "_model_module_version": "1.5.0",
            "value": " 1/1 [03:40&lt;00:00, 220.17s/it]",
            "_view_count": null,
            "_view_module_version": "1.5.0",
            "description_tooltip": null,
            "_model_module": "@jupyter-widgets/controls",
            "layout": "IPY_MODEL_06929e1587764e398ee49ff2ec4087a4"
          }
        },
        "cebda334ff8e4a1baaca94f8a9497c97": {
          "model_module": "@jupyter-widgets/controls",
          "model_name": "DescriptionStyleModel",
          "state": {
            "_view_name": "StyleView",
            "_model_name": "DescriptionStyleModel",
            "description_width": "",
            "_view_module": "@jupyter-widgets/base",
            "_model_module_version": "1.5.0",
            "_view_count": null,
            "_view_module_version": "1.2.0",
            "_model_module": "@jupyter-widgets/controls"
          }
        },
        "705e1988b99e428da6b93281de011b94": {
          "model_module": "@jupyter-widgets/base",
          "model_name": "LayoutModel",
          "state": {
            "_view_name": "LayoutView",
            "grid_template_rows": null,
            "right": null,
            "justify_content": null,
            "_view_module": "@jupyter-widgets/base",
            "overflow": null,
            "_model_module_version": "1.2.0",
            "_view_count": null,
            "flex_flow": null,
            "width": null,
            "min_width": null,
            "border": null,
            "align_items": null,
            "bottom": null,
            "_model_module": "@jupyter-widgets/base",
            "top": null,
            "grid_column": null,
            "overflow_y": null,
            "overflow_x": null,
            "grid_auto_flow": null,
            "grid_area": null,
            "grid_template_columns": null,
            "flex": null,
            "_model_name": "LayoutModel",
            "justify_items": null,
            "grid_row": null,
            "max_height": null,
            "align_content": null,
            "visibility": null,
            "align_self": null,
            "height": null,
            "min_height": null,
            "padding": null,
            "grid_auto_rows": null,
            "grid_gap": null,
            "max_width": null,
            "order": null,
            "_view_module_version": "1.2.0",
            "grid_template_areas": null,
            "object_position": null,
            "object_fit": null,
            "grid_auto_columns": null,
            "margin": null,
            "display": null,
            "left": null
          }
        },
        "d69ab902831d4c229a9d2a030a7328df": {
          "model_module": "@jupyter-widgets/controls",
          "model_name": "ProgressStyleModel",
          "state": {
            "_view_name": "StyleView",
            "_model_name": "ProgressStyleModel",
            "description_width": "",
            "_view_module": "@jupyter-widgets/base",
            "_model_module_version": "1.5.0",
            "_view_count": null,
            "_view_module_version": "1.2.0",
            "bar_color": null,
            "_model_module": "@jupyter-widgets/controls"
          }
        },
        "b3a997462a014e82955e9ccd2fc5a4d0": {
          "model_module": "@jupyter-widgets/base",
          "model_name": "LayoutModel",
          "state": {
            "_view_name": "LayoutView",
            "grid_template_rows": null,
            "right": null,
            "justify_content": null,
            "_view_module": "@jupyter-widgets/base",
            "overflow": null,
            "_model_module_version": "1.2.0",
            "_view_count": null,
            "flex_flow": null,
            "width": null,
            "min_width": null,
            "border": null,
            "align_items": null,
            "bottom": null,
            "_model_module": "@jupyter-widgets/base",
            "top": null,
            "grid_column": null,
            "overflow_y": null,
            "overflow_x": null,
            "grid_auto_flow": null,
            "grid_area": null,
            "grid_template_columns": null,
            "flex": null,
            "_model_name": "LayoutModel",
            "justify_items": null,
            "grid_row": null,
            "max_height": null,
            "align_content": null,
            "visibility": null,
            "align_self": null,
            "height": null,
            "min_height": null,
            "padding": null,
            "grid_auto_rows": null,
            "grid_gap": null,
            "max_width": null,
            "order": null,
            "_view_module_version": "1.2.0",
            "grid_template_areas": null,
            "object_position": null,
            "object_fit": null,
            "grid_auto_columns": null,
            "margin": null,
            "display": null,
            "left": null
          }
        },
        "6c7558e0cdeb45e0ab861e73801a41eb": {
          "model_module": "@jupyter-widgets/controls",
          "model_name": "DescriptionStyleModel",
          "state": {
            "_view_name": "StyleView",
            "_model_name": "DescriptionStyleModel",
            "description_width": "",
            "_view_module": "@jupyter-widgets/base",
            "_model_module_version": "1.5.0",
            "_view_count": null,
            "_view_module_version": "1.2.0",
            "_model_module": "@jupyter-widgets/controls"
          }
        },
        "06929e1587764e398ee49ff2ec4087a4": {
          "model_module": "@jupyter-widgets/base",
          "model_name": "LayoutModel",
          "state": {
            "_view_name": "LayoutView",
            "grid_template_rows": null,
            "right": null,
            "justify_content": null,
            "_view_module": "@jupyter-widgets/base",
            "overflow": null,
            "_model_module_version": "1.2.0",
            "_view_count": null,
            "flex_flow": null,
            "width": null,
            "min_width": null,
            "border": null,
            "align_items": null,
            "bottom": null,
            "_model_module": "@jupyter-widgets/base",
            "top": null,
            "grid_column": null,
            "overflow_y": null,
            "overflow_x": null,
            "grid_auto_flow": null,
            "grid_area": null,
            "grid_template_columns": null,
            "flex": null,
            "_model_name": "LayoutModel",
            "justify_items": null,
            "grid_row": null,
            "max_height": null,
            "align_content": null,
            "visibility": null,
            "align_self": null,
            "height": null,
            "min_height": null,
            "padding": null,
            "grid_auto_rows": null,
            "grid_gap": null,
            "max_width": null,
            "order": null,
            "_view_module_version": "1.2.0",
            "grid_template_areas": null,
            "object_position": null,
            "object_fit": null,
            "grid_auto_columns": null,
            "margin": null,
            "display": null,
            "left": null
          }
        },
        "63f5b0682a224cf29bcb83d984577815": {
          "model_module": "@jupyter-widgets/controls",
          "model_name": "HBoxModel",
          "state": {
            "_view_name": "HBoxView",
            "_dom_classes": [],
            "_model_name": "HBoxModel",
            "_view_module": "@jupyter-widgets/controls",
            "_model_module_version": "1.5.0",
            "_view_count": null,
            "_view_module_version": "1.5.0",
            "box_style": "",
            "layout": "IPY_MODEL_4a8c9816a3a4464e82606ee9bf43fa63",
            "_model_module": "@jupyter-widgets/controls",
            "children": [
              "IPY_MODEL_1e857af053614c679a855c80f766e4c1",
              "IPY_MODEL_b15ad08d7bcb42078a44a9c49a427506",
              "IPY_MODEL_6d775fe3b1714ae6be49db08252794db"
            ]
          }
        },
        "4a8c9816a3a4464e82606ee9bf43fa63": {
          "model_module": "@jupyter-widgets/base",
          "model_name": "LayoutModel",
          "state": {
            "_view_name": "LayoutView",
            "grid_template_rows": null,
            "right": null,
            "justify_content": null,
            "_view_module": "@jupyter-widgets/base",
            "overflow": null,
            "_model_module_version": "1.2.0",
            "_view_count": null,
            "flex_flow": null,
            "width": null,
            "min_width": null,
            "border": null,
            "align_items": null,
            "bottom": null,
            "_model_module": "@jupyter-widgets/base",
            "top": null,
            "grid_column": null,
            "overflow_y": null,
            "overflow_x": null,
            "grid_auto_flow": null,
            "grid_area": null,
            "grid_template_columns": null,
            "flex": null,
            "_model_name": "LayoutModel",
            "justify_items": null,
            "grid_row": null,
            "max_height": null,
            "align_content": null,
            "visibility": null,
            "align_self": null,
            "height": null,
            "min_height": null,
            "padding": null,
            "grid_auto_rows": null,
            "grid_gap": null,
            "max_width": null,
            "order": null,
            "_view_module_version": "1.2.0",
            "grid_template_areas": null,
            "object_position": null,
            "object_fit": null,
            "grid_auto_columns": null,
            "margin": null,
            "display": null,
            "left": null
          }
        },
        "1e857af053614c679a855c80f766e4c1": {
          "model_module": "@jupyter-widgets/controls",
          "model_name": "HTMLModel",
          "state": {
            "_view_name": "HTMLView",
            "style": "IPY_MODEL_9464c975984b4f3eb88edc52f09584d3",
            "_dom_classes": [],
            "description": "",
            "_model_name": "HTMLModel",
            "placeholder": "​",
            "_view_module": "@jupyter-widgets/controls",
            "_model_module_version": "1.5.0",
            "value": "100%",
            "_view_count": null,
            "_view_module_version": "1.5.0",
            "description_tooltip": null,
            "_model_module": "@jupyter-widgets/controls",
            "layout": "IPY_MODEL_846319388c5c44df860a8307b4f1a2ef"
          }
        },
        "b15ad08d7bcb42078a44a9c49a427506": {
          "model_module": "@jupyter-widgets/controls",
          "model_name": "FloatProgressModel",
          "state": {
            "_view_name": "ProgressView",
            "style": "IPY_MODEL_525de70e32c94c4cba56b49755f87000",
            "_dom_classes": [],
            "description": "",
            "_model_name": "FloatProgressModel",
            "bar_style": "success",
            "max": 1,
            "_view_module": "@jupyter-widgets/controls",
            "_model_module_version": "1.5.0",
            "value": 1,
            "_view_count": null,
            "_view_module_version": "1.5.0",
            "orientation": "horizontal",
            "min": 0,
            "description_tooltip": null,
            "_model_module": "@jupyter-widgets/controls",
            "layout": "IPY_MODEL_943f3d3d40f14f5b9365d82dba620e38"
          }
        },
        "6d775fe3b1714ae6be49db08252794db": {
          "model_module": "@jupyter-widgets/controls",
          "model_name": "HTMLModel",
          "state": {
            "_view_name": "HTMLView",
            "style": "IPY_MODEL_92b8781a5720417e913f133bcc529e38",
            "_dom_classes": [],
            "description": "",
            "_model_name": "HTMLModel",
            "placeholder": "​",
            "_view_module": "@jupyter-widgets/controls",
            "_model_module_version": "1.5.0",
            "value": " 1/1 [00:24&lt;00:00, 24.71s/it]",
            "_view_count": null,
            "_view_module_version": "1.5.0",
            "description_tooltip": null,
            "_model_module": "@jupyter-widgets/controls",
            "layout": "IPY_MODEL_7e10ad818b284c9288164a559889dba8"
          }
        },
        "9464c975984b4f3eb88edc52f09584d3": {
          "model_module": "@jupyter-widgets/controls",
          "model_name": "DescriptionStyleModel",
          "state": {
            "_view_name": "StyleView",
            "_model_name": "DescriptionStyleModel",
            "description_width": "",
            "_view_module": "@jupyter-widgets/base",
            "_model_module_version": "1.5.0",
            "_view_count": null,
            "_view_module_version": "1.2.0",
            "_model_module": "@jupyter-widgets/controls"
          }
        },
        "846319388c5c44df860a8307b4f1a2ef": {
          "model_module": "@jupyter-widgets/base",
          "model_name": "LayoutModel",
          "state": {
            "_view_name": "LayoutView",
            "grid_template_rows": null,
            "right": null,
            "justify_content": null,
            "_view_module": "@jupyter-widgets/base",
            "overflow": null,
            "_model_module_version": "1.2.0",
            "_view_count": null,
            "flex_flow": null,
            "width": null,
            "min_width": null,
            "border": null,
            "align_items": null,
            "bottom": null,
            "_model_module": "@jupyter-widgets/base",
            "top": null,
            "grid_column": null,
            "overflow_y": null,
            "overflow_x": null,
            "grid_auto_flow": null,
            "grid_area": null,
            "grid_template_columns": null,
            "flex": null,
            "_model_name": "LayoutModel",
            "justify_items": null,
            "grid_row": null,
            "max_height": null,
            "align_content": null,
            "visibility": null,
            "align_self": null,
            "height": null,
            "min_height": null,
            "padding": null,
            "grid_auto_rows": null,
            "grid_gap": null,
            "max_width": null,
            "order": null,
            "_view_module_version": "1.2.0",
            "grid_template_areas": null,
            "object_position": null,
            "object_fit": null,
            "grid_auto_columns": null,
            "margin": null,
            "display": null,
            "left": null
          }
        },
        "525de70e32c94c4cba56b49755f87000": {
          "model_module": "@jupyter-widgets/controls",
          "model_name": "ProgressStyleModel",
          "state": {
            "_view_name": "StyleView",
            "_model_name": "ProgressStyleModel",
            "description_width": "",
            "_view_module": "@jupyter-widgets/base",
            "_model_module_version": "1.5.0",
            "_view_count": null,
            "_view_module_version": "1.2.0",
            "bar_color": null,
            "_model_module": "@jupyter-widgets/controls"
          }
        },
        "943f3d3d40f14f5b9365d82dba620e38": {
          "model_module": "@jupyter-widgets/base",
          "model_name": "LayoutModel",
          "state": {
            "_view_name": "LayoutView",
            "grid_template_rows": null,
            "right": null,
            "justify_content": null,
            "_view_module": "@jupyter-widgets/base",
            "overflow": null,
            "_model_module_version": "1.2.0",
            "_view_count": null,
            "flex_flow": null,
            "width": null,
            "min_width": null,
            "border": null,
            "align_items": null,
            "bottom": null,
            "_model_module": "@jupyter-widgets/base",
            "top": null,
            "grid_column": null,
            "overflow_y": null,
            "overflow_x": null,
            "grid_auto_flow": null,
            "grid_area": null,
            "grid_template_columns": null,
            "flex": null,
            "_model_name": "LayoutModel",
            "justify_items": null,
            "grid_row": null,
            "max_height": null,
            "align_content": null,
            "visibility": null,
            "align_self": null,
            "height": null,
            "min_height": null,
            "padding": null,
            "grid_auto_rows": null,
            "grid_gap": null,
            "max_width": null,
            "order": null,
            "_view_module_version": "1.2.0",
            "grid_template_areas": null,
            "object_position": null,
            "object_fit": null,
            "grid_auto_columns": null,
            "margin": null,
            "display": null,
            "left": null
          }
        },
        "92b8781a5720417e913f133bcc529e38": {
          "model_module": "@jupyter-widgets/controls",
          "model_name": "DescriptionStyleModel",
          "state": {
            "_view_name": "StyleView",
            "_model_name": "DescriptionStyleModel",
            "description_width": "",
            "_view_module": "@jupyter-widgets/base",
            "_model_module_version": "1.5.0",
            "_view_count": null,
            "_view_module_version": "1.2.0",
            "_model_module": "@jupyter-widgets/controls"
          }
        },
        "7e10ad818b284c9288164a559889dba8": {
          "model_module": "@jupyter-widgets/base",
          "model_name": "LayoutModel",
          "state": {
            "_view_name": "LayoutView",
            "grid_template_rows": null,
            "right": null,
            "justify_content": null,
            "_view_module": "@jupyter-widgets/base",
            "overflow": null,
            "_model_module_version": "1.2.0",
            "_view_count": null,
            "flex_flow": null,
            "width": null,
            "min_width": null,
            "border": null,
            "align_items": null,
            "bottom": null,
            "_model_module": "@jupyter-widgets/base",
            "top": null,
            "grid_column": null,
            "overflow_y": null,
            "overflow_x": null,
            "grid_auto_flow": null,
            "grid_area": null,
            "grid_template_columns": null,
            "flex": null,
            "_model_name": "LayoutModel",
            "justify_items": null,
            "grid_row": null,
            "max_height": null,
            "align_content": null,
            "visibility": null,
            "align_self": null,
            "height": null,
            "min_height": null,
            "padding": null,
            "grid_auto_rows": null,
            "grid_gap": null,
            "max_width": null,
            "order": null,
            "_view_module_version": "1.2.0",
            "grid_template_areas": null,
            "object_position": null,
            "object_fit": null,
            "grid_auto_columns": null,
            "margin": null,
            "display": null,
            "left": null
          }
        },
        "fac87ad2e33b423893de83454a18701c": {
          "model_module": "@jupyter-widgets/controls",
          "model_name": "HBoxModel",
          "state": {
            "_view_name": "HBoxView",
            "_dom_classes": [],
            "_model_name": "HBoxModel",
            "_view_module": "@jupyter-widgets/controls",
            "_model_module_version": "1.5.0",
            "_view_count": null,
            "_view_module_version": "1.5.0",
            "box_style": "",
            "layout": "IPY_MODEL_1ec84323ebf44bc88c56d110b2b1f08e",
            "_model_module": "@jupyter-widgets/controls",
            "children": [
              "IPY_MODEL_5bb47f0f82904ecebcacb828646a16cb",
              "IPY_MODEL_160ec0af27e049a5bc7ad65695954688",
              "IPY_MODEL_5466757a9fc341d880d6f2b6adcf4cec"
            ]
          }
        },
        "1ec84323ebf44bc88c56d110b2b1f08e": {
          "model_module": "@jupyter-widgets/base",
          "model_name": "LayoutModel",
          "state": {
            "_view_name": "LayoutView",
            "grid_template_rows": null,
            "right": null,
            "justify_content": null,
            "_view_module": "@jupyter-widgets/base",
            "overflow": null,
            "_model_module_version": "1.2.0",
            "_view_count": null,
            "flex_flow": null,
            "width": null,
            "min_width": null,
            "border": null,
            "align_items": null,
            "bottom": null,
            "_model_module": "@jupyter-widgets/base",
            "top": null,
            "grid_column": null,
            "overflow_y": null,
            "overflow_x": null,
            "grid_auto_flow": null,
            "grid_area": null,
            "grid_template_columns": null,
            "flex": null,
            "_model_name": "LayoutModel",
            "justify_items": null,
            "grid_row": null,
            "max_height": null,
            "align_content": null,
            "visibility": null,
            "align_self": null,
            "height": null,
            "min_height": null,
            "padding": null,
            "grid_auto_rows": null,
            "grid_gap": null,
            "max_width": null,
            "order": null,
            "_view_module_version": "1.2.0",
            "grid_template_areas": null,
            "object_position": null,
            "object_fit": null,
            "grid_auto_columns": null,
            "margin": null,
            "display": null,
            "left": null
          }
        },
        "5bb47f0f82904ecebcacb828646a16cb": {
          "model_module": "@jupyter-widgets/controls",
          "model_name": "HTMLModel",
          "state": {
            "_view_name": "HTMLView",
            "style": "IPY_MODEL_76f1ecb9d15841f8b2f902dfbcde84c9",
            "_dom_classes": [],
            "description": "",
            "_model_name": "HTMLModel",
            "placeholder": "​",
            "_view_module": "@jupyter-widgets/controls",
            "_model_module_version": "1.5.0",
            "value": "100%",
            "_view_count": null,
            "_view_module_version": "1.5.0",
            "description_tooltip": null,
            "_model_module": "@jupyter-widgets/controls",
            "layout": "IPY_MODEL_b32447403dfd4a69bec20c1873536919"
          }
        },
        "160ec0af27e049a5bc7ad65695954688": {
          "model_module": "@jupyter-widgets/controls",
          "model_name": "FloatProgressModel",
          "state": {
            "_view_name": "ProgressView",
            "style": "IPY_MODEL_27ac379a36a0413287c8ce8d00e40da4",
            "_dom_classes": [],
            "description": "",
            "_model_name": "FloatProgressModel",
            "bar_style": "success",
            "max": 1,
            "_view_module": "@jupyter-widgets/controls",
            "_model_module_version": "1.5.0",
            "value": 1,
            "_view_count": null,
            "_view_module_version": "1.5.0",
            "orientation": "horizontal",
            "min": 0,
            "description_tooltip": null,
            "_model_module": "@jupyter-widgets/controls",
            "layout": "IPY_MODEL_e589ba082676489f9389132fec32f869"
          }
        },
        "5466757a9fc341d880d6f2b6adcf4cec": {
          "model_module": "@jupyter-widgets/controls",
          "model_name": "HTMLModel",
          "state": {
            "_view_name": "HTMLView",
            "style": "IPY_MODEL_8abb2f66ed474153b39c88c727b57d21",
            "_dom_classes": [],
            "description": "",
            "_model_name": "HTMLModel",
            "placeholder": "​",
            "_view_module": "@jupyter-widgets/controls",
            "_model_module_version": "1.5.0",
            "value": " 1/1 [00:24&lt;00:00, 24.50s/it]",
            "_view_count": null,
            "_view_module_version": "1.5.0",
            "description_tooltip": null,
            "_model_module": "@jupyter-widgets/controls",
            "layout": "IPY_MODEL_76699fc0a6a6436f98826195a855f205"
          }
        },
        "76f1ecb9d15841f8b2f902dfbcde84c9": {
          "model_module": "@jupyter-widgets/controls",
          "model_name": "DescriptionStyleModel",
          "state": {
            "_view_name": "StyleView",
            "_model_name": "DescriptionStyleModel",
            "description_width": "",
            "_view_module": "@jupyter-widgets/base",
            "_model_module_version": "1.5.0",
            "_view_count": null,
            "_view_module_version": "1.2.0",
            "_model_module": "@jupyter-widgets/controls"
          }
        },
        "b32447403dfd4a69bec20c1873536919": {
          "model_module": "@jupyter-widgets/base",
          "model_name": "LayoutModel",
          "state": {
            "_view_name": "LayoutView",
            "grid_template_rows": null,
            "right": null,
            "justify_content": null,
            "_view_module": "@jupyter-widgets/base",
            "overflow": null,
            "_model_module_version": "1.2.0",
            "_view_count": null,
            "flex_flow": null,
            "width": null,
            "min_width": null,
            "border": null,
            "align_items": null,
            "bottom": null,
            "_model_module": "@jupyter-widgets/base",
            "top": null,
            "grid_column": null,
            "overflow_y": null,
            "overflow_x": null,
            "grid_auto_flow": null,
            "grid_area": null,
            "grid_template_columns": null,
            "flex": null,
            "_model_name": "LayoutModel",
            "justify_items": null,
            "grid_row": null,
            "max_height": null,
            "align_content": null,
            "visibility": null,
            "align_self": null,
            "height": null,
            "min_height": null,
            "padding": null,
            "grid_auto_rows": null,
            "grid_gap": null,
            "max_width": null,
            "order": null,
            "_view_module_version": "1.2.0",
            "grid_template_areas": null,
            "object_position": null,
            "object_fit": null,
            "grid_auto_columns": null,
            "margin": null,
            "display": null,
            "left": null
          }
        },
        "27ac379a36a0413287c8ce8d00e40da4": {
          "model_module": "@jupyter-widgets/controls",
          "model_name": "ProgressStyleModel",
          "state": {
            "_view_name": "StyleView",
            "_model_name": "ProgressStyleModel",
            "description_width": "",
            "_view_module": "@jupyter-widgets/base",
            "_model_module_version": "1.5.0",
            "_view_count": null,
            "_view_module_version": "1.2.0",
            "bar_color": null,
            "_model_module": "@jupyter-widgets/controls"
          }
        },
        "e589ba082676489f9389132fec32f869": {
          "model_module": "@jupyter-widgets/base",
          "model_name": "LayoutModel",
          "state": {
            "_view_name": "LayoutView",
            "grid_template_rows": null,
            "right": null,
            "justify_content": null,
            "_view_module": "@jupyter-widgets/base",
            "overflow": null,
            "_model_module_version": "1.2.0",
            "_view_count": null,
            "flex_flow": null,
            "width": null,
            "min_width": null,
            "border": null,
            "align_items": null,
            "bottom": null,
            "_model_module": "@jupyter-widgets/base",
            "top": null,
            "grid_column": null,
            "overflow_y": null,
            "overflow_x": null,
            "grid_auto_flow": null,
            "grid_area": null,
            "grid_template_columns": null,
            "flex": null,
            "_model_name": "LayoutModel",
            "justify_items": null,
            "grid_row": null,
            "max_height": null,
            "align_content": null,
            "visibility": null,
            "align_self": null,
            "height": null,
            "min_height": null,
            "padding": null,
            "grid_auto_rows": null,
            "grid_gap": null,
            "max_width": null,
            "order": null,
            "_view_module_version": "1.2.0",
            "grid_template_areas": null,
            "object_position": null,
            "object_fit": null,
            "grid_auto_columns": null,
            "margin": null,
            "display": null,
            "left": null
          }
        },
        "8abb2f66ed474153b39c88c727b57d21": {
          "model_module": "@jupyter-widgets/controls",
          "model_name": "DescriptionStyleModel",
          "state": {
            "_view_name": "StyleView",
            "_model_name": "DescriptionStyleModel",
            "description_width": "",
            "_view_module": "@jupyter-widgets/base",
            "_model_module_version": "1.5.0",
            "_view_count": null,
            "_view_module_version": "1.2.0",
            "_model_module": "@jupyter-widgets/controls"
          }
        },
        "76699fc0a6a6436f98826195a855f205": {
          "model_module": "@jupyter-widgets/base",
          "model_name": "LayoutModel",
          "state": {
            "_view_name": "LayoutView",
            "grid_template_rows": null,
            "right": null,
            "justify_content": null,
            "_view_module": "@jupyter-widgets/base",
            "overflow": null,
            "_model_module_version": "1.2.0",
            "_view_count": null,
            "flex_flow": null,
            "width": null,
            "min_width": null,
            "border": null,
            "align_items": null,
            "bottom": null,
            "_model_module": "@jupyter-widgets/base",
            "top": null,
            "grid_column": null,
            "overflow_y": null,
            "overflow_x": null,
            "grid_auto_flow": null,
            "grid_area": null,
            "grid_template_columns": null,
            "flex": null,
            "_model_name": "LayoutModel",
            "justify_items": null,
            "grid_row": null,
            "max_height": null,
            "align_content": null,
            "visibility": null,
            "align_self": null,
            "height": null,
            "min_height": null,
            "padding": null,
            "grid_auto_rows": null,
            "grid_gap": null,
            "max_width": null,
            "order": null,
            "_view_module_version": "1.2.0",
            "grid_template_areas": null,
            "object_position": null,
            "object_fit": null,
            "grid_auto_columns": null,
            "margin": null,
            "display": null,
            "left": null
          }
        }
      }
    }
  },
  "cells": [
    {
      "cell_type": "markdown",
      "metadata": {
        "id": "view-in-github",
        "colab_type": "text"
      },
      "source": [
        "<a href=\"https://colab.research.google.com/github/solankiharsh/NLP_Snippets/blob/master/NLP_Exercises.ipynb\" target=\"_parent\"><img src=\"https://colab.research.google.com/assets/colab-badge.svg\" alt=\"Open In Colab\"/></a>"
      ]
    },
    {
      "cell_type": "markdown",
      "metadata": {
        "id": "ce4vADSGDo5D"
      },
      "source": [
        "# Import nltk and download the ‘stopwords’ and ‘punkt’ packages"
      ]
    },
    {
      "cell_type": "code",
      "metadata": {
        "id": "Nq0xsdQkDltR"
      },
      "source": [
        "# Import nltk and download the ‘stopwords’ and ‘punkt’ packages"
      ],
      "execution_count": 21,
      "outputs": []
    },
    {
      "cell_type": "code",
      "metadata": {
        "id": "D-TYrBojDoAo",
        "outputId": "2cc442bc-c91c-446d-b97f-89e41965e518",
        "colab": {
          "base_uri": "https://localhost:8080/",
          "height": 104
        }
      },
      "source": [
        "import nltk\n",
        "nltk.download('punkt')\n",
        "nltk.download('stopwords')"
      ],
      "execution_count": 22,
      "outputs": [
        {
          "output_type": "stream",
          "text": [
            "[nltk_data] Downloading package punkt to /root/nltk_data...\n",
            "[nltk_data]   Package punkt is already up-to-date!\n",
            "[nltk_data] Downloading package stopwords to /root/nltk_data...\n",
            "[nltk_data]   Unzipping corpora/stopwords.zip.\n"
          ],
          "name": "stdout"
        },
        {
          "output_type": "execute_result",
          "data": {
            "text/plain": [
              "True"
            ]
          },
          "metadata": {
            "tags": []
          },
          "execution_count": 22
        }
      ]
    },
    {
      "cell_type": "markdown",
      "metadata": {
        "id": "VlQjb1CADt07"
      },
      "source": [
        "# Import spacy and load the language model\n"
      ]
    },
    {
      "cell_type": "code",
      "metadata": {
        "id": "eNhdAzs9DsPJ",
        "outputId": "886d94a8-07c7-4682-818b-408c339e05da",
        "colab": {
          "base_uri": "https://localhost:8080/",
          "height": 35
        }
      },
      "source": [
        "import spacy\n",
        "nlp=spacy.load(\"en_core_web_sm\")\n",
        "nlp"
      ],
      "execution_count": 23,
      "outputs": [
        {
          "output_type": "execute_result",
          "data": {
            "text/plain": [
              "<spacy.lang.en.English at 0x7f52676f0fd0>"
            ]
          },
          "metadata": {
            "tags": []
          },
          "execution_count": 23
        }
      ]
    },
    {
      "cell_type": "markdown",
      "metadata": {
        "id": "uv0e3yilGyGX"
      },
      "source": [
        "# How to tokenize a given text?\n"
      ]
    },
    {
      "cell_type": "code",
      "metadata": {
        "id": "DDq_lgRkDuVO"
      },
      "source": [
        "text='''\n",
        "US Presidential Election 2020 LIVE Updates: Former President Barack Obama returned to the campaign trail on Wednesday with a blistering attack on Donald Trump with less than two weeks to go before the Republican president's Election Day face-off with Democratic nominee Joe Biden. Speaking at a drive-in rally in Philadelphia on behalf of Biden, his former vice president, and Democratic running mate Kamala Harris, Obama offered his fiercest critique yet of his successor. He took aim at Trump's divisive rhetoric, his track record in the Oval Office and his habit of re-tweeting conspiracy theories. \"With Joe and Kamala at the helm, you’re not going to have to think about the crazy things they said every day,\" Obama said. \"And that’s worth a lot. You’re not going to have to argue about them every day. It just won’t be so exhausting.'''\n"
      ],
      "execution_count": 24,
      "outputs": []
    },
    {
      "cell_type": "code",
      "metadata": {
        "id": "hcfUTkA2D0ZT",
        "outputId": "6775bba6-ef23-4eab-d05d-303b4cd48c05",
        "colab": {
          "base_uri": "https://localhost:8080/",
          "height": 1000
        }
      },
      "source": [
        "# Tokeniation with nltk\n",
        "tokens = nltk.word_tokenize(text)\n",
        "for token in tokens:\n",
        "    print(token)"
      ],
      "execution_count": 25,
      "outputs": [
        {
          "output_type": "stream",
          "text": [
            "US\n",
            "Presidential\n",
            "Election\n",
            "2020\n",
            "LIVE\n",
            "Updates\n",
            ":\n",
            "Former\n",
            "President\n",
            "Barack\n",
            "Obama\n",
            "returned\n",
            "to\n",
            "the\n",
            "campaign\n",
            "trail\n",
            "on\n",
            "Wednesday\n",
            "with\n",
            "a\n",
            "blistering\n",
            "attack\n",
            "on\n",
            "Donald\n",
            "Trump\n",
            "with\n",
            "less\n",
            "than\n",
            "two\n",
            "weeks\n",
            "to\n",
            "go\n",
            "before\n",
            "the\n",
            "Republican\n",
            "president\n",
            "'s\n",
            "Election\n",
            "Day\n",
            "face-off\n",
            "with\n",
            "Democratic\n",
            "nominee\n",
            "Joe\n",
            "Biden\n",
            ".\n",
            "Speaking\n",
            "at\n",
            "a\n",
            "drive-in\n",
            "rally\n",
            "in\n",
            "Philadelphia\n",
            "on\n",
            "behalf\n",
            "of\n",
            "Biden\n",
            ",\n",
            "his\n",
            "former\n",
            "vice\n",
            "president\n",
            ",\n",
            "and\n",
            "Democratic\n",
            "running\n",
            "mate\n",
            "Kamala\n",
            "Harris\n",
            ",\n",
            "Obama\n",
            "offered\n",
            "his\n",
            "fiercest\n",
            "critique\n",
            "yet\n",
            "of\n",
            "his\n",
            "successor\n",
            ".\n",
            "He\n",
            "took\n",
            "aim\n",
            "at\n",
            "Trump\n",
            "'s\n",
            "divisive\n",
            "rhetoric\n",
            ",\n",
            "his\n",
            "track\n",
            "record\n",
            "in\n",
            "the\n",
            "Oval\n",
            "Office\n",
            "and\n",
            "his\n",
            "habit\n",
            "of\n",
            "re-tweeting\n",
            "conspiracy\n",
            "theories\n",
            ".\n",
            "``\n",
            "With\n",
            "Joe\n",
            "and\n",
            "Kamala\n",
            "at\n",
            "the\n",
            "helm\n",
            ",\n",
            "you\n",
            "’\n",
            "re\n",
            "not\n",
            "going\n",
            "to\n",
            "have\n",
            "to\n",
            "think\n",
            "about\n",
            "the\n",
            "crazy\n",
            "things\n",
            "they\n",
            "said\n",
            "every\n",
            "day\n",
            ",\n",
            "''\n",
            "Obama\n",
            "said\n",
            ".\n",
            "``\n",
            "And\n",
            "that\n",
            "’\n",
            "s\n",
            "worth\n",
            "a\n",
            "lot\n",
            ".\n",
            "You\n",
            "’\n",
            "re\n",
            "not\n",
            "going\n",
            "to\n",
            "have\n",
            "to\n",
            "argue\n",
            "about\n",
            "them\n",
            "every\n",
            "day\n",
            ".\n",
            "It\n",
            "just\n",
            "won\n",
            "’\n",
            "t\n",
            "be\n",
            "so\n",
            "exhausting\n",
            ".\n"
          ],
          "name": "stdout"
        }
      ]
    },
    {
      "cell_type": "code",
      "metadata": {
        "id": "4ZcMJKVdD1hD",
        "outputId": "d2126e3c-8c25-4312-8a19-a9976f168936",
        "colab": {
          "base_uri": "https://localhost:8080/",
          "height": 1000
        }
      },
      "source": [
        "# Tokeniation with spaCy\n",
        "nlp = spacy.load(\"en_core_web_sm\")\n",
        "doc=nlp(text)\n",
        "for token in doc: \n",
        "    print(token.text)"
      ],
      "execution_count": 26,
      "outputs": [
        {
          "output_type": "stream",
          "text": [
            "\n",
            "\n",
            "US\n",
            "Presidential\n",
            "Election\n",
            "2020\n",
            "LIVE\n",
            "Updates\n",
            ":\n",
            "Former\n",
            "President\n",
            "Barack\n",
            "Obama\n",
            "returned\n",
            "to\n",
            "the\n",
            "campaign\n",
            "trail\n",
            "on\n",
            "Wednesday\n",
            "with\n",
            "a\n",
            "blistering\n",
            "attack\n",
            "on\n",
            "Donald\n",
            "Trump\n",
            "with\n",
            "less\n",
            "than\n",
            "two\n",
            "weeks\n",
            "to\n",
            "go\n",
            "before\n",
            "the\n",
            "Republican\n",
            "president\n",
            "'s\n",
            "Election\n",
            "Day\n",
            "face\n",
            "-\n",
            "off\n",
            "with\n",
            "Democratic\n",
            "nominee\n",
            "Joe\n",
            "Biden\n",
            ".\n",
            "Speaking\n",
            "at\n",
            "a\n",
            "drive\n",
            "-\n",
            "in\n",
            "rally\n",
            "in\n",
            "Philadelphia\n",
            "on\n",
            "behalf\n",
            "of\n",
            "Biden\n",
            ",\n",
            "his\n",
            "former\n",
            "vice\n",
            "president\n",
            ",\n",
            "and\n",
            "Democratic\n",
            "running\n",
            "mate\n",
            "Kamala\n",
            "Harris\n",
            ",\n",
            "Obama\n",
            "offered\n",
            "his\n",
            "fiercest\n",
            "critique\n",
            "yet\n",
            "of\n",
            "his\n",
            "successor\n",
            ".\n",
            "He\n",
            "took\n",
            "aim\n",
            "at\n",
            "Trump\n",
            "'s\n",
            "divisive\n",
            "rhetoric\n",
            ",\n",
            "his\n",
            "track\n",
            "record\n",
            "in\n",
            "the\n",
            "Oval\n",
            "Office\n",
            "and\n",
            "his\n",
            "habit\n",
            "of\n",
            "re\n",
            "-\n",
            "tweeting\n",
            "conspiracy\n",
            "theories\n",
            ".\n",
            "\"\n",
            "With\n",
            "Joe\n",
            "and\n",
            "Kamala\n",
            "at\n",
            "the\n",
            "helm\n",
            ",\n",
            "you\n",
            "’re\n",
            "not\n",
            "going\n",
            "to\n",
            "have\n",
            "to\n",
            "think\n",
            "about\n",
            "the\n",
            "crazy\n",
            "things\n",
            "they\n",
            "said\n",
            "every\n",
            "day\n",
            ",\n",
            "\"\n",
            "Obama\n",
            "said\n",
            ".\n",
            "\"\n",
            "And\n",
            "that\n",
            "’s\n",
            "worth\n",
            "a\n",
            "lot\n",
            ".\n",
            "You\n",
            "’re\n",
            "not\n",
            "going\n",
            "to\n",
            "have\n",
            "to\n",
            "argue\n",
            "about\n",
            "them\n",
            "every\n",
            "day\n",
            ".\n",
            "It\n",
            "just\n",
            "wo\n",
            "n’t\n",
            "be\n",
            "so\n",
            "exhausting\n",
            ".\n"
          ],
          "name": "stdout"
        }
      ]
    },
    {
      "cell_type": "markdown",
      "metadata": {
        "id": "NZnBjY1XG2O0"
      },
      "source": [
        "# How to get the sentences of a text document ?\n"
      ]
    },
    {
      "cell_type": "code",
      "metadata": {
        "id": "VvP0a7NvD4lo"
      },
      "source": [
        "text=\"\"\"Hrithik Roshan’s mother Pinkie Roshan recently took to her Instagram handle to share a cryptic post on Sushant Singh Rajput. Along with a picture of the actor, she shared a post that read, ‘Everyone wants to know the truth but no one wants to be honest.’ \"\"\""
      ],
      "execution_count": 27,
      "outputs": []
    },
    {
      "cell_type": "code",
      "metadata": {
        "id": "vBB8Na30D51l",
        "outputId": "5b115954-7339-4cc8-fccd-0969670a2bfd",
        "colab": {
          "base_uri": "https://localhost:8080/",
          "height": 87
        }
      },
      "source": [
        "# Tokenizing the text into sentences with spaCy\n",
        "doc=nlp(text)\n",
        "for sentence in doc.sents:\n",
        "    print(sentence)\n",
        "    print(' ')"
      ],
      "execution_count": 28,
      "outputs": [
        {
          "output_type": "stream",
          "text": [
            "Hrithik Roshan’s mother Pinkie Roshan recently took to her Instagram handle to share a cryptic post on Sushant Singh Rajput.\n",
            " \n",
            "Along with a picture of the actor, she shared a post that read, ‘Everyone wants to know the truth but no one wants to be honest.’\n",
            " \n"
          ],
          "name": "stdout"
        }
      ]
    },
    {
      "cell_type": "code",
      "metadata": {
        "id": "wSLwHFbsD6nW",
        "outputId": "88ba0a74-45fe-4f06-f1c1-ce8fa04b2d89",
        "colab": {
          "base_uri": "https://localhost:8080/",
          "height": 52
        }
      },
      "source": [
        "# Extracting sentences with nltk\n",
        "nltk.sent_tokenize(text)"
      ],
      "execution_count": 29,
      "outputs": [
        {
          "output_type": "execute_result",
          "data": {
            "text/plain": [
              "['Hrithik Roshan’s mother Pinkie Roshan recently took to her Instagram handle to share a cryptic post on Sushant Singh Rajput.',\n",
              " 'Along with a picture of the actor, she shared a post that read, ‘Everyone wants to know the truth but no one wants to be honest.’']"
            ]
          },
          "metadata": {
            "tags": []
          },
          "execution_count": 29
        }
      ]
    },
    {
      "cell_type": "markdown",
      "metadata": {
        "id": "YtPAEpC8G6KB"
      },
      "source": [
        "# How to tokenize a text using the `transformers` package ?\n"
      ]
    },
    {
      "cell_type": "code",
      "metadata": {
        "id": "q__Wh-l-D7aZ"
      },
      "source": [
        "text='''The festivities season has kicked-in the country and people are going out in larg numbers to do their festival shopping. \"Most of us are committed to our responsibilities and moving out of our homes to do our duties. In the times of festivals, streets are seeing increased activity. But we have to remember that lockdown may have gone but the virus has not gone away. The situation that we have reached in seven-eight months should not be allowed to impacted adversely,\" PM Modi said. He cautioned that carelessness can impact the country's fight against the pandemic.\n",
        "\n",
        "'''"
      ],
      "execution_count": 30,
      "outputs": []
    },
    {
      "cell_type": "code",
      "metadata": {
        "id": "JiRXi0IdD8Zs",
        "outputId": "f07569aa-72a4-4ded-d46f-8c88ffa23cb3",
        "colab": {
          "base_uri": "https://localhost:8080/",
          "height": 125
        }
      },
      "source": [
        "# Import tokenizer from transfromers\n",
        "#!pip install transformers\n",
        "from transformers import AutoTokenizer\n",
        "\n",
        "# Initialize the tokenizer\n",
        "tokenizer=AutoTokenizer.from_pretrained('bert-base-uncased')\n",
        "\n",
        "# Encoding with the tokenizer\n",
        "inputs=tokenizer.encode(text)\n",
        "print(inputs)\n",
        "tokenizer.decode(inputs)"
      ],
      "execution_count": 31,
      "outputs": [
        {
          "output_type": "stream",
          "text": [
            "[101, 1996, 21206, 2161, 2038, 6476, 1011, 1999, 1996, 2406, 1998, 2111, 2024, 2183, 2041, 1999, 2474, 10623, 3616, 2000, 2079, 2037, 2782, 6023, 1012, 1000, 2087, 1997, 2149, 2024, 5462, 2000, 2256, 10198, 1998, 3048, 2041, 1997, 2256, 5014, 2000, 2079, 2256, 5704, 1012, 1999, 1996, 2335, 1997, 7519, 1010, 4534, 2024, 3773, 3445, 4023, 1012, 2021, 2057, 2031, 2000, 3342, 2008, 5843, 7698, 2089, 2031, 2908, 2021, 1996, 7865, 2038, 2025, 2908, 2185, 1012, 1996, 3663, 2008, 2057, 2031, 2584, 1999, 2698, 1011, 2809, 2706, 2323, 2025, 2022, 3039, 2000, 19209, 15316, 2135, 1010, 1000, 7610, 16913, 2072, 2056, 1012, 2002, 14046, 2098, 2008, 23358, 2791, 2064, 4254, 1996, 2406, 1005, 1055, 2954, 2114, 1996, 6090, 3207, 7712, 1012, 102]\n"
          ],
          "name": "stdout"
        },
        {
          "output_type": "execute_result",
          "data": {
            "application/vnd.google.colaboratory.intrinsic+json": {
              "type": "string"
            },
            "text/plain": [
              "'[CLS] the festivities season has kicked - in the country and people are going out in larg numbers to do their festival shopping. \" most of us are committed to our responsibilities and moving out of our homes to do our duties. in the times of festivals, streets are seeing increased activity. but we have to remember that lockdown may have gone but the virus has not gone away. the situation that we have reached in seven - eight months should not be allowed to impacted adversely, \" pm modi said. he cautioned that carelessness can impact the country\\'s fight against the pandemic. [SEP]'"
            ]
          },
          "metadata": {
            "tags": []
          },
          "execution_count": 31
        }
      ]
    },
    {
      "cell_type": "markdown",
      "metadata": {
        "id": "zpnEc7aYHDuJ"
      },
      "source": [
        "# How to tokenize text with stopwords as delimiters?\n"
      ]
    },
    {
      "cell_type": "code",
      "metadata": {
        "id": "58CbVBAsD9Hm",
        "outputId": "a98e0943-492c-41fd-bcce-cdbceb474d11",
        "colab": {
          "base_uri": "https://localhost:8080/",
          "height": 121
        }
      },
      "source": [
        "text = \"Walter was feeling anxious. He was diagnosed today. He probably is the best person I know.\"\n",
        "\n",
        "stop_words_and_delims = ['was', 'is', 'the', '.', ',', '-', '!', '?']\n",
        "for r in stop_words_and_delims:\n",
        "    text = text.replace(r, 'DELIM')\n",
        "\n",
        "words = [t.strip() for t in text.split('DELIM')]\n",
        "words_filtered = list(filter(lambda a: a not in [''], words))\n",
        "words_filtered"
      ],
      "execution_count": 32,
      "outputs": [
        {
          "output_type": "execute_result",
          "data": {
            "text/plain": [
              "['Walter',\n",
              " 'feeling anxious',\n",
              " 'He',\n",
              " 'diagnosed today',\n",
              " 'He probably',\n",
              " 'best person I know']"
            ]
          },
          "metadata": {
            "tags": []
          },
          "execution_count": 32
        }
      ]
    },
    {
      "cell_type": "markdown",
      "metadata": {
        "id": "JlVKHy7nHHHi"
      },
      "source": [
        "# How to remove stop words in a text ?\n"
      ]
    },
    {
      "cell_type": "code",
      "metadata": {
        "id": "GkVOPkUrD-D2"
      },
      "source": [
        "text=\"\"\"\"As soon as a COVID-19 vaccine is available for production at a mass scale, every person in Bihar will get free vaccination. This is the first promise mentioned in our poll manifesto,\" Union Finance Minister Nirmala Sitharaman said today, announcing the BJP's manifesto for the Bihar election.\n",
        "\n",
        " \"\"\"\n"
      ],
      "execution_count": 33,
      "outputs": []
    },
    {
      "cell_type": "code",
      "metadata": {
        "id": "FvjssEYkEA01",
        "outputId": "3b2507b5-e98a-450f-a9ee-a9b2e55adfd8",
        "colab": {
          "base_uri": "https://localhost:8080/",
          "height": 53
        }
      },
      "source": [
        "# Removing stopwords in nltk\n",
        "\n",
        "from nltk.corpus import stopwords\n",
        "my_stopwords=set(stopwords.words('english'))\n",
        "new_tokens=[]\n",
        "\n",
        "# Tokenization using word_tokenize()\n",
        "all_tokens=nltk.word_tokenize(text)\n",
        "\n",
        "for token in all_tokens:\n",
        "  if token not in my_stopwords:\n",
        "    new_tokens.append(token)\n",
        "\n",
        "\n",
        "\" \".join(new_tokens)"
      ],
      "execution_count": 34,
      "outputs": [
        {
          "output_type": "execute_result",
          "data": {
            "application/vnd.google.colaboratory.intrinsic+json": {
              "type": "string"
            },
            "text/plain": [
              "\"`` As soon COVID-19 vaccine available production mass scale , every person Bihar get free vaccination . This first promise mentioned poll manifesto , '' Union Finance Minister Nirmala Sitharaman said today , announcing BJP 's manifesto Bihar election .\""
            ]
          },
          "metadata": {
            "tags": []
          },
          "execution_count": 34
        }
      ]
    },
    {
      "cell_type": "code",
      "metadata": {
        "id": "s7L7mTvhEBmO",
        "outputId": "f01324b4-be38-48f7-b4a7-6d3ba67690d7",
        "colab": {
          "base_uri": "https://localhost:8080/",
          "height": 53
        }
      },
      "source": [
        "# Method 2\n",
        "# Removing stopwords in spaCy\n",
        "\n",
        "doc=nlp(text)\n",
        "new_tokens=[]\n",
        "\n",
        "# Using is_stop attribute of each token to check if it's a stopword\n",
        "for token in doc:\n",
        "  if token.is_stop==False:\n",
        "    new_tokens.append(token.text)\n",
        "\n",
        "\" \".join(new_tokens)"
      ],
      "execution_count": 35,
      "outputs": [
        {
          "output_type": "execute_result",
          "data": {
            "application/vnd.google.colaboratory.intrinsic+json": {
              "type": "string"
            },
            "text/plain": [
              "'\" soon COVID-19 vaccine available production mass scale , person Bihar free vaccination . promise mentioned poll manifesto , \" Union Finance Minister Nirmala Sitharaman said today , announcing BJP manifesto Bihar election . \\n\\n '"
            ]
          },
          "metadata": {
            "tags": []
          },
          "execution_count": 35
        }
      ]
    },
    {
      "cell_type": "markdown",
      "metadata": {
        "id": "VuTUfFmMHKUa"
      },
      "source": [
        "# How to add custom stop words in spaCy ?\n"
      ]
    },
    {
      "cell_type": "code",
      "metadata": {
        "id": "SOcG0mJ5ERgR"
      },
      "source": [
        "text=\" Jonas was a JUNK great guy NIL Adam was evil NIL Martha JUNK was more of a fool \""
      ],
      "execution_count": 36,
      "outputs": []
    },
    {
      "cell_type": "code",
      "metadata": {
        "id": "xqQhHayvESmb",
        "outputId": "c6d65ae9-6fe4-46a0-ae1a-0fd2bb9ab6db",
        "colab": {
          "base_uri": "https://localhost:8080/",
          "height": 35
        }
      },
      "source": [
        "# list of custom stop words\n",
        "customize_stop_words = ['NIL','JUNK']\n",
        "\n",
        "# Adding these stop words\n",
        "for w in customize_stop_words:\n",
        "    nlp.vocab[w].is_stop = True\n",
        "doc = nlp(text)\n",
        "tokens = [token.text for token in doc if not token.is_stop]\n",
        "\n",
        "\" \".join(tokens)"
      ],
      "execution_count": 37,
      "outputs": [
        {
          "output_type": "execute_result",
          "data": {
            "application/vnd.google.colaboratory.intrinsic+json": {
              "type": "string"
            },
            "text/plain": [
              "'  Jonas great guy Adam evil Martha fool'"
            ]
          },
          "metadata": {
            "tags": []
          },
          "execution_count": 37
        }
      ]
    },
    {
      "cell_type": "markdown",
      "metadata": {
        "id": "aKAbkOI4HOw6"
      },
      "source": [
        "# How to remove punctuations ?\n"
      ]
    },
    {
      "cell_type": "code",
      "metadata": {
        "id": "SNUDRPI6ETb2"
      },
      "source": [
        "text=\"The match has concluded !!! India has won the match . Will we fin the finals too ? !\""
      ],
      "execution_count": 38,
      "outputs": []
    },
    {
      "cell_type": "code",
      "metadata": {
        "id": "d5s26ZjMEUbk",
        "outputId": "552e2f91-0477-46bf-b5b2-deedca6a77e3",
        "colab": {
          "base_uri": "https://localhost:8080/",
          "height": 35
        }
      },
      "source": [
        "# Removing punctuations in spaCy\n",
        "\n",
        "doc=nlp(text)\n",
        "new_tokens=[]\n",
        "# Check if a token is a punctuation through is_punct attribute\n",
        "for token in doc:\n",
        "  if token.is_punct==False:\n",
        "    new_tokens.append(token.text)\n",
        "\n",
        "\" \".join(new_tokens)"
      ],
      "execution_count": 39,
      "outputs": [
        {
          "output_type": "execute_result",
          "data": {
            "application/vnd.google.colaboratory.intrinsic+json": {
              "type": "string"
            },
            "text/plain": [
              "'The match has concluded India has won the match Will we fin the finals too'"
            ]
          },
          "metadata": {
            "tags": []
          },
          "execution_count": 39
        }
      ]
    },
    {
      "cell_type": "code",
      "metadata": {
        "id": "f4Mqgk8EEVM7",
        "outputId": "ec1ba2a7-3521-4daa-e2ea-dab52b902d9b",
        "colab": {
          "base_uri": "https://localhost:8080/",
          "height": 35
        }
      },
      "source": [
        "# Method 2\n",
        "# Removing punctuation in nltk with RegexpTokenizer\n",
        "\n",
        "tokenizer=nltk.RegexpTokenizer(r\"\\w+\")\n",
        "\n",
        "tokens=tokenizer.tokenize(text)\n",
        "\" \".join(tokens)"
      ],
      "execution_count": 40,
      "outputs": [
        {
          "output_type": "execute_result",
          "data": {
            "application/vnd.google.colaboratory.intrinsic+json": {
              "type": "string"
            },
            "text/plain": [
              "'The match has concluded India has won the match Will we fin the finals too'"
            ]
          },
          "metadata": {
            "tags": []
          },
          "execution_count": 40
        }
      ]
    },
    {
      "cell_type": "markdown",
      "metadata": {
        "id": "Fl4ALscXHTCT"
      },
      "source": [
        "# How to perform stemming\n"
      ]
    },
    {
      "cell_type": "code",
      "metadata": {
        "id": "fwWa7uF5EWGw"
      },
      "source": [
        "text= \"There are many types of challenging dances. Dancing is also a way to express or communicate personal feelings usually happiness and excitement. Dance can also have other meaning and purposes. For example, Indian dance has a specific purpose.\""
      ],
      "execution_count": 41,
      "outputs": []
    },
    {
      "cell_type": "code",
      "metadata": {
        "id": "f4Lwn3E-EXPk",
        "outputId": "c882abc2-9ccd-49c2-fb88-aef38767f8b1",
        "colab": {
          "base_uri": "https://localhost:8080/",
          "height": 53
        }
      },
      "source": [
        "# Stemming with nltk's PorterStemmer\n",
        "from nltk.stem import PorterStemmer\n",
        "stem_=PorterStemmer()\n",
        "stemmed_tokens=[]\n",
        "for token in nltk.word_tokenize(text):\n",
        "  stemmed_tokens.append(stem_.stem(token))\n",
        "\n",
        "\" \".join(stemmed_tokens)"
      ],
      "execution_count": 42,
      "outputs": [
        {
          "output_type": "execute_result",
          "data": {
            "application/vnd.google.colaboratory.intrinsic+json": {
              "type": "string"
            },
            "text/plain": [
              "'there are mani type of challeng danc . danc is also a way to express or commun person feel usual happi and excit . danc can also have other mean and purpos . for exampl , indian danc ha a specif purpos .'"
            ]
          },
          "metadata": {
            "tags": []
          },
          "execution_count": 42
        }
      ]
    },
    {
      "cell_type": "markdown",
      "metadata": {
        "id": "i5PgKdyd4d_J"
      },
      "source": [
        "# How to lemmatize a given text ?\n"
      ]
    },
    {
      "cell_type": "code",
      "metadata": {
        "id": "ZJ2tnGVSEX6r"
      },
      "source": [
        "text= \"There are many types of challenging dances. Dancing is also a way to express or communicate personal feelings usually happiness and excitement. Dance can also have other meaning and purposes. For example, Indian dance has a specific purpose.\""
      ],
      "execution_count": 43,
      "outputs": []
    },
    {
      "cell_type": "code",
      "metadata": {
        "id": "QylKEMmdEYpd",
        "outputId": "af6bdb80-912c-498f-aac1-378d99c87c01",
        "colab": {
          "base_uri": "https://localhost:8080/",
          "height": 53
        }
      },
      "source": [
        "# Lemmatization using spacy's lemma_ attribute of token\n",
        "nlp=spacy.load(\"en_core_web_sm\")\n",
        "doc=nlp(text)\n",
        "\n",
        "lemmatized=[token.lemma_ for token in doc]\n",
        "\" \".join(lemmatized)"
      ],
      "execution_count": 44,
      "outputs": [
        {
          "output_type": "execute_result",
          "data": {
            "application/vnd.google.colaboratory.intrinsic+json": {
              "type": "string"
            },
            "text/plain": [
              "'there be many type of challenge dance . dancing be also a way to express or communicate personal feeling usually happiness and excitement . dance can also have other meaning and purpose . for example , indian dance have a specific purpose .'"
            ]
          },
          "metadata": {
            "tags": []
          },
          "execution_count": 44
        }
      ]
    },
    {
      "cell_type": "markdown",
      "metadata": {
        "id": "hGyGI_jE4hxM"
      },
      "source": [
        "# How to extract usernames from emails ?\n"
      ]
    },
    {
      "cell_type": "code",
      "metadata": {
        "id": "yPfi7rd4EZc2"
      },
      "source": [
        "text= \"The new registrations are potter709@gmail.com , elixir101@gmail.com. If you find any disruptions, kindly contact granger111@gamil.com or severus77@gamil.com \""
      ],
      "execution_count": 45,
      "outputs": []
    },
    {
      "cell_type": "code",
      "metadata": {
        "id": "35tsUz_EEaNq",
        "outputId": "d6eb6fde-3d93-43ba-ea5f-d0fc211c37bc",
        "colab": {
          "base_uri": "https://localhost:8080/",
          "height": 35
        }
      },
      "source": [
        "# Using regular expression to extract usernames\n",
        "import re  \n",
        "\n",
        "# \\S matches any non-whitespace character \n",
        "# @ for as in the Email \n",
        "# + for Repeats a character one or more times \n",
        "usernames= re.findall('(\\S+)@', text)     \n",
        "print(usernames) "
      ],
      "execution_count": 46,
      "outputs": [
        {
          "output_type": "stream",
          "text": [
            "['potter709', 'elixir101', 'granger111', 'severus77']\n"
          ],
          "name": "stdout"
        }
      ]
    },
    {
      "cell_type": "markdown",
      "metadata": {
        "id": "tmxjNbb_4lCb"
      },
      "source": [
        "# How to find the most common words in the text excluding stopwords\n"
      ]
    },
    {
      "cell_type": "code",
      "metadata": {
        "id": "Al_yPfTkEa23"
      },
      "source": [
        "text=\"\"\"The green algae (singular: green alga) are a large, informal grouping of algae consisting of the Chlorophyte and Charophyte algae, which are now placed in separate Divisions. The land plants or Embryophytes (higher plants) are thought to have emerged from the Charophytes.[1] As the embryophytes are not algae, and are therefore excluded, green algae are a paraphyletic group. However, the clade that includes both green algae and embryophytes is monophyletic and is referred to as the clade Viridiplantae and as the kingdom Plantae. The green algae include unicellular and colonial flagellates, most with two flagella per cell, as well as various colonial, coccoid and filamentous forms, and macroscopic, multicellular seaweeds. In the Charales, the closest relatives of higher plants, full cellular differentiation of tissues occurs. There are about 8,000 species of green algae.[2] Many species live most of their lives as single cells, while other species form coenobia (colonies), long filaments, or highly differentiated macroscopic seaweeds. A few other organisms rely on green algae to conduct photosynthesis for them. The chloroplasts in euglenids and chlorarachniophytes were acquired from ingested green algae,[1] and in the latter retain a nucleomorph (vestigial nucleus). Green algae are also found symbiotically in the ciliate Paramecium, and in Hydra viridissima and in flatworms. Some species of green algae, particularly of genera Trebouxia of the class Trebouxiophyceae and Trentepohlia (class Ulvophyceae), can be found in symbiotic associations with fungi to form lichens. In general the fungal species that partner in lichens cannot live on their own, while the algal species is often found living in nature without the fungus. Trentepohlia is a filamentous green alga that can live independently on humid soil, rocks or tree bark or form the photosymbiont in lichens of the family Graphidaceae.\"\"\""
      ],
      "execution_count": 47,
      "outputs": []
    },
    {
      "cell_type": "code",
      "metadata": {
        "id": "xH2eDgFXEbqS",
        "outputId": "309d6bc7-af77-4dd6-aac1-ccee4f90a934",
        "colab": {
          "base_uri": "https://localhost:8080/",
          "height": 1000
        }
      },
      "source": [
        "# Removing stopwords in nltk\n",
        "\n",
        "from nltk.corpus import stopwords\n",
        "my_stopwords=set(stopwords.words('english'))\n",
        "new_tokens=[]\n",
        "\n",
        "# Tokenization using word_tokenize()\n",
        "all_tokens=nltk.word_tokenize(text)\n",
        "\n",
        "for token in all_tokens:\n",
        "  if token not in my_stopwords:\n",
        "    new_tokens.append(token)\n",
        "\n",
        "\n",
        "new_tokens = \" \".join(new_tokens)\n",
        "\n",
        "tokenizer=nltk.RegexpTokenizer(r\"\\w+\")\n",
        "\n",
        "tokens=tokenizer.tokenize(new_tokens)\n",
        "\" \".join(tokens)\n",
        "\n",
        "freq_dict={}\n",
        "\n",
        "# Calculating frequency count\n",
        "for word in tokens:\n",
        "  if word not in freq_dict:\n",
        "    freq_dict[word]=1\n",
        "  else:\n",
        "    freq_dict[word]+=1\n",
        "\n",
        "freq_dict"
      ],
      "execution_count": 48,
      "outputs": [
        {
          "output_type": "execute_result",
          "data": {
            "text/plain": [
              "{'000': 1,\n",
              " '1': 2,\n",
              " '2': 1,\n",
              " '8': 1,\n",
              " 'A': 1,\n",
              " 'As': 1,\n",
              " 'Charales': 1,\n",
              " 'Charophyte': 1,\n",
              " 'Charophytes': 1,\n",
              " 'Chlorophyte': 1,\n",
              " 'Divisions': 1,\n",
              " 'Embryophytes': 1,\n",
              " 'Graphidaceae': 1,\n",
              " 'Green': 1,\n",
              " 'However': 1,\n",
              " 'Hydra': 1,\n",
              " 'In': 2,\n",
              " 'Many': 1,\n",
              " 'Paramecium': 1,\n",
              " 'Plantae': 1,\n",
              " 'Some': 1,\n",
              " 'The': 4,\n",
              " 'There': 1,\n",
              " 'Trebouxia': 1,\n",
              " 'Trebouxiophyceae': 1,\n",
              " 'Trentepohlia': 2,\n",
              " 'Ulvophyceae': 1,\n",
              " 'Viridiplantae': 1,\n",
              " 'acquired': 1,\n",
              " 'alga': 2,\n",
              " 'algae': 12,\n",
              " 'algal': 1,\n",
              " 'also': 1,\n",
              " 'associations': 1,\n",
              " 'bark': 1,\n",
              " 'cell': 1,\n",
              " 'cells': 1,\n",
              " 'cellular': 1,\n",
              " 'chlorarachniophytes': 1,\n",
              " 'chloroplasts': 1,\n",
              " 'ciliate': 1,\n",
              " 'clade': 2,\n",
              " 'class': 2,\n",
              " 'closest': 1,\n",
              " 'coccoid': 1,\n",
              " 'coenobia': 1,\n",
              " 'colonial': 2,\n",
              " 'colonies': 1,\n",
              " 'conduct': 1,\n",
              " 'consisting': 1,\n",
              " 'differentiated': 1,\n",
              " 'differentiation': 1,\n",
              " 'embryophytes': 2,\n",
              " 'emerged': 1,\n",
              " 'euglenids': 1,\n",
              " 'excluded': 1,\n",
              " 'family': 1,\n",
              " 'filamentous': 2,\n",
              " 'filaments': 1,\n",
              " 'flagella': 1,\n",
              " 'flagellates': 1,\n",
              " 'flatworms': 1,\n",
              " 'form': 3,\n",
              " 'forms': 1,\n",
              " 'found': 3,\n",
              " 'full': 1,\n",
              " 'fungal': 1,\n",
              " 'fungi': 1,\n",
              " 'fungus': 1,\n",
              " 'genera': 1,\n",
              " 'general': 1,\n",
              " 'green': 10,\n",
              " 'group': 1,\n",
              " 'grouping': 1,\n",
              " 'higher': 2,\n",
              " 'highly': 1,\n",
              " 'humid': 1,\n",
              " 'include': 1,\n",
              " 'includes': 1,\n",
              " 'independently': 1,\n",
              " 'informal': 1,\n",
              " 'ingested': 1,\n",
              " 'kingdom': 1,\n",
              " 'land': 1,\n",
              " 'large': 1,\n",
              " 'latter': 1,\n",
              " 'lichens': 3,\n",
              " 'live': 3,\n",
              " 'lives': 1,\n",
              " 'living': 1,\n",
              " 'long': 1,\n",
              " 'macroscopic': 2,\n",
              " 'monophyletic': 1,\n",
              " 'multicellular': 1,\n",
              " 'nature': 1,\n",
              " 'nucleomorph': 1,\n",
              " 'nucleus': 1,\n",
              " 'occurs': 1,\n",
              " 'often': 1,\n",
              " 'organisms': 1,\n",
              " 'paraphyletic': 1,\n",
              " 'particularly': 1,\n",
              " 'partner': 1,\n",
              " 'per': 1,\n",
              " 'photosymbiont': 1,\n",
              " 'photosynthesis': 1,\n",
              " 'placed': 1,\n",
              " 'plants': 3,\n",
              " 'referred': 1,\n",
              " 'relatives': 1,\n",
              " 'rely': 1,\n",
              " 'retain': 1,\n",
              " 'rocks': 1,\n",
              " 'seaweeds': 2,\n",
              " 'separate': 1,\n",
              " 'single': 1,\n",
              " 'singular': 1,\n",
              " 'soil': 1,\n",
              " 'species': 6,\n",
              " 'symbiotic': 1,\n",
              " 'symbiotically': 1,\n",
              " 'therefore': 1,\n",
              " 'thought': 1,\n",
              " 'tissues': 1,\n",
              " 'tree': 1,\n",
              " 'two': 1,\n",
              " 'unicellular': 1,\n",
              " 'various': 1,\n",
              " 'vestigial': 1,\n",
              " 'viridissima': 1,\n",
              " 'well': 1,\n",
              " 'without': 1}"
            ]
          },
          "metadata": {
            "tags": []
          },
          "execution_count": 48
        }
      ]
    },
    {
      "cell_type": "markdown",
      "metadata": {
        "id": "C-3URQUG4oE5"
      },
      "source": [
        "# How to do spell correction in a given text ?\n"
      ]
    },
    {
      "cell_type": "code",
      "metadata": {
        "id": "H9nZ9y2wEccM"
      },
      "source": [
        "text=\"He is a gret person. He beleives in bod\""
      ],
      "execution_count": 49,
      "outputs": []
    },
    {
      "cell_type": "code",
      "metadata": {
        "id": "K1_KakyVEdql",
        "outputId": "7472ddf2-638d-4e5f-8777-e080b73f95e8",
        "colab": {
          "base_uri": "https://localhost:8080/",
          "height": 35
        }
      },
      "source": [
        "#!pip install textblob\n",
        "#Import textblob\n",
        "from textblob import TextBlob\n",
        "\n",
        "# Using textblob's correct() function\n",
        "text=TextBlob(text)\n",
        "print(text.correct())"
      ],
      "execution_count": 50,
      "outputs": [
        {
          "output_type": "stream",
          "text": [
            "He is a great person. He believes in god\n"
          ],
          "name": "stdout"
        }
      ]
    },
    {
      "cell_type": "markdown",
      "metadata": {
        "id": "4nLp7JgJ4qtv"
      },
      "source": [
        "# How to tokenize tweets ?\n"
      ]
    },
    {
      "cell_type": "code",
      "metadata": {
        "id": "_EJP1FwaEeU7"
      },
      "source": [
        "text=\"Having lots of fun #goa #vaction #summervacation. Fancy dinner @Beachbay restro :) \""
      ],
      "execution_count": 51,
      "outputs": []
    },
    {
      "cell_type": "code",
      "metadata": {
        "id": "7rR_D6oWEfKZ",
        "outputId": "4c5a14d8-2f40-428e-a405-692ecd169c48",
        "colab": {
          "base_uri": "https://localhost:8080/",
          "height": 208
        }
      },
      "source": [
        "import re\n",
        "# Cleaning the tweets\n",
        "text=re.sub(r'[^\\w]', ' ', text)\n",
        "\n",
        "# Using nltk's TweetTokenizer\n",
        "from nltk.tokenize import TweetTokenizer\n",
        "tokenizer=TweetTokenizer()\n",
        "tokenizer.tokenize(text)"
      ],
      "execution_count": 52,
      "outputs": [
        {
          "output_type": "execute_result",
          "data": {
            "text/plain": [
              "['Having',\n",
              " 'lots',\n",
              " 'of',\n",
              " 'fun',\n",
              " 'goa',\n",
              " 'vaction',\n",
              " 'summervacation',\n",
              " 'Fancy',\n",
              " 'dinner',\n",
              " 'Beachbay',\n",
              " 'restro']"
            ]
          },
          "metadata": {
            "tags": []
          },
          "execution_count": 52
        }
      ]
    },
    {
      "cell_type": "markdown",
      "metadata": {
        "id": "pw5SA3JT4tHc"
      },
      "source": [
        "# How to extract all the nouns in a text?\n"
      ]
    },
    {
      "cell_type": "code",
      "metadata": {
        "id": "yyIGo2jyEfzy"
      },
      "source": [
        "text=\"James works at Microsoft. She lives in manchester and likes to play the flute\""
      ],
      "execution_count": 53,
      "outputs": []
    },
    {
      "cell_type": "code",
      "metadata": {
        "id": "gxs2Z7kJEgtu",
        "outputId": "53b963d3-c395-41e5-b97b-5ca28d0a678b",
        "colab": {
          "base_uri": "https://localhost:8080/",
          "height": 87
        }
      },
      "source": [
        "# Coverting the text into a spacy Doc\n",
        "nlp=spacy.load(\"en_core_web_sm\")\n",
        "doc=nlp(text)\n",
        "\n",
        "# Using spacy's pos_ attribute to check for part of speech tags\n",
        "for token in doc:\n",
        "  if token.pos_=='NOUN' or token.pos_=='PROPN':\n",
        "    print(token.text)"
      ],
      "execution_count": 54,
      "outputs": [
        {
          "output_type": "stream",
          "text": [
            "James\n",
            "Microsoft\n",
            "manchester\n",
            "flute\n"
          ],
          "name": "stdout"
        }
      ]
    },
    {
      "cell_type": "markdown",
      "metadata": {
        "id": "TG7pwhro4ve-"
      },
      "source": [
        "# How to extract all the pronouns in a text?\n"
      ]
    },
    {
      "cell_type": "code",
      "metadata": {
        "id": "AGWyyC0sEhVU"
      },
      "source": [
        "text=\"John is happy finally. He had landed his dream job finally. He told his mom. She was elated \""
      ],
      "execution_count": 55,
      "outputs": []
    },
    {
      "cell_type": "code",
      "metadata": {
        "id": "Fic_45JpEiOP",
        "outputId": "463a4599-a672-4b72-d9e2-c249f8d691ab",
        "colab": {
          "base_uri": "https://localhost:8080/",
          "height": 69
        }
      },
      "source": [
        "# Using spacy's pos_ attribute to check for part of speech tags\n",
        "nlp=spacy.load(\"en_core_web_sm\")\n",
        "doc=nlp(text)\n",
        "\n",
        "for token in doc:\n",
        "  if token.pos_=='PRON':\n",
        "    print(token.text)"
      ],
      "execution_count": 56,
      "outputs": [
        {
          "output_type": "stream",
          "text": [
            "He\n",
            "He\n",
            "She\n"
          ],
          "name": "stdout"
        }
      ]
    },
    {
      "cell_type": "markdown",
      "metadata": {
        "id": "oLTr9ism4yAc"
      },
      "source": [
        "# How to find similarity between two words?\n"
      ]
    },
    {
      "cell_type": "code",
      "metadata": {
        "id": "ZG1AiKicEi9S"
      },
      "source": [
        "word1=\"amazing\"\n",
        "word2=\"terrible\"\n",
        "word3=\"excellent\""
      ],
      "execution_count": 57,
      "outputs": []
    },
    {
      "cell_type": "code",
      "metadata": {
        "id": "u_hPA3bxEj1e",
        "outputId": "102f5956-84e4-4251-ed44-7a324d10da14",
        "colab": {
          "base_uri": "https://localhost:8080/",
          "height": 141
        }
      },
      "source": [
        "# Convert words into spacy tokens\n",
        "import spacy\n",
        "#!python -m spacy download en_core_web_lg\n",
        "nlp=spacy.load('en')\n",
        "token1=nlp(word1)\n",
        "token2=nlp(word2)\n",
        "token3=nlp(word3)\n",
        "\n",
        "# Use similarity() function of tokens\n",
        "print('similarity between', word1,'and' ,word2, 'is' ,token1.similarity(token2))\n",
        "print('similarity between', word1,'and' ,word3, 'is' ,token1.similarity(token3))"
      ],
      "execution_count": 58,
      "outputs": [
        {
          "output_type": "stream",
          "text": [
            "similarity between amazing and terrible is 0.6668003914466137\n",
            "similarity between amazing and excellent is 0.5693795476791063\n"
          ],
          "name": "stdout"
        },
        {
          "output_type": "stream",
          "text": [
            "/usr/local/lib/python3.6/dist-packages/ipykernel_launcher.py:10: UserWarning: [W007] The model you're using has no word vectors loaded, so the result of the Doc.similarity method will be based on the tagger, parser and NER, which may not give useful similarity judgements. This may happen if you're using one of the small models, e.g. `en_core_web_sm`, which don't ship with word vectors and only use context-sensitive tensors. You can always add your own word vectors, or use one of the larger models instead if available.\n",
            "  # Remove the CWD from sys.path while we load stuff.\n",
            "/usr/local/lib/python3.6/dist-packages/ipykernel_launcher.py:11: UserWarning: [W007] The model you're using has no word vectors loaded, so the result of the Doc.similarity method will be based on the tagger, parser and NER, which may not give useful similarity judgements. This may happen if you're using one of the small models, e.g. `en_core_web_sm`, which don't ship with word vectors and only use context-sensitive tensors. You can always add your own word vectors, or use one of the larger models instead if available.\n",
            "  # This is added back by InteractiveShellApp.init_path()\n"
          ],
          "name": "stderr"
        }
      ]
    },
    {
      "cell_type": "markdown",
      "metadata": {
        "id": "45u8fTsZ5WsI"
      },
      "source": [
        "# How to find similarity between two documents?\n"
      ]
    },
    {
      "cell_type": "code",
      "metadata": {
        "id": "jlybks2kEkiA"
      },
      "source": [
        "text1=\"John likes to play baseball\"\n",
        "#text2=\"James lives in America, though he's not from there\"\n",
        "text2=\"James plays hockey\""
      ],
      "execution_count": 59,
      "outputs": []
    },
    {
      "cell_type": "code",
      "metadata": {
        "id": "yG-7lZTVElVG",
        "outputId": "a46f7ac6-3d7d-4327-8fbb-98f772565abe",
        "colab": {
          "base_uri": "https://localhost:8080/",
          "height": 89
        }
      },
      "source": [
        "# Finding similarity using spaCy library\n",
        "\n",
        "doc1=nlp(text1)\n",
        "doc2=nlp(text2)\n",
        "doc1.similarity(doc2)   "
      ],
      "execution_count": 60,
      "outputs": [
        {
          "output_type": "stream",
          "text": [
            "/usr/local/lib/python3.6/dist-packages/ipykernel_launcher.py:5: UserWarning: [W007] The model you're using has no word vectors loaded, so the result of the Doc.similarity method will be based on the tagger, parser and NER, which may not give useful similarity judgements. This may happen if you're using one of the small models, e.g. `en_core_web_sm`, which don't ship with word vectors and only use context-sensitive tensors. You can always add your own word vectors, or use one of the larger models instead if available.\n",
            "  \"\"\"\n"
          ],
          "name": "stderr"
        },
        {
          "output_type": "execute_result",
          "data": {
            "text/plain": [
              "0.579826251169189"
            ]
          },
          "metadata": {
            "tags": []
          },
          "execution_count": 60
        }
      ]
    },
    {
      "cell_type": "markdown",
      "metadata": {
        "id": "DD-DsCuk5usf"
      },
      "source": [
        "# How to find the cosine similarity of two documents?\n"
      ]
    },
    {
      "cell_type": "code",
      "metadata": {
        "id": "p9Eb594qEqsm"
      },
      "source": [
        "text1='Taj Mahal is a tourist place in India'\n",
        "text2='Great Wall of China is a tourist place in china'"
      ],
      "execution_count": 61,
      "outputs": []
    },
    {
      "cell_type": "code",
      "metadata": {
        "id": "vVMVp84BErxM",
        "outputId": "45339023-90aa-4366-c5c1-4ba54deba3e7",
        "colab": {
          "base_uri": "https://localhost:8080/",
          "height": 52
        }
      },
      "source": [
        "# Using Vectorizer of sklearn to get vector representation\n",
        "documents=[text1,text2]\n",
        "from sklearn.feature_extraction.text import CountVectorizer\n",
        "import pandas as pd\n",
        "\n",
        "vectorizer=CountVectorizer()\n",
        "matrix=vectorizer.fit_transform(documents)\n",
        "\n",
        "# Obtaining the document-word matrix\n",
        "doc_term_matrix=matrix.todense()\n",
        "doc_term_matrix\n",
        "\n",
        "# Computing cosine similarity\n",
        "df=pd.DataFrame(doc_term_matrix)\n",
        "\n",
        "from sklearn.metrics.pairwise import cosine_similarity\n",
        "print(cosine_similarity(df,df))"
      ],
      "execution_count": 62,
      "outputs": [
        {
          "output_type": "stream",
          "text": [
            "[[1.         0.45584231]\n",
            " [0.45584231 1.        ]]\n"
          ],
          "name": "stdout"
        }
      ]
    },
    {
      "cell_type": "markdown",
      "metadata": {
        "id": "Br4u3PDm7KHq"
      },
      "source": [
        "# How to find similar words using pre-trained Word2Vec?\n"
      ]
    },
    {
      "cell_type": "code",
      "metadata": {
        "id": "YoXw3JSBEsio",
        "outputId": "9f8e2562-62a9-4392-d6b4-a7aa6b1abf6a",
        "colab": {
          "base_uri": "https://localhost:8080/",
          "height": 176
        }
      },
      "source": [
        "# Import gensim api\n",
        "import gensim.downloader as api\n",
        "\n",
        "# Load the pretrained google news word2vec model\n",
        "#word2vec_model300 = api.load('word2vec-google-news-300')\n",
        "\n",
        "\n",
        "# Using most_similar() function\n",
        "word2vec_model300.most_similar('amazing')"
      ],
      "execution_count": null,
      "outputs": [
        {
          "output_type": "stream",
          "text": [
            "INFO:gensim.api:Creating /root/gensim-data\n"
          ],
          "name": "stderr"
        },
        {
          "output_type": "stream",
          "text": [
            "[================================================--] 97.4% 1620.3/1662.8MB downloaded\n"
          ],
          "name": "stdout"
        },
        {
          "output_type": "stream",
          "text": [
            "INFO:gensim.api:word2vec-google-news-300 downloaded\n",
            "INFO:gensim.models.utils_any2vec:loading projection weights from /root/gensim-data/word2vec-google-news-300/word2vec-google-news-300.gz\n",
            "/usr/local/lib/python3.6/dist-packages/smart_open/smart_open_lib.py:252: UserWarning: This function is deprecated, use smart_open.open instead. See the migration notes for details: https://github.com/RaRe-Technologies/smart_open/blob/master/README.rst#migrating-to-the-new-open-function\n",
            "  'See the migration notes for details: %s' % _MIGRATION_NOTES_URL\n",
            "INFO:gensim.models.utils_any2vec:loaded (3000000, 300) matrix from /root/gensim-data/word2vec-google-news-300/word2vec-google-news-300.gz\n",
            "INFO:gensim.models.keyedvectors:precomputing L2-norms of word weight vectors\n"
          ],
          "name": "stderr"
        }
      ]
    },
    {
      "cell_type": "markdown",
      "metadata": {
        "id": "txNLZvHQ7mFa"
      },
      "source": [
        "# How to replace all the pronouns in a text with their respective object names\n"
      ]
    },
    {
      "cell_type": "code",
      "metadata": {
        "id": "J8i4HwGbEtfQ"
      },
      "source": [
        "text=\" My sister has a dog and she loves him\""
      ],
      "execution_count": 1,
      "outputs": []
    },
    {
      "cell_type": "code",
      "metadata": {
        "id": "4IEk24sb9TwB"
      },
      "source": [
        "#!pip uninstall neuralcoref\n",
        "#!pip install neuralcoref --no-binary neuralcoref"
      ],
      "execution_count": 2,
      "outputs": []
    },
    {
      "cell_type": "code",
      "metadata": {
        "id": "4t-bzsLt9dh4",
        "outputId": "3971adf8-9941-4bd1-b124-a258aab2e393",
        "colab": {
          "base_uri": "https://localhost:8080/",
          "height": 35
        }
      },
      "source": [
        "#!pip install -U spacy\n",
        "#!python -m spacy download en\n",
        "!pip install urllib3==1.25.10"
      ],
      "execution_count": 3,
      "outputs": [
        {
          "output_type": "stream",
          "text": [
            "Requirement already satisfied: urllib3==1.25.10 in /usr/local/lib/python3.6/dist-packages (1.25.10)\n"
          ],
          "name": "stdout"
        }
      ]
    },
    {
      "cell_type": "markdown",
      "metadata": {
        "id": "T60Lwwyy8gHq"
      },
      "source": [
        "https://medium.com/huggingface/state-of-the-art-neural-coreference-resolution-for-chatbots-3302365dcf30"
      ]
    },
    {
      "cell_type": "code",
      "metadata": {
        "id": "vPuO651OEuY7",
        "outputId": "23b36bf0-c262-4e08-a2a7-59045a3e46ec",
        "colab": {
          "base_uri": "https://localhost:8080/",
          "height": 159
        }
      },
      "source": [
        "# Load your usual SpaCy model (one of SpaCy English models)\n",
        "import spacy\n",
        "nlp = spacy.load('en')\n",
        "\n",
        "# Add neural coref to SpaCy's pipe\n",
        "import neuralcoref\n",
        "neuralcoref.add_to_pipe(nlp)"
      ],
      "execution_count": 4,
      "outputs": [
        {
          "output_type": "stream",
          "text": [
            "/usr/lib/python3.6/importlib/_bootstrap.py:219: RuntimeWarning: spacy.morphology.Morphology size changed, may indicate binary incompatibility. Expected 104 from C header, got 112 from PyObject\n",
            "  return f(*args, **kwds)\n",
            "/usr/lib/python3.6/importlib/_bootstrap.py:219: RuntimeWarning: spacy.vocab.Vocab size changed, may indicate binary incompatibility. Expected 96 from C header, got 112 from PyObject\n",
            "  return f(*args, **kwds)\n",
            "/usr/lib/python3.6/importlib/_bootstrap.py:219: RuntimeWarning: spacy.tokens.span.Span size changed, may indicate binary incompatibility. Expected 72 from C header, got 80 from PyObject\n",
            "  return f(*args, **kwds)\n"
          ],
          "name": "stderr"
        },
        {
          "output_type": "execute_result",
          "data": {
            "text/plain": [
              "<spacy.lang.en.English at 0x7f9679ddff60>"
            ]
          },
          "metadata": {
            "tags": []
          },
          "execution_count": 4
        }
      ]
    },
    {
      "cell_type": "code",
      "metadata": {
        "id": "BdhZRPrG9xqn"
      },
      "source": [
        "# You're done. You can now use NeuralCoref as you usually manipulate a SpaCy document annotations.\n",
        "doc = nlp(u'My sister has a dog. She loves him.')\n",
        "\n",
        "doc._.has_coref\n",
        "doc._.coref_clusters"
      ],
      "execution_count": null,
      "outputs": []
    },
    {
      "cell_type": "markdown",
      "metadata": {
        "id": "zfES3zr6-uBJ"
      },
      "source": [
        "# How to extract topic keywords using LSA?\n"
      ]
    },
    {
      "cell_type": "code",
      "metadata": {
        "id": "zsnov4qGEvIh"
      },
      "source": [
        "texts= [\"\"\"It's all about travel. I travel a lot.  those who do not travel read only a page.” – said Saint Augustine. He was a great travel person. Travelling can teach you more than any university course. You learn about the culture of the country you visit. If you talk to locals, you will likely learn about their thinking, habits, traditions and history as well.If you travel, you will not only learn about foreign cultures, but about your own as well. You will notice the cultural differences, and will find out what makes your culture unique. After retrurning from a long journey, you will see your country with new eyes.\"\"\",\n",
        "        \"\"\" You can learn a lot about yourself through travelling. You can observe how you feel beeing far from your country. You will find out how you feel about your homeland.You should travel You will realise how you really feel about foreign people. You will find out how much you know/do not know about the world. You will be able to observe how you react in completely new situations. You will test your language, orientational and social skills. You will not be the same person after returning home.During travelling you will meet people that are very different from you. If you travel enough, you will learn to accept and appreciate these differences. Traveling makes you more open and accepting.\"\"\",\n",
        "        \"\"\"Some of my most cherished memories are from the times when I was travelling. If you travel, you can experience things that you could never experience at home. You may see beautiful places and landscapes that do not exist where you live. You may meet people that will change your life, and your thingking. You may try activities that you have never tried before.Travelling will inevitably make you more independent and confident. You will realise that you can cope with a lot of unexpected situations. You will realise that you can survive without all that help that is always available for you at home. You will likely find out that you are much stronger and braver than you have expected.\"\"\",\n",
        "        \"\"\"If you travel, you may learn a lot of useful things. These things can be anything from a new recepie, to a new, more effective solution to an ordinary problem or a new way of creating something.Even if you go to a country where they speak the same language as you, you may still learn some new words and expressions that are only used there. If you go to a country where they speak a different language, you will learn even more.\"\"\",\n",
        "        \"\"\"After arriving home from a long journey, a lot of travellers experience that they are much more motivated than they were before they left. During your trip you may learn things that you will want to try at home as well. You may want to test your new skills and knowledge. Your experiences will give you a lot of energy.During travelling you may experience the craziest, most exciting things, that will eventually become great stories that you can tell others. When you grow old and look back at your life and all your travel experiences, you will realise how much you have done in your life and your life was not in vain. It can provide you with happiness and satisfaction for the rest of your life.\"\"\",\n",
        "        \"\"\"The benefits of travel are not just a one-time thing: travel changes you physically and psychologically. Having little time or money isn't a valid excuse. You can travel for cheap very easily. If you have a full-time job and a family, you can still travel on the weekends or holidays, even with a baby. travel  more is likely to have a tremendous impact on your mental well-being, especially if you're no used to going out of your comfort zone. Trust me: travel more and your doctor will be happy. Be sure to get in touch with your physician, they might recommend some medication to accompany you in your travels, especially if you're heading to regions of the globe with potentially dangerous diseases.\"\"\",\n",
        "        \"\"\"Sure, you probably feel comfortable where you are, but that is just a fraction of the world! If you are a student, take advantage of programs such as Erasmus to get to know more people, experience and understand their culture. Dare traveling to regions you have a skeptical opinion about. I bet that you will change your mind and realize that everything is not so bad abroad.\"\"\",\n",
        "        \"\"\" So, travel makes you cherish life. Let's travel more . Share your travel diaries with us too\"\"\"\n",
        "        ]"
      ],
      "execution_count": 1,
      "outputs": []
    },
    {
      "cell_type": "code",
      "metadata": {
        "id": "CwxpcYvxD9Mi",
        "outputId": "c645c08f-08a7-444c-fbd3-98ca6b4eafa6",
        "colab": {
          "base_uri": "https://localhost:8080/",
          "height": 35
        }
      },
      "source": [
        "import sklearn\n",
        "sklearn.__version__"
      ],
      "execution_count": 4,
      "outputs": [
        {
          "output_type": "execute_result",
          "data": {
            "application/vnd.google.colaboratory.intrinsic+json": {
              "type": "string"
            },
            "text/plain": [
              "'0.22.2.post1'"
            ]
          },
          "metadata": {
            "tags": []
          },
          "execution_count": 4
        }
      ]
    },
    {
      "cell_type": "code",
      "metadata": {
        "id": "wYzwKvvUEwUh"
      },
      "source": [
        "# Importing the Tf-idf vectorizer from sklearn\n",
        "from sklearn.feature_extraction.text import TfidfVectorizer\n",
        "\n",
        "# Defining the vectorizer\n",
        "vectorizer = TfidfVectorizer(stop_words='english', max_features=1000, max_df = 0.5, smooth_idf=True)\n",
        "\n",
        "# Transforming the tokens into the matrix form through .fit_transform()\n",
        "matrix = vectorizer.fit_transform(texts)"
      ],
      "execution_count": 6,
      "outputs": []
    },
    {
      "cell_type": "code",
      "metadata": {
        "id": "DfeTZjNAEfs1",
        "outputId": "edde992d-9950-4d0a-ae84-06eedb7c5a57",
        "colab": {
          "base_uri": "https://localhost:8080/",
          "height": 295
        }
      },
      "source": [
        "# SVD represent documents and terms in vectors\n",
        "import sklearn\n",
        "from sklearn.decomposition import TruncatedSVD\n",
        "SVD_model = TruncatedSVD(n_components=10, algorithm='randomized', n_iter=100, random_state=42)\n",
        "SVD_model.fit(matrix)\n",
        "\n",
        "# Getting the terms \n",
        "terms = vectorizer.get_feature_names()\n",
        "\n",
        "# Iterating through each topic\n",
        "for i, comp in enumerate(SVD_model.components_):\n",
        "    terms_comp = zip(terms, comp)\n",
        "    # sorting the 7 most important terms\n",
        "    sorted_terms = sorted(terms_comp, key= lambda x:x[1], reverse=True)[:7]\n",
        "    print(\"Topic \"+str(i)+\": \")\n",
        "    # printing the terms of a topic\n",
        "    for t in sorted_terms:\n",
        "        print(t[0],end=' ')\n",
        "    print(' ')"
      ],
      "execution_count": 11,
      "outputs": [
        {
          "output_type": "stream",
          "text": [
            "Topic 0: \n",
            "learn new life travelling country feel things  \n",
            "Topic 1: \n",
            "life cherish diaries let share experience home  \n",
            "Topic 2: \n",
            "feel know time people just regions sure  \n",
            "Topic 3: \n",
            "time especially cherish diaries let share life  \n",
            "Topic 4: \n",
            "cherish diaries let share makes feel know  \n",
            "Topic 5: \n",
            "culture augustine course cultural cultures eyes habits  \n",
            "Topic 6: \n",
            "experiences want life things abroad bad bet  \n",
            "Topic 7: \n",
            "observe feel experiences want skills test know  \n"
          ],
          "name": "stdout"
        }
      ]
    },
    {
      "cell_type": "markdown",
      "metadata": {
        "id": "xKhu_Q9--xcK"
      },
      "source": [
        "# How to extract topic Keywords using LDA ?\n"
      ]
    },
    {
      "cell_type": "code",
      "metadata": {
        "id": "Fg0wuZNmEw_t",
        "outputId": "8eb5fd7a-de86-4312-f87a-78fc112c9019",
        "colab": {
          "base_uri": "https://localhost:8080/",
          "height": 55
        }
      },
      "source": [
        "# Import gensim, nltk\n",
        "import gensim\n",
        "from gensim import models, corpora\n",
        "import nltk\n",
        "from nltk.corpus import stopwords\n",
        "\n",
        "# Before topic extraction, we remove punctuations and stopwords.\n",
        "my_stopwords=set(stopwords.words('english'))\n",
        "punctuations=['.','!',',',\"You\",\"I\"]\n",
        "\n",
        "# We prepare a list containing lists of tokens of each text\n",
        "all_tokens=[]\n",
        "for text in texts:\n",
        "  tokens=[]\n",
        "  raw=nltk.wordpunct_tokenize(text)\n",
        "  for token in raw:\n",
        "    if token not in my_stopwords:\n",
        "      if token not in punctuations:\n",
        "        tokens.append(token)\n",
        "        all_tokens.append(tokens)\n",
        "\n",
        "# Creating a gensim dictionary and the matrix\n",
        "dictionary = corpora.Dictionary(all_tokens)\n",
        "doc_term_matrix = [dictionary.doc2bow(doc) for doc in all_tokens]\n",
        "\n",
        "# Building the model and training it with the matrix \n",
        "from gensim.models.ldamodel import LdaModel\n",
        "model = LdaModel(doc_term_matrix, num_topics=5, id2word = dictionary,passes=40)\n",
        "\n",
        "print(model.print_topics(num_topics=6,num_words=5))"
      ],
      "execution_count": 16,
      "outputs": [
        {
          "output_type": "stream",
          "text": [
            "[(0, '0.033*\"life\" + 0.024*\"may\" + 0.024*\"feel\" + 0.023*\"During\" + 0.023*\"much\"'), (1, '0.053*\"may\" + 0.035*\"experience\" + 0.035*\"realise\" + 0.035*\"home\" + 0.035*\"never\"'), (2, '0.095*\"new\" + 0.071*\"learn\" + 0.048*\"If\" + 0.048*\"country\" + 0.048*\"language\"'), (3, '0.094*\"travel\" + 0.052*\"learn\" + 0.035*\"culture\" + 0.035*\"If\" + 0.035*\"well\"'), (4, '0.085*\"travel\" + 0.042*\"\\'\" + 0.042*\"time\" + 0.042*\"-\" + 0.028*\"especially\"')]\n"
          ],
          "name": "stdout"
        }
      ]
    },
    {
      "cell_type": "markdown",
      "metadata": {
        "id": "7D9UQl78-z5w"
      },
      "source": [
        "# How to extract topic keywords using NMF?"
      ]
    },
    {
      "cell_type": "code",
      "metadata": {
        "id": "C9twvJ2_Ex7t",
        "outputId": "cb689f8a-9b04-46d6-c91f-aad0662f2882",
        "colab": {
          "base_uri": "https://localhost:8080/",
          "height": 245
        }
      },
      "source": [
        "from sklearn.feature_extraction.text import TfidfVectorizer\n",
        "\n",
        "# Defining the vectorizer\n",
        "vectorizer = TfidfVectorizer(stop_words='english', max_features= 1000,  max_df = 0.5, smooth_idf=True)\n",
        "\n",
        "# Transforming the tokens into the matrix form through .fit_transform()\n",
        "nmf_matrix= vectorizer.fit_transform(texts)\n",
        "from sklearn.decomposition import NMF\n",
        "nmf_model = NMF(n_components=6)\n",
        "nmf_model.fit(nmf_matrix)\n",
        "\n",
        "# Function to print topics\n",
        "def print_topics_nmf(model, vectorizer, top_n=6):\n",
        "    for idx, topic in enumerate(model.components_):\n",
        "        print(\"Topic %d:\" % (idx))\n",
        "        print([(vectorizer.get_feature_names()[i], topic[i])\n",
        "                        for i in topic.argsort()[:-top_n - 1:-1]])\n",
        "        \n",
        "print_topics_nmf(nmf_model,vectorizer)"
      ],
      "execution_count": 17,
      "outputs": [
        {
          "output_type": "stream",
          "text": [
            "Topic 0:\n",
            "[('new', 0.6329770846997614), ('learn', 0.4981038982593186), ('speak', 0.4747754621454462), ('language', 0.4344302967047188), ('country', 0.36653909845383165), ('things', 0.3433223730439048)]\n",
            "Topic 1:\n",
            "[('life', 0.34063551920788404), ('home', 0.3140201464324038), ('experience', 0.3025841622571253), ('realise', 0.24642870225288058), ('travelling', 0.21809155530250532), ('things', 0.20763478958892373)]\n",
            "Topic 2:\n",
            "[('feel', 0.346248401392236), ('know', 0.28400088182007815), ('people', 0.24312668835450593), ('world', 0.22169277349691843), ('traveling', 0.22169277349691843), ('bet', 0.18671974365540278)]\n",
            "Topic 3:\n",
            "[('time', 0.44163173193053434), ('especially', 0.2944211546203563), ('zone', 0.14721057731017814), ('dangerous', 0.14721057731017814), ('excuse', 0.14721057731017814), ('benefits', 0.14721057731017814)]\n",
            "Topic 4:\n",
            "[('cherish', 0.470371391001752), ('diaries', 0.470371391001752), ('share', 0.470371391001752), ('let', 0.470371391001752), ('life', 0.3536009233728129), ('makes', 0.3410286245344896)]\n",
            "Topic 5:\n",
            "[('learn', 0.2790596001102517), ('culture', 0.22858906607458201), ('country', 0.20863153116871402), ('locals', 0.14082722468160733), ('eyes', 0.14082722468160733), ('retrurning', 0.14082722468160733)]\n"
          ],
          "name": "stdout"
        }
      ]
    },
    {
      "cell_type": "markdown",
      "metadata": {
        "id": "N10Zcvu_-2jW"
      },
      "source": [
        "# How to classify a text as positive/negative sentiment\n"
      ]
    },
    {
      "cell_type": "code",
      "metadata": {
        "id": "4yRfXFCUEyz0"
      },
      "source": [
        "text=\"It was a very pleasant day\""
      ],
      "execution_count": 18,
      "outputs": []
    },
    {
      "cell_type": "code",
      "metadata": {
        "id": "C86Kos74Ezyt",
        "outputId": "032b2ea7-fc34-4880-a678-168e169f7096",
        "colab": {
          "base_uri": "https://localhost:8080/",
          "height": 52
        }
      },
      "source": [
        "# Sentiment analysis with TextBlob\n",
        "from textblob import TextBlob\n",
        "blob=TextBlob(text)\n",
        "\n",
        "# Using the sentiment attribute \n",
        "print(blob.sentiment)\n",
        "if(blob.sentiment.polarity > 0):\n",
        "  print(\"Positive\")"
      ],
      "execution_count": 19,
      "outputs": [
        {
          "output_type": "stream",
          "text": [
            "Sentiment(polarity=0.9533333333333333, subjectivity=1.0)\n",
            "Positive\n"
          ],
          "name": "stdout"
        }
      ]
    },
    {
      "cell_type": "markdown",
      "metadata": {
        "id": "Q_wU0Q74-4uY"
      },
      "source": [
        "# How to use the Word2Vec model for representing words?\n"
      ]
    },
    {
      "cell_type": "code",
      "metadata": {
        "id": "vER-SvdPE66b"
      },
      "source": [
        "texts= [\" Photography is an excellent hobby to pursue \",\n",
        "        \" Photographers usually develop patience, calmnesss\"\n",
        "        \" You can try Photography with any good mobile too\"]"
      ],
      "execution_count": 20,
      "outputs": []
    },
    {
      "cell_type": "code",
      "metadata": {
        "id": "HzBldk8IE70B",
        "outputId": "29b1283e-60ab-4091-89b0-31f26d551064",
        "colab": {
          "base_uri": "https://localhost:8080/",
          "height": 523
        }
      },
      "source": [
        "import nltk# We prepare a list containing lists of tokens of each text\n",
        "all_tokens=[]\n",
        "for text in texts:\n",
        "  tokens=[]\n",
        "  raw=nltk.wordpunct_tokenize(text)\n",
        "  for token in raw:\n",
        "    tokens.append(token)\n",
        "    all_tokens.append(tokens)\n",
        "\n",
        "# Import and fit the model with data\n",
        "import gensim\n",
        "from gensim.models import Word2Vec\n",
        "model=Word2Vec(all_tokens)\n",
        "\n",
        "# Getting the vector representation of a word\n",
        "model['Photography']"
      ],
      "execution_count": 21,
      "outputs": [
        {
          "output_type": "stream",
          "text": [
            "/usr/local/lib/python3.6/dist-packages/ipykernel_launcher.py:16: DeprecationWarning: Call to deprecated `__getitem__` (Method will be removed in 4.0.0, use self.wv.__getitem__() instead).\n",
            "  app.launch_new_instance()\n"
          ],
          "name": "stderr"
        },
        {
          "output_type": "execute_result",
          "data": {
            "text/plain": [
              "array([ 1.9025252e-03, -1.0295380e-03,  3.0771301e-03, -4.2224107e-03,\n",
              "       -4.8978780e-03,  1.7382035e-03,  1.1818433e-03,  5.2762992e-04,\n",
              "       -5.5447430e-04, -4.4090333e-03, -3.1750863e-03, -2.3805501e-03,\n",
              "       -2.9733591e-03, -2.9633706e-03, -1.6721692e-03,  7.4080768e-04,\n",
              "       -1.6622769e-03, -1.7833371e-03, -2.3049214e-03,  1.9562490e-04,\n",
              "        3.4174751e-03,  3.2139145e-04,  3.4266505e-03,  2.0264705e-04,\n",
              "       -4.5952494e-03,  1.7251361e-03,  3.7688687e-03,  4.1336431e-03,\n",
              "       -2.2977616e-03, -1.9008361e-03,  3.4208896e-03,  4.0780292e-03,\n",
              "        2.0820182e-03, -2.0084572e-03,  3.8055303e-03,  1.4293726e-03,\n",
              "        4.8867264e-03, -1.5591469e-03, -1.8183552e-03, -4.1027628e-03,\n",
              "        3.9505255e-03, -4.2670360e-03,  3.9111888e-03, -6.4243795e-05,\n",
              "       -3.4514300e-03,  1.1662961e-03, -2.4186650e-03, -2.1121025e-03,\n",
              "        4.7800993e-03, -4.7379965e-03, -3.5876287e-03, -1.4560340e-03,\n",
              "        4.4277725e-03, -2.2628778e-03, -1.4093749e-03, -1.9605476e-03,\n",
              "       -5.4311915e-04,  4.5640054e-03, -4.8495791e-04,  3.4851485e-03,\n",
              "       -4.3674419e-03, -3.1157925e-03, -4.8656771e-03,  3.8621691e-04,\n",
              "       -4.5884284e-03, -2.4301519e-03,  3.4183150e-03, -3.7418536e-03,\n",
              "        2.5080217e-03, -1.6731275e-03,  2.7263013e-03,  2.3509478e-03,\n",
              "        4.6409899e-03, -8.6725206e-04,  2.8205684e-03, -4.3035154e-03,\n",
              "       -4.5887828e-03,  3.6135546e-04, -3.4005428e-03,  3.3549359e-03,\n",
              "       -3.0577141e-03, -3.5202533e-03,  4.9683540e-03, -9.2295569e-04,\n",
              "       -9.8392344e-04,  2.7823455e-03,  2.0210196e-03,  2.3273774e-04,\n",
              "       -7.8955921e-04,  3.6625201e-03, -4.9646171e-03, -4.4997130e-03,\n",
              "       -5.2972179e-04, -3.6016309e-03,  4.5317803e-03, -4.3972121e-03,\n",
              "       -4.2267307e-03, -8.8435400e-04,  1.2667821e-03, -7.4044336e-04],\n",
              "      dtype=float32)"
            ]
          },
          "metadata": {
            "tags": []
          },
          "execution_count": 21
        }
      ]
    },
    {
      "cell_type": "markdown",
      "metadata": {
        "id": "Qr9f7CTw_UPl"
      },
      "source": [
        "# How to visualize the word embedding obtained from word2Vec model ?\n"
      ]
    },
    {
      "cell_type": "code",
      "metadata": {
        "id": "8ByhOVOOE9dD",
        "outputId": "34c4a1c0-333e-4b00-b3c9-395d41e13382",
        "colab": {
          "base_uri": "https://localhost:8080/",
          "height": 303
        }
      },
      "source": [
        "# We prepare a list containing lists of tokens of each text\n",
        "all_tokens=[]\n",
        "for text in texts:\n",
        "  tokens=[]\n",
        "  raw=nltk.wordpunct_tokenize(text)\n",
        "  for token in raw:\n",
        "    tokens.append(token)\n",
        "    all_tokens.append(tokens)\n",
        "\n",
        "# Import and fit the model with data\n",
        "import gensim\n",
        "from gensim.models import Word2Vec\n",
        "model=Word2Vec(all_tokens)\n",
        "\n",
        "\n",
        "# Visualizing the word embedding\n",
        "from sklearn.decomposition import PCA\n",
        "from matplotlib import pyplot\n",
        "\n",
        "\n",
        "X = model[model.wv.vocab]\n",
        "pca = PCA(n_components=2)\n",
        "result = pca.fit_transform(X)\n",
        "# create a scatter plot of the projection\n",
        "pyplot.scatter(result[:, 0], result[:, 1])\n",
        "words = list(model.wv.vocab)\n",
        "for i, word in enumerate(words):\n",
        "    pyplot.annotate(word, xy=(result[i, 0], result[i, 1]))\n",
        "pyplot.show()"
      ],
      "execution_count": 22,
      "outputs": [
        {
          "output_type": "stream",
          "text": [
            "/usr/local/lib/python3.6/dist-packages/ipykernel_launcher.py:21: DeprecationWarning: Call to deprecated `__getitem__` (Method will be removed in 4.0.0, use self.wv.__getitem__() instead).\n"
          ],
          "name": "stderr"
        },
        {
          "output_type": "display_data",
          "data": {
            "image/png": "[encoded data removed]",
            "text/plain": [
              "<Figure size 432x288 with 1 Axes>"
            ]
          },
          "metadata": {
            "tags": [],
            "needs_background": "light"
          }
        }
      ]
    },
    {
      "cell_type": "markdown",
      "metadata": {
        "id": "TmVYCOu9_Zg-"
      },
      "source": [
        " # How to represent the document using Doc2Vec model?\n"
      ]
    },
    {
      "cell_type": "code",
      "metadata": {
        "id": "I5CIspzKE-dT",
        "outputId": "a9715b82-424e-4985-db3a-525eae417328",
        "colab": {
          "base_uri": "https://localhost:8080/",
          "height": 468
        }
      },
      "source": [
        "# Importing the model\n",
        "from gensim.models import Doc2Vec\n",
        "\n",
        "# Preparing data in the format and fitting to the model\n",
        "def tagged_document(list_of_list_of_words):\n",
        "   for i, list_of_words in enumerate(list_of_list_of_words):\n",
        "      yield gensim.models.doc2vec.TaggedDocument(list_of_words, [i])\n",
        "my_data = list(tagged_document(all_tokens))\n",
        "model=Doc2Vec(my_data)\n",
        "\n",
        "model.infer_vector(['photography','is','an',' excellent ','hobby ','to',' pursue '])"
      ],
      "execution_count": 23,
      "outputs": [
        {
          "output_type": "execute_result",
          "data": {
            "text/plain": [
              "array([ 2.5316759e-04, -1.8312630e-03,  2.5172825e-03,  3.0196009e-03,\n",
              "        4.5155520e-03,  2.8015999e-03,  1.6053723e-03, -1.9510295e-03,\n",
              "       -3.3454543e-03, -1.9581525e-03, -2.1832746e-03,  4.3281727e-03,\n",
              "        2.6144637e-03,  4.8630163e-03,  2.0881093e-03,  2.8341028e-03,\n",
              "        2.1884248e-03, -4.9322760e-03, -1.9253673e-03,  1.8169697e-03,\n",
              "        2.8679513e-03,  4.0960531e-03, -2.6107945e-03,  3.9416743e-03,\n",
              "        3.8207992e-04, -7.6312351e-04,  2.7910569e-03,  1.9149084e-03,\n",
              "       -1.3034188e-03, -2.8408138e-04, -1.4806933e-03, -2.8821311e-03,\n",
              "        4.5658839e-03, -1.3200219e-03, -3.0616380e-03,  3.9836173e-03,\n",
              "        1.6944071e-03,  3.0122914e-03,  2.8194149e-03,  1.1706712e-03,\n",
              "       -2.9210215e-03,  2.5203589e-03, -1.7806364e-03, -5.4600059e-05,\n",
              "       -7.8937365e-04, -7.1684795e-04,  1.1923240e-03,  4.7563193e-03,\n",
              "        4.6461527e-03,  3.6356468e-03,  4.2426903e-03,  1.3544034e-03,\n",
              "       -1.4539661e-03, -2.9290407e-03, -3.5780410e-03, -4.1550384e-03,\n",
              "       -4.3842350e-03,  2.7391482e-03, -1.5601375e-03,  1.8340423e-03,\n",
              "        4.0856740e-03,  6.1274848e-05,  2.3935805e-04, -4.8741396e-03,\n",
              "       -3.9179502e-03,  1.2047259e-03,  8.4733672e-04, -3.0364618e-03,\n",
              "        2.2110173e-03,  7.2380592e-04, -2.0491187e-03, -2.6589646e-03,\n",
              "       -3.6440610e-03, -3.9530639e-03, -3.1449811e-03,  3.2850567e-03,\n",
              "       -2.1369995e-03,  6.4391171e-04, -2.0062139e-03,  2.2780406e-03,\n",
              "       -4.9309246e-03, -2.4381308e-04,  2.8726729e-03, -3.0115217e-03,\n",
              "        1.2710335e-05,  4.9980450e-03, -2.3997943e-03,  1.5969940e-03,\n",
              "        1.7464061e-03, -3.1543570e-03, -3.7746134e-03, -1.0489011e-03,\n",
              "       -2.0868892e-03, -1.3956040e-04, -4.6471371e-03, -2.6385770e-03,\n",
              "       -6.3789514e-04,  2.6365335e-03,  2.0295146e-03,  4.2198193e-03],\n",
              "      dtype=float32)"
            ]
          },
          "metadata": {
            "tags": []
          },
          "execution_count": 23
        }
      ]
    },
    {
      "cell_type": "markdown",
      "metadata": {
        "id": "HH3lwI23_fCv"
      },
      "source": [
        "# How to extract the TF-IDF Matrix ?\n"
      ]
    },
    {
      "cell_type": "code",
      "metadata": {
        "id": "9c1WhOOnE_c0"
      },
      "source": [
        "text_documents=['Painting is a hobby for many , passion for some',\n",
        "                'My hobby is coin collection'\n",
        "                'I do some Painting every now and then']"
      ],
      "execution_count": 24,
      "outputs": []
    },
    {
      "cell_type": "code",
      "metadata": {
        "id": "6G3kWxaoFAqd",
        "outputId": "9613bd85-ff35-406f-99a0-db25ea20ec82",
        "colab": {
          "base_uri": "https://localhost:8080/",
          "height": 72
        }
      },
      "source": [
        "# Method 1-Using gensim\n",
        "\n",
        "from gensim import corpora\n",
        "from gensim.utils import simple_preprocess\n",
        "doc_tokenized = [simple_preprocess(text) for text in text_documents]\n",
        "dictionary = corpora.Dictionary()\n",
        "\n",
        "# Creating the Bag of Words from the docs\n",
        "BoW_corpus = [dictionary.doc2bow(doc, allow_update=True) for doc in doc_tokenized]\n",
        "for doc in BoW_corpus:\n",
        "   print([[dictionary[id], freq] for id, freq in doc])\n",
        "import numpy as np\n",
        "tfidf = models.TfidfModel(BoW_corpus)"
      ],
      "execution_count": 25,
      "outputs": [
        {
          "output_type": "stream",
          "text": [
            "[['for', 2], ['hobby', 1], ['is', 1], ['many', 1], ['painting', 1], ['passion', 1], ['some', 1]]\n",
            "[['hobby', 1], ['is', 1], ['painting', 1], ['some', 1], ['and', 1], ['coin', 1], ['collectioni', 1], ['do', 1], ['every', 1], ['my', 1], ['now', 1], ['then', 1]]\n"
          ],
          "name": "stdout"
        }
      ]
    },
    {
      "cell_type": "code",
      "metadata": {
        "id": "LCsv0QR_FBZN",
        "outputId": "8deeca11-b080-40f7-b230-4c890129ed24",
        "colab": {
          "base_uri": "https://localhost:8080/",
          "height": 347
        }
      },
      "source": [
        "# Method 2- Using sklearn's TfidfVectorizer\n",
        "from sklearn.feature_extraction.text import TfidfVectorizer\n",
        "\n",
        "# Fit the vectorizer to our text documents\n",
        "vectorizer = TfidfVectorizer()\n",
        "matrix = vectorizer.fit_transform(text_documents)\n",
        "print(matrix)"
      ],
      "execution_count": 26,
      "outputs": [
        {
          "output_type": "stream",
          "text": [
            "  (0, 13)\t0.2511643891128359\n",
            "  (0, 12)\t0.35300278529739293\n",
            "  (0, 8)\t0.35300278529739293\n",
            "  (0, 5)\t0.7060055705947859\n",
            "  (0, 6)\t0.2511643891128359\n",
            "  (0, 7)\t0.2511643891128359\n",
            "  (0, 11)\t0.2511643891128359\n",
            "  (1, 14)\t0.31583360086881224\n",
            "  (1, 0)\t0.31583360086881224\n",
            "  (1, 10)\t0.31583360086881224\n",
            "  (1, 4)\t0.31583360086881224\n",
            "  (1, 3)\t0.31583360086881224\n",
            "  (1, 2)\t0.31583360086881224\n",
            "  (1, 1)\t0.31583360086881224\n",
            "  (1, 9)\t0.31583360086881224\n",
            "  (1, 13)\t0.22471820826199104\n",
            "  (1, 6)\t0.22471820826199104\n",
            "  (1, 7)\t0.22471820826199104\n",
            "  (1, 11)\t0.22471820826199104\n"
          ],
          "name": "stdout"
        }
      ]
    },
    {
      "cell_type": "markdown",
      "metadata": {
        "id": "Eo6dbSrL_hsU"
      },
      "source": [
        "# How to create bigrams using Gensim’s Phraser ?\n"
      ]
    },
    {
      "cell_type": "code",
      "metadata": {
        "id": "c3OP6PCVFCOy"
      },
      "source": [
        "documents = [\"the mayor of new york was there\", \"new york mayor was present\"]"
      ],
      "execution_count": 27,
      "outputs": []
    },
    {
      "cell_type": "code",
      "metadata": {
        "id": "FUfPucpTFDEm",
        "outputId": "73a915ef-131b-421b-a19d-677c5935266f",
        "colab": {
          "base_uri": "https://localhost:8080/",
          "height": 52
        }
      },
      "source": [
        "# Import Phraser from gensim\n",
        "from gensim.models import Phrases\n",
        "from gensim.models.phrases import Phraser\n",
        "\n",
        "sentence_stream = [doc.split(\" \") for doc in documents]\n",
        "\n",
        "# Creating bigram phraser\n",
        "bigram = Phrases(sentence_stream, min_count=1, threshold=2, delimiter=b' ')\n",
        "bigram_phraser = Phraser(bigram)\n",
        "\n",
        "for sent in sentence_stream:\n",
        "    tokens_ = bigram_phraser[sent]\n",
        "    print(tokens_)"
      ],
      "execution_count": 29,
      "outputs": [
        {
          "output_type": "stream",
          "text": [
            "['the', 'mayor', 'of', 'new york', 'was', 'there']\n",
            "['new york', 'mayor', 'was', 'present']\n"
          ],
          "name": "stdout"
        }
      ]
    },
    {
      "cell_type": "markdown",
      "metadata": {
        "id": "SxAyKAvr_mWA"
      },
      "source": [
        "# How to create bigrams, trigrams using ngrams ?\n"
      ]
    },
    {
      "cell_type": "code",
      "metadata": {
        "id": "QFh8DoTvFD1C"
      },
      "source": [
        "Sentences=\"Machine learning is a neccessary field in today's world. Data science can do wonders . Natural Language Processing is how machines understand text \""
      ],
      "execution_count": 30,
      "outputs": []
    },
    {
      "cell_type": "code",
      "metadata": {
        "id": "Ojq-6zJpFEq5",
        "outputId": "4f3dc5cf-30d2-4419-bde9-f234a601339c",
        "colab": {
          "base_uri": "https://localhost:8080/",
          "height": 72
        }
      },
      "source": [
        "# Creating bigrams and trigrams\n",
        "from nltk import ngrams\n",
        "bigram=list(ngrams(Sentences.lower().split(),2))\n",
        "trigram=list(ngrams(Sentences.lower().split(),3))\n",
        "\n",
        "print(\" Bigrams are\",bigram)\n",
        "print(\" Trigrams are\", trigram)"
      ],
      "execution_count": 31,
      "outputs": [
        {
          "output_type": "stream",
          "text": [
            " Bigrams are [('machine', 'learning'), ('learning', 'is'), ('is', 'a'), ('a', 'neccessary'), ('neccessary', 'field'), ('field', 'in'), ('in', \"today's\"), (\"today's\", 'world.'), ('world.', 'data'), ('data', 'science'), ('science', 'can'), ('can', 'do'), ('do', 'wonders'), ('wonders', '.'), ('.', 'natural'), ('natural', 'language'), ('language', 'processing'), ('processing', 'is'), ('is', 'how'), ('how', 'machines'), ('machines', 'understand'), ('understand', 'text')]\n",
            " Trigrams are [('machine', 'learning', 'is'), ('learning', 'is', 'a'), ('is', 'a', 'neccessary'), ('a', 'neccessary', 'field'), ('neccessary', 'field', 'in'), ('field', 'in', \"today's\"), ('in', \"today's\", 'world.'), (\"today's\", 'world.', 'data'), ('world.', 'data', 'science'), ('data', 'science', 'can'), ('science', 'can', 'do'), ('can', 'do', 'wonders'), ('do', 'wonders', '.'), ('wonders', '.', 'natural'), ('.', 'natural', 'language'), ('natural', 'language', 'processing'), ('language', 'processing', 'is'), ('processing', 'is', 'how'), ('is', 'how', 'machines'), ('how', 'machines', 'understand'), ('machines', 'understand', 'text')]\n"
          ],
          "name": "stdout"
        }
      ]
    },
    {
      "cell_type": "markdown",
      "metadata": {
        "id": "fcajjmm2_o_v"
      },
      "source": [
        "# How to detect the language of entered text ?\n"
      ]
    },
    {
      "cell_type": "code",
      "metadata": {
        "id": "g3kuREY0FFVZ"
      },
      "source": [
        "text='''Sí, sabes que ya llevo un rato mirándote\n",
        "Tengo que bailar contigo hoy (DY)\n",
        "Vi que tu mirada ya estaba llamándome\n",
        "Muéstrame el camino que yo voy\n",
        "Oh\n",
        "Tú, tú eres el imán y yo soy el metal\n",
        "Me voy acercando y voy armando el plan\n",
        "Solo con pensarlo se acelera el pulso\n",
        "Oh yeah\n",
        "Ya, ya me está gustando más de lo normal\n",
        "Todos mis sentidos van pidiendo más\n",
        "Esto hay que tomarlo sin ningún apuro\n",
        "Despacito\n",
        "Quiero respirar tu cuello despacito\n",
        "Deja que te diga cosas al oído\n",
        "Para que te acuerdes si no estás conmigo\n",
        "Despacito\n",
        "Quiero desnudarte a besos despacito\n",
        "Firmo en las paredes de tu laberinto\n",
        "Y hacer de tu cuerpo todo un manuscrito (sube, sube, sube)\n",
        "(Sube, sube) Oh\n",
        "'''"
      ],
      "execution_count": 32,
      "outputs": []
    },
    {
      "cell_type": "code",
      "metadata": {
        "id": "xyGc902TFGJv",
        "outputId": "832d337b-7ad7-4949-c35e-b2e208b1a6f7",
        "colab": {
          "base_uri": "https://localhost:8080/",
          "height": 849
        }
      },
      "source": [
        "# Install spacy's languagedetect library\n",
        "import spacy\n",
        "#!pip install spacy_langdetect\n",
        "from spacy_langdetect import LanguageDetector\n",
        "#nlp = spacy.load('en')\n",
        "nlp=spacy.load(\"en_core_web_sm\")\n",
        "\n",
        "# Add the language detector to the processing pipeline\n",
        "nlp.add_pipe(LanguageDetector(), name='language_detector', last=True)\n",
        "\n",
        "doc = nlp(text)\n",
        "# document level language detection. Think of it like average language of the document!\n",
        "print(doc._.language)\n",
        "# sentence level language detection\n",
        "for sent in doc.sents:\n",
        "   print(sent, sent._.language)"
      ],
      "execution_count": 35,
      "outputs": [
        {
          "output_type": "stream",
          "text": [
            "{'language': 'es', 'score': 0.9999958956161521}\n",
            "Sí, sabes que ya llevo un rato mirándote\n",
            " {'language': 'es', 'score': 0.9999934658887665}\n",
            "Tengo que bailar contigo hoy (DY)\n",
            " {'language': 'es', 'score': 0.9999962942607934}\n",
            "Vi que tu mirada {'language': 'ca', 'score': 0.9999962181637949}\n",
            "ya estaba llamándome\n",
            " {'language': 'es', 'score': 0.9999958131479112}\n",
            "Muéstrame el camino que yo voy\n",
            " {'language': 'es', 'score': 0.9999959712224978}\n",
            "Oh\n",
            " {'language': 'de', 'score': 0.7129284919220051}\n",
            "Tú, tú eres el imán y yo soy el metal\n",
            " {'language': 'es', 'score': 0.9999953437708881}\n",
            "Me voy acercando y voy armando el plan\n",
            " {'language': 'es', 'score': 0.9999959398981652}\n",
            "Solo con pensarlo se acelera el pulso\n",
            " {'language': 'es', 'score': 0.9999954654620109}\n",
            "Oh yeah\n",
            " {'language': 'id', 'score': 0.8571418406931008}\n",
            "Ya, {'language': 'tr', 'score': 0.9999966414850202}\n",
            "ya me está gustando más de lo normal\n",
            " {'language': 'es', 'score': 0.9999945264648877}\n",
            "Todos mis sentidos van pidiendo más\n",
            " {'language': 'es', 'score': 0.9999958978764791}\n",
            "Esto hay que tomarlo sin ningún apuro\n",
            " {'language': 'es', 'score': 0.9999972844288798}\n",
            "Despacito\n",
            " {'language': 'es', 'score': 0.9999954235954368}\n",
            "Quiero respirar tu cuello despacito\n",
            " {'language': 'es', 'score': 0.9999964979368656}\n",
            "Deja que te diga cosas al oído\n",
            " {'language': 'es', 'score': 0.7368633393320743}\n",
            "Para que te acuerdes si no estás conmigo\n",
            " {'language': 'es', 'score': 0.9999924235072137}\n",
            "Despacito\n",
            " {'language': 'es', 'score': 0.9999958746213256}\n",
            "Quiero desnudarte a besos despacito\n",
            " {'language': 'es', 'score': 0.9999956734383297}\n",
            "Firmo {'language': 'pt', 'score': 0.5714271896160319}\n",
            "en las paredes {'language': 'es', 'score': 0.9999980132603392}\n",
            "de tu laberinto\n",
            " {'language': 'es', 'score': 0.9999959582155846}\n",
            "Y hacer de tu cuerpo todo un manuscrito (sube, sube, sube)\n",
            " {'language': 'es', 'score': 0.9999942825335537}\n",
            "(Sube, sube) {'language': 'pt', 'score': 0.857137829975288}\n",
            "Oh\n",
            " {'language': 'de', 'score': 0.9999952454128599}\n"
          ],
          "name": "stdout"
        }
      ]
    },
    {
      "cell_type": "markdown",
      "metadata": {
        "id": "KyEkx28x_s9D"
      },
      "source": [
        "# How to merge two tokens as one ?\n"
      ]
    },
    {
      "cell_type": "code",
      "metadata": {
        "id": "Fu7zAtztFG98"
      },
      "source": [
        "text=\"Robert Langdon is a famous character in various books and movies \""
      ],
      "execution_count": 36,
      "outputs": []
    },
    {
      "cell_type": "code",
      "metadata": {
        "id": "MYZbcLsVFIDz",
        "outputId": "4aa61692-1c7b-490a-9ca2-7a718a7d5401",
        "colab": {
          "base_uri": "https://localhost:8080/",
          "height": 191
        }
      },
      "source": [
        "# Using retokenize() method of Doc object to merge two tokens\n",
        "\n",
        "doc = nlp(text)\n",
        "with doc.retokenize() as retokenizer:\n",
        "    retokenizer.merge(doc[0:2])\n",
        "\n",
        "for token in doc:\n",
        "  print(token.text)"
      ],
      "execution_count": 37,
      "outputs": [
        {
          "output_type": "stream",
          "text": [
            "Robert Langdon\n",
            "is\n",
            "a\n",
            "famous\n",
            "character\n",
            "in\n",
            "various\n",
            "books\n",
            "and\n",
            "movies\n"
          ],
          "name": "stdout"
        }
      ]
    },
    {
      "cell_type": "markdown",
      "metadata": {
        "id": "YSMK0lkH_vCL"
      },
      "source": [
        "# How to extract Noun phrases from a text ?\n"
      ]
    },
    {
      "cell_type": "code",
      "metadata": {
        "id": "3DN0c7yzFIvD"
      },
      "source": [
        "text=\"There is a empty house on the Elm Street\""
      ],
      "execution_count": 38,
      "outputs": []
    },
    {
      "cell_type": "code",
      "metadata": {
        "id": "Y68IORWHFJsR",
        "outputId": "51afe41e-11be-432c-bc34-482adf03b970",
        "colab": {
          "base_uri": "https://localhost:8080/",
          "height": 35
        }
      },
      "source": [
        "# Create a spacy doc of the text\n",
        "doc = nlp(text)\n",
        "\n",
        "# Use `noun_chunks` attribute to extract the Noun phrases\n",
        "chunks = list(doc.noun_chunks)\n",
        "chunks"
      ],
      "execution_count": 39,
      "outputs": [
        {
          "output_type": "execute_result",
          "data": {
            "text/plain": [
              "[a empty house, the Elm Street]"
            ]
          },
          "metadata": {
            "tags": []
          },
          "execution_count": 39
        }
      ]
    },
    {
      "cell_type": "markdown",
      "metadata": {
        "id": "n1Z-60Z8_xOC"
      },
      "source": [
        "# How to extract Verb phrases from the text ?\n"
      ]
    },
    {
      "cell_type": "code",
      "metadata": {
        "id": "Y8vEYKq6FKcB"
      },
      "source": [
        "text=(\"I may bake a cake for my birthday. The talk will introduce reader about Use of baking\")"
      ],
      "execution_count": 47,
      "outputs": []
    },
    {
      "cell_type": "code",
      "metadata": {
        "id": "GoA6xaroFLUQ",
        "outputId": "666ac15a-e1ee-42b8-8555-8d899446eaa2",
        "colab": {
          "base_uri": "https://localhost:8080/",
          "height": 89
        }
      },
      "source": [
        "# Import textacy library\n",
        "#!pip install textacy\n",
        "#!pip install -U spacy\n",
        "import textacy\n",
        "# Regex pattern to identify verb phrase\n",
        "pattern = r'(<VERB>?<ADV>*<VERB>+)'\n",
        "#doc = textacy.make_spacy_doc(text,lang='en_core_web_sm')\n",
        "doc = textacy.make_spacy_doc(\"The author is writing a new book.\", lang='en_core_web_sm')\n",
        "\n",
        "# Finding matches\n",
        "verb_phrases = textacy.extract.pos_regex_matches(doc, pattern)\n",
        "\n",
        "# Print all Verb Phrase\n",
        "for chunk in verb_phrases:\n",
        "  print(chunk.text)"
      ],
      "execution_count": 50,
      "outputs": [
        {
          "output_type": "stream",
          "text": [
            "writing\n"
          ],
          "name": "stdout"
        },
        {
          "output_type": "stream",
          "text": [
            "/usr/local/lib/python3.6/dist-packages/textacy/extract.py:338: DeprecationWarning: `pos_regex_matches()` has been deprecated! for similar but more powerful and performant functionality, use `textacy.extract.matches()` instead.\n",
            "  action=\"once\",\n"
          ],
          "name": "stderr"
        }
      ]
    },
    {
      "cell_type": "markdown",
      "metadata": {
        "id": "bsT1PPYc_y_F"
      },
      "source": [
        "# How to extract first name and last names present in the document ?\n"
      ]
    },
    {
      "cell_type": "code",
      "metadata": {
        "id": "034yqGxoFMVf"
      },
      "source": [
        "text=\"Sherlock Holmes and Clint Thomas were good friends. I am a fan of John Mark\""
      ],
      "execution_count": 51,
      "outputs": []
    },
    {
      "cell_type": "code",
      "metadata": {
        "id": "j2bzVJxcFNXN",
        "outputId": "d42e758c-8f02-49ba-f95f-d2f28ddc3cf5",
        "colab": {
          "base_uri": "https://localhost:8080/",
          "height": 69
        }
      },
      "source": [
        "# Import and initialize spacy's matcher\n",
        "from spacy.matcher import Matcher\n",
        "matcher = Matcher(nlp.vocab)\n",
        "doc=nlp(text)\n",
        "\n",
        "# Function that adds patterns to the matcher and finds the respective matches\n",
        "def extract_matches(doc):\n",
        "   pattern = [{'POS': 'PROPN'}, {'POS': 'PROPN'}]\n",
        "   matcher.add('FULL_NAME', None, pattern)\n",
        "   matches = matcher(doc)\n",
        "   \n",
        "   for match_id, start, end in matches:\n",
        "     span = doc[start:end]\n",
        "     print(span.text)\n",
        "\n",
        "extract_matches(doc)"
      ],
      "execution_count": 52,
      "outputs": [
        {
          "output_type": "stream",
          "text": [
            "Sherlock Holmes\n",
            "Clint Thomas\n",
            "John Mark\n"
          ],
          "name": "stdout"
        }
      ]
    },
    {
      "cell_type": "markdown",
      "metadata": {
        "id": "2EGfh5oI_1RI"
      },
      "source": [
        "# How to identify named entities in the given text\n"
      ]
    },
    {
      "cell_type": "code",
      "metadata": {
        "id": "m87DV6aeFOBm"
      },
      "source": [
        "text=\"Jeff Bezos works at Amazon. He lives in Seattle.\""
      ],
      "execution_count": 53,
      "outputs": []
    },
    {
      "cell_type": "code",
      "metadata": {
        "id": "YQ31zvsbFPEX",
        "outputId": "4d15070e-68c0-4d91-d992-2d007daec207",
        "colab": {
          "base_uri": "https://localhost:8080/",
          "height": 69
        }
      },
      "source": [
        "# Load spacy modelimport spacy\n",
        "nlp=spacy.load(\"en_core_web_sm\")\n",
        "doc=nlp(text)\n",
        "# Using the ents attribute of doc, identify labels\n",
        "for entity in doc.ents:  \n",
        "   print(entity.text,entity.label_)"
      ],
      "execution_count": 54,
      "outputs": [
        {
          "output_type": "stream",
          "text": [
            "Jeff Bezos PERSON\n",
            "Amazon ORG\n",
            "Seattle GPE\n"
          ],
          "name": "stdout"
        }
      ]
    },
    {
      "cell_type": "markdown",
      "metadata": {
        "id": "kzFoG7VO_3PI"
      },
      "source": [
        "# How to identify all the names of Organizations present in the text with NER ?\n"
      ]
    },
    {
      "cell_type": "code",
      "metadata": {
        "id": "te5r-agFFPzH"
      },
      "source": [
        "text =\" Google has released it's new model which has got attention of everyone. Amazon is planning to expand into Food delivery, thereby giving competition . Apple is coming up with new iphone model. Flipkart will have to catch up soon.\""
      ],
      "execution_count": 55,
      "outputs": []
    },
    {
      "cell_type": "code",
      "metadata": {
        "id": "r_uAKPL7FQo9",
        "outputId": "4edc6da6-5350-44fb-cf94-84e5d8db898b",
        "colab": {
          "base_uri": "https://localhost:8080/",
          "height": 35
        }
      },
      "source": [
        "doc=nlp(text)\n",
        "list_of_org=[]\n",
        "for entity in doc.ents:\n",
        "  if entity.label_==\"ORG\":\n",
        "    list_of_org.append(entity.text)\n",
        "\n",
        "print(list_of_org)"
      ],
      "execution_count": 56,
      "outputs": [
        {
          "output_type": "stream",
          "text": [
            "['Google', 'Amazon', 'Apple']\n"
          ],
          "name": "stdout"
        }
      ]
    },
    {
      "cell_type": "markdown",
      "metadata": {
        "id": "axy3dfWu_7oh"
      },
      "source": [
        "# How to replace all names of people in the text with 'UNKNOWN'\n"
      ]
    },
    {
      "cell_type": "code",
      "metadata": {
        "id": "J7bHGWmrFRTP"
      },
      "source": [
        "news=\" Walter was arrested yesterday at Brooklyn for murder. The suspicions and fingerprints pointed to Walter  and his friend  Pinkman . The arrest was made by inspector Hank\""
      ],
      "execution_count": 57,
      "outputs": []
    },
    {
      "cell_type": "code",
      "metadata": {
        "id": "DnNvJyYxFSXU",
        "outputId": "ad003c71-680c-49f5-c3b1-aad842424215",
        "colab": {
          "base_uri": "https://localhost:8080/",
          "height": 53
        }
      },
      "source": [
        "doc=nlp(news)\n",
        "\n",
        "# Identifying the entities of category 'PERSON'\n",
        "entities = [entity.text  for entity in doc.ents  if entity.label_=='PERSON']\n",
        "updated_text=[]\n",
        "\n",
        "for token in doc:\n",
        "  if token.text in entities:\n",
        "    updated_text.append(\"UNKNOWN\")\n",
        "  else :\n",
        "    updated_text.append(token.text)\n",
        "\n",
        "\" \".join(updated_text)"
      ],
      "execution_count": 58,
      "outputs": [
        {
          "output_type": "execute_result",
          "data": {
            "application/vnd.google.colaboratory.intrinsic+json": {
              "type": "string"
            },
            "text/plain": [
              "'  UNKNOWN was arrested yesterday at Brooklyn for murder . The suspicions and fingerprints pointed to UNKNOWN   and his friend   UNKNOWN . The arrest was made by inspector UNKNOWN'"
            ]
          },
          "metadata": {
            "tags": []
          },
          "execution_count": 58
        }
      ]
    },
    {
      "cell_type": "markdown",
      "metadata": {
        "id": "mHvh5IMi_-W8"
      },
      "source": [
        "# How to visualize the named entities using spaCy\n"
      ]
    },
    {
      "cell_type": "code",
      "metadata": {
        "id": "eRYwjr0tFTGo"
      },
      "source": [
        "text=\" Walter was arrested yesterday at Brooklyn for murder. The suspicions and fingerprints pointed to Walter  and his friend  Pinkman . He is from Paris \""
      ],
      "execution_count": 59,
      "outputs": []
    },
    {
      "cell_type": "code",
      "metadata": {
        "id": "trp4b1bQFUEQ",
        "outputId": "4935fc4a-148d-4efa-9790-7030dd78cbd8",
        "colab": {
          "base_uri": "https://localhost:8080/",
          "height": 107
        }
      },
      "source": [
        "from spacy import displacy\n",
        "doc=nlp(text)\n",
        "displacy.render(doc,style='ent',jupyter=True)"
      ],
      "execution_count": 60,
      "outputs": [
        {
          "output_type": "display_data",
          "data": {
            "text/html": [
              "<span class=\"tex2jax_ignore\"><div class=\"entities\" style=\"line-height: 2.5; direction: ltr\"> \n",
              "<mark class=\"entity\" style=\"background: #aa9cfc; padding: 0.45em 0.6em; margin: 0 0.25em; line-height: 1; border-radius: 0.35em;\">\n",
              "    Walter\n",
              "    <span style=\"font-size: 0.8em; font-weight: bold; line-height: 1; border-radius: 0.35em; text-transform: uppercase; vertical-align: middle; margin-left: 0.5rem\">PERSON</span>\n",
              "</mark>\n",
              " was arrested \n",
              "<mark class=\"entity\" style=\"background: #bfe1d9; padding: 0.45em 0.6em; margin: 0 0.25em; line-height: 1; border-radius: 0.35em;\">\n",
              "    yesterday\n",
              "    <span style=\"font-size: 0.8em; font-weight: bold; line-height: 1; border-radius: 0.35em; text-transform: uppercase; vertical-align: middle; margin-left: 0.5rem\">DATE</span>\n",
              "</mark>\n",
              " at \n",
              "<mark class=\"entity\" style=\"background: #feca74; padding: 0.45em 0.6em; margin: 0 0.25em; line-height: 1; border-radius: 0.35em;\">\n",
              "    Brooklyn\n",
              "    <span style=\"font-size: 0.8em; font-weight: bold; line-height: 1; border-radius: 0.35em; text-transform: uppercase; vertical-align: middle; margin-left: 0.5rem\">GPE</span>\n",
              "</mark>\n",
              " for murder. The suspicions and fingerprints pointed to \n",
              "<mark class=\"entity\" style=\"background: #aa9cfc; padding: 0.45em 0.6em; margin: 0 0.25em; line-height: 1; border-radius: 0.35em;\">\n",
              "    Walter  \n",
              "    <span style=\"font-size: 0.8em; font-weight: bold; line-height: 1; border-radius: 0.35em; text-transform: uppercase; vertical-align: middle; margin-left: 0.5rem\">PERSON</span>\n",
              "</mark>\n",
              "and his friend  \n",
              "<mark class=\"entity\" style=\"background: #aa9cfc; padding: 0.45em 0.6em; margin: 0 0.25em; line-height: 1; border-radius: 0.35em;\">\n",
              "    Pinkman\n",
              "    <span style=\"font-size: 0.8em; font-weight: bold; line-height: 1; border-radius: 0.35em; text-transform: uppercase; vertical-align: middle; margin-left: 0.5rem\">PERSON</span>\n",
              "</mark>\n",
              " . He is from \n",
              "<mark class=\"entity\" style=\"background: #feca74; padding: 0.45em 0.6em; margin: 0 0.25em; line-height: 1; border-radius: 0.35em;\">\n",
              "    Paris\n",
              "    <span style=\"font-size: 0.8em; font-weight: bold; line-height: 1; border-radius: 0.35em; text-transform: uppercase; vertical-align: middle; margin-left: 0.5rem\">GPE</span>\n",
              "</mark>\n",
              " </div></span>"
            ],
            "text/plain": [
              "<IPython.core.display.HTML object>"
            ]
          },
          "metadata": {
            "tags": []
          }
        }
      ]
    },
    {
      "cell_type": "markdown",
      "metadata": {
        "id": "WZwDkjCkAAl8"
      },
      "source": [
        "# How to implement dependency parsing ?\n"
      ]
    },
    {
      "cell_type": "code",
      "metadata": {
        "id": "2y6sTYwIFUvg"
      },
      "source": [
        "text=\"Mark plays volleyball every evening.\""
      ],
      "execution_count": 61,
      "outputs": []
    },
    {
      "cell_type": "code",
      "metadata": {
        "id": "RGHOkL8cFVsP",
        "outputId": "c3ef9dc4-733a-4166-fb79-d7aa1659112d",
        "colab": {
          "base_uri": "https://localhost:8080/",
          "height": 121
        }
      },
      "source": [
        "# Using dep_ attribute od tokens in spaCy to access the dependency of the word in sentence.\n",
        "doc=nlp(text)\n",
        "\n",
        "for token in doc:\n",
        "  print(token.text,token.dep_)"
      ],
      "execution_count": 62,
      "outputs": [
        {
          "output_type": "stream",
          "text": [
            "Mark nsubj\n",
            "plays ROOT\n",
            "volleyball dobj\n",
            "every det\n",
            "evening npadvmod\n",
            ". punct\n"
          ],
          "name": "stdout"
        }
      ]
    },
    {
      "cell_type": "markdown",
      "metadata": {
        "id": "7ZcI0_eXAC12"
      },
      "source": [
        "# How to find the ROOT word of any word in a sentence?\n"
      ]
    },
    {
      "cell_type": "code",
      "metadata": {
        "id": "Dlu7fzD0FWYx"
      },
      "source": [
        "text=\"Mark plays volleyball. Sam is not into sports, he paints a lot\""
      ],
      "execution_count": 63,
      "outputs": []
    },
    {
      "cell_type": "code",
      "metadata": {
        "id": "miiiAxuPFXPB",
        "outputId": "7f0babea-a161-4709-9f76-72429a90e6e2",
        "colab": {
          "base_uri": "https://localhost:8080/",
          "height": 260
        }
      },
      "source": [
        "# use the head attribute of tokens to find it's rootword\n",
        "doc=nlp(text)\n",
        "for token in doc:\n",
        "  print(token.text,token.head)"
      ],
      "execution_count": 64,
      "outputs": [
        {
          "output_type": "stream",
          "text": [
            "Mark plays\n",
            "plays plays\n",
            "volleyball plays\n",
            ". plays\n",
            "Sam is\n",
            "is paints\n",
            "not is\n",
            "into is\n",
            "sports into\n",
            ", paints\n",
            "he paints\n",
            "paints paints\n",
            "a lot\n",
            "lot paints\n"
          ],
          "name": "stdout"
        }
      ]
    },
    {
      "cell_type": "markdown",
      "metadata": {
        "id": "Js8kXjSSAFU0"
      },
      "source": [
        "# How to visualize the dependency tree in spaCy"
      ]
    },
    {
      "cell_type": "code",
      "metadata": {
        "id": "t5T0NS3XFX4l"
      },
      "source": [
        "text=\"Mark plays volleyball. Sam is not into sports, he paints a lot\""
      ],
      "execution_count": 65,
      "outputs": []
    },
    {
      "cell_type": "code",
      "metadata": {
        "id": "QI1kB2UtFYwn",
        "outputId": "0a3b1197-342a-491e-d1e9-08f42e10405c",
        "colab": {
          "base_uri": "https://localhost:8080/",
          "height": 441
        }
      },
      "source": [
        "# Use spacy's displacy with the parameter style=\"dep\"\n",
        "doc=nlp(text)\n",
        "\n",
        "from spacy import displacy\n",
        "displacy.render(doc,style='dep',jupyter=True)"
      ],
      "execution_count": 66,
      "outputs": [
        {
          "output_type": "display_data",
          "data": {
            "text/html": [
              "<span class=\"tex2jax_ignore\"><svg xmlns=\"http://www.w3.org/2000/svg\" xmlns:xlink=\"http://www.w3.org/1999/xlink\" xml:lang=\"en\" id=\"b1e51c187a2d4c889a84cb9eda97a1fe-0\" class=\"displacy\" width=\"2150\" height=\"399.5\" direction=\"ltr\" style=\"max-width: none; height: 399.5px; color: #000000; background: #ffffff; font-family: Arial; direction: ltr\">\n",
              "<text class=\"displacy-token\" fill=\"currentColor\" text-anchor=\"middle\" y=\"309.5\">\n",
              "    <tspan class=\"displacy-word\" fill=\"currentColor\" x=\"50\">Mark</tspan>\n",
              "    <tspan class=\"displacy-tag\" dy=\"2em\" fill=\"currentColor\" x=\"50\">PROPN</tspan>\n",
              "</text>\n",
              "\n",
              "<text class=\"displacy-token\" fill=\"currentColor\" text-anchor=\"middle\" y=\"309.5\">\n",
              "    <tspan class=\"displacy-word\" fill=\"currentColor\" x=\"225\">plays</tspan>\n",
              "    <tspan class=\"displacy-tag\" dy=\"2em\" fill=\"currentColor\" x=\"225\">VERB</tspan>\n",
              "</text>\n",
              "\n",
              "<text class=\"displacy-token\" fill=\"currentColor\" text-anchor=\"middle\" y=\"309.5\">\n",
              "    <tspan class=\"displacy-word\" fill=\"currentColor\" x=\"400\">volleyball.</tspan>\n",
              "    <tspan class=\"displacy-tag\" dy=\"2em\" fill=\"currentColor\" x=\"400\">NOUN</tspan>\n",
              "</text>\n",
              "\n",
              "<text class=\"displacy-token\" fill=\"currentColor\" text-anchor=\"middle\" y=\"309.5\">\n",
              "    <tspan class=\"displacy-word\" fill=\"currentColor\" x=\"575\">Sam</tspan>\n",
              "    <tspan class=\"displacy-tag\" dy=\"2em\" fill=\"currentColor\" x=\"575\">PROPN</tspan>\n",
              "</text>\n",
              "\n",
              "<text class=\"displacy-token\" fill=\"currentColor\" text-anchor=\"middle\" y=\"309.5\">\n",
              "    <tspan class=\"displacy-word\" fill=\"currentColor\" x=\"750\">is</tspan>\n",
              "    <tspan class=\"displacy-tag\" dy=\"2em\" fill=\"currentColor\" x=\"750\">AUX</tspan>\n",
              "</text>\n",
              "\n",
              "<text class=\"displacy-token\" fill=\"currentColor\" text-anchor=\"middle\" y=\"309.5\">\n",
              "    <tspan class=\"displacy-word\" fill=\"currentColor\" x=\"925\">not</tspan>\n",
              "    <tspan class=\"displacy-tag\" dy=\"2em\" fill=\"currentColor\" x=\"925\">PART</tspan>\n",
              "</text>\n",
              "\n",
              "<text class=\"displacy-token\" fill=\"currentColor\" text-anchor=\"middle\" y=\"309.5\">\n",
              "    <tspan class=\"displacy-word\" fill=\"currentColor\" x=\"1100\">into</tspan>\n",
              "    <tspan class=\"displacy-tag\" dy=\"2em\" fill=\"currentColor\" x=\"1100\">ADP</tspan>\n",
              "</text>\n",
              "\n",
              "<text class=\"displacy-token\" fill=\"currentColor\" text-anchor=\"middle\" y=\"309.5\">\n",
              "    <tspan class=\"displacy-word\" fill=\"currentColor\" x=\"1275\">sports,</tspan>\n",
              "    <tspan class=\"displacy-tag\" dy=\"2em\" fill=\"currentColor\" x=\"1275\">NOUN</tspan>\n",
              "</text>\n",
              "\n",
              "<text class=\"displacy-token\" fill=\"currentColor\" text-anchor=\"middle\" y=\"309.5\">\n",
              "    <tspan class=\"displacy-word\" fill=\"currentColor\" x=\"1450\">he</tspan>\n",
              "    <tspan class=\"displacy-tag\" dy=\"2em\" fill=\"currentColor\" x=\"1450\">PRON</tspan>\n",
              "</text>\n",
              "\n",
              "<text class=\"displacy-token\" fill=\"currentColor\" text-anchor=\"middle\" y=\"309.5\">\n",
              "    <tspan class=\"displacy-word\" fill=\"currentColor\" x=\"1625\">paints</tspan>\n",
              "    <tspan class=\"displacy-tag\" dy=\"2em\" fill=\"currentColor\" x=\"1625\">VERB</tspan>\n",
              "</text>\n",
              "\n",
              "<text class=\"displacy-token\" fill=\"currentColor\" text-anchor=\"middle\" y=\"309.5\">\n",
              "    <tspan class=\"displacy-word\" fill=\"currentColor\" x=\"1800\">a</tspan>\n",
              "    <tspan class=\"displacy-tag\" dy=\"2em\" fill=\"currentColor\" x=\"1800\">DET</tspan>\n",
              "</text>\n",
              "\n",
              "<text class=\"displacy-token\" fill=\"currentColor\" text-anchor=\"middle\" y=\"309.5\">\n",
              "    <tspan class=\"displacy-word\" fill=\"currentColor\" x=\"1975\">lot</tspan>\n",
              "    <tspan class=\"displacy-tag\" dy=\"2em\" fill=\"currentColor\" x=\"1975\">NOUN</tspan>\n",
              "</text>\n",
              "\n",
              "<g class=\"displacy-arrow\">\n",
              "    <path class=\"displacy-arc\" id=\"arrow-b1e51c187a2d4c889a84cb9eda97a1fe-0-0\" stroke-width=\"2px\" d=\"M70,264.5 C70,177.0 215.0,177.0 215.0,264.5\" fill=\"none\" stroke=\"currentColor\"/>\n",
              "    <text dy=\"1.25em\" style=\"font-size: 0.8em; letter-spacing: 1px\">\n",
              "        <textPath xlink:href=\"#arrow-b1e51c187a2d4c889a84cb9eda97a1fe-0-0\" class=\"displacy-label\" startOffset=\"50%\" side=\"left\" fill=\"currentColor\" text-anchor=\"middle\">nsubj</textPath>\n",
              "    </text>\n",
              "    <path class=\"displacy-arrowhead\" d=\"M70,266.5 L62,254.5 78,254.5\" fill=\"currentColor\"/>\n",
              "</g>\n",
              "\n",
              "<g class=\"displacy-arrow\">\n",
              "    <path class=\"displacy-arc\" id=\"arrow-b1e51c187a2d4c889a84cb9eda97a1fe-0-1\" stroke-width=\"2px\" d=\"M245,264.5 C245,177.0 390.0,177.0 390.0,264.5\" fill=\"none\" stroke=\"currentColor\"/>\n",
              "    <text dy=\"1.25em\" style=\"font-size: 0.8em; letter-spacing: 1px\">\n",
              "        <textPath xlink:href=\"#arrow-b1e51c187a2d4c889a84cb9eda97a1fe-0-1\" class=\"displacy-label\" startOffset=\"50%\" side=\"left\" fill=\"currentColor\" text-anchor=\"middle\">dobj</textPath>\n",
              "    </text>\n",
              "    <path class=\"displacy-arrowhead\" d=\"M390.0,266.5 L398.0,254.5 382.0,254.5\" fill=\"currentColor\"/>\n",
              "</g>\n",
              "\n",
              "<g class=\"displacy-arrow\">\n",
              "    <path class=\"displacy-arc\" id=\"arrow-b1e51c187a2d4c889a84cb9eda97a1fe-0-2\" stroke-width=\"2px\" d=\"M595,264.5 C595,177.0 740.0,177.0 740.0,264.5\" fill=\"none\" stroke=\"currentColor\"/>\n",
              "    <text dy=\"1.25em\" style=\"font-size: 0.8em; letter-spacing: 1px\">\n",
              "        <textPath xlink:href=\"#arrow-b1e51c187a2d4c889a84cb9eda97a1fe-0-2\" class=\"displacy-label\" startOffset=\"50%\" side=\"left\" fill=\"currentColor\" text-anchor=\"middle\">nsubj</textPath>\n",
              "    </text>\n",
              "    <path class=\"displacy-arrowhead\" d=\"M595,266.5 L587,254.5 603,254.5\" fill=\"currentColor\"/>\n",
              "</g>\n",
              "\n",
              "<g class=\"displacy-arrow\">\n",
              "    <path class=\"displacy-arc\" id=\"arrow-b1e51c187a2d4c889a84cb9eda97a1fe-0-3\" stroke-width=\"2px\" d=\"M770,264.5 C770,2.0 1625.0,2.0 1625.0,264.5\" fill=\"none\" stroke=\"currentColor\"/>\n",
              "    <text dy=\"1.25em\" style=\"font-size: 0.8em; letter-spacing: 1px\">\n",
              "        <textPath xlink:href=\"#arrow-b1e51c187a2d4c889a84cb9eda97a1fe-0-3\" class=\"displacy-label\" startOffset=\"50%\" side=\"left\" fill=\"currentColor\" text-anchor=\"middle\">ccomp</textPath>\n",
              "    </text>\n",
              "    <path class=\"displacy-arrowhead\" d=\"M770,266.5 L762,254.5 778,254.5\" fill=\"currentColor\"/>\n",
              "</g>\n",
              "\n",
              "<g class=\"displacy-arrow\">\n",
              "    <path class=\"displacy-arc\" id=\"arrow-b1e51c187a2d4c889a84cb9eda97a1fe-0-4\" stroke-width=\"2px\" d=\"M770,264.5 C770,177.0 915.0,177.0 915.0,264.5\" fill=\"none\" stroke=\"currentColor\"/>\n",
              "    <text dy=\"1.25em\" style=\"font-size: 0.8em; letter-spacing: 1px\">\n",
              "        <textPath xlink:href=\"#arrow-b1e51c187a2d4c889a84cb9eda97a1fe-0-4\" class=\"displacy-label\" startOffset=\"50%\" side=\"left\" fill=\"currentColor\" text-anchor=\"middle\">neg</textPath>\n",
              "    </text>\n",
              "    <path class=\"displacy-arrowhead\" d=\"M915.0,266.5 L923.0,254.5 907.0,254.5\" fill=\"currentColor\"/>\n",
              "</g>\n",
              "\n",
              "<g class=\"displacy-arrow\">\n",
              "    <path class=\"displacy-arc\" id=\"arrow-b1e51c187a2d4c889a84cb9eda97a1fe-0-5\" stroke-width=\"2px\" d=\"M770,264.5 C770,89.5 1095.0,89.5 1095.0,264.5\" fill=\"none\" stroke=\"currentColor\"/>\n",
              "    <text dy=\"1.25em\" style=\"font-size: 0.8em; letter-spacing: 1px\">\n",
              "        <textPath xlink:href=\"#arrow-b1e51c187a2d4c889a84cb9eda97a1fe-0-5\" class=\"displacy-label\" startOffset=\"50%\" side=\"left\" fill=\"currentColor\" text-anchor=\"middle\">prep</textPath>\n",
              "    </text>\n",
              "    <path class=\"displacy-arrowhead\" d=\"M1095.0,266.5 L1103.0,254.5 1087.0,254.5\" fill=\"currentColor\"/>\n",
              "</g>\n",
              "\n",
              "<g class=\"displacy-arrow\">\n",
              "    <path class=\"displacy-arc\" id=\"arrow-b1e51c187a2d4c889a84cb9eda97a1fe-0-6\" stroke-width=\"2px\" d=\"M1120,264.5 C1120,177.0 1265.0,177.0 1265.0,264.5\" fill=\"none\" stroke=\"currentColor\"/>\n",
              "    <text dy=\"1.25em\" style=\"font-size: 0.8em; letter-spacing: 1px\">\n",
              "        <textPath xlink:href=\"#arrow-b1e51c187a2d4c889a84cb9eda97a1fe-0-6\" class=\"displacy-label\" startOffset=\"50%\" side=\"left\" fill=\"currentColor\" text-anchor=\"middle\">pobj</textPath>\n",
              "    </text>\n",
              "    <path class=\"displacy-arrowhead\" d=\"M1265.0,266.5 L1273.0,254.5 1257.0,254.5\" fill=\"currentColor\"/>\n",
              "</g>\n",
              "\n",
              "<g class=\"displacy-arrow\">\n",
              "    <path class=\"displacy-arc\" id=\"arrow-b1e51c187a2d4c889a84cb9eda97a1fe-0-7\" stroke-width=\"2px\" d=\"M1470,264.5 C1470,177.0 1615.0,177.0 1615.0,264.5\" fill=\"none\" stroke=\"currentColor\"/>\n",
              "    <text dy=\"1.25em\" style=\"font-size: 0.8em; letter-spacing: 1px\">\n",
              "        <textPath xlink:href=\"#arrow-b1e51c187a2d4c889a84cb9eda97a1fe-0-7\" class=\"displacy-label\" startOffset=\"50%\" side=\"left\" fill=\"currentColor\" text-anchor=\"middle\">nsubj</textPath>\n",
              "    </text>\n",
              "    <path class=\"displacy-arrowhead\" d=\"M1470,266.5 L1462,254.5 1478,254.5\" fill=\"currentColor\"/>\n",
              "</g>\n",
              "\n",
              "<g class=\"displacy-arrow\">\n",
              "    <path class=\"displacy-arc\" id=\"arrow-b1e51c187a2d4c889a84cb9eda97a1fe-0-8\" stroke-width=\"2px\" d=\"M1820,264.5 C1820,177.0 1965.0,177.0 1965.0,264.5\" fill=\"none\" stroke=\"currentColor\"/>\n",
              "    <text dy=\"1.25em\" style=\"font-size: 0.8em; letter-spacing: 1px\">\n",
              "        <textPath xlink:href=\"#arrow-b1e51c187a2d4c889a84cb9eda97a1fe-0-8\" class=\"displacy-label\" startOffset=\"50%\" side=\"left\" fill=\"currentColor\" text-anchor=\"middle\">det</textPath>\n",
              "    </text>\n",
              "    <path class=\"displacy-arrowhead\" d=\"M1820,266.5 L1812,254.5 1828,254.5\" fill=\"currentColor\"/>\n",
              "</g>\n",
              "\n",
              "<g class=\"displacy-arrow\">\n",
              "    <path class=\"displacy-arc\" id=\"arrow-b1e51c187a2d4c889a84cb9eda97a1fe-0-9\" stroke-width=\"2px\" d=\"M1645,264.5 C1645,89.5 1970.0,89.5 1970.0,264.5\" fill=\"none\" stroke=\"currentColor\"/>\n",
              "    <text dy=\"1.25em\" style=\"font-size: 0.8em; letter-spacing: 1px\">\n",
              "        <textPath xlink:href=\"#arrow-b1e51c187a2d4c889a84cb9eda97a1fe-0-9\" class=\"displacy-label\" startOffset=\"50%\" side=\"left\" fill=\"currentColor\" text-anchor=\"middle\">dobj</textPath>\n",
              "    </text>\n",
              "    <path class=\"displacy-arrowhead\" d=\"M1970.0,266.5 L1978.0,254.5 1962.0,254.5\" fill=\"currentColor\"/>\n",
              "</g>\n",
              "</svg></span>"
            ],
            "text/plain": [
              "<IPython.core.display.HTML object>"
            ]
          },
          "metadata": {
            "tags": []
          }
        }
      ]
    },
    {
      "cell_type": "markdown",
      "metadata": {
        "id": "ZGkTIo-1AHb7"
      },
      "source": [
        "# How to detect all the Laptop names present in the text ?\n"
      ]
    },
    {
      "cell_type": "code",
      "metadata": {
        "id": "WLyv-Pp0FZmP"
      },
      "source": [
        "text=\"For my offical use, I prefer lenova. For gaming purposes, I love asus\""
      ],
      "execution_count": 67,
      "outputs": []
    },
    {
      "cell_type": "code",
      "metadata": {
        "id": "J2EsRJCqFeUn",
        "outputId": "a2c96a5a-f659-498a-dd01-dc5969a0f39e",
        "colab": {
          "base_uri": "https://localhost:8080/",
          "height": 52
        }
      },
      "source": [
        "# Import EntityRuler of spacy model\n",
        "import spacy\n",
        "nlp=spacy.load(\"en_core_web_sm\")\n",
        "from spacy.pipeline import EntityRuler\n",
        "\n",
        "# Functions to create patterns of laptop name to match\n",
        "def create_versioned(name):\n",
        "    return [\n",
        "        [{'LOWER': name}], \n",
        "        [{'LOWER': {'REGEX': f'({name}\\d+\\.?\\d*.?\\d*)'}}], \n",
        "        [{'LOWER': name}, {'TEXT': {'REGEX': '(\\d+\\.?\\d*.?\\d*)'}}]]\n",
        "\n",
        "def create_patterns():\n",
        "    versioned_languages = ['dell', 'HP', 'asus','msi','Apple','HCL','sony','samsung','lenova','acer']\n",
        "    flatten = lambda l: [item for sublist in l for item in sublist]\n",
        "    versioned_patterns = flatten([create_versioned(lang) for lang in versioned_languages])\n",
        "\n",
        "    lang_patterns = [\n",
        "        [{'LOWER': 'dell'}, {'LIKE_NUM': True}],\n",
        "        [{'LOWER': 'HP'}],\n",
        "        [{'LOWER': 'asus'}, {'LOWER': '#'}],\n",
        "        [{'LOWER': 'msi'}, {'LOWER': 'sharp'}],\n",
        "        [{'LOWER': 'Apple'}],\n",
        "        [{'LOWER': 'HCL'}, {'LOWER': '#'}],\n",
        "        [{'LOWER': 'sony'}],\n",
        "        [{'LOWER': 'samsung'}],\n",
        "        [{'LOWER': 'toshiba'}],\n",
        "        [{'LOWER': 'dell'},{'LOWER': 'inspiron'}],\n",
        "        [{'LOWER': 'acer'},{'IS_PUNCT': True, 'OP': '?'},{'LOWER': 'c'}],\n",
        "        [{'LOWER': 'golang'}],\n",
        "        [{'LOWER': 'lenova'}],\n",
        "        [{'LOWER': 'HP'},{'LOWER':'gaming'}],\n",
        "        [{'LOWER': 'Fujitsu'}],\n",
        "        [{'LOWER': 'micromax'}],\n",
        "    ]\n",
        "\n",
        "    return versioned_patterns + lang_patterns\n",
        "\n",
        "# Add the Entity Ruler to the pipeline\n",
        "ruler=EntityRuler(nlp)\n",
        "ruler.add_patterns([{'label':'laptop','pattern':p} for p in create_patterns()])\n",
        "nlp.add_pipe(ruler)\n",
        "\n",
        "# Identify the car names now\n",
        "doc=nlp(\"For my offical use, I prefer lenova. For gaming purposes, I love asus\")\n",
        "for ent in doc.ents:\n",
        "  print(ent.text,ent.label_)"
      ],
      "execution_count": 68,
      "outputs": [
        {
          "output_type": "stream",
          "text": [
            "lenova laptop\n",
            "asus laptop\n"
          ],
          "name": "stdout"
        }
      ]
    },
    {
      "cell_type": "markdown",
      "metadata": {
        "id": "MBmZuFNiAJul"
      },
      "source": [
        "# How to summarize text using gensim ?\n"
      ]
    },
    {
      "cell_type": "code",
      "metadata": {
        "id": "Viz0BMhOFe_t"
      },
      "source": [
        "original_text=\"\"\"Studies show that exercise can treat mild to moderate depression as effectively as antidepressant medication—but without the side-effects, of course. As one example, a recent study done by the Harvard T.H. Chan School of Public Health found that running for 15 minutes a day or walking for an hour reduces the risk of major depression by 26%. In addition to relieving depression symptoms, research also shows that maintaining an exercise schedule can prevent you from relapsing.\n",
        "Exercise is a powerful depression fighter for several reasons. Most importantly, it promotes all kinds of changes in the brain, including neural growth, reduced inflammation, and new activity patterns that promote feelings of calm and well-being. It also releases endorphins, powerful chemicals in your brain that energize your spirits and make you feel good. Finally, exercise can also serve as a distraction, allowing you to find some quiet time to break out of the cycle of negative thoughts that feed depression.\n",
        "Exercise is not just about aerobic capacity and muscle size. Sure, exercise can improve your physical health and your physique, trim your waistline, improve your sex life, and even add years to your life. But that’s not what motivates most people to stay active.\n",
        "People who exercise regularly tend to do so because it gives them an enormous sense of well-being. They feel more energetic throughout the day, sleep better at night, have sharper memories, and feel more relaxed and positive about themselves and their lives. And it’s also powerful medicine for many common mental health challenges.\n",
        "Regular exercise can have a profoundly positive impact on depression, anxiety, ADHD, and more. It also relieves stress, improves memory, helps you sleep better, and boosts your overall mood. And you don’t have to be a fitness fanatic to reap the benefits. Research indicates that modest amounts of exercise can make a difference. No matter your age or fitness level, you can learn to use exercise as a powerful tool to feel better.\n",
        "Ever noticed how your body feels when you’re under stress? Your muscles may be tense, especially in your face, neck, and shoulders, leaving you with back or neck pain, or painful headaches. You may feel a tightness in your chest, a pounding pulse, or muscle cramps. You may also experience problems such as insomnia, heartburn, stomachache, diarrhea, or frequent urination. The worry and discomfort of all these physical symptoms can in turn lead to even more stress, creating a vicious cycle between your mind and body.\n",
        "Exercising is an effective way to break this cycle. As well as releasing endorphins in the brain, physical activity helps to relax the muscles and relieve tension in the body. Since the body and mind are so closely linked, when your body feels better so, too, will your mind.Evidence suggests that by really focusing on your body and how it feels as you exercise, you can actually help your nervous system become “unstuck” and begin to move out of the immobilization stress response that characterizes PTSD or trauma. \n",
        "Instead of allowing your mind to wander, pay close attention to the physical sensations in your joints and muscles, even your insides as your body moves. Exercises that involve cross movement and that engage both arms and legs—such as walking (especially in sand), running, swimming, weight training, or dancing—are some of your best choices.\n",
        "Outdoor activities like hiking, sailing, mountain biking, rock climbing, whitewater rafting, and skiing (downhill and cross-country) have also been shown to reduce the symptoms of PTSD.\"\"\""
      ],
      "execution_count": 69,
      "outputs": []
    },
    {
      "cell_type": "code",
      "metadata": {
        "id": "Bym3CVi4FgQt",
        "outputId": "f89a24fe-07e4-4ad3-de7b-324935dba765",
        "colab": {
          "base_uri": "https://localhost:8080/",
          "height": 107
        }
      },
      "source": [
        "# Importing the summarize function from gensim module\n",
        "import gensim\n",
        "from gensim.summarization.summarizer import summarize\n",
        "\n",
        "# Pass the document along with desired word count to get the summary\n",
        "my_summary=summarize(original_text,word_count=100)\n",
        "print(my_summary)"
      ],
      "execution_count": 70,
      "outputs": [
        {
          "output_type": "stream",
          "text": [
            "As one example, a recent study done by the Harvard T.H. Chan School of Public Health found that running for 15 minutes a day or walking for an hour reduces the risk of major depression by 26%.\n",
            "No matter your age or fitness level, you can learn to use exercise as a powerful tool to feel better.\n",
            "The worry and discomfort of all these physical symptoms can in turn lead to even more stress, creating a vicious cycle between your mind and body.\n",
            "As well as releasing endorphins in the brain, physical activity helps to relax the muscles and relieve tension in the body.\n"
          ],
          "name": "stdout"
        }
      ]
    },
    {
      "cell_type": "markdown",
      "metadata": {
        "id": "dZtbApoSAL2U"
      },
      "source": [
        "# How to summarize text based on the LexRank algorithm ?\n"
      ]
    },
    {
      "cell_type": "code",
      "metadata": {
        "id": "ht0I54AMFhFf"
      },
      "source": [
        "original_text=\"\"\"Studies show that exercise can treat mild to moderate depression as effectively as antidepressant medication—but without the side-effects, of course. As one example, a recent study done by the Harvard T.H. Chan School of Public Health found that running for 15 minutes a day or walking for an hour reduces the risk of major depression by 26%. In addition to relieving depression symptoms, research also shows that maintaining an exercise schedule can prevent you from relapsing.\n",
        "Exercise is a powerful depression fighter for several reasons. Most importantly, it promotes all kinds of changes in the brain, including neural growth, reduced inflammation, and new activity patterns that promote feelings of calm and well-being. It also releases endorphins, powerful chemicals in your brain that energize your spirits and make you feel good. Finally, exercise can also serve as a distraction, allowing you to find some quiet time to break out of the cycle of negative thoughts that feed depression.\n",
        "Exercise is not just about aerobic capacity and muscle size. Sure, exercise can improve your physical health and your physique, trim your waistline, improve your sex life, and even add years to your life. But that’s not what motivates most people to stay active.\n",
        "People who exercise regularly tend to do so because it gives them an enormous sense of well-being. They feel more energetic throughout the day, sleep better at night, have sharper memories, and feel more relaxed and positive about themselves and their lives. And it’s also powerful medicine for many common mental health challenges.\n",
        "Regular exercise can have a profoundly positive impact on depression, anxiety, ADHD, and more. It also relieves stress, improves memory, helps you sleep better, and boosts your overall mood. And you don’t have to be a fitness fanatic to reap the benefits. Research indicates that modest amounts of exercise can make a difference. No matter your age or fitness level, you can learn to use exercise as a powerful tool to feel better.\n",
        "Ever noticed how your body feels when you’re under stress? Your muscles may be tense, especially in your face, neck, and shoulders, leaving you with back or neck pain, or painful headaches. You may feel a tightness in your chest, a pounding pulse, or muscle cramps. You may also experience problems such as insomnia, heartburn, stomachache, diarrhea, or frequent urination. The worry and discomfort of all these physical symptoms can in turn lead to even more stress, creating a vicious cycle between your mind and body.\n",
        "Exercising is an effective way to break this cycle. As well as releasing endorphins in the brain, physical activity helps to relax the muscles and relieve tension in the body. Since the body and mind are so closely linked, when your body feels better so, too, will your mind.Evidence suggests that by really focusing on your body and how it feels as you exercise, you can actually help your nervous system become “unstuck” and begin to move out of the immobilization stress response that characterizes PTSD or trauma. \n",
        "Instead of allowing your mind to wander, pay close attention to the physical sensations in your joints and muscles, even your insides as your body moves. Exercises that involve cross movement and that engage both arms and legs—such as walking (especially in sand), running, swimming, weight training, or dancing—are some of your best choices.\n",
        "Outdoor activities like hiking, sailing, mountain biking, rock climbing, whitewater rafting, and skiing (downhill and cross-country) have also been shown to reduce the symptoms of PTSD.\"\"\""
      ],
      "execution_count": 71,
      "outputs": []
    },
    {
      "cell_type": "code",
      "metadata": {
        "id": "pkYVzWyTFh-U",
        "outputId": "7657fba0-6be6-42da-87d9-9b0d39220b0a",
        "colab": {
          "base_uri": "https://localhost:8080/",
          "height": 89
        }
      },
      "source": [
        "#!pip install sumy\n",
        "import sumy\n",
        "import nltk\n",
        "nltk.download('punkt')\n",
        "from sumy.summarizers.lex_rank import LexRankSummarizer\n",
        "\n",
        "#Plain text parsers since we are parsing through text\n",
        "from sumy.parsers.plaintext import PlaintextParser\n",
        "from sumy.nlp.tokenizers import Tokenizer\n",
        "\n",
        "parser=PlaintextParser.from_string(original_text,Tokenizer(\"english\"))\n",
        "\n",
        "summarizer=LexRankSummarizer()\n",
        "my_summary=summarizer(parser.document,2)\n",
        "print(my_summary)"
      ],
      "execution_count": 72,
      "outputs": [
        {
          "output_type": "stream",
          "text": [
            "[nltk_data] Downloading package punkt to /root/nltk_data...\n",
            "[nltk_data]   Package punkt is already up-to-date!\n",
            "(<Sentence: Since the body and mind are so closely linked, when your body feels better so, too, will your mind.Evidence suggests that by really focusing on your body and how it feels as you exercise, you can actually help your nervous system become “unstuck” and begin to move out of the immobilization stress response that characterizes PTSD or trauma.>, <Sentence: Instead of allowing your mind to wander, pay close attention to the physical sensations in your joints and muscles, even your insides as your body moves.>)\n"
          ],
          "name": "stdout"
        }
      ]
    },
    {
      "cell_type": "markdown",
      "metadata": {
        "id": "tqr_W9hIAOj8"
      },
      "source": [
        "# How to summarize text using Luhn algorithm?\n"
      ]
    },
    {
      "cell_type": "code",
      "metadata": {
        "id": "vhhfz9KGFjNu"
      },
      "source": [
        "original_text=\"\"\"Studies show that exercise can treat mild to moderate depression as effectively as antidepressant medication—but without the side-effects, of course. As one example, a recent study done by the Harvard T.H. Chan School of Public Health found that running for 15 minutes a day or walking for an hour reduces the risk of major depression by 26%. In addition to relieving depression symptoms, research also shows that maintaining an exercise schedule can prevent you from relapsing.\n",
        "Exercise is a powerful depression fighter for several reasons. Most importantly, it promotes all kinds of changes in the brain, including neural growth, reduced inflammation, and new activity patterns that promote feelings of calm and well-being. It also releases endorphins, powerful chemicals in your brain that energize your spirits and make you feel good. Finally, exercise can also serve as a distraction, allowing you to find some quiet time to break out of the cycle of negative thoughts that feed depression.\n",
        "Exercise is not just about aerobic capacity and muscle size. Sure, exercise can improve your physical health and your physique, trim your waistline, and even add years to your life. But that’s not what motivates most people to stay active.\n",
        "People who exercise regularly tend to do so because it gives them an enormous sense of well-being. They feel more energetic throughout the day, sleep better at night, have sharper memories, and feel more relaxed and positive about themselves and their lives. And it’s also powerful medicine for many common mental health challenges.\n",
        "Regular exercise can have a profoundly positive impact on depression, anxiety, ADHD, and more. It also relieves stress, improves memory, helps you sleep better, and boosts your overall mood. And you don’t have to be a fitness fanatic to reap the benefits. Research indicates that modest amounts of exercise can make a difference. No matter your age or fitness level, you can learn to use exercise as a powerful tool to feel better.\n",
        "Ever noticed how your body feels when you’re under stress? Your muscles may be tense, especially in your face, neck, and shoulders, leaving you with back or neck pain, or painful headaches. You may feel a tightness in your chest, a pounding pulse, or muscle cramps. You may also experience problems such as insomnia, heartburn, stomachache, diarrhea, or frequent urination. The worry and discomfort of all these physical symptoms can in turn lead to even more stress, creating a vicious cycle between your mind and body.\n",
        "Exercising is an effective way to break this cycle. As well as releasing endorphins in the brain, physical activity helps to relax the muscles and relieve tension in the body. Since the body and mind are so closely linked, when your body feels better so, too, will your mind.Evidence suggests that by really focusing on your body and how it feels as you exercise, you can actually help your nervous system become “unstuck” and begin to move out of the immobilization stress response that characterizes PTSD or trauma. \n",
        "Instead of allowing your mind to wander, pay close attention to the physical sensations in your joints and muscles, even your insides as your body moves. Exercises that involve cross movement and that engage both arms and legs—such as walking (especially in sand), running, swimming, weight training, or dancing—are some of your best choices.\n",
        "Outdoor activities like hiking, sailing, mountain biking, rock climbing, whitewater rafting, and skiing (downhill and cross-country) have also been shown to reduce the symptoms of PTSD.\"\"\""
      ],
      "execution_count": 73,
      "outputs": []
    },
    {
      "cell_type": "code",
      "metadata": {
        "id": "VHoUKIJJFkch",
        "outputId": "a0b3edf0-5e62-4d23-9c89-72bbe4c4ae0c",
        "colab": {
          "base_uri": "https://localhost:8080/",
          "height": 55
        }
      },
      "source": [
        "import sumy\n",
        "from sumy.summarizers.luhn import LuhnSummarizer\n",
        "\n",
        "#Plain text parsers since we are parsing through text\n",
        "from sumy.parsers.plaintext import PlaintextParser\n",
        "from sumy.nlp.tokenizers import Tokenizer\n",
        "\n",
        "parser=PlaintextParser.from_string(original_text,Tokenizer(\"english\"))\n",
        "\n",
        "summarizer=LuhnSummarizer()\n",
        "my_summary=summarizer(parser.document,2)\n",
        "print(my_summary)"
      ],
      "execution_count": 74,
      "outputs": [
        {
          "output_type": "stream",
          "text": [
            "(<Sentence: Finally, exercise can also serve as a distraction, allowing you to find some quiet time to break out of the cycle of negative thoughts that feed depression.>, <Sentence: Since the body and mind are so closely linked, when your body feels better so, too, will your mind.Evidence suggests that by really focusing on your body and how it feels as you exercise, you can actually help your nervous system become “unstuck” and begin to move out of the immobilization stress response that characterizes PTSD or trauma.>)\n"
          ],
          "name": "stdout"
        }
      ]
    },
    {
      "cell_type": "markdown",
      "metadata": {
        "id": "MoOjDScVAlTF"
      },
      "source": [
        "# How to summarize text based on LSA algorithm ?\n"
      ]
    },
    {
      "cell_type": "code",
      "metadata": {
        "id": "hpBWpHARFome"
      },
      "source": [
        "original_text=\"\"\"Studies show that exercise can treat mild to moderate depression as effectively as antidepressant medication—but without the side-effects, of course. As one example, a recent study done by the Harvard T.H. Chan School of Public Health found that running for 15 minutes a day or walking for an hour reduces the risk of major depression by 26%. In addition to relieving depression symptoms, research also shows that maintaining an exercise schedule can prevent you from relapsing.\n",
        "Exercise is a powerful depression fighter for several reasons. Most importantly, it promotes all kinds of changes in the brain, including neural growth, reduced inflammation, and new activity patterns that promote feelings of calm and well-being. It also releases endorphins, powerful chemicals in your brain that energize your spirits and make you feel good. Finally, exercise can also serve as a distraction, allowing you to find some quiet time to break out of the cycle of negative thoughts that feed depression.\n",
        "Exercise is not just about aerobic capacity and muscle size. Sure, exercise can improve your physical health and your physique, trim your waistline, and even add years to your life. But that’s not what motivates most people to stay active.\n",
        "People who exercise regularly tend to do so because it gives them an enormous sense of well-being. They feel more energetic throughout the day, sleep better at night, have sharper memories, and feel more relaxed and positive about themselves and their lives. And it’s also powerful medicine for many common mental health challenges.\n",
        "Regular exercise can have a profoundly positive impact on depression, anxiety, ADHD, and more. It also relieves stress, improves memory, helps you sleep better, and boosts your overall mood. And you don’t have to be a fitness fanatic to reap the benefits. Research indicates that modest amounts of exercise can make a difference. No matter your age or fitness level, you can learn to use exercise as a powerful tool to feel better.\n",
        "Ever noticed how your body feels when you’re under stress? Your muscles may be tense, especially in your face, neck, and shoulders, leaving you with back or neck pain, or painful headaches. You may feel a tightness in your chest, a pounding pulse, or muscle cramps. You may also experience problems such as insomnia, heartburn, stomachache, diarrhea, or frequent urination. The worry and discomfort of all these physical symptoms can in turn lead to even more stress, creating a vicious cycle between your mind and body.\n",
        "Exercising is an effective way to break this cycle. As well as releasing endorphins in the brain, physical activity helps to relax the muscles and relieve tension in the body. Since the body and mind are so closely linked, when your body feels better so, too, will your mind.Evidence suggests that by really focusing on your body and how it feels as you exercise, you can actually help your nervous system become “unstuck” and begin to move out of the immobilization stress response that characterizes PTSD or trauma. \n",
        "Instead of allowing your mind to wander, pay close attention to the physical sensations in your joints and muscles, even your insides as your body moves. Exercises that involve cross movement and that engage both arms and legs—such as walking (especially in sand), running, swimming, weight training, or dancing—are some of your best choices.\n",
        "Outdoor activities like hiking, sailing, mountain biking, rock climbing, whitewater rafting, and skiing (downhill and cross-country) have also been shown to reduce the symptoms of PTSD.\"\"\""
      ],
      "execution_count": 75,
      "outputs": []
    },
    {
      "cell_type": "code",
      "metadata": {
        "id": "wa_iGnyHFpwj",
        "outputId": "6387aaf9-03ec-4561-fe72-c7c44721bb61",
        "colab": {
          "base_uri": "https://localhost:8080/",
          "height": 55
        }
      },
      "source": [
        "import sumy\n",
        "from sumy.summarizers.lsa import LsaSummarizer\n",
        "\n",
        "#Plain text parsers since we are parsing through text\n",
        "from sumy.parsers.plaintext import PlaintextParser\n",
        "from sumy.nlp.tokenizers import Tokenizer\n",
        "\n",
        "parser=PlaintextParser.from_string(original_text,Tokenizer(\"english\"))\n",
        "\n",
        "summarizer=LsaSummarizer()\n",
        "my_summary=summarizer(parser.document,2)\n",
        "print(my_summary)"
      ],
      "execution_count": 76,
      "outputs": [
        {
          "output_type": "stream",
          "text": [
            "(<Sentence: In addition to relieving depression symptoms, research also shows that maintaining an exercise schedule can prevent you from relapsing.>, <Sentence: People who exercise regularly tend to do so because it gives them an enormous sense of well-being.>)\n"
          ],
          "name": "stdout"
        }
      ]
    },
    {
      "cell_type": "markdown",
      "metadata": {
        "id": "IFkLXuviAoNJ"
      },
      "source": [
        "# How to convert documents into json format ?\n"
      ]
    },
    {
      "cell_type": "code",
      "metadata": {
        "id": "-625YoAoFqtS"
      },
      "source": [
        "text1=\"Netflix has released a new series\"\n",
        "text2=\"It was shot in London\"\n",
        "text3=\"It is called Dark and the main character is Jonas\"\n",
        "text4=\"Adam is the evil character\""
      ],
      "execution_count": 77,
      "outputs": []
    },
    {
      "cell_type": "code",
      "metadata": {
        "id": "lRNf-1tUFrfc",
        "outputId": "aa313415-2aa6-4b02-bce6-5f3ff1421729",
        "colab": {
          "base_uri": "https://localhost:8080/",
          "height": 1000
        }
      },
      "source": [
        "# Covert into spacy documents\n",
        "doc1=nlp(text1)\n",
        "doc2=nlp(text2)\n",
        "doc3=nlp(text3)\n",
        "doc4=nlp(text4)\n",
        "\n",
        "# Import docs_to_json \n",
        "from spacy.gold import docs_to_json\n",
        "\n",
        "# Converting into json format\n",
        "json_data = docs_to_json([doc1,doc2,doc3,doc4])\n",
        "json_data"
      ],
      "execution_count": 78,
      "outputs": [
        {
          "output_type": "execute_result",
          "data": {
            "text/plain": [
              "{'id': 0,\n",
              " 'paragraphs': [{'cats': [],\n",
              "   'raw': 'Netflix has released a new series',\n",
              "   'sentences': [{'brackets': [],\n",
              "     'tokens': [{'dep': 'nsubj',\n",
              "       'head': 2,\n",
              "       'id': 0,\n",
              "       'ner': 'U-ORG',\n",
              "       'orth': 'Netflix',\n",
              "       'tag': 'NNP'},\n",
              "      {'dep': 'aux',\n",
              "       'head': 1,\n",
              "       'id': 1,\n",
              "       'ner': 'O',\n",
              "       'orth': 'has',\n",
              "       'tag': 'VBZ'},\n",
              "      {'dep': 'ROOT',\n",
              "       'head': 0,\n",
              "       'id': 2,\n",
              "       'ner': 'O',\n",
              "       'orth': 'released',\n",
              "       'tag': 'VBN'},\n",
              "      {'dep': 'det', 'head': 2, 'id': 3, 'ner': 'O', 'orth': 'a', 'tag': 'DT'},\n",
              "      {'dep': 'amod',\n",
              "       'head': 1,\n",
              "       'id': 4,\n",
              "       'ner': 'O',\n",
              "       'orth': 'new',\n",
              "       'tag': 'JJ'},\n",
              "      {'dep': 'dobj',\n",
              "       'head': -3,\n",
              "       'id': 5,\n",
              "       'ner': 'O',\n",
              "       'orth': 'series',\n",
              "       'tag': 'NN'}]}]},\n",
              "  {'cats': [],\n",
              "   'raw': 'It was shot in London',\n",
              "   'sentences': [{'brackets': [],\n",
              "     'tokens': [{'dep': 'nsubjpass',\n",
              "       'head': 2,\n",
              "       'id': 0,\n",
              "       'ner': 'O',\n",
              "       'orth': 'It',\n",
              "       'tag': 'PRP'},\n",
              "      {'dep': 'auxpass',\n",
              "       'head': 1,\n",
              "       'id': 1,\n",
              "       'ner': 'O',\n",
              "       'orth': 'was',\n",
              "       'tag': 'VBD'},\n",
              "      {'dep': 'ROOT',\n",
              "       'head': 0,\n",
              "       'id': 2,\n",
              "       'ner': 'O',\n",
              "       'orth': 'shot',\n",
              "       'tag': 'VBN'},\n",
              "      {'dep': 'prep',\n",
              "       'head': -1,\n",
              "       'id': 3,\n",
              "       'ner': 'O',\n",
              "       'orth': 'in',\n",
              "       'tag': 'IN'},\n",
              "      {'dep': 'pobj',\n",
              "       'head': -1,\n",
              "       'id': 4,\n",
              "       'ner': 'U-GPE',\n",
              "       'orth': 'London',\n",
              "       'tag': 'NNP'}]}]},\n",
              "  {'cats': [],\n",
              "   'raw': 'It is called Dark and the main character is Jonas',\n",
              "   'sentences': [{'brackets': [],\n",
              "     'tokens': [{'dep': 'nsubjpass',\n",
              "       'head': 2,\n",
              "       'id': 0,\n",
              "       'ner': 'O',\n",
              "       'orth': 'It',\n",
              "       'tag': 'PRP'},\n",
              "      {'dep': 'auxpass',\n",
              "       'head': 1,\n",
              "       'id': 1,\n",
              "       'ner': 'O',\n",
              "       'orth': 'is',\n",
              "       'tag': 'VBZ'},\n",
              "      {'dep': 'ROOT',\n",
              "       'head': 0,\n",
              "       'id': 2,\n",
              "       'ner': 'O',\n",
              "       'orth': 'called',\n",
              "       'tag': 'VBN'},\n",
              "      {'dep': 'oprd',\n",
              "       'head': -1,\n",
              "       'id': 3,\n",
              "       'ner': 'O',\n",
              "       'orth': 'Dark',\n",
              "       'tag': 'NNP'},\n",
              "      {'dep': 'cc',\n",
              "       'head': -2,\n",
              "       'id': 4,\n",
              "       'ner': 'O',\n",
              "       'orth': 'and',\n",
              "       'tag': 'CC'},\n",
              "      {'dep': 'det',\n",
              "       'head': 2,\n",
              "       'id': 5,\n",
              "       'ner': 'O',\n",
              "       'orth': 'the',\n",
              "       'tag': 'DT'},\n",
              "      {'dep': 'amod',\n",
              "       'head': 1,\n",
              "       'id': 6,\n",
              "       'ner': 'O',\n",
              "       'orth': 'main',\n",
              "       'tag': 'JJ'},\n",
              "      {'dep': 'nsubj',\n",
              "       'head': 1,\n",
              "       'id': 7,\n",
              "       'ner': 'O',\n",
              "       'orth': 'character',\n",
              "       'tag': 'NN'},\n",
              "      {'dep': 'conj',\n",
              "       'head': -6,\n",
              "       'id': 8,\n",
              "       'ner': 'O',\n",
              "       'orth': 'is',\n",
              "       'tag': 'VBZ'},\n",
              "      {'dep': 'attr',\n",
              "       'head': -1,\n",
              "       'id': 9,\n",
              "       'ner': 'U-GPE',\n",
              "       'orth': 'Jonas',\n",
              "       'tag': 'NNP'}]}]},\n",
              "  {'cats': [],\n",
              "   'raw': 'Adam is the evil character',\n",
              "   'sentences': [{'brackets': [],\n",
              "     'tokens': [{'dep': 'nsubj',\n",
              "       'head': 1,\n",
              "       'id': 0,\n",
              "       'ner': 'U-PERSON',\n",
              "       'orth': 'Adam',\n",
              "       'tag': 'NNP'},\n",
              "      {'dep': 'ROOT',\n",
              "       'head': 0,\n",
              "       'id': 1,\n",
              "       'ner': 'O',\n",
              "       'orth': 'is',\n",
              "       'tag': 'VBZ'},\n",
              "      {'dep': 'det',\n",
              "       'head': 2,\n",
              "       'id': 2,\n",
              "       'ner': 'O',\n",
              "       'orth': 'the',\n",
              "       'tag': 'DT'},\n",
              "      {'dep': 'amod',\n",
              "       'head': 1,\n",
              "       'id': 3,\n",
              "       'ner': 'O',\n",
              "       'orth': 'evil',\n",
              "       'tag': 'JJ'},\n",
              "      {'dep': 'attr',\n",
              "       'head': -3,\n",
              "       'id': 4,\n",
              "       'ner': 'O',\n",
              "       'orth': 'character',\n",
              "       'tag': 'NN'}]}]}]}"
            ]
          },
          "metadata": {
            "tags": []
          },
          "execution_count": 78
        }
      ]
    },
    {
      "cell_type": "markdown",
      "metadata": {
        "id": "cemvA0ShAq1S"
      },
      "source": [
        "# How to build a text classifier with TextBlob ?\n"
      ]
    },
    {
      "cell_type": "code",
      "metadata": {
        "id": "kmFBtf0qFsoG"
      },
      "source": [
        "# Data to train the classifier\n",
        "train = [\n",
        "    ('I love eating sushi','food-review'),\n",
        "    ('This is an amazing place!', 'Tourist-review'),\n",
        "    ('Pizza is my all time favorite food','food-review'),\n",
        "    ('I baked a cake yesterday, it was tasty', 'food-review'),\n",
        "    (\"What an awesome taste this sushi has\", 'food-review'),\n",
        "    ('It is a perfect place for outing', 'Tourist-review'),\n",
        "    ('This is a nice picnic spot', 'Tourist-review'),\n",
        "    (\"Families come out on tours here\", 'Tourist-review'),\n",
        "    ('It is a beautiful place !', 'Tourist-review'),\n",
        "    ('The place was warm and nice', 'Tourist-review')\n",
        "]\n",
        "test = [\n",
        "    ('The sushi was good', 'food-review'),\n",
        "    ('The place was perfect for picnics ', 'Tourist-review'),\n",
        "    (\"Burgers are my favorite food\", 'food-review'),\n",
        "    (\"I feel amazing!\", 'food-review'),\n",
        "    ('It is an amazing place', 'Tourist-review'),\n",
        "    (\"This isn't a very good place\", 'Tourist-review')\n",
        "]"
      ],
      "execution_count": 79,
      "outputs": []
    },
    {
      "cell_type": "code",
      "metadata": {
        "id": "U0G2WdbcFtg_",
        "outputId": "601e7d3e-5924-40bd-bb07-0bb69a0fba01",
        "colab": {
          "base_uri": "https://localhost:8080/",
          "height": 69
        }
      },
      "source": [
        "# Importing the classifier\n",
        "from textblob.classifiers import NaiveBayesClassifier\n",
        "from textblob import TextBlob\n",
        "\n",
        "# Training\n",
        "cl = NaiveBayesClassifier(train)\n",
        "\n",
        "# Classify some text\n",
        "print(cl.classify(\"My favorite food is spring rolls\"))  \n",
        "print(cl.classify(\"It was a cold place for picnic\"))  \n",
        "\n",
        "# Printing accuracy of classifier\n",
        "print(\"Accuracy: {0}\".format(cl.accuracy(test)))"
      ],
      "execution_count": 80,
      "outputs": [
        {
          "output_type": "stream",
          "text": [
            "food-review\n",
            "Tourist-review\n",
            "Accuracy: 0.8333333333333334\n"
          ],
          "name": "stdout"
        }
      ]
    },
    {
      "cell_type": "markdown",
      "metadata": {
        "id": "0QeyO__yAtzw"
      },
      "source": [
        "# How to train a text classifier using Simple transformers ?\n"
      ]
    },
    {
      "cell_type": "code",
      "metadata": {
        "id": "JRAFCi4aFuhA"
      },
      "source": [
        "train_data = [\n",
        "    [\"The movie was amazing\", 1],\n",
        "    [\"It was a boring movie\", 0],\n",
        "    [\"I had a great experience\",1],\n",
        "    [\"I was bored during the movie\",0],\n",
        "    [\"The movie was great\",1],\n",
        "    [\"The movie was bad\",0],\n",
        "    [\"The movie was good\",1]\n",
        "]"
      ],
      "execution_count": 81,
      "outputs": []
    },
    {
      "cell_type": "code",
      "metadata": {
        "id": "4toVPbjJFvZ4",
        "outputId": "832d71f9-bbb5-4379-e357-f83eb8fba6f9",
        "colab": {
          "base_uri": "https://localhost:8080/",
          "height": 672,
          "referenced_widgets": [
            "806764a4a1ec4571988878a9d06e19f9",
            "ebe81a1c081349fa8ceb149ae625202c",
            "8a2fd7ae70fb4e8e806fc2df7bbe1214",
            "4f750a1343f34cbd8c6cca4ec06140b2",
            "a5821e631d2048c6b2500974f452c8cf",
            "d78c7a03ee334a90947b85a1de50bd77",
            "114ddbdf27f1486fad748d16277694fa",
            "817c8775abfc425c99d484200616236b",
            "246d15fc7ee347a1a4648c69793342e8",
            "adae472f096c4ec498d4a3698f639990",
            "7a90e65cc4aa48829fab865fe63a1944",
            "4c871791b5804561a20acf9124180648",
            "fa4d7ce7c9fb4819be4a3c08763d0fe4",
            "8fd904d5677f4e5384b64174c0f18788",
            "4309c0cccb2d4b30afd8f451954a25de",
            "9597f6a2f66c4f56bc6a2acb7151da99",
            "32e9894a566c44f8908d02ae0bb508fc",
            "9f0f3b078be14a63a58ca1fc607a6be6",
            "b9c5d2176c004c9589778f2cb49f10ae",
            "078ca311db87497a84609815afe8ac80",
            "1e1bc9e3c54e435e89698296927b9308",
            "e90f080f70f547988666097d06fc7204",
            "1f553ae8f4e94b5f9b3e2ec93fc65b9f",
            "0fff293c3d844cccb773a546248f58de",
            "88ede79145374008bf1d1c7e12513513",
            "74d88594cd0a4618939ee661dffb0267",
            "c2a17788914c4350bead0669184068a1",
            "8c5be21927834a878929bcff5c7c6b06",
            "1d7ea3437b7b4096b7d5ee88157ea5cf",
            "fdb572d7eb8a456fbada2cde2615d445",
            "2058024fac774da08aef13a441807715",
            "eb0ed5f1c41f4add894c7fbc05059960",
            "3453730fab1a4574908afb0914d2cedc",
            "4dea396a355b4c1dbf8f41c072274f7f",
            "4b4eeafdb1314b5c9d52793eb2e7a281",
            "01b8d4f7428f4bb8960d9353dd544305",
            "c4604ea7d6c04b2e8702d5ebcfd92304",
            "90b430915a714c30bd2e9b51f0342d94",
            "455f35aafc48448783e367685c5cde5e",
            "4dc9c30d93674ef2b3e57ab87f72a253",
            "ef1de0283b254b219cd29df0a8e7f4a8",
            "f3af0725c8c74385b341c854a51b4d99",
            "625c02c81912428ba2a4f398743aaad0",
            "dfea57ff9ed647a596d3db0275d18cca",
            "22d088e6fc664bc0b7681b3224423e26",
            "58c2e3a73546482f91d531e1611ce3c4",
            "0fe8f62ba8964808b6c6fa90edffa969",
            "504894af7a0f451b88ddc3f300dc1b84",
            "570845798b1b495490ba1eb6f2ef1bc5",
            "5bacd3612f2043728e3d672c1d7dd21f",
            "4ba6e12ec9eb4f988df1947b1785ea0e",
            "7160497b33c141a49ac168a57608c411",
            "20c12b1ea05c4160b17de3fde807eadb",
            "deedb7eb48a4481ab8f0d01779a95e40",
            "8786c740a335461998061d261fcf9749",
            "89104bc7c53741fbacdd69a39daf75ed",
            "b6eea719d1774f939dea314f53994caf",
            "57bda67d91db4f8982d339857de3bbb2",
            "c9ee5c6b0f8c4040942f0f680e0c23c8",
            "6ba9423515394b97bd85f86a517a2be9",
            "ecf80faa58b44a91ab0d07d466380456",
            "850e063cc36d4f2ebcf391af689e938e",
            "fd96bf296f5442a18cd65f4e7ef3537d",
            "52054f0c4c6546cdb2f15b915613c349",
            "393b61daacbb404a8910c0ea377a662d",
            "a33cc9cb4d2743b5813899323394dd7c",
            "713ab593ba8442da952ff6c01f8fa193",
            "872d7077860142c9ab26bb30ea42d810",
            "ca95f24df9644080a75537c7b1deef14",
            "929b8e0031ca4e15957ce530ad2ee667",
            "775bb6b9545346a19472fb9d7a9503ed",
            "cebda334ff8e4a1baaca94f8a9497c97",
            "705e1988b99e428da6b93281de011b94",
            "d69ab902831d4c229a9d2a030a7328df",
            "b3a997462a014e82955e9ccd2fc5a4d0",
            "6c7558e0cdeb45e0ab861e73801a41eb",
            "06929e1587764e398ee49ff2ec4087a4",
            "63f5b0682a224cf29bcb83d984577815",
            "4a8c9816a3a4464e82606ee9bf43fa63",
            "1e857af053614c679a855c80f766e4c1",
            "b15ad08d7bcb42078a44a9c49a427506",
            "6d775fe3b1714ae6be49db08252794db",
            "9464c975984b4f3eb88edc52f09584d3",
            "846319388c5c44df860a8307b4f1a2ef",
            "525de70e32c94c4cba56b49755f87000",
            "943f3d3d40f14f5b9365d82dba620e38",
            "92b8781a5720417e913f133bcc529e38",
            "7e10ad818b284c9288164a559889dba8",
            "fac87ad2e33b423893de83454a18701c",
            "1ec84323ebf44bc88c56d110b2b1f08e",
            "5bb47f0f82904ecebcacb828646a16cb",
            "160ec0af27e049a5bc7ad65695954688",
            "5466757a9fc341d880d6f2b6adcf4cec",
            "76f1ecb9d15841f8b2f902dfbcde84c9",
            "b32447403dfd4a69bec20c1873536919",
            "27ac379a36a0413287c8ce8d00e40da4",
            "e589ba082676489f9389132fec32f869",
            "8abb2f66ed474153b39c88c727b57d21",
            "76699fc0a6a6436f98826195a855f205"
          ]
        }
      },
      "source": [
        "# Import requirements\n",
        "#!pip install simpletransformers\n",
        "from simpletransformers.classification import ClassificationModel, ClassificationArgs\n",
        "import pandas as pd\n",
        "import logging\n",
        "\n",
        "\n",
        "logging.basicConfig(level=logging.INFO)\n",
        "transformers_logger = logging.getLogger(\"transformers\")\n",
        "transformers_logger.setLevel(logging.WARNING)\n",
        "\n",
        "# Preparing train data\n",
        "\n",
        "train_df_ = pd.DataFrame(train_data)\n",
        "train_df_.columns = [\"text\", \"labels\"]\n",
        "\n",
        "# Optional model configuration\n",
        "model_args = ClassificationArgs(num_train_epochs=5, overwrite_output_dir=True)\n",
        "\n",
        "# Create a ClassificationModel\n",
        "model = ClassificationModel(\"bert\", \"bert-base-uncased\", args=model_args,use_cuda=False)\n",
        "\n",
        "# Train the model\n",
        "model.train_model(train_df_)\n",
        "\n",
        "\n",
        "# Make predictions with the model\n",
        "predictions, raw_outputs = model.predict([\"The titanic was a good movie\"])\n",
        "\n",
        "predictions"
      ],
      "execution_count": 90,
      "outputs": [
        {
          "output_type": "stream",
          "text": [
            "Some weights of the model checkpoint at bert-base-uncased were not used when initializing BertForSequenceClassification: ['cls.predictions.bias', 'cls.predictions.transform.dense.weight', 'cls.predictions.transform.dense.bias', 'cls.predictions.decoder.weight', 'cls.seq_relationship.weight', 'cls.seq_relationship.bias', 'cls.predictions.transform.LayerNorm.weight', 'cls.predictions.transform.LayerNorm.bias']\n",
            "- This IS expected if you are initializing BertForSequenceClassification from the checkpoint of a model trained on another task or with another architecture (e.g. initializing a BertForSequenceClassification model from a BertForPretraining model).\n",
            "- This IS NOT expected if you are initializing BertForSequenceClassification from the checkpoint of a model that you expect to be exactly identical (initializing a BertForSequenceClassification model from a BertForSequenceClassification model).\n",
            "Some weights of BertForSequenceClassification were not initialized from the model checkpoint at bert-base-uncased and are newly initialized: ['classifier.weight', 'classifier.bias']\n",
            "You should probably TRAIN this model on a down-stream task to be able to use it for predictions and inference.\n",
            "INFO:simpletransformers.classification.classification_model: Converting to features started. Cache is not used.\n"
          ],
          "name": "stderr"
        },
        {
          "output_type": "display_data",
          "data": {
            "application/vnd.jupyter.widget-view+json": {
              "model_id": "806764a4a1ec4571988878a9d06e19f9",
              "version_minor": 0,
              "version_major": 2
            },
            "text/plain": [
              "HBox(children=(HTML(value=''), FloatProgress(value=0.0, max=7.0), HTML(value='')))"
            ]
          },
          "metadata": {
            "tags": []
          }
        },
        {
          "output_type": "stream",
          "text": [
            "\n"
          ],
          "name": "stdout"
        },
        {
          "output_type": "display_data",
          "data": {
            "application/vnd.jupyter.widget-view+json": {
              "model_id": "4c871791b5804561a20acf9124180648",
              "version_minor": 0,
              "version_major": 2
            },
            "text/plain": [
              "HBox(children=(HTML(value='Epoch'), FloatProgress(value=0.0, max=5.0), HTML(value='')))"
            ]
          },
          "metadata": {
            "tags": []
          }
        },
        {
          "output_type": "display_data",
          "data": {
            "application/vnd.jupyter.widget-view+json": {
              "model_id": "1f553ae8f4e94b5f9b3e2ec93fc65b9f",
              "version_minor": 0,
              "version_major": 2
            },
            "text/plain": [
              "HBox(children=(HTML(value='Running Epoch 0 of 5'), FloatProgress(value=0.0, max=1.0), HTML(value='')))"
            ]
          },
          "metadata": {
            "tags": []
          }
        },
        {
          "output_type": "stream",
          "text": [
            "\n"
          ],
          "name": "stdout"
        },
        {
          "output_type": "stream",
          "text": [
            "/usr/local/lib/python3.6/dist-packages/torch/optim/lr_scheduler.py:200: UserWarning: Please also save or load the state of the optimzer when saving or loading the scheduler.\n",
            "  warnings.warn(SAVE_STATE_WARNING, UserWarning)\n"
          ],
          "name": "stderr"
        },
        {
          "output_type": "display_data",
          "data": {
            "application/vnd.jupyter.widget-view+json": {
              "model_id": "4dea396a355b4c1dbf8f41c072274f7f",
              "version_minor": 0,
              "version_major": 2
            },
            "text/plain": [
              "HBox(children=(HTML(value='Running Epoch 1 of 5'), FloatProgress(value=0.0, max=1.0), HTML(value='')))"
            ]
          },
          "metadata": {
            "tags": []
          }
        },
        {
          "output_type": "stream",
          "text": [
            "\n"
          ],
          "name": "stdout"
        },
        {
          "output_type": "display_data",
          "data": {
            "application/vnd.jupyter.widget-view+json": {
              "model_id": "22d088e6fc664bc0b7681b3224423e26",
              "version_minor": 0,
              "version_major": 2
            },
            "text/plain": [
              "HBox(children=(HTML(value='Running Epoch 2 of 5'), FloatProgress(value=0.0, max=1.0), HTML(value='')))"
            ]
          },
          "metadata": {
            "tags": []
          }
        },
        {
          "output_type": "stream",
          "text": [
            "\n"
          ],
          "name": "stdout"
        },
        {
          "output_type": "display_data",
          "data": {
            "application/vnd.jupyter.widget-view+json": {
              "model_id": "89104bc7c53741fbacdd69a39daf75ed",
              "version_minor": 0,
              "version_major": 2
            },
            "text/plain": [
              "HBox(children=(HTML(value='Running Epoch 3 of 5'), FloatProgress(value=0.0, max=1.0), HTML(value='')))"
            ]
          },
          "metadata": {
            "tags": []
          }
        },
        {
          "output_type": "stream",
          "text": [
            "\n"
          ],
          "name": "stdout"
        },
        {
          "output_type": "display_data",
          "data": {
            "application/vnd.jupyter.widget-view+json": {
              "model_id": "713ab593ba8442da952ff6c01f8fa193",
              "version_minor": 0,
              "version_major": 2
            },
            "text/plain": [
              "HBox(children=(HTML(value='Running Epoch 4 of 5'), FloatProgress(value=0.0, max=1.0), HTML(value='')))"
            ]
          },
          "metadata": {
            "tags": []
          }
        },
        {
          "output_type": "stream",
          "text": [
            "\n",
            "\n"
          ],
          "name": "stdout"
        },
        {
          "output_type": "stream",
          "text": [
            "INFO:simpletransformers.classification.classification_model: Training of bert model complete. Saved to outputs/.\n",
            "INFO:simpletransformers.classification.classification_model: Converting to features started. Cache is not used.\n"
          ],
          "name": "stderr"
        },
        {
          "output_type": "display_data",
          "data": {
            "application/vnd.jupyter.widget-view+json": {
              "model_id": "63f5b0682a224cf29bcb83d984577815",
              "version_minor": 0,
              "version_major": 2
            },
            "text/plain": [
              "HBox(children=(HTML(value=''), FloatProgress(value=0.0, max=1.0), HTML(value='')))"
            ]
          },
          "metadata": {
            "tags": []
          }
        },
        {
          "output_type": "stream",
          "text": [
            "\n"
          ],
          "name": "stdout"
        },
        {
          "output_type": "display_data",
          "data": {
            "application/vnd.jupyter.widget-view+json": {
              "model_id": "fac87ad2e33b423893de83454a18701c",
              "version_minor": 0,
              "version_major": 2
            },
            "text/plain": [
              "HBox(children=(HTML(value=''), FloatProgress(value=0.0, max=1.0), HTML(value='')))"
            ]
          },
          "metadata": {
            "tags": []
          }
        },
        {
          "output_type": "stream",
          "text": [
            "\n"
          ],
          "name": "stdout"
        },
        {
          "output_type": "execute_result",
          "data": {
            "text/plain": [
              "array([1])"
            ]
          },
          "metadata": {
            "tags": []
          },
          "execution_count": 90
        }
      ]
    },
    {
      "cell_type": "markdown",
      "metadata": {
        "id": "6aejKc_QBJL9"
      },
      "source": [
        "# How to perform text classification using spaCy ?\n"
      ]
    },
    {
      "cell_type": "code",
      "metadata": {
        "id": "10eM6EmkFwNW",
        "outputId": "2fb93804-8cf1-4103-ff4b-a17452b42452",
        "colab": {
          "base_uri": "https://localhost:8080/",
          "height": 201
        }
      },
      "source": [
        "'''\n",
        "import spacy\n",
        "nlp=spacy.load(\"en_core_web_sm\")\n",
        "import thinc.extra.datasets\n",
        "import random\n",
        "\n",
        "\n",
        "textcat = nlp.create_pipe(\"textcat\", config={\"exclusive_classes\": True, \"architecture\": \"simple_cnn\"})\n",
        "nlp.add_pipe(textcat, last=True)\n",
        "textcat = nlp.get_pipe(\"textcat\")\n",
        "\n",
        "# add label to text classifier\n",
        "textcat.add_label(\"POSITIVE\")\n",
        "textcat.add_label(\"NEGATIVE\")\n",
        "\n",
        "\n",
        "def load_data(limit=0, split=0.8):\n",
        "    \"\"\"Load data from the IMDB dataset.\"\"\"\n",
        "    # Partition off part of the train data for evaluation\n",
        "    train_data, _ = thinc.extra.datasets.imdb()\n",
        "    random.shuffle(train_data)\n",
        "    train_data = train_data[-limit:]\n",
        "    texts, labels = zip(*train_data)\n",
        "    cats = [{\"POSITIVE\": bool(y), \"NEGATIVE\": not bool(y)} for y in labels]\n",
        "    split = int(len(train_data) * split)\n",
        "    return (texts[:split], cats[:split]), (texts[split:], cats[split:])\n",
        "\n",
        "n_texts = 20000\n",
        "# load the IMDB dataset\n",
        "#print(\"Loading IMDB data...\")\n",
        "(train_texts, train_cats), (dev_texts, dev_cats) = load_data()\n",
        "train_texts = train_texts[:n_texts]\n",
        "train_cats = train_cats[:n_texts]\n",
        "    \n",
        "train_data = list(zip(train_texts, [{\"cats\": cats} for cats in train_cats]))\n",
        "\n",
        "# get names of other pipes to disable them during training\n",
        "pipe_exceptions = [\"textcat\", \"trf_wordpiecer\", \"trf_tok2vec\"]\n",
        "other_pipes = [pipe for pipe in nlp.pipe_names if pipe not in pipe_exceptions]\n",
        "\n",
        "# Training the text classifier\n",
        "with nlp.disable_pipes(*other_pipes):  # only train textcat\n",
        "   optimizer = nlp.begin_training()\n",
        "   if init_tok2vec is not None:\n",
        "      with init_tok2vec.open(\"rb\") as file_:\n",
        "        textcat.model.tok2vec.from_bytes(file_.read())\n",
        "        print(\"Training the model...\")\n",
        "        print(\"{:^5}\\t{:^5}\\t{:^5}\\t{:^5}\".format(\"LOSS\", \"P\", \"R\", \"F\"))\n",
        "        batch_sizes = compounding(4.0, 32.0, 1.001)\n",
        "        for i in range(n_iter):\n",
        "            losses = {}\n",
        "            # batch up the examples using spaCy's minibatch\n",
        "            random.shuffle(train_data)\n",
        "            batches = minibatch(train_data, size=batch_sizes)\n",
        "            for batch in batches:\n",
        "                texts, annotations = zip(*batch)\n",
        "                nlp.update(texts, annotations, sgd=optimizer, drop=0.2, losses=losses)\n",
        "                '''\n",
        "#!/usr/bin/env python\n",
        "# coding: utf8\n",
        "\"\"\"Train a convolutional neural network text classifier on the\n",
        "IMDB dataset, using the TextCategorizer component. The dataset will be loaded\n",
        "automatically via Thinc's built-in dataset loader. The model is added to\n",
        "spacy.pipeline, and predictions are available via `doc.cats`. For more details,\n",
        "see the documentation:\n",
        "* Training: https://spacy.io/usage/training\n",
        "Compatible with: spaCy v2.0.0+\n",
        "\"\"\"\n",
        "from __future__ import unicode_literals, print_function\n",
        "import plac\n",
        "import random\n",
        "from pathlib import Path\n",
        "import thinc.extra.datasets\n",
        "\n",
        "import spacy\n",
        "from spacy.util import minibatch, compounding\n",
        "\n",
        "\n",
        "@plac.annotations(\n",
        "    model=(\"Model name. Defaults to blank 'en' model.\", \"option\", \"m\", str),\n",
        "    output_dir=(\"Optional output directory\", \"option\", \"o\", Path),\n",
        "    n_texts=(\"Number of texts to train from\", \"option\", \"t\", int),\n",
        "    n_iter=(\"Number of training iterations\", \"option\", \"n\", int),\n",
        "    init_tok2vec=(\"Pretrained tok2vec weights\", \"option\", \"t2v\", Path),\n",
        ")\n",
        "def main(model=None, output_dir=None, n_iter=20, n_texts=2000, init_tok2vec=None):\n",
        "    if output_dir is not None:\n",
        "        output_dir = Path(output_dir)\n",
        "        if not output_dir.exists():\n",
        "            output_dir.mkdir()\n",
        "\n",
        "    if model is not None:\n",
        "        nlp = spacy.load(model)  # load existing spaCy model\n",
        "        print(\"Loaded model '%s'\" % model)\n",
        "    else:\n",
        "        nlp = spacy.blank(\"en\")  # create blank Language class\n",
        "        print(\"Created blank 'en' model\")\n",
        "\n",
        "    # add the text classifier to the pipeline if it doesn't exist\n",
        "    # nlp.create_pipe works for built-ins that are registered with spaCy\n",
        "    if \"textcat\" not in nlp.pipe_names:\n",
        "        textcat = nlp.create_pipe(\n",
        "            \"textcat\", config={\"exclusive_classes\": True, \"architecture\": \"simple_cnn\"}\n",
        "        )\n",
        "        nlp.add_pipe(textcat, last=True)\n",
        "    # otherwise, get it, so we can add labels to it\n",
        "    else:\n",
        "        textcat = nlp.get_pipe(\"textcat\")\n",
        "\n",
        "    # add label to text classifier\n",
        "    textcat.add_label(\"POSITIVE\")\n",
        "    textcat.add_label(\"NEGATIVE\")\n",
        "\n",
        "    # load the IMDB dataset\n",
        "    print(\"Loading IMDB data...\")\n",
        "    (train_texts, train_cats), (dev_texts, dev_cats) = load_data()\n",
        "    train_texts = train_texts[:n_texts]\n",
        "    train_cats = train_cats[:n_texts]\n",
        "    print(\n",
        "        \"Using {} examples ({} training, {} evaluation)\".format(\n",
        "            n_texts, len(train_texts), len(dev_texts)\n",
        "        )\n",
        "    )\n",
        "    train_data = list(zip(train_texts, [{\"cats\": cats} for cats in train_cats]))\n",
        "\n",
        "    # get names of other pipes to disable them during training\n",
        "    pipe_exceptions = [\"textcat\", \"trf_wordpiecer\", \"trf_tok2vec\"]\n",
        "    other_pipes = [pipe for pipe in nlp.pipe_names if pipe not in pipe_exceptions]\n",
        "    with nlp.disable_pipes(*other_pipes):  # only train textcat\n",
        "        optimizer = nlp.begin_training()\n",
        "        if init_tok2vec is not None:\n",
        "            with init_tok2vec.open(\"rb\") as file_:\n",
        "                textcat.model.tok2vec.from_bytes(file_.read())\n",
        "        print(\"Training the model...\")\n",
        "        print(\"{:^5}\\t{:^5}\\t{:^5}\\t{:^5}\".format(\"LOSS\", \"P\", \"R\", \"F\"))\n",
        "        batch_sizes = compounding(4.0, 32.0, 1.001)\n",
        "        for i in range(n_iter):\n",
        "            losses = {}\n",
        "            # batch up the examples using spaCy's minibatch\n",
        "            random.shuffle(train_data)\n",
        "            batches = minibatch(train_data, size=batch_sizes)\n",
        "            for batch in batches:\n",
        "                texts, annotations = zip(*batch)\n",
        "                nlp.update(texts, annotations, sgd=optimizer, drop=0.2, losses=losses)\n",
        "            with textcat.model.use_params(optimizer.averages):\n",
        "                # evaluate on the dev data split off in load_data()\n",
        "                scores = evaluate(nlp.tokenizer, textcat, dev_texts, dev_cats)\n",
        "            print(\n",
        "                \"{0:.3f}\\t{1:.3f}\\t{2:.3f}\\t{3:.3f}\".format(  # print a simple table\n",
        "                    losses[\"textcat\"],\n",
        "                    scores[\"textcat_p\"],\n",
        "                    scores[\"textcat_r\"],\n",
        "                    scores[\"textcat_f\"],\n",
        "                )\n",
        "            )\n",
        "\n",
        "    # test the trained model\n",
        "    test_text = \"This movie sucked\"\n",
        "    doc = nlp(test_text)\n",
        "    print(test_text, doc.cats)\n",
        "\n",
        "    if output_dir is not None:\n",
        "        with nlp.use_params(optimizer.averages):\n",
        "            nlp.to_disk(output_dir)\n",
        "        print(\"Saved model to\", output_dir)\n",
        "\n",
        "        # test the saved model\n",
        "        print(\"Loading from\", output_dir)\n",
        "        nlp2 = spacy.load(output_dir)\n",
        "        doc2 = nlp2(test_text)\n",
        "        print(test_text, doc2.cats)\n",
        "\n",
        "\n",
        "def load_data(limit=0, split=0.8):\n",
        "    \"\"\"Load data from the IMDB dataset.\"\"\"\n",
        "    # Partition off part of the train data for evaluation\n",
        "    train_data, _ = thinc.extra.datasets.imdb()\n",
        "    random.shuffle(train_data)\n",
        "    train_data = train_data[-limit:]\n",
        "    texts, labels = zip(*train_data)\n",
        "    cats = [{\"POSITIVE\": bool(y), \"NEGATIVE\": not bool(y)} for y in labels]\n",
        "    split = int(len(train_data) * split)\n",
        "    return (texts[:split], cats[:split]), (texts[split:], cats[split:])\n",
        "\n",
        "\n",
        "def evaluate(tokenizer, textcat, texts, cats):\n",
        "    docs = (tokenizer(text) for text in texts)\n",
        "    tp = 0.0  # True positives\n",
        "    fp = 1e-8  # False positives\n",
        "    fn = 1e-8  # False negatives\n",
        "    tn = 0.0  # True negatives\n",
        "    for i, doc in enumerate(textcat.pipe(docs)):\n",
        "        gold = cats[i]\n",
        "        for label, score in doc.cats.items():\n",
        "            if label not in gold:\n",
        "                continue\n",
        "            if label == \"NEGATIVE\":\n",
        "                continue\n",
        "            if score >= 0.5 and gold[label] >= 0.5:\n",
        "                tp += 1.0\n",
        "            elif score >= 0.5 and gold[label] < 0.5:\n",
        "                fp += 1.0\n",
        "            elif score < 0.5 and gold[label] < 0.5:\n",
        "                tn += 1\n",
        "            elif score < 0.5 and gold[label] >= 0.5:\n",
        "                fn += 1\n",
        "    precision = tp / (tp + fp)\n",
        "    recall = tp / (tp + fn)\n",
        "    if (precision + recall) == 0:\n",
        "        f_score = 0.0\n",
        "    else:\n",
        "        f_score = 2 * (precision * recall) / (precision + recall)\n",
        "    return {\"textcat_p\": precision, \"textcat_r\": recall, \"textcat_f\": f_score}\n",
        "\n",
        "\n",
        "if __name__ == \"__main__\":\n",
        "    plac.call(main)"
      ],
      "execution_count": 95,
      "outputs": [
        {
          "output_type": "stream",
          "text": [
            "usage: ipykernel_launcher.py [-h] [-m None] [-o None] [-n 20] [-t 2000]\n",
            "                             [-t2v None]\n",
            "ipykernel_launcher.py: error: unrecognized arguments: -f /root/.local/share/jupyter/runtime/kernel-d67f696e-b081-4075-b0e3-69fff26586b6.json\n"
          ],
          "name": "stderr"
        },
        {
          "output_type": "error",
          "ename": "SystemExit",
          "evalue": "ignored",
          "traceback": [
            "An exception has occurred, use %tb to see the full traceback.\n",
            "\u001b[0;31mSystemExit\u001b[0m\u001b[0;31m:\u001b[0m 2\n"
          ]
        },
        {
          "output_type": "stream",
          "text": [
            "/usr/local/lib/python3.6/dist-packages/IPython/core/interactiveshell.py:2890: UserWarning: To exit: use 'exit', 'quit', or Ctrl-D.\n",
            "  warn(\"To exit: use 'exit', 'quit', or Ctrl-D.\", stacklevel=1)\n"
          ],
          "name": "stderr"
        }
      ]
    },
    {
      "cell_type": "markdown",
      "metadata": {
        "id": "t22O7dVcBMIt"
      },
      "source": [
        "# How to translate the text (using simpletransformers) ?\n"
      ]
    },
    {
      "cell_type": "code",
      "metadata": {
        "id": "nbD9ev4_FyyH",
        "outputId": "ce71dba3-c301-43f9-be85-c3847eaef63b",
        "colab": {
          "base_uri": "https://localhost:8080/",
          "height": 339
        }
      },
      "source": [
        "# Import the model\n",
        "from simpletransformers.seq2seq import Seq2SeqModel\n",
        "\n",
        "# Setting desired arguments\n",
        "my_args = {    \"train_batch_size\": 2,\n",
        "               \"num_train_epochs\": 10,\n",
        "               \"save_eval_checkpoints\": False,\n",
        "               \"save_model_every_epoch\": False,\n",
        "               \"evaluate_during_training\": True,\n",
        "               \"evaluate_generated_text\": True   }\n",
        "\n",
        "# Instantiating the model\n",
        "my_model=Seq2SeqModel(encoder_decoder_name=\"Helsinki-NLP/opus-mt-en-de\",encoder_decoder_type=\"marian\",args=my_args,use_cuda=False)\n",
        "\n",
        "\n",
        "# translating the text\n",
        "\n",
        "my_model.predict(['Our experienced writers travel the world to bring you informative and inspirational features, destination roundups, travel ideas, tips and beautiful photos in order to help you plan your next holiday',\n",
        "                  'Each part of Germany is different, and there are thousands of memorable places to visit.',\n",
        "                  \"Christmas Markets originated in Germany, and the tradition dates to the Late Middle Ages.\",\n",
        "                  \"Garmisch-Partenkirchen is a small town in Bavaria, near Germany’s highest mountain Zugspitze, which rises to 9,718 feet (2,962 meters)\",\n",
        "                  \"It’s one of the country’s top alpine destinations, extremely popular during the winter\",\n",
        "                  \"In spring, take a road trip through Bavaria and enjoy the view of the dark green Alps and the first alpine wildflowers. \"])"
      ],
      "execution_count": 97,
      "outputs": [
        {
          "output_type": "error",
          "ename": "AttributeError",
          "evalue": "ignored",
          "traceback": [
            "\u001b[0;31m---------------------------------------------------------------------------\u001b[0m",
            "\u001b[0;31mAttributeError\u001b[0m                            Traceback (most recent call last)",
            "\u001b[0;32m<ipython-input-97-9e75dae15f6c>\u001b[0m in \u001b[0;36m<module>\u001b[0;34m()\u001b[0m\n\u001b[1;32m     21\u001b[0m                   \u001b[0;34m\"Garmisch-Partenkirchen is a small town in Bavaria, near Germany’s highest mountain Zugspitze, which rises to 9,718 feet (2,962 meters)\"\u001b[0m\u001b[0;34m,\u001b[0m\u001b[0;34m\u001b[0m\u001b[0;34m\u001b[0m\u001b[0m\n\u001b[1;32m     22\u001b[0m                   \u001b[0;34m\"It’s one of the country’s top alpine destinations, extremely popular during the winter\"\u001b[0m\u001b[0;34m,\u001b[0m\u001b[0;34m\u001b[0m\u001b[0;34m\u001b[0m\u001b[0m\n\u001b[0;32m---> 23\u001b[0;31m                   \"In spring, take a road trip through Bavaria and enjoy the view of the dark green Alps and the first alpine wildflowers. \"])\n\u001b[0m",
            "\u001b[0;32m/usr/local/lib/python3.6/dist-packages/simpletransformers/seq2seq/seq2seq_model.py\u001b[0m in \u001b[0;36mpredict\u001b[0;34m(self, to_predict)\u001b[0m\n\u001b[1;32m    841\u001b[0m         ]:\n\u001b[1;32m    842\u001b[0m             \u001b[0;32mif\u001b[0m \u001b[0mself\u001b[0m\u001b[0;34m.\u001b[0m\u001b[0margs\u001b[0m\u001b[0;34m.\u001b[0m\u001b[0mmodel_type\u001b[0m \u001b[0;34m==\u001b[0m \u001b[0;34m\"marian\"\u001b[0m\u001b[0;34m:\u001b[0m\u001b[0;34m\u001b[0m\u001b[0;34m\u001b[0m\u001b[0m\n\u001b[0;32m--> 843\u001b[0;31m                 input_ids = self.encoder_tokenizer.prepare_translation_batch(\n\u001b[0m\u001b[1;32m    844\u001b[0m                     \u001b[0mbatch\u001b[0m\u001b[0;34m,\u001b[0m\u001b[0;34m\u001b[0m\u001b[0;34m\u001b[0m\u001b[0m\n\u001b[1;32m    845\u001b[0m                     \u001b[0mmax_length\u001b[0m\u001b[0;34m=\u001b[0m\u001b[0mself\u001b[0m\u001b[0;34m.\u001b[0m\u001b[0margs\u001b[0m\u001b[0;34m.\u001b[0m\u001b[0mmax_seq_length\u001b[0m\u001b[0;34m,\u001b[0m\u001b[0;34m\u001b[0m\u001b[0;34m\u001b[0m\u001b[0m\n",
            "\u001b[0;31mAttributeError\u001b[0m: 'MarianTokenizer' object has no attribute 'prepare_translation_batch'"
          ]
        }
      ]
    },
    {
      "cell_type": "markdown",
      "metadata": {
        "id": "bzNoEuK8BWIg"
      },
      "source": [
        "# How to create a Question-Answering system from given context\n"
      ]
    },
    {
      "cell_type": "code",
      "metadata": {
        "id": "Uu1alzA4F0ET"
      },
      "source": [
        "context=\"\"\" Harry Potter is the best book series according to many people. Harry Potter was written by JK.Rowling .\n",
        "It is afantasy based novel that provides a thrilling experience to readers.\"\"\"\n",
        "\n",
        "question=\"What is Harry Potter ?\""
      ],
      "execution_count": 101,
      "outputs": []
    },
    {
      "cell_type": "code",
      "metadata": {
        "id": "_PmkM1okF1WN",
        "outputId": "44fd6934-b680-42fa-e779-0ef5241b90b0",
        "colab": {
          "base_uri": "https://localhost:8080/",
          "height": 141
        }
      },
      "source": [
        "#Install and import the pipeline of transformers\n",
        "#!pip install transformers\n",
        "from transformers import pipeline\n",
        "\n",
        "# Get thetask-specific pipeline\n",
        "my_model=pipeline(task=\"question-answering\")\n",
        "\n",
        "context = r\"\"\" Harry Potter is the best book series according to many people. Harry Potter was written by JK.Rowling .\n",
        "It is afantasy based novel that provides a thrilling experience to readers.\"\"\"\n",
        "\n",
        "# Pass the question and context to the model to obtain answer\n",
        "print(my_model(question=\"What is Harry Potter ?\", context=context))\n",
        "print(my_model(question=\"Who wrote Harry Potter ?\", context=context))"
      ],
      "execution_count": 102,
      "outputs": [
        {
          "output_type": "stream",
          "text": [
            "/usr/local/lib/python3.6/dist-packages/transformers/tokenization_utils_base.py:1374: FutureWarning: The `max_len` attribute has been deprecated and will be removed in a future version, use `model_max_length` instead.\n",
            "  FutureWarning,\n"
          ],
          "name": "stderr"
        },
        {
          "output_type": "stream",
          "text": [
            "{'score': 0.23918290436267853, 'start': 17, 'end': 37, 'answer': 'the best book series'}\n"
          ],
          "name": "stdout"
        },
        {
          "output_type": "stream",
          "text": [
            "/usr/local/lib/python3.6/dist-packages/transformers/tokenization_utils_base.py:1374: FutureWarning: The `max_len` attribute has been deprecated and will be removed in a future version, use `model_max_length` instead.\n",
            "  FutureWarning,\n"
          ],
          "name": "stderr"
        },
        {
          "output_type": "stream",
          "text": [
            "{'score': 0.9813618063926697, 'start': 92, 'end': 102, 'answer': 'JK.Rowling'}\n"
          ],
          "name": "stdout"
        }
      ]
    },
    {
      "cell_type": "markdown",
      "metadata": {
        "id": "q5vvnuajBavc"
      },
      "source": [
        "# How to do text generation starting from a given piece of text?\n"
      ]
    },
    {
      "cell_type": "code",
      "metadata": {
        "id": "aHFTUx7GF2TD"
      },
      "source": [
        "starting=\"It was a bright\""
      ],
      "execution_count": 103,
      "outputs": []
    },
    {
      "cell_type": "code",
      "metadata": {
        "id": "yqD2juCzF3V8",
        "outputId": "9314603a-8e83-4714-f5fe-ea376ef7a440",
        "colab": {
          "base_uri": "https://localhost:8080/",
          "height": 107
        }
      },
      "source": [
        "# Import pipeline from transformers package\n",
        "from transformers import pipeline\n",
        "\n",
        "# Get the task-specific pipeline\n",
        "my_model=pipeline(task=\"text-generation\")\n",
        "\n",
        "# Pass the starting sequence as input to generate text\n",
        "my_model(starting)"
      ],
      "execution_count": 104,
      "outputs": [
        {
          "output_type": "stream",
          "text": [
            "Some weights of GPT2Model were not initialized from the model checkpoint at gpt2 and are newly initialized: ['h.0.attn.masked_bias', 'h.1.attn.masked_bias', 'h.2.attn.masked_bias', 'h.3.attn.masked_bias', 'h.4.attn.masked_bias', 'h.5.attn.masked_bias', 'h.6.attn.masked_bias', 'h.7.attn.masked_bias', 'h.8.attn.masked_bias', 'h.9.attn.masked_bias', 'h.10.attn.masked_bias', 'h.11.attn.masked_bias']\n",
            "You should probably TRAIN this model on a down-stream task to be able to use it for predictions and inference.\n",
            "Setting `pad_token_id` to 50256 (first `eos_token_id`) to generate sequence\n"
          ],
          "name": "stderr"
        },
        {
          "output_type": "execute_result",
          "data": {
            "text/plain": [
              "[{'generated_text': 'It was a bright light but it wouldn\\'t turn on the light because the temperature was too hot. \"It\\'s really a good feeling, no matter where you\\'re from, living there for days isn\\'t really possible.\"\\n\\nThis summer, she'}]"
            ]
          },
          "metadata": {
            "tags": []
          },
          "execution_count": 104
        }
      ]
    },
    {
      "cell_type": "code",
      "metadata": {
        "id": "EdEIiT5XF4Ck"
      },
      "source": [
        "text1=\"It is a pleasant day, I am going for a walk\"\n",
        "text2=\"I have a terrible headache\""
      ],
      "execution_count": 105,
      "outputs": []
    },
    {
      "cell_type": "code",
      "metadata": {
        "id": "JYmvGaDxF5BF",
        "outputId": "06b53d6e-5c51-4a65-e6d0-c48071ff65d5",
        "colab": {
          "base_uri": "https://localhost:8080/",
          "height": 52
        }
      },
      "source": [
        "#!pip install --upgrade tensorflow\n",
        "# Import pipeline from transformers package\n",
        "from transformers import pipeline\n",
        "\n",
        "# Get the task specific pipeline\n",
        "my_model = pipeline(\"sentiment-analysis\")\n",
        "\n",
        "# Predicting the sentiment with score\n",
        "print(my_model(text1))\n",
        "print(my_model(text2))"
      ],
      "execution_count": 106,
      "outputs": [
        {
          "output_type": "stream",
          "text": [
            "[{'label': 'POSITIVE', 'score': 0.9998570084571838}]\n",
            "[{'label': 'NEGATIVE', 'score': 0.9994378089904785}]\n"
          ],
          "name": "stdout"
        }
      ]
    },
    {
      "cell_type": "code",
      "metadata": {
        "id": "hgiqDcj4F5vD"
      },
      "source": [
        ""
      ],
      "execution_count": 87,
      "outputs": []
    }
  ]
}