{
  "nbformat": 4,
  "nbformat_minor": 0,
  "metadata": {
    "colab": {
      "name": "text_summarization.ipynb",
      "provenance": [],
      "collapsed_sections": [],
      "authorship_tag": "ABX9TyNFmESYddKBbS5RjnBFkuBY",
      "include_colab_link": true
    },
    "kernelspec": {
      "name": "python3",
      "display_name": "Python 3"
    }
  },
  "cells": [
    {
      "cell_type": "markdown",
      "metadata": {
        "id": "view-in-github",
        "colab_type": "text"
      },
      "source": [
        "<a href=\"https://colab.research.google.com/github/solankiharsh/NLP_Snippets/blob/master/text_summarization.ipynb\" target=\"_parent\"><img src=\"https://colab.research.google.com/assets/colab-badge.svg\" alt=\"Open In Colab\"/></a>"
      ]
    },
    {
      "cell_type": "code",
      "metadata": {
        "id": "_Bie8KOoS8zE"
      },
      "source": [
        "#!pip install newspaper3k "
      ],
      "execution_count": 13,
      "outputs": []
    },
    {
      "cell_type": "code",
      "metadata": {
        "id": "Qoj6G6S3Tjmj"
      },
      "source": [
        "#!pip install bert-extractive-summarizer"
      ],
      "execution_count": 15,
      "outputs": []
    },
    {
      "cell_type": "code",
      "metadata": {
        "id": "pi8Pb5dRS239"
      },
      "source": [
        "ref_links = ['https://www.financialexpress.com/market/ril-sbi-cards-asian-paints-bpcl-kirloskar-industries-ultratech-cement-coal-india-kirloskar-brothers-bajaj-finance-stocks-in-focus/2111268/',\n",
        "'https://www.financialexpress.com/market/ipo-news/equitas-small-finance-bank-initial-public-offer-ipo-subscription-retail-portion-grey-market-trend-rs-518-cr-ipo/2110644/',\n",
        "'https://www.financialexpress.com/industry/ultratech-cements-q2-profit-surges-over-twofold-to-rs-1234-crore/2111006/',\n",
        "'https://economictimes.indiatimes.com/markets/stocks/news/taj-sets-sights-on-mubadalas-viceroy-hotels/articleshow/78799897.cms',\n",
        "'https://www.thehindubusinessline.com/companies/tata-motors-sees-cv-sales-picking-up-as-demand-revives-gradually/article32909497.ece',\n",
        "'https://www.thehindubusinessline.com/companies/ultratech-cement-q2-net-jumps-over-two-fold-to-rs-1235-cr/article32908979.ece',\n",
        "'https://www.thehindubusinessline.com/companies/our-debt-reduction-plan-will-continue-says-ultratech-cement-cfo-atul-daga/article32911446.ece',\n",
        "'https://www.livemint.com/companies/news/china-s-fosun-owned-gland-pharma-gets-sebi-nod-for-proposed-rs-6-000-cr-ipo-11603347446262.html',\n",
        "'https://www.livemint.com/companies/news/purdue-pharma-to-plead-guilty-pay-8-3-bn-over-opioid-probes-11603336511933.html']"
      ],
      "execution_count": 16,
      "outputs": []
    },
    {
      "cell_type": "code",
      "metadata": {
        "id": "sM-Xs710T6tW"
      },
      "source": [
        "html_links = ['https://www.livemint.com/companies/news/china-s-fosun-owned-gland-pharma-gets-sebi-nod-for-proposed-rs-6-000-cr-ipo-11603347446262.html',\n",
        "'https://www.livemint.com/companies/news/purdue-pharma-to-plead-guilty-pay-8-3-bn-over-opioid-probes-11603336511933.html']"
      ],
      "execution_count": 17,
      "outputs": []
    },
    {
      "cell_type": "code",
      "metadata": {
        "id": "lItbdSKvVPIM"
      },
      "source": [
        "# For HTML articles\n",
        "from newspaper import fulltext\n",
        "import requests\n",
        "article_url=\"https://www.livemint.com/companies/news/purdue-pharma-to-plead-guilty-pay-8-3-bn-over-opioid-probes-11603336511933.html\"\n",
        "def read_article(article_url):\n",
        "    article = fulltext(requests.get(article_url).text)\n",
        "    print(article)\n",
        "    return article"
      ],
      "execution_count": 18,
      "outputs": []
    },
    {
      "cell_type": "code",
      "metadata": {
        "id": "IldIJIwCVf2L",
        "outputId": "e2b11b3e-e911-4a72-eac5-98c8d838b458",
        "colab": {
          "base_uri": "https://localhost:8080/",
          "height": 661
        }
      },
      "source": [
        "articles = []\n",
        "for i in html_links:\n",
        "    print(i)\n",
        "    result = read_article(i)\n",
        "    articles.append(result)"
      ],
      "execution_count": 19,
      "outputs": [
        {
          "output_type": "stream",
          "text": [
            "https://www.livemint.com/companies/news/china-s-fosun-owned-gland-pharma-gets-sebi-nod-for-proposed-rs-6-000-cr-ipo-11603347446262.html\n",
            "MUMBAI: Gland Pharma Ltd, which is majority owned by China’s Fosun group, has received the Securities and Exchange Board of India’s (Sebi) approval to go ahead with its proposed ₹6,000 crore IPO, a person aware of the development told Mint.\n",
            "\n",
            "The company, backed by China's Fosun Pharma, had filed the draft red herring prospectus (DRHP) for its IPO with Sebi in July. It develops, manufactures and markets complex injectables.\n",
            "\n",
            "The company plans to raise ₹1,250 crore in fresh capital through the IPO, while the existing promoters plan to sell around 34 million shares, which could be worth around ₹4,750 crore.\n",
            "\n",
            "The company will use the proceeds of the IPO for capital expenditure and working capital requirements.\n",
            "\n",
            "“There is a strong demand for pharma companies and the Gland Pharma IPO too is seeing that. The IPO may be launched sometime next month,\" said the person cited above.\n",
            "\n",
            "Fosun Pharma acquired 74% stake in the company in 2017.\n",
            "\n",
            "Kotak Mahindra Capital Company Ltd, Citigroup Global Markets India Pvt Ltd, Haitong Securities India Pvt Ltd, and Nomura Financial Advisory and Securities (India) Pvt Ltd are advising the company on the IPO.\n",
            "\n",
            "A spokesperson for Gland Pharma could not be immediately reached for a comment.\n",
            "\n",
            "Subscribe to Mint Newsletters * Enter a valid email * Thank you for subscribing to our newsletter.\n",
            "\n",
            "Share Via\n",
            "https://www.livemint.com/companies/news/purdue-pharma-to-plead-guilty-pay-8-3-bn-over-opioid-probes-11603336511933.html\n",
            "Purdue Pharma LP will plead guilty to three felonies and pay $8.3 billion to settle federal probes of how it marketed OxyContin, the addictive painkiller blamed for helping to spark the opioid epidemic.\n",
            "\n",
            "The company’s owners, members of the billionaire Sackler family, will pay $225 million in a civil settlement with the Department of Justice, court papers and US officials said. The agreement resolves the federal government’s criminal and civil investigations, according to a filing on Wednesday in bankruptcy court in New York. Investigations by states including New York and Massachusetts will continue.\n",
            "\n",
            "The settlement is likely to boost Purdue’s effort to move past claims it helped spark a public-health crisis over opioids with its marketing of OxyContin. Yet the company still faces thousands of civil claims by local and state officials, for which Purdue has proposed a separate $10 billion settlement. Governments are seeking reimbursement from Purdue and others for tax dollars spent coping with the crisis, which led to over 200,000 US overdose deaths and chronic addiction.\n",
            "\n",
            "To cope with a tidal wave of claims, Purdue last year filed for Chapter 11 protection in bankruptcy court in New York. US Bankruptcy Judge Robert Drain must approve the settlement with the Department of Justice for it to become final.\n",
            "\n",
            "“Purdue deeply regrets and accepts responsibility for the misconduct detailed by the Department of Justice in the agreed statement of facts,\" Purdue Pharma chief executive officer Steve Miller said in a statement. “Resolving the DOJ investigations is an essential step in our bankruptcy process. The settlement agreement will pave the way for Purdue to submit a plan of reorganization to the bankruptcy court that will transfer all of its assets to a public benefit firm.\"\n",
            "\n",
            "In a bankruptcy filing earlier this year, federal prosecutors said they were seeking over $11 billion in criminal fines and civil penalties from Purdue. The government claims the company fuelled the opioid epidemic with illegal OxyContin marketing efforts.Previously in bankruptcy court, Purdue has proposed a $10 billion deal calling for Sackler family members to hand over the company to a trust controlled by the states, cities and counties that are suing it.\n",
            "\n",
            "Subscribe to Mint Newsletters * Enter a valid email * Thank you for subscribing to our newsletter.\n",
            "\n",
            "Share Via\n"
          ],
          "name": "stdout"
        }
      ]
    },
    {
      "cell_type": "code",
      "metadata": {
        "id": "uxWTnHPDUKV-",
        "outputId": "ad61c0a9-a6ae-45e7-fc40-7ffb47789528",
        "colab": {
          "base_uri": "https://localhost:8080/",
          "height": 139
        }
      },
      "source": [
        "articles[0]"
      ],
      "execution_count": 20,
      "outputs": [
        {
          "output_type": "execute_result",
          "data": {
            "application/vnd.google.colaboratory.intrinsic+json": {
              "type": "string"
            },
            "text/plain": [
              "'MUMBAI: Gland Pharma Ltd, which is majority owned by China’s Fosun group, has received the Securities and Exchange Board of India’s (Sebi) approval to go ahead with its proposed ₹6,000 crore IPO, a person aware of the development told Mint.\\n\\nThe company, backed by China\\'s Fosun Pharma, had filed the draft red herring prospectus (DRHP) for its IPO with Sebi in July. It develops, manufactures and markets complex injectables.\\n\\nThe company plans to raise ₹1,250 crore in fresh capital through the IPO, while the existing promoters plan to sell around 34 million shares, which could be worth around ₹4,750 crore.\\n\\nThe company will use the proceeds of the IPO for capital expenditure and working capital requirements.\\n\\n“There is a strong demand for pharma companies and the Gland Pharma IPO too is seeing that. The IPO may be launched sometime next month,\" said the person cited above.\\n\\nFosun Pharma acquired 74% stake in the company in 2017.\\n\\nKotak Mahindra Capital Company Ltd, Citigroup Global Markets India Pvt Ltd, Haitong Securities India Pvt Ltd, and Nomura Financial Advisory and Securities (India) Pvt Ltd are advising the company on the IPO.\\n\\nA spokesperson for Gland Pharma could not be immediately reached for a comment.\\n\\nSubscribe to Mint Newsletters * Enter a valid email * Thank you for subscribing to our newsletter.\\n\\nShare Via'"
            ]
          },
          "metadata": {
            "tags": []
          },
          "execution_count": 20
        }
      ]
    },
    {
      "cell_type": "code",
      "metadata": {
        "id": "INqK1JsrUpjs"
      },
      "source": [
        "def bert_sum(articles):\n",
        "    from summarizer import Summarizer\n",
        "    model = Summarizer()\n",
        "    result = model(articles, min_length=160,max_length=500)\n",
        "    summary = \"\".join(result)\n",
        "    print(summary)"
      ],
      "execution_count": 21,
      "outputs": []
    },
    {
      "cell_type": "code",
      "metadata": {
        "id": "2vOyj4taVtBv",
        "outputId": "e44fcbd7-7892-49b1-a611-6053b2172ad0",
        "colab": {
          "base_uri": "https://localhost:8080/",
          "height": 89
        }
      },
      "source": [
        "bert_sum(articles[0])\n",
        "print('---')\n",
        "bert_sum(articles[1])"
      ],
      "execution_count": 22,
      "outputs": [
        {
          "output_type": "stream",
          "text": [
            "MUMBAI: Gland Pharma Ltd, which is majority owned by China’s Fosun group, has received the Securities and Exchange Board of India’s (Sebi) approval to go ahead with its proposed ₹6,000 crore IPO, a person aware of the development told Mint.\n",
            "---\n",
            "Purdue Pharma LP will plead guilty to three felonies and pay $8.3 billion to settle federal probes of how it marketed OxyContin, the addictive painkiller blamed for helping to spark the opioid epidemic. Previously in bankruptcy court, Purdue has proposed a $10 billion deal calling for Sackler family members to hand over the company to a trust controlled by the states, cities and counties that are suing it.\n"
          ],
          "name": "stdout"
        }
      ]
    },
    {
      "cell_type": "code",
      "metadata": {
        "id": "UPSx15EHZAGL"
      },
      "source": [
        "# Gensim\n",
        "def gensim_summary(original_text):\n",
        "  # Importing the summarize function from gensim module\n",
        "  import gensim\n",
        "  from gensim.summarization.summarizer import summarize\n",
        "  # Pass the document along with desired word count to get the summary\n",
        "  my_summary=summarize(original_text,word_count=140)\n",
        "  print(my_summary)"
      ],
      "execution_count": 31,
      "outputs": []
    },
    {
      "cell_type": "code",
      "metadata": {
        "id": "9YNc2vQXZQh_",
        "outputId": "4dd474f7-416a-4e42-d519-2990dc0307c2",
        "colab": {
          "base_uri": "https://localhost:8080/",
          "height": 55
        }
      },
      "source": [
        "gensim_summary(original_text)"
      ],
      "execution_count": 73,
      "outputs": [
        {
          "output_type": "stream",
          "text": [
            "(<Sentence: Market participants will keenly watch the second and final presidential debate between Donald Trump and Joe Biden.>, <Sentence: Market participants will keenly watch the second and final presidential debate between Donald Trump and Joe Biden.>, <Sentence: Besides, IMF has slashed economic growth forecast for Asia, which sent Asian stock markets in red today.>, <Sentence: Besides, corporate earnings and other developments will induce stock-specific action today.>, <Sentence: Bajaj Finance: Bajaj Finance, a non-banking finance company, on Wednesday reported a steep 36% year-on-year fall in net profit to Rs 965 crore for the quarter ended September on higher loan losses, provisioning and a drop in new loans booked.>)\n"
          ],
          "name": "stdout"
        }
      ]
    },
    {
      "cell_type": "code",
      "metadata": {
        "id": "ezIWv80bZRvf"
      },
      "source": [
        "#!pip install sumy\n",
        "def LexRank_summary(original_text):\n",
        "  #\n",
        "  import sumy\n",
        "  from sumy.summarizers.lex_rank import LexRankSummarizer\n",
        "\n",
        "  #Plain text parsers since we are parsing through text\n",
        "  from sumy.parsers.plaintext import PlaintextParser\n",
        "  from sumy.nlp.tokenizers import Tokenizer\n",
        "\n",
        "  parser=PlaintextParser.from_string(original_text,Tokenizer(\"english\"))\n",
        "\n",
        "  summarizer=LexRankSummarizer()\n",
        "  my_summary=summarizer(parser.document,5)\n",
        "  print(my_summary)"
      ],
      "execution_count": 69,
      "outputs": []
    },
    {
      "cell_type": "code",
      "metadata": {
        "id": "Gct-gtkIdLXB",
        "outputId": "5118f41a-feec-48bc-ade7-dbe9390fd9a8",
        "colab": {
          "base_uri": "https://localhost:8080/",
          "height": 69
        }
      },
      "source": [
        "import nltk\n",
        "nltk.download('punkt')"
      ],
      "execution_count": 40,
      "outputs": [
        {
          "output_type": "stream",
          "text": [
            "[nltk_data] Downloading package punkt to /root/nltk_data...\n",
            "[nltk_data]   Unzipping tokenizers/punkt.zip.\n"
          ],
          "name": "stdout"
        },
        {
          "output_type": "execute_result",
          "data": {
            "text/plain": [
              "True"
            ]
          },
          "metadata": {
            "tags": []
          },
          "execution_count": 40
        }
      ]
    },
    {
      "cell_type": "code",
      "metadata": {
        "id": "o3XjxPHVdAnM",
        "outputId": "1888ee0a-c55c-49d8-871a-b976faa37b7e",
        "colab": {
          "base_uri": "https://localhost:8080/",
          "height": 55
        }
      },
      "source": [
        "LexRank_summary(original_text)"
      ],
      "execution_count": 41,
      "outputs": [
        {
          "output_type": "stream",
          "text": [
            "(<Sentence: Market participants will keenly watch the second and final presidential debate between Donald Trump and Joe Biden.>, <Sentence: Market participants will keenly watch the second and final presidential debate between Donald Trump and Joe Biden.>, <Sentence: Besides, IMF has slashed economic growth forecast for Asia, which sent Asian stock markets in red today.>, <Sentence: Besides, corporate earnings and other developments will induce stock-specific action today.>, <Sentence: Bajaj Finance: Bajaj Finance, a non-banking finance company, on Wednesday reported a steep 36% year-on-year fall in net profit to Rs 965 crore for the quarter ended September on higher loan losses, provisioning and a drop in new loans booked.>)\n"
          ],
          "name": "stdout"
        }
      ]
    },
    {
      "cell_type": "code",
      "metadata": {
        "id": "cQlgU9ppZgEj"
      },
      "source": [
        "def luhn_summary(original_text):\n",
        "\n",
        "  import sumy\n",
        "  from sumy.summarizers.luhn import LuhnSummarizer\n",
        "\n",
        "  #Plain text parsers since we are parsing through text\n",
        "  from sumy.parsers.plaintext import PlaintextParser\n",
        "  from sumy.nlp.tokenizers import Tokenizer\n",
        "\n",
        "  parser=PlaintextParser.from_string(original_text,Tokenizer(\"english\"))\n",
        "\n",
        "  summarizer=LuhnSummarizer()\n",
        "  my_summary=summarizer(parser.document,5)\n",
        "  print(my_summary)"
      ],
      "execution_count": 42,
      "outputs": []
    },
    {
      "cell_type": "code",
      "metadata": {
        "id": "aTOAV2bedaqy",
        "outputId": "405bfac5-13ef-4745-c96b-695d8fdc01f4",
        "colab": {
          "base_uri": "https://localhost:8080/",
          "height": 55
        }
      },
      "source": [
        "luhn_summary(original_text)"
      ],
      "execution_count": 43,
      "outputs": [
        {
          "output_type": "stream",
          "text": [
            "(<Sentence: Market participants will keenly watch the second and final presidential debate between Donald Trump and Joe Biden.>, <Sentence: Market participants will keenly watch the second and final presidential debate between Donald Trump and Joe Biden.>, <Sentence: Kirloskar Industries: Sebi has slapped a penalty of Rs 31 crore on Kirloskar Brothers Ltd (KBL) promoters and others for indulging in insider trading and committing fraud on public shareholders of Kirloskar Industries Ltd.>, <Sentence: UltraTech Cement: UltraTech Cement’s consolidated net profit more than doubled to Rs 1,234 crore on a year-on-year (y-o-y) basis for the quarter ended September 30, on the back of operational efficiencies and lower finance cost.>, <Sentence: Bajaj Finance: Bajaj Finance, a non-banking finance company, on Wednesday reported a steep 36% year-on-year fall in net profit to Rs 965 crore for the quarter ended September on higher loan losses, provisioning and a drop in new loans booked.>)\n"
          ],
          "name": "stdout"
        }
      ]
    },
    {
      "cell_type": "code",
      "metadata": {
        "id": "Cjs-LdMkdbvF"
      },
      "source": [
        "def lsa_summary(original_text):\n",
        "  import sumy\n",
        "  from sumy.summarizers.lsa import LsaSummarizer\n",
        "\n",
        "  #Plain text parsers since we are parsing through text\n",
        "  from sumy.parsers.plaintext import PlaintextParser\n",
        "  from sumy.nlp.tokenizers import Tokenizer\n",
        "\n",
        "  parser=PlaintextParser.from_string(original_text,Tokenizer(\"english\"))\n",
        "\n",
        "  summarizer=LsaSummarizer()\n",
        "  my_summary=summarizer(parser.document,5)\n",
        "  print(my_summary)"
      ],
      "execution_count": 45,
      "outputs": []
    },
    {
      "cell_type": "code",
      "metadata": {
        "id": "fkqVB4zUdgII",
        "outputId": "e9c98dd4-614c-4c73-f85d-fd4566a422f5",
        "colab": {
          "base_uri": "https://localhost:8080/",
          "height": 55
        }
      },
      "source": [
        "lsa_summary(original_text)"
      ],
      "execution_count": 46,
      "outputs": [
        {
          "output_type": "stream",
          "text": [
            "(<Sentence: Besides, IMF has slashed economic growth forecast for Asia, which sent Asian stock markets in red today.>, <Sentence: We expect more stock-specific action as the earnings season progress,” said Siddhartha Khemka, Head – Retail Research, Motilal Oswal Financial Services Ltd.>, <Sentence: Asian Paints, SBI Cards: A total of 48 companies including Asian Paints, Bajaj Auto, Bharti Infratel, HDFC Asset Management Company, SBI Cards and Payment Services, Hexaware Technologies, Indian Bank, Biocon, Coforge, Crompton Greaves Consumer Electricals, L&T Finance Holdings, Mphasis, Reliance Power, Sterlite Technologies, and UCO Bank are scheduled to announce their July-September quarter earnings today.>, <Sentence: UltraTech Cement: UltraTech Cement’s consolidated net profit more than doubled to Rs 1,234 crore on a year-on-year (y-o-y) basis for the quarter ended September 30, on the back of operational efficiencies and lower finance cost.>, <Sentence: Get live Stock Prices from BSE, NSE, US Market and latest NAV, portfolio of Mutual Funds, calculate your tax by Income Tax Calculator, know market’s Top Gainers, Top Losers & Best Equity Funds.>)\n"
          ],
          "name": "stdout"
        }
      ]
    },
    {
      "cell_type": "code",
      "metadata": {
        "id": "-bPd9xupdioE"
      },
      "source": [
        "from nltk.cluster.util import cosine_distance\n",
        "from nltk.corpus import stopwords\n",
        "import numpy as np\n",
        "import networkx as nx"
      ],
      "execution_count": 47,
      "outputs": []
    },
    {
      "cell_type": "code",
      "metadata": {
        "id": "GRqZPLK7f1Tc",
        "outputId": "2fe64dea-9c2d-47db-f36e-8b64bd44b692",
        "colab": {
          "base_uri": "https://localhost:8080/",
          "height": 87
        }
      },
      "source": [
        "import bs4\n",
        "\n",
        "import urllib.request as url\n",
        "\n",
        "import re\n",
        "\n",
        "#!pip3 install nltk\n",
        "\n",
        "import nltk\n",
        "\n",
        "nltk.download('punkt')\n",
        "\n",
        "nltk.download('stopwords')\n",
        "\n",
        "from nltk import sent_tokenize\n",
        "\n",
        "from nltk.corpus import stopwords\n",
        "\n",
        "from nltk import word_tokenize\n",
        "stop_word = stopwords.words('english')\n",
        "import string"
      ],
      "execution_count": 48,
      "outputs": [
        {
          "output_type": "stream",
          "text": [
            "[nltk_data] Downloading package punkt to /root/nltk_data...\n",
            "[nltk_data]   Package punkt is already up-to-date!\n",
            "[nltk_data] Downloading package stopwords to /root/nltk_data...\n",
            "[nltk_data]   Unzipping corpora/stopwords.zip.\n"
          ],
          "name": "stdout"
        }
      ]
    },
    {
      "cell_type": "code",
      "metadata": {
        "id": "fCTSU6mPgKDu",
        "outputId": "8489d2ad-e884-4b62-87f2-43803e6077da",
        "colab": {
          "base_uri": "https://localhost:8080/",
          "height": 576
        }
      },
      "source": [
        "url_name = input(\"https://www.livemint.com/companies/news/china-s-fosun-owned-gland-pharma-gets-sebi-nod-for-proposed-rs-6-000-cr-ipo-11603347446262.html\")"
      ],
      "execution_count": 49,
      "outputs": [
        {
          "output_type": "error",
          "ename": "KeyboardInterrupt",
          "evalue": "ignored",
          "traceback": [
            "\u001b[0;31m---------------------------------------------------------------------------\u001b[0m",
            "\u001b[0;31mKeyboardInterrupt\u001b[0m                         Traceback (most recent call last)",
            "\u001b[0;32m/usr/local/lib/python3.6/dist-packages/ipykernel/kernelbase.py\u001b[0m in \u001b[0;36m_input_request\u001b[0;34m(self, prompt, ident, parent, password)\u001b[0m\n\u001b[1;32m    728\u001b[0m             \u001b[0;32mtry\u001b[0m\u001b[0;34m:\u001b[0m\u001b[0;34m\u001b[0m\u001b[0;34m\u001b[0m\u001b[0m\n\u001b[0;32m--> 729\u001b[0;31m                 \u001b[0mident\u001b[0m\u001b[0;34m,\u001b[0m \u001b[0mreply\u001b[0m \u001b[0;34m=\u001b[0m \u001b[0mself\u001b[0m\u001b[0;34m.\u001b[0m\u001b[0msession\u001b[0m\u001b[0;34m.\u001b[0m\u001b[0mrecv\u001b[0m\u001b[0;34m(\u001b[0m\u001b[0mself\u001b[0m\u001b[0;34m.\u001b[0m\u001b[0mstdin_socket\u001b[0m\u001b[0;34m,\u001b[0m \u001b[0;36m0\u001b[0m\u001b[0;34m)\u001b[0m\u001b[0;34m\u001b[0m\u001b[0;34m\u001b[0m\u001b[0m\n\u001b[0m\u001b[1;32m    730\u001b[0m             \u001b[0;32mexcept\u001b[0m \u001b[0mException\u001b[0m\u001b[0;34m:\u001b[0m\u001b[0;34m\u001b[0m\u001b[0;34m\u001b[0m\u001b[0m\n",
            "\u001b[0;32m/usr/local/lib/python3.6/dist-packages/jupyter_client/session.py\u001b[0m in \u001b[0;36mrecv\u001b[0;34m(self, socket, mode, content, copy)\u001b[0m\n\u001b[1;32m    802\u001b[0m         \u001b[0;32mtry\u001b[0m\u001b[0;34m:\u001b[0m\u001b[0;34m\u001b[0m\u001b[0;34m\u001b[0m\u001b[0m\n\u001b[0;32m--> 803\u001b[0;31m             \u001b[0mmsg_list\u001b[0m \u001b[0;34m=\u001b[0m \u001b[0msocket\u001b[0m\u001b[0;34m.\u001b[0m\u001b[0mrecv_multipart\u001b[0m\u001b[0;34m(\u001b[0m\u001b[0mmode\u001b[0m\u001b[0;34m,\u001b[0m \u001b[0mcopy\u001b[0m\u001b[0;34m=\u001b[0m\u001b[0mcopy\u001b[0m\u001b[0;34m)\u001b[0m\u001b[0;34m\u001b[0m\u001b[0;34m\u001b[0m\u001b[0m\n\u001b[0m\u001b[1;32m    804\u001b[0m         \u001b[0;32mexcept\u001b[0m \u001b[0mzmq\u001b[0m\u001b[0;34m.\u001b[0m\u001b[0mZMQError\u001b[0m \u001b[0;32mas\u001b[0m \u001b[0me\u001b[0m\u001b[0;34m:\u001b[0m\u001b[0;34m\u001b[0m\u001b[0;34m\u001b[0m\u001b[0m\n",
            "\u001b[0;32m/usr/local/lib/python3.6/dist-packages/zmq/sugar/socket.py\u001b[0m in \u001b[0;36mrecv_multipart\u001b[0;34m(self, flags, copy, track)\u001b[0m\n\u001b[1;32m    490\u001b[0m         \"\"\"\n\u001b[0;32m--> 491\u001b[0;31m         \u001b[0mparts\u001b[0m \u001b[0;34m=\u001b[0m \u001b[0;34m[\u001b[0m\u001b[0mself\u001b[0m\u001b[0;34m.\u001b[0m\u001b[0mrecv\u001b[0m\u001b[0;34m(\u001b[0m\u001b[0mflags\u001b[0m\u001b[0;34m,\u001b[0m \u001b[0mcopy\u001b[0m\u001b[0;34m=\u001b[0m\u001b[0mcopy\u001b[0m\u001b[0;34m,\u001b[0m \u001b[0mtrack\u001b[0m\u001b[0;34m=\u001b[0m\u001b[0mtrack\u001b[0m\u001b[0;34m)\u001b[0m\u001b[0;34m]\u001b[0m\u001b[0;34m\u001b[0m\u001b[0;34m\u001b[0m\u001b[0m\n\u001b[0m\u001b[1;32m    492\u001b[0m         \u001b[0;31m# have first part already, only loop while more to receive\u001b[0m\u001b[0;34m\u001b[0m\u001b[0;34m\u001b[0m\u001b[0;34m\u001b[0m\u001b[0m\n",
            "\u001b[0;32mzmq/backend/cython/socket.pyx\u001b[0m in \u001b[0;36mzmq.backend.cython.socket.Socket.recv\u001b[0;34m()\u001b[0m\n",
            "\u001b[0;32mzmq/backend/cython/socket.pyx\u001b[0m in \u001b[0;36mzmq.backend.cython.socket.Socket.recv\u001b[0;34m()\u001b[0m\n",
            "\u001b[0;32mzmq/backend/cython/socket.pyx\u001b[0m in \u001b[0;36mzmq.backend.cython.socket._recv_copy\u001b[0;34m()\u001b[0m\n",
            "\u001b[0;32m/usr/local/lib/python3.6/dist-packages/zmq/backend/cython/checkrc.pxd\u001b[0m in \u001b[0;36mzmq.backend.cython.checkrc._check_rc\u001b[0;34m()\u001b[0m\n",
            "\u001b[0;31mKeyboardInterrupt\u001b[0m: ",
            "\nDuring handling of the above exception, another exception occurred:\n",
            "\u001b[0;31mKeyboardInterrupt\u001b[0m                         Traceback (most recent call last)",
            "\u001b[0;32m<ipython-input-49-13e97fc884b0>\u001b[0m in \u001b[0;36m<module>\u001b[0;34m()\u001b[0m\n\u001b[0;32m----> 1\u001b[0;31m \u001b[0murl_name\u001b[0m \u001b[0;34m=\u001b[0m \u001b[0minput\u001b[0m\u001b[0;34m(\u001b[0m\u001b[0;34m\"https://www.livemint.com/companies/news/china-s-fosun-owned-gland-pharma-gets-sebi-nod-for-proposed-rs-6-000-cr-ipo-11603347446262.html\"\u001b[0m\u001b[0;34m)\u001b[0m\u001b[0;34m\u001b[0m\u001b[0;34m\u001b[0m\u001b[0m\n\u001b[0m",
            "\u001b[0;32m/usr/local/lib/python3.6/dist-packages/ipykernel/kernelbase.py\u001b[0m in \u001b[0;36mraw_input\u001b[0;34m(self, prompt)\u001b[0m\n\u001b[1;32m    702\u001b[0m             \u001b[0mself\u001b[0m\u001b[0;34m.\u001b[0m\u001b[0m_parent_ident\u001b[0m\u001b[0;34m,\u001b[0m\u001b[0;34m\u001b[0m\u001b[0;34m\u001b[0m\u001b[0m\n\u001b[1;32m    703\u001b[0m             \u001b[0mself\u001b[0m\u001b[0;34m.\u001b[0m\u001b[0m_parent_header\u001b[0m\u001b[0;34m,\u001b[0m\u001b[0;34m\u001b[0m\u001b[0;34m\u001b[0m\u001b[0m\n\u001b[0;32m--> 704\u001b[0;31m             \u001b[0mpassword\u001b[0m\u001b[0;34m=\u001b[0m\u001b[0;32mFalse\u001b[0m\u001b[0;34m,\u001b[0m\u001b[0;34m\u001b[0m\u001b[0;34m\u001b[0m\u001b[0m\n\u001b[0m\u001b[1;32m    705\u001b[0m         )\n\u001b[1;32m    706\u001b[0m \u001b[0;34m\u001b[0m\u001b[0m\n",
            "\u001b[0;32m/usr/local/lib/python3.6/dist-packages/ipykernel/kernelbase.py\u001b[0m in \u001b[0;36m_input_request\u001b[0;34m(self, prompt, ident, parent, password)\u001b[0m\n\u001b[1;32m    732\u001b[0m             \u001b[0;32mexcept\u001b[0m \u001b[0mKeyboardInterrupt\u001b[0m\u001b[0;34m:\u001b[0m\u001b[0;34m\u001b[0m\u001b[0;34m\u001b[0m\u001b[0m\n\u001b[1;32m    733\u001b[0m                 \u001b[0;31m# re-raise KeyboardInterrupt, to truncate traceback\u001b[0m\u001b[0;34m\u001b[0m\u001b[0;34m\u001b[0m\u001b[0;34m\u001b[0m\u001b[0m\n\u001b[0;32m--> 734\u001b[0;31m                 \u001b[0;32mraise\u001b[0m \u001b[0mKeyboardInterrupt\u001b[0m\u001b[0;34m\u001b[0m\u001b[0;34m\u001b[0m\u001b[0m\n\u001b[0m\u001b[1;32m    735\u001b[0m             \u001b[0;32melse\u001b[0m\u001b[0;34m:\u001b[0m\u001b[0;34m\u001b[0m\u001b[0;34m\u001b[0m\u001b[0m\n\u001b[1;32m    736\u001b[0m                 \u001b[0;32mbreak\u001b[0m\u001b[0;34m\u001b[0m\u001b[0;34m\u001b[0m\u001b[0m\n",
            "\u001b[0;31mKeyboardInterrupt\u001b[0m: "
          ]
        }
      ]
    },
    {
      "cell_type": "code",
      "metadata": {
        "id": "DtMBZ2IjgTVE"
      },
      "source": [
        "web = url.urlopen(url_name)\n",
        "page = bs4.BeautifulSoup(web,'html.parser')\n",
        "elements = page.find_all('p')\n",
        "article = ''\n",
        "for i in elements:\n",
        "    article+= (i.text)\n",
        "article"
      ],
      "execution_count": null,
      "outputs": []
    },
    {
      "cell_type": "code",
      "metadata": {
        "id": "w5_ezjbGgV5I"
      },
      "source": [
        "processed = article.replace(r'^\\s+|\\s+?$','')\n",
        "processed = processed.replace('\\n',' ')\n",
        "processed = processed.replace(\"\\\\\",'')\n",
        "processed = processed.replace(\",\",'')\n",
        "processed = processed.replace('\"','')\n",
        "processed = re.sub(r'\\[[0-9]*\\]','',processed)\n",
        "processed"
      ],
      "execution_count": null,
      "outputs": []
    },
    {
      "cell_type": "code",
      "metadata": {
        "id": "_hAvZ5EEgYU2"
      },
      "source": [
        "sentences = sent_tokenize(processed)"
      ],
      "execution_count": null,
      "outputs": []
    },
    {
      "cell_type": "code",
      "metadata": {
        "id": "jRW3-6e9gZap"
      },
      "source": [
        "frequency = {}\n",
        "processed1 = processed.lower()\n",
        "for word in word_tokenize(processed1):\n",
        "    if word not in stop_word and word not in string.punctuation:\n",
        "        if word not in frequency.keys():\n",
        "            frequency[word]=1\n",
        "        else:\n",
        "            frequency[word]+=1\n",
        "frequency"
      ],
      "execution_count": null,
      "outputs": []
    },
    {
      "cell_type": "code",
      "metadata": {
        "id": "sD4gYIrugc2O"
      },
      "source": [
        "max_fre = max(frequency.values())\n",
        "for word in frequency.keys():\n",
        "    frequency[word]=(frequency[word]/max_fre)\n",
        "frequency"
      ],
      "execution_count": null,
      "outputs": []
    },
    {
      "cell_type": "code",
      "metadata": {
        "id": "uCfkQaHjgfZU"
      },
      "source": [
        "sentence_score = {}\n",
        "for sent in sentences:\n",
        "    for word in word_tokenize(sent):\n",
        "        if word in frequency.keys():\n",
        "            if len(sent.split(' '))<30:\n",
        "                if sent not in sentence_score.keys():\n",
        "                    sentence_score[sent] = frequency[word]\n",
        "                else:\n",
        "                    sentence_score[sent]+=frequency[word]\n",
        "sentence_score"
      ],
      "execution_count": null,
      "outputs": []
    },
    {
      "cell_type": "code",
      "metadata": {
        "id": "vm1cDFQRgjb_"
      },
      "source": [
        "import heapq\n",
        "summary = heapq.nlargest(4,sentence_score,key = sentence_score.get)\n",
        "summary = ' '.join(summary)\n",
        "final = \"SUMMARY:- \\n  \" +summarytextfinal = 'TEXT:-    '+processed\n",
        "textfinal = textfinal.encode('ascii','ignore')\n",
        "textfinal = str(textfinal) \n",
        "final"
      ],
      "execution_count": null,
      "outputs": []
    },
    {
      "cell_type": "code",
      "metadata": {
        "id": "mf0AGKswgm5x"
      },
      "source": [
        "link1 = '''\n",
        "Market participants will keenly watch the second and final presidential debate between Donald Trump and Joe Biden. Besides, IMF has slashed economic growth forecast for Asia.Nifty futures were trading 29 points down at 11,888 on Singaporean Exchange, suggesting a gap-down opening for BSE Sensex and Nifty on Thursday. Market participants will keenly watch the second and final presidential debate between Donald Trump and Joe Biden. Besides, IMF has slashed economic growth forecast for Asia, which sent Asian stock markets in red today. Besides, corporate earnings and other developments will induce stock-specific action today. “The technical setup suggests Nifty range of 11750-12100 in the near term. We expect more stock-specific action as the earnings season progress,” said Siddhartha Khemka, Head – Retail Research, Motilal Oswal Financial Services Ltd.\n",
        "\n",
        "Stocks in focus today:\n",
        "\n",
        "Reliance Industries: RIL’s digital arm Reliance Jio has launched new, revamped ‘JioPages’, its Made-in-India mobile browser that is available in eight Indian languages and promises enhanced browsing experience while focusing on data privacy. The new version of the browser made its debut on Google Playstore on Tuesday.\n",
        "\n",
        "Asian Paints, SBI Cards: A total of 48 companies including Asian Paints, Bajaj Auto, Bharti Infratel, HDFC Asset Management Company, SBI Cards and Payment Services, Hexaware Technologies, Indian Bank, Biocon, Coforge, Crompton Greaves Consumer Electricals, L&T Finance Holdings, Mphasis, Reliance Power, Sterlite Technologies, and UCO Bank are scheduled to announce their July-September quarter earnings today.\n",
        "\n",
        "Kirloskar Industries: Sebi has slapped a penalty of Rs 31 crore on Kirloskar Brothers Ltd (KBL) promoters and others for indulging in insider trading and committing fraud on public shareholders of Kirloskar Industries Ltd.\n",
        "\n",
        "BPCL: BPCL ESPS Trust bought 4.3 crore shares of Bharat Petroleum Corporation Ltd from BPCL Trust for Investment in Shares at Rs 343.35 per share on Wednesday through a bulk deal.\n",
        "\n",
        "UltraTech Cement: UltraTech Cement’s consolidated net profit more than doubled to Rs 1,234 crore on a year-on-year (y-o-y) basis for the quarter ended September 30, on the back of operational efficiencies and lower finance cost.\n",
        "\n",
        "Coal India: Coal India (CIL), which has been clocking negative growth in production during this fiscal, has been able to neutralise it for the first time. The production of 265.69 million tonne (mt) recorded on October 20 has come at level with last year’s output on the same date.\n",
        "\n",
        "Bajaj Finance: Bajaj Finance, a non-banking finance company, on Wednesday reported a steep 36% year-on-year fall in net profit to Rs 965 crore for the quarter ended September on higher loan losses, provisioning and a drop in new loans booked. Loan losses and provisions nearly tripled to Rs 1,700 crore during the quarter.\n",
        "\n",
        "Get live Stock Prices from BSE, NSE, US Market and latest NAV, portfolio of Mutual Funds, calculate your tax by Income Tax Calculator, know market’s Top Gainers, Top Losers & Best Equity Funds. Like us on Facebook and follow us on Twitter.\n",
        "\n",
        "Financial Express is now on Telegram. Click here to join our channel and stay updated with the latest Biz news and updates.\n",
        "\n",
        "'''"
      ],
      "execution_count": 50,
      "outputs": []
    },
    {
      "cell_type": "code",
      "metadata": {
        "id": "VldvugXihoam"
      },
      "source": [
        "link2 = '''\n",
        "Investors can bid for a lot of 450 equity shares and multiples thereof. At the upper price band, investors will need to shell out Rs 14,850 to bid for a single lot of Equitas SFB unit\n",
        "The 518-crore Equitas Small Finance Bank initial public offer (IPO) has been subscribed 64 per cent so far on day 2 of the three-day bidding process. The IPO received bids for over 7 crore equity shares against an offer size of 11.58 crore shares, according to the data available on the exchanges. Earlier this week, Equitas Small Finance Bank raised around Rs 140 crore from 12 anchor investors and finalised allotment of 4.23 crore equity shares at upper price band of Rs 33 per equity share. The stock is trading with nil or zero premium in the secondary market on the back of thin interest in the IPO.\n",
        "\n",
        "Manan Doshi, an independent dealer in unlisted shares, said that investors are concerned about valuations as better alternatives are available in both, listed and unlisted space. Furthermore, investors are cautious due to anticipated stake sales in Equitas Small Finance Bank by the holding company to bring down its stake to 40 per cent by September 2021, as per the Reserve Bank of India’s (RBI) norms. Doshi believes that this may act as a resistance to stock price.\n",
        "\n",
        "Sandip Ginodia, CEO of Abhishek Securities & Altius Investech Pvt Ltd, who too deals in unlisted shares, said that there was hardly any premium in Equitas SFB due to a very few trades. Ginodia termed Equitas Small Finance Bank IPO as a lacklustre IPO. \n",
        "\n",
        "The portion reserved for retail investors has been fully subscribed with 1.36 times application. Non-institutional investors subscribed their portion 5 per cent while employee subscribed to 91 per cent of their portion. Qualified institutional investors (QIB) have only bid for 5% of their quota. Investors can bid for a lot of 450 equity shares and multiples thereof. At the upper price band, investors will need to shell out Rs 14,850 to bid for a single lot of Equitas SFB unit. The lead managers of the for the initial public offer are Edelweiss Financial Services, IFL Holdings and JM Financial Consultants, while KFintech Private Limited is the registrar to the issue.\n",
        "\n",
        "Research and brokerage firm Anand Rathi Financial Services has subscribe rating with long term horizon to this IPO. At upper price band of Rs 33, the IPO is priced at 1.25 times post issue FY20 book value (BV). The brokerage firm said that valuation looks attractive when compared with peers like AU Small Finance Bank (5.35x FY20 BV) and Ujjivan Small Finance Bank (1.89x).\n",
        "\n",
        "Analysts at Geojit Financial Services said that based on FY20 P/BV the issue seems fully priced while the outlook for FY21 is slightly weak given the ongoing interest waiver litigation filed in Supreme Court. “In spite of short to medium term concerns, we expect these concerns to normalize by FY22E and so recommend ‘subscribe’ with a long-term perspective,” it said.\n",
        "\n",
        "On the other hand, Jaikishan Parmar, Senior Equity Research Analyst at Angel Broking Ltd, has given a ‘neutral’ rating to the IPO. Though the bank has a diversified loan book and the best CASA ratio among SFBs, the return ratios are subdued with GNPA above 2.5% for the last 3 years. “Our concern for Equitas SFB is the fresh formation of bad loans from moratorium book that would keep provisions high and return ratios compressed,” Parmar said.\n",
        "\n",
        "'''"
      ],
      "execution_count": 51,
      "outputs": []
    },
    {
      "cell_type": "code",
      "metadata": {
        "id": "gJQr1gAfh1Yk"
      },
      "source": [
        "link3 = '''\n",
        "UltraTech Cement's consolidated net profit more than doubled to Rs 1,234 crore on a year-on-year (y-o-y) basis for the quarter ended September 30, on the back of operational efficiencies and lower finance cost.\n",
        "UltraTech Cement’s consolidated net profit more than doubled to Rs 1,234 crore on a year-on-year (y-o-y) basis for the quarter ended September 30, on the back of operational efficiencies and lower finance cost.\n",
        "\n",
        "\n",
        "The company’s consolidated net sales rose 7.8% y-o-y to Rs 10,231 crore. The consolidated Ebitda was aided by higher volumes, competitive cement prices, lower energy costs and stable logistics. Expenses increased by 37% y-o-y to Rs 2,830 crore.\n",
        "\n",
        "\n",
        "Ebitda/tonne of the company registered a strong growth of 30% to Rs 1,387 per tonne. Consequently, the operating margins came in at 28%, a sharp 600-basis point rise.\n",
        "\n",
        "The volumes during the quarter surged a good 20% y-o-y to 19.21 million tonne from 16 million tonne in the corresponding quarter last year, led by strong rural demand and government spends on infrastructure. The company reported volume growth in the north, central, Gujarat and East regions, whereas volume contracted in south and Maharashtra.\n",
        "\n",
        "Going forward, UltraTech expects demand for cement to grow on the back of the government’s thrust on infrastructure and the expanding rural economy. The recent policy measures announced by the Reserve Bank of India to support the real estate sector will also aid demand.\n",
        "\n",
        "For the second quarter in a row, UltraTech reduced net debt substantially. With prudent working capital management and overall efficient operations, the company shaved off Rs 4,728 crore of net debt in the first half of this financial year. In the September quarter, the company reduced the net debt by Rs 2,519 crore.\n",
        "\n",
        "The company’s consolidated net debt to Ebitda reduced substantially to 1.22x versus 1.70x in March 2020. The company’s consolidated net debt at the end of September quarter stood at Rs 12,132 crore against Rs 14,651 crore in the June 2020 quarter, and Rs 16,860 crore in the March 2020 quarter.\n",
        "\n",
        "The company said work on the company’s 3.4 MTPA cement capacity addition in Odisha, Bihar and West Bengal has picked up pace and it is expected to get commissioned during FY22 in a phased manner.\n",
        "\n",
        "The 14.6 MTPA cement plants acquired during the previous fiscal have been integrated and now the company is investing in further improving operations.\n",
        "\n",
        "\n",
        "'''"
      ],
      "execution_count": 52,
      "outputs": []
    },
    {
      "cell_type": "code",
      "metadata": {
        "id": "C5u-oLxyh-pN"
      },
      "source": [
        "link4 = '''\n",
        "Month-on-month sales gain momentum\n",
        "Leading truck and bus maker Tata Motors expects demand revival in the commercial vehicle industry to improve further in the coming months, aided by multiple factors.\n",
        "\n",
        "As the economy opened up slowly, Tata Motors has seen gradual improvements with growth in sales month-on-month and good demand in select segments though the full recovery in the industry is some time away.\n",
        "\n",
        "Tata Motors’ domestic commercial vehicle sales in Q2 (July- September 2020) at 52,094 units was about 23 per cent lower than Q2 last year. However, it was significantly higher than the previous quarter (Q1FY21) on the back of gradually increasing demand.\n",
        "\n",
        "“While M&HCV volumes witnessed a steep decline of 73 per cent in H1FY21 vs last year on account of Covid-19, we are seeing a month-on-month improvement in the volumes. In September 2020, the sale at 23,245 units was 38 per cent higher than the previous month while 4.3 per cent lower than September 2019 numbers, said Girish Wagh, President, Commercial Vehicle Business Unit, Tata Motors.\n",
        "\n",
        "Volume growth\n",
        "With the Unlock 5.0 and consequent increase in economic activity, Government’s infrastructure push, particularly in the road construction sector and an uptick in the rural economy after a good monsoon, the company is beginning to see a revival in the M&HCV (medium and heavy commercial vehicle) volumes.\n",
        "\n",
        "“There are a number of other positive signs in the form of improving freight rates, GST collections and e-way bills which augur well for the economy and overall demand for M&HCVs,” he added.\n",
        "\n",
        "The tipper segment is growing faster with demand coming from the infrastructure growth, road construction projects, coal and iron ore mining and irrigation. Tata Motors is also seeing good demand coming from certain specific segments like e-commerce, petroleum, oil & lubricants (POL), FMCG sectors, steel and cement, which are driving demand for the MCV (medium commercial vehicle) and MAV (multi-axle vehicle) trucks.\n",
        "\n",
        "“We firmly believe steps such as notification of scrappage policy by Government of India may help create further demand and help to revive sales in HCV cargo segment,” said Wagh.\n",
        "\n",
        "On its parts, Tata Motors continues to engage with customers across all the sectors and in particular the ones which are growing faster. The company has increased the use of digital mediums to reach out and engage with its customers and support them in their business.\n",
        "\n",
        "\"We shall continue to make sure that we are helping our customers run their operations without any disruptions, by providing support on the vehicle servicing through our Sampoorna Seva programme, a service highly appreciated by customers,” he added.\n",
        "\n",
        "'''"
      ],
      "execution_count": 53,
      "outputs": []
    },
    {
      "cell_type": "code",
      "metadata": {
        "id": "wVrMl4BFiW08"
      },
      "source": [
        "link5 = '''\n",
        "The company's operating margins were up 27 per cent driven by both revenue growth and tight cost management\n",
        "Aditya Birla group firm UltraTech Cement Ltd on Wednesday reported over two-fold jump in consolidated net profit to Rs 1,235.11 crore in the September quarter, mainly on account of operational efficiencies.\n",
        "\n",
        "The leading cement producer had posted a net profit of Rs 578.55 crore in July-September quarter a year ago.\n",
        "Its revenue from operations stood at Rs 10,354.21 crore, up 7.68 per cent, during the quarter as against Rs 9,615.12 crore in the corresponding period of last fiscal.\n",
        "\n",
        "“The company’s strong quarterly performance is on the back of operational efficiencies and its ability to serve all India markets. UltraTech reported robust operating margins at 27 per cent driven by both revenue growth and tight cost management,” the Aditya Birla Group company said in its earnings statement.\n",
        "\n",
        "According to the company, during the September quarter, it has an effective volume growth of 20 per cent.\n",
        "\n",
        "UltraTech Cement’s total expenses were at Rs 8,688.55 crore in Q2/FY 2020-21, as against Rs 8,872.04 crore, down 2.06 per cent.\n",
        "\n",
        "For the second quarter in a row, it has reduced net debt substantially.\n",
        "\n",
        "“With prudent working capital management, and overall efficient operations, the company has shaved off Rs 4,728 crore of net debt in the first half of this fiscal year,” it said.\n",
        "\n",
        "Work on the company’s 3.4 mtpa (million tons per annum) cement capacity addition in Odisha, Bihar and West Bengal has picked up pace and is expected to get commissioned during FY22, in a phased manner, it said.\n",
        "\n",
        "While sharing the acquisition update of the 14.6 mtpa plants acquired during the previous financial year, UltraTech said they have been integrated and now the company is investing in improving operations further.\n",
        "\n",
        "Over the outlook, UltraTech Cement said it expects demand for cement to grow on the back of the government’s thrust on infrastructure and the expanding rural economy.\n",
        "\n",
        "“The recent policy measures announced by the Reserve Bank of India to support the real estate sector will also aid demand. Given its Pan-India presence, UltraTech is well-positioned to benefit from demand recovery across the markets,” it said.\n",
        "\n",
        "Shares of UltraTech Cement Ltd on Wednesday settled at Rs 4,629.60 on BSE, up 1.81 per cent from the previous close.\n",
        "\n",
        "'''"
      ],
      "execution_count": 54,
      "outputs": []
    },
    {
      "cell_type": "code",
      "metadata": {
        "id": "Y3elRhV7ijGa"
      },
      "source": [
        "link6 = '''\n",
        "‘We expect demand from real estate to remain sluggish this fiscal due to non-availability of credit’\n",
        "UltraTech Cement has managed to double its profit despite Covid challenges on the back of tight cost control. The advantage of having a pan-India presence with over 100-million-tonne capacity has helped the company sail through testing times. In an interview with BusinessLine, Atul Daga, Chief Financial Officer, UltraTech Cement, explained what lies ahead for the company. Excerpts:\n",
        "\n",
        "When do you see capacity utilisation improving from the current level of 68 per cent?\n",
        "\n",
        "Capacity utilisation is increasing every month since July and touched 73 per cent in September. We are targeting to hit 85 per cent in October. Overall in the December quarter, it should hover around 80 per cent as it is the peak season for construction activities. Usually demand revives through October after the monsoon and the beginning of the festival season.\n",
        "\n",
        "Do you expect the cost to remain low?\n",
        "\n",
        "Not exactly. We expect some cost overheads as we revive market spends. Expense on travel and marketing will increase as market opens up in the December quarter. This apart, there will be expenses on replacing machinery parts and refilling of spares at the stores level. Overall, we expect additional expenses of ₹550 crore. Of this, ₹440 crore has already been incurred and another ₹100 crore will be spent in the December quarter.\n",
        "\n",
        "What would be the value of asset held for sale?\n",
        "\n",
        "These are certain assets inherited from the erstwhile Binani Cement acquisition. Of this, there are two cement assets in China and UAE and a non-cement asset in Europe. The China asset has been sold and money has been realised in this quarter. We have written off ₹24 crore advance extended to the European unit as it was not recoverable. We are scouting for a buyer for the UAE asset which is valued at ₹1,000 crore by us but there are no buyers for this asset at present.\n",
        "\n",
        "Will the raw material prices remain under control?\n",
        "\n",
        "Most of our raw material sourcing are captive, except for fly ash. The price of fly ash has been volatile of late due to demand-supply mismatch. Earlier, power plants use to pay end users to lift the fly ash from their location, but now the situation has reversed. However, fly ash is only three per cent of our overall cost.\n",
        "\n",
        "What is the target for loan repayment this fiscal?\n",
        "\n",
        "We will continue to repay debt. Our current consolidated net debt to EBITDA is at about 1.22 times compared to 1.70 times in the March quarter. We want to bring it to below 1 times by the end of this fiscal. We have already repaid about ₹4,700 crore in the first two quarters of this fiscal.\n",
        "\n",
        "A major portion of the cement demand is driven by government spending. Can this sustain, given the government financials?\n",
        "\n",
        "Apart from giving subsidy for building houses, the government is also coming out with fresh tenders and paying the contractors on time. This process may continue as the greenshoots in economy is already visible. GST collection has been going up month-on-month. If the government stops spending we may dip into recession mode and it is aware of it.\n",
        "\n",
        "New real estate projects are still not happening. Is this a concern?\n",
        "\n",
        "Urban real estate projects account for 28 per cent of sales and of this 10 per cent is in tier-I cities such as Mumbai, Delhi, Bengaluru and Chennai. New projects are slow in these cities, but picking up in small towns. We expect demand from real estate to remain sluggish this fiscal given the non-availability of credit.\n",
        "\n",
        "'''"
      ],
      "execution_count": 55,
      "outputs": []
    },
    {
      "cell_type": "code",
      "metadata": {
        "id": "FAbxlFAcisKY"
      },
      "source": [
        "link7 = '''\n",
        "China’s Fosun-owned Gland Pharma gets Sebi nod for proposed ₹6,000 cr IPO\n",
        "\n",
        "Gland Pharma had filed the draft red herring prospectus for its IPO with Sebi in July. It develops, manufactures and markets complex injectables\n",
        "The Fosun group-owned company will use the proceeds of the IPO for capital expenditure and working capital requirements\n",
        "MUMBAI: Gland Pharma Ltd, which is majority owned by China’s Fosun group, has received the Securities and Exchange Board of India’s (Sebi) approval to go ahead with its proposed ₹6,000 crore IPO, a person aware of the development told Mint.\n",
        "\n",
        "The company, backed by China's Fosun Pharma, had filed the draft red herring prospectus (DRHP) for its IPO with Sebi in July. It develops, manufactures and markets complex injectables.\n",
        "\n",
        "The company plans to raise ₹1,250 crore in fresh capital through the IPO, while the existing promoters plan to sell around 34 million shares, which could be worth around ₹4,750 crore.\n",
        "\n",
        "The company will use the proceeds of the IPO for capital expenditure and working capital requirements.\n",
        "\n",
        "“There is a strong demand for pharma companies and the Gland Pharma IPO too is seeing that. The IPO may be launched sometime next month,\" said the person cited above.\n",
        "\n",
        "Fosun Pharma acquired 74% stake in the company in 2017.\n",
        "\n",
        "Kotak Mahindra Capital Company Ltd, Citigroup Global Markets India Pvt Ltd, Haitong Securities India Pvt Ltd, and Nomura Financial Advisory and Securities (India) Pvt Ltd are advising the company on the IPO.\n",
        "\n",
        "A spokesperson for Gland Pharma could not be immediately reached for a comment.\n",
        "\n",
        "'''"
      ],
      "execution_count": 56,
      "outputs": []
    },
    {
      "cell_type": "code",
      "metadata": {
        "id": "4jpEdks9i1Rw"
      },
      "source": [
        "link8 = '''\n",
        "Purdue Pharma to plead guilty, pay $8.3 bn over opioid probes\n",
        "Purdue Pharma LP will plead guilty to three felonies and pay $8.3 billion to settle federal probes of how it marketed OxyContin, the addictive painkiller blamed for helping to spark the opioid epidemic.\n",
        "\n",
        "The company’s owners, members of the billionaire Sackler family, will pay $225 million in a civil settlement with the Department of Justice, court papers and US officials said. The agreement resolves the federal government’s criminal and civil investigations, according to a filing on Wednesday in bankruptcy court in New York. Investigations by states including New York and Massachusetts will continue.\n",
        "\n",
        "The settlement is likely to boost Purdue’s effort to move past claims it helped spark a public-health crisis over opioids with its marketing of OxyContin. Yet the company still faces thousands of civil claims by local and state officials, for which Purdue has proposed a separate $10 billion settlement. Governments are seeking reimbursement from Purdue and others for tax dollars spent coping with the crisis, which led to over 200,000 US overdose deaths and chronic addiction.\n",
        "\n",
        "To cope with a tidal wave of claims, Purdue last year filed for Chapter 11 protection in bankruptcy court in New York. US Bankruptcy Judge Robert Drain must approve the settlement with the Department of Justice for it to become final.\n",
        "\n",
        "“Purdue deeply regrets and accepts responsibility for the misconduct detailed by the Department of Justice in the agreed statement of facts,\" Purdue Pharma chief executive officer Steve Miller said in a statement. “Resolving the DOJ investigations is an essential step in our bankruptcy process. The settlement agreement will pave the way for Purdue to submit a plan of reorganization to the bankruptcy court that will transfer all of its assets to a public benefit firm.\"\n",
        "\n",
        "In a bankruptcy filing earlier this year, federal prosecutors said they were seeking over $11 billion in criminal fines and civil penalties from Purdue. The government claims the company fuelled the opioid epidemic with illegal OxyContin marketing efforts.Previously in bankruptcy court, Purdue has proposed a $10 billion deal calling for Sackler family members to hand over the company to a trust controlled by the states, cities and counties that are suing it.\n",
        "\n",
        "'''"
      ],
      "execution_count": 57,
      "outputs": []
    },
    {
      "cell_type": "code",
      "metadata": {
        "id": "Is9-JL8_jCn4"
      },
      "source": [
        "links = [link1,link2,link3,link4,link5,link6,link7,link8]"
      ],
      "execution_count": 62,
      "outputs": []
    },
    {
      "cell_type": "code",
      "metadata": {
        "id": "8Eri3Q-wjNIr",
        "outputId": "666eedda-6719-4be0-c542-199680f46d59",
        "colab": {
          "base_uri": "https://localhost:8080/",
          "height": 315
        }
      },
      "source": [
        "for i in links: \n",
        "  gensim_summary(i)\n",
        "  print('-----')"
      ],
      "execution_count": 65,
      "outputs": [
        {
          "output_type": "stream",
          "text": [
            "(<Sentence: Market participants will keenly watch the second and final presidential debate between Donald Trump and Joe Biden.>, <Sentence: Market participants will keenly watch the second and final presidential debate between Donald Trump and Joe Biden.>, <Sentence: Besides, IMF has slashed economic growth forecast for Asia, which sent Asian stock markets in red today.>, <Sentence: Besides, corporate earnings and other developments will induce stock-specific action today.>, <Sentence: Bajaj Finance: Bajaj Finance, a non-banking finance company, on Wednesday reported a steep 36% year-on-year fall in net profit to Rs 965 crore for the quarter ended September on higher loan losses, provisioning and a drop in new loans booked.>)\n",
            "-----\n",
            "(<Sentence: At the upper price band, investors will need to shell out Rs 14,850 to bid for a single lot of Equitas SFB unit The 518-crore Equitas Small Finance Bank initial public offer (IPO) has been subscribed 64 per cent so far on day 2 of the three-day bidding process.>, <Sentence: Earlier this week, Equitas Small Finance Bank raised around Rs 140 crore from 12 anchor investors and finalised allotment of 4.23 crore equity shares at upper price band of Rs 33 per equity share.>, <Sentence: Manan Doshi, an independent dealer in unlisted shares, said that investors are concerned about valuations as better alternatives are available in both, listed and unlisted space.>, <Sentence: Non-institutional investors subscribed their portion 5 per cent while employee subscribed to 91 per cent of their portion.>, <Sentence: Research and brokerage firm Anand Rathi Financial Services has subscribe rating with long term horizon to this IPO.>)\n",
            "-----\n",
            "(<Sentence: UltraTech Cement's consolidated net profit more than doubled to Rs 1,234 crore on a year-on-year (y-o-y) basis for the quarter ended September 30, on the back of operational efficiencies and lower finance cost.>, <Sentence: The volumes during the quarter surged a good 20% y-o-y to 19.21 million tonne from 16 million tonne in the corresponding quarter last year, led by strong rural demand and government spends on infrastructure.>, <Sentence: In the September quarter, the company reduced the net debt by Rs 2,519 crore.>, <Sentence: The company’s consolidated net debt to Ebitda reduced substantially to 1.22x versus 1.70x in March 2020.>, <Sentence: The company’s consolidated net debt at the end of September quarter stood at Rs 12,132 crore against Rs 14,651 crore in the June 2020 quarter, and Rs 16,860 crore in the March 2020 quarter.>)\n",
            "-----\n",
            "(<Sentence: Month-on-month sales gain momentum Leading truck and bus maker Tata Motors expects demand revival in the commercial vehicle industry to improve further in the coming months, aided by multiple factors.>, <Sentence: As the economy opened up slowly, Tata Motors has seen gradual improvements with growth in sales month-on-month and good demand in select segments though the full recovery in the industry is some time away.>, <Sentence: “While M&HCV volumes witnessed a steep decline of 73 per cent in H1FY21 vs last year on account of Covid-19, we are seeing a month-on-month improvement in the volumes.>, <Sentence: In September 2020, the sale at 23,245 units was 38 per cent higher than the previous month while 4.3 per cent lower than September 2019 numbers, said Girish Wagh, President, Commercial Vehicle Business Unit, Tata Motors.>, <Sentence: The company has increased the use of digital mediums to reach out and engage with its customers and support them in their business.>)\n",
            "-----\n",
            "(<Sentence: The company's operating margins were up 27 per cent driven by both revenue growth and tight cost management Aditya Birla group firm UltraTech Cement Ltd on Wednesday reported over two-fold jump in consolidated net profit to Rs 1,235.11 crore in the September quarter, mainly on account of operational efficiencies.>, <Sentence: The leading cement producer had posted a net profit of Rs 578.55 crore in July-September quarter a year ago.>, <Sentence: Its revenue from operations stood at Rs 10,354.21 crore, up 7.68 per cent, during the quarter as against Rs 9,615.12 crore in the corresponding period of last fiscal.>, <Sentence: “The company’s strong quarterly performance is on the back of operational efficiencies and its ability to serve all India markets.>, <Sentence: Work on the company’s 3.4 mtpa (million tons per annum) cement capacity addition in Odisha, Bihar and West Bengal has picked up pace and is expected to get commissioned during FY22, in a phased manner, it said.>)\n",
            "-----\n",
            "(<Sentence: Of this, ₹440 crore has already been incurred and another ₹100 crore will be spent in the December quarter.>, <Sentence: Of this, there are two cement assets in China and UAE and a non-cement asset in Europe.>, <Sentence: We are scouting for a buyer for the UAE asset which is valued at ₹1,000 crore by us but there are no buyers for this asset at present.>, <Sentence: We want to bring it to below 1 times by the end of this fiscal.>, <Sentence: We expect demand from real estate to remain sluggish this fiscal given the non-availability of credit.>)\n",
            "-----\n",
            "(<Sentence: China’s Fosun-owned Gland Pharma gets Sebi nod for proposed ₹6,000 cr IPO>, <Sentence: It develops, manufactures and markets complex injectables The Fosun group-owned company will use the proceeds of the IPO for capital expenditure and working capital requirements MUMBAI: Gland Pharma Ltd, which is majority owned by China’s Fosun group, has received the Securities and Exchange Board of India’s (Sebi) approval to go ahead with its proposed ₹6,000 crore IPO, a person aware of the development told Mint.>, <Sentence: The company, backed by China's Fosun Pharma, had filed the draft red herring prospectus (DRHP) for its IPO with Sebi in July.>, <Sentence: “There is a strong demand for pharma companies and the Gland Pharma IPO too is seeing that.>, <Sentence: The IPO may be launched sometime next month,\" said the person cited above.>)\n",
            "-----\n",
            "(<Sentence: The company’s owners, members of the billionaire Sackler family, will pay $225 million in a civil settlement with the Department of Justice, court papers and US officials said.>, <Sentence: The agreement resolves the federal government’s criminal and civil investigations, according to a filing on Wednesday in bankruptcy court in New York.>, <Sentence: To cope with a tidal wave of claims, Purdue last year filed for Chapter 11 protection in bankruptcy court in New York.>, <Sentence: In a bankruptcy filing earlier this year, federal prosecutors said they were seeking over $11 billion in criminal fines and civil penalties from Purdue.>, <Sentence: The government claims the company fuelled the opioid epidemic with illegal OxyContin marketing efforts.Previously in bankruptcy court, Purdue has proposed a $10 billion deal calling for Sackler family members to hand over the company to a trust controlled by the states, cities and counties that are suing it.>)\n",
            "-----\n"
          ],
          "name": "stdout"
        }
      ]
    },
    {
      "cell_type": "code",
      "metadata": {
        "id": "k0CoLUF9jRN0",
        "outputId": "b6fefc5c-2cee-4ce8-d55f-bcf680b31d5e",
        "colab": {
          "base_uri": "https://localhost:8080/",
          "height": 315
        }
      },
      "source": [
        "for i in links: \n",
        "  LexRank_summary(i)\n",
        "  print('-----')"
      ],
      "execution_count": 66,
      "outputs": [
        {
          "output_type": "stream",
          "text": [
            "(<Sentence: Market participants will keenly watch the second and final presidential debate between Donald Trump and Joe Biden.>, <Sentence: Market participants will keenly watch the second and final presidential debate between Donald Trump and Joe Biden.>, <Sentence: Besides, IMF has slashed economic growth forecast for Asia, which sent Asian stock markets in red today.>, <Sentence: Besides, corporate earnings and other developments will induce stock-specific action today.>, <Sentence: Bajaj Finance: Bajaj Finance, a non-banking finance company, on Wednesday reported a steep 36% year-on-year fall in net profit to Rs 965 crore for the quarter ended September on higher loan losses, provisioning and a drop in new loans booked.>)\n",
            "-----\n",
            "(<Sentence: At the upper price band, investors will need to shell out Rs 14,850 to bid for a single lot of Equitas SFB unit The 518-crore Equitas Small Finance Bank initial public offer (IPO) has been subscribed 64 per cent so far on day 2 of the three-day bidding process.>, <Sentence: Earlier this week, Equitas Small Finance Bank raised around Rs 140 crore from 12 anchor investors and finalised allotment of 4.23 crore equity shares at upper price band of Rs 33 per equity share.>, <Sentence: Manan Doshi, an independent dealer in unlisted shares, said that investors are concerned about valuations as better alternatives are available in both, listed and unlisted space.>, <Sentence: Non-institutional investors subscribed their portion 5 per cent while employee subscribed to 91 per cent of their portion.>, <Sentence: Research and brokerage firm Anand Rathi Financial Services has subscribe rating with long term horizon to this IPO.>)\n",
            "-----\n",
            "(<Sentence: UltraTech Cement's consolidated net profit more than doubled to Rs 1,234 crore on a year-on-year (y-o-y) basis for the quarter ended September 30, on the back of operational efficiencies and lower finance cost.>, <Sentence: The volumes during the quarter surged a good 20% y-o-y to 19.21 million tonne from 16 million tonne in the corresponding quarter last year, led by strong rural demand and government spends on infrastructure.>, <Sentence: In the September quarter, the company reduced the net debt by Rs 2,519 crore.>, <Sentence: The company’s consolidated net debt to Ebitda reduced substantially to 1.22x versus 1.70x in March 2020.>, <Sentence: The company’s consolidated net debt at the end of September quarter stood at Rs 12,132 crore against Rs 14,651 crore in the June 2020 quarter, and Rs 16,860 crore in the March 2020 quarter.>)\n",
            "-----\n",
            "(<Sentence: Month-on-month sales gain momentum Leading truck and bus maker Tata Motors expects demand revival in the commercial vehicle industry to improve further in the coming months, aided by multiple factors.>, <Sentence: As the economy opened up slowly, Tata Motors has seen gradual improvements with growth in sales month-on-month and good demand in select segments though the full recovery in the industry is some time away.>, <Sentence: “While M&HCV volumes witnessed a steep decline of 73 per cent in H1FY21 vs last year on account of Covid-19, we are seeing a month-on-month improvement in the volumes.>, <Sentence: In September 2020, the sale at 23,245 units was 38 per cent higher than the previous month while 4.3 per cent lower than September 2019 numbers, said Girish Wagh, President, Commercial Vehicle Business Unit, Tata Motors.>, <Sentence: The company has increased the use of digital mediums to reach out and engage with its customers and support them in their business.>)\n",
            "-----\n",
            "(<Sentence: The company's operating margins were up 27 per cent driven by both revenue growth and tight cost management Aditya Birla group firm UltraTech Cement Ltd on Wednesday reported over two-fold jump in consolidated net profit to Rs 1,235.11 crore in the September quarter, mainly on account of operational efficiencies.>, <Sentence: The leading cement producer had posted a net profit of Rs 578.55 crore in July-September quarter a year ago.>, <Sentence: Its revenue from operations stood at Rs 10,354.21 crore, up 7.68 per cent, during the quarter as against Rs 9,615.12 crore in the corresponding period of last fiscal.>, <Sentence: “The company’s strong quarterly performance is on the back of operational efficiencies and its ability to serve all India markets.>, <Sentence: Work on the company’s 3.4 mtpa (million tons per annum) cement capacity addition in Odisha, Bihar and West Bengal has picked up pace and is expected to get commissioned during FY22, in a phased manner, it said.>)\n",
            "-----\n",
            "(<Sentence: Of this, ₹440 crore has already been incurred and another ₹100 crore will be spent in the December quarter.>, <Sentence: Of this, there are two cement assets in China and UAE and a non-cement asset in Europe.>, <Sentence: We are scouting for a buyer for the UAE asset which is valued at ₹1,000 crore by us but there are no buyers for this asset at present.>, <Sentence: We want to bring it to below 1 times by the end of this fiscal.>, <Sentence: We expect demand from real estate to remain sluggish this fiscal given the non-availability of credit.>)\n",
            "-----\n",
            "(<Sentence: China’s Fosun-owned Gland Pharma gets Sebi nod for proposed ₹6,000 cr IPO>, <Sentence: It develops, manufactures and markets complex injectables The Fosun group-owned company will use the proceeds of the IPO for capital expenditure and working capital requirements MUMBAI: Gland Pharma Ltd, which is majority owned by China’s Fosun group, has received the Securities and Exchange Board of India’s (Sebi) approval to go ahead with its proposed ₹6,000 crore IPO, a person aware of the development told Mint.>, <Sentence: The company, backed by China's Fosun Pharma, had filed the draft red herring prospectus (DRHP) for its IPO with Sebi in July.>, <Sentence: “There is a strong demand for pharma companies and the Gland Pharma IPO too is seeing that.>, <Sentence: The IPO may be launched sometime next month,\" said the person cited above.>)\n",
            "-----\n",
            "(<Sentence: The company’s owners, members of the billionaire Sackler family, will pay $225 million in a civil settlement with the Department of Justice, court papers and US officials said.>, <Sentence: The agreement resolves the federal government’s criminal and civil investigations, according to a filing on Wednesday in bankruptcy court in New York.>, <Sentence: To cope with a tidal wave of claims, Purdue last year filed for Chapter 11 protection in bankruptcy court in New York.>, <Sentence: In a bankruptcy filing earlier this year, federal prosecutors said they were seeking over $11 billion in criminal fines and civil penalties from Purdue.>, <Sentence: The government claims the company fuelled the opioid epidemic with illegal OxyContin marketing efforts.Previously in bankruptcy court, Purdue has proposed a $10 billion deal calling for Sackler family members to hand over the company to a trust controlled by the states, cities and counties that are suing it.>)\n",
            "-----\n"
          ],
          "name": "stdout"
        }
      ]
    },
    {
      "cell_type": "code",
      "metadata": {
        "id": "OMYwLANQlc_X",
        "outputId": "c18e08ed-c640-4725-a91a-a5d41823951c",
        "colab": {
          "base_uri": "https://localhost:8080/",
          "height": 315
        }
      },
      "source": [
        "for i in links: \n",
        "  luhn_summary(i)\n",
        "  print('-----')lsa_summary"
      ],
      "execution_count": 67,
      "outputs": [
        {
          "output_type": "stream",
          "text": [
            "(<Sentence: Besides, IMF has slashed economic growth forecast for Asia, which sent Asian stock markets in red today.>, <Sentence: We expect more stock-specific action as the earnings season progress,” said Siddhartha Khemka, Head – Retail Research, Motilal Oswal Financial Services Ltd.>, <Sentence: Asian Paints, SBI Cards: A total of 48 companies including Asian Paints, Bajaj Auto, Bharti Infratel, HDFC Asset Management Company, SBI Cards and Payment Services, Hexaware Technologies, Indian Bank, Biocon, Coforge, Crompton Greaves Consumer Electricals, L&T Finance Holdings, Mphasis, Reliance Power, Sterlite Technologies, and UCO Bank are scheduled to announce their July-September quarter earnings today.>, <Sentence: UltraTech Cement: UltraTech Cement’s consolidated net profit more than doubled to Rs 1,234 crore on a year-on-year (y-o-y) basis for the quarter ended September 30, on the back of operational efficiencies and lower finance cost.>, <Sentence: Get live Stock Prices from BSE, NSE, US Market and latest NAV, portfolio of Mutual Funds, calculate your tax by Income Tax Calculator, know market’s Top Gainers, Top Losers & Best Equity Funds.>)\n",
            "-----\n",
            "(<Sentence: Earlier this week, Equitas Small Finance Bank raised around Rs 140 crore from 12 anchor investors and finalised allotment of 4.23 crore equity shares at upper price band of Rs 33 per equity share.>, <Sentence: Sandip Ginodia, CEO of Abhishek Securities & Altius Investech Pvt Ltd, who too deals in unlisted shares, said that there was hardly any premium in Equitas SFB due to a very few trades.>, <Sentence: The portion reserved for retail investors has been fully subscribed with 1.36 times application.>, <Sentence: Research and brokerage firm Anand Rathi Financial Services has subscribe rating with long term horizon to this IPO.>, <Sentence: “Our concern for Equitas SFB is the fresh formation of bad loans from moratorium book that would keep provisions high and return ratios compressed,” Parmar said.>)\n",
            "-----\n",
            "(<Sentence: UltraTech Cement's consolidated net profit more than doubled to Rs 1,234 crore on a year-on-year (y-o-y) basis for the quarter ended September 30, on the back of operational efficiencies and lower finance cost.>, <Sentence: UltraTech Cement’s consolidated net profit more than doubled to Rs 1,234 crore on a year-on-year (y-o-y) basis for the quarter ended September 30, on the back of operational efficiencies and lower finance cost.>, <Sentence: The consolidated Ebitda was aided by higher volumes, competitive cement prices, lower energy costs and stable logistics.>, <Sentence: For the second quarter in a row, UltraTech reduced net debt substantially.>, <Sentence: The company said work on the company’s 3.4 MTPA cement capacity addition in Odisha, Bihar and West Bengal has picked up pace and it is expected to get commissioned during FY22 in a phased manner.>)\n",
            "-----\n",
            "(<Sentence: Tata Motors’ domestic commercial vehicle sales in Q2 (July- September 2020) at 52,094 units was about 23 per cent lower than Q2 last year.>, <Sentence: In September 2020, the sale at 23,245 units was 38 per cent higher than the previous month while 4.3 per cent lower than September 2019 numbers, said Girish Wagh, President, Commercial Vehicle Business Unit, Tata Motors.>, <Sentence: “There are a number of other positive signs in the form of improving freight rates, GST collections and e-way bills which augur well for the economy and overall demand for M&HCVs,” he added.>, <Sentence: Tata Motors is also seeing good demand coming from certain specific segments like e-commerce, petroleum, oil & lubricants (POL), FMCG sectors, steel and cement, which are driving demand for the MCV (medium commercial vehicle) and MAV (multi-axle vehicle) trucks.>, <Sentence: \"We shall continue to make sure that we are helping our customers run their operations without any disruptions, by providing support on the vehicle servicing through our Sampoorna Seva programme, a service highly appreciated by customers,” he added.>)\n",
            "-----\n",
            "(<Sentence: The company's operating margins were up 27 per cent driven by both revenue growth and tight cost management Aditya Birla group firm UltraTech Cement Ltd on Wednesday reported over two-fold jump in consolidated net profit to Rs 1,235.11 crore in the September quarter, mainly on account of operational efficiencies.>, <Sentence: UltraTech reported robust operating margins at 27 per cent driven by both revenue growth and tight cost management,” the Aditya Birla Group company said in its earnings statement.>, <Sentence: For the second quarter in a row, it has reduced net debt substantially.>, <Sentence: Work on the company’s 3.4 mtpa (million tons per annum) cement capacity addition in Odisha, Bihar and West Bengal has picked up pace and is expected to get commissioned during FY22, in a phased manner, it said.>, <Sentence: Given its Pan-India presence, UltraTech is well-positioned to benefit from demand recovery across the markets,” it said.>)\n",
            "-----\n",
            "(<Sentence: In an interview with BusinessLine, Atul Daga, Chief Financial Officer, UltraTech Cement, explained what lies ahead for the company.>, <Sentence: Expense on travel and marketing will increase as market opens up in the December quarter.>, <Sentence: This apart, there will be expenses on replacing machinery parts and refilling of spares at the stores level.>, <Sentence: We have written off ₹24 crore advance extended to the European unit as it was not recoverable.>, <Sentence: We expect demand from real estate to remain sluggish this fiscal given the non-availability of credit.>)\n",
            "-----\n",
            "(<Sentence: China’s Fosun-owned Gland Pharma gets Sebi nod for proposed ₹6,000 cr IPO>, <Sentence: Gland Pharma had filed the draft red herring prospectus for its IPO with Sebi in July.>, <Sentence: It develops, manufactures and markets complex injectables The Fosun group-owned company will use the proceeds of the IPO for capital expenditure and working capital requirements MUMBAI: Gland Pharma Ltd, which is majority owned by China’s Fosun group, has received the Securities and Exchange Board of India’s (Sebi) approval to go ahead with its proposed ₹6,000 crore IPO, a person aware of the development told Mint.>, <Sentence: The company, backed by China's Fosun Pharma, had filed the draft red herring prospectus (DRHP) for its IPO with Sebi in July.>, <Sentence: The company plans to raise ₹1,250 crore in fresh capital through the IPO, while the existing promoters plan to sell around 34 million shares, which could be worth around ₹4,750 crore.>)\n",
            "-----\n",
            "(<Sentence: Investigations by states including New York and Massachusetts will continue.>, <Sentence: The settlement is likely to boost Purdue’s effort to move past claims it helped spark a public-health crisis over opioids with its marketing of OxyContin.>, <Sentence: Yet the company still faces thousands of civil claims by local and state officials, for which Purdue has proposed a separate $10 billion settlement.>, <Sentence: Governments are seeking reimbursement from Purdue and others for tax dollars spent coping with the crisis, which led to over 200,000 US overdose deaths and chronic addiction.>, <Sentence: “Resolving the DOJ investigations is an essential step in our bankruptcy process.>)\n",
            "-----\n"
          ],
          "name": "stdout"
        }
      ]
    },
    {
      "cell_type": "code",
      "metadata": {
        "id": "_qmDf_sDmHja",
        "outputId": "e26e76b8-25d8-4063-f261-6cde025c6443",
        "colab": {
          "base_uri": "https://localhost:8080/",
          "height": 315
        }
      },
      "source": [
        "for i in links: \n",
        "  lsa_summary(i)\n",
        "  print('-----')bert_sum"
      ],
      "execution_count": 68,
      "outputs": [
        {
          "output_type": "stream",
          "text": [
            "(<Sentence: Besides, IMF has slashed economic growth forecast for Asia, which sent Asian stock markets in red today.>, <Sentence: We expect more stock-specific action as the earnings season progress,” said Siddhartha Khemka, Head – Retail Research, Motilal Oswal Financial Services Ltd.>, <Sentence: Asian Paints, SBI Cards: A total of 48 companies including Asian Paints, Bajaj Auto, Bharti Infratel, HDFC Asset Management Company, SBI Cards and Payment Services, Hexaware Technologies, Indian Bank, Biocon, Coforge, Crompton Greaves Consumer Electricals, L&T Finance Holdings, Mphasis, Reliance Power, Sterlite Technologies, and UCO Bank are scheduled to announce their July-September quarter earnings today.>, <Sentence: UltraTech Cement: UltraTech Cement’s consolidated net profit more than doubled to Rs 1,234 crore on a year-on-year (y-o-y) basis for the quarter ended September 30, on the back of operational efficiencies and lower finance cost.>, <Sentence: Get live Stock Prices from BSE, NSE, US Market and latest NAV, portfolio of Mutual Funds, calculate your tax by Income Tax Calculator, know market’s Top Gainers, Top Losers & Best Equity Funds.>)\n",
            "-----\n",
            "(<Sentence: Earlier this week, Equitas Small Finance Bank raised around Rs 140 crore from 12 anchor investors and finalised allotment of 4.23 crore equity shares at upper price band of Rs 33 per equity share.>, <Sentence: Sandip Ginodia, CEO of Abhishek Securities & Altius Investech Pvt Ltd, who too deals in unlisted shares, said that there was hardly any premium in Equitas SFB due to a very few trades.>, <Sentence: The portion reserved for retail investors has been fully subscribed with 1.36 times application.>, <Sentence: Research and brokerage firm Anand Rathi Financial Services has subscribe rating with long term horizon to this IPO.>, <Sentence: “Our concern for Equitas SFB is the fresh formation of bad loans from moratorium book that would keep provisions high and return ratios compressed,” Parmar said.>)\n",
            "-----\n",
            "(<Sentence: UltraTech Cement's consolidated net profit more than doubled to Rs 1,234 crore on a year-on-year (y-o-y) basis for the quarter ended September 30, on the back of operational efficiencies and lower finance cost.>, <Sentence: UltraTech Cement’s consolidated net profit more than doubled to Rs 1,234 crore on a year-on-year (y-o-y) basis for the quarter ended September 30, on the back of operational efficiencies and lower finance cost.>, <Sentence: The consolidated Ebitda was aided by higher volumes, competitive cement prices, lower energy costs and stable logistics.>, <Sentence: For the second quarter in a row, UltraTech reduced net debt substantially.>, <Sentence: The company said work on the company’s 3.4 MTPA cement capacity addition in Odisha, Bihar and West Bengal has picked up pace and it is expected to get commissioned during FY22 in a phased manner.>)\n",
            "-----\n",
            "(<Sentence: Tata Motors’ domestic commercial vehicle sales in Q2 (July- September 2020) at 52,094 units was about 23 per cent lower than Q2 last year.>, <Sentence: In September 2020, the sale at 23,245 units was 38 per cent higher than the previous month while 4.3 per cent lower than September 2019 numbers, said Girish Wagh, President, Commercial Vehicle Business Unit, Tata Motors.>, <Sentence: “There are a number of other positive signs in the form of improving freight rates, GST collections and e-way bills which augur well for the economy and overall demand for M&HCVs,” he added.>, <Sentence: Tata Motors is also seeing good demand coming from certain specific segments like e-commerce, petroleum, oil & lubricants (POL), FMCG sectors, steel and cement, which are driving demand for the MCV (medium commercial vehicle) and MAV (multi-axle vehicle) trucks.>, <Sentence: \"We shall continue to make sure that we are helping our customers run their operations without any disruptions, by providing support on the vehicle servicing through our Sampoorna Seva programme, a service highly appreciated by customers,” he added.>)\n",
            "-----\n",
            "(<Sentence: The company's operating margins were up 27 per cent driven by both revenue growth and tight cost management Aditya Birla group firm UltraTech Cement Ltd on Wednesday reported over two-fold jump in consolidated net profit to Rs 1,235.11 crore in the September quarter, mainly on account of operational efficiencies.>, <Sentence: UltraTech reported robust operating margins at 27 per cent driven by both revenue growth and tight cost management,” the Aditya Birla Group company said in its earnings statement.>, <Sentence: For the second quarter in a row, it has reduced net debt substantially.>, <Sentence: Work on the company’s 3.4 mtpa (million tons per annum) cement capacity addition in Odisha, Bihar and West Bengal has picked up pace and is expected to get commissioned during FY22, in a phased manner, it said.>, <Sentence: Given its Pan-India presence, UltraTech is well-positioned to benefit from demand recovery across the markets,” it said.>)\n",
            "-----\n",
            "(<Sentence: In an interview with BusinessLine, Atul Daga, Chief Financial Officer, UltraTech Cement, explained what lies ahead for the company.>, <Sentence: Expense on travel and marketing will increase as market opens up in the December quarter.>, <Sentence: This apart, there will be expenses on replacing machinery parts and refilling of spares at the stores level.>, <Sentence: We have written off ₹24 crore advance extended to the European unit as it was not recoverable.>, <Sentence: We expect demand from real estate to remain sluggish this fiscal given the non-availability of credit.>)\n",
            "-----\n",
            "(<Sentence: China’s Fosun-owned Gland Pharma gets Sebi nod for proposed ₹6,000 cr IPO>, <Sentence: Gland Pharma had filed the draft red herring prospectus for its IPO with Sebi in July.>, <Sentence: It develops, manufactures and markets complex injectables The Fosun group-owned company will use the proceeds of the IPO for capital expenditure and working capital requirements MUMBAI: Gland Pharma Ltd, which is majority owned by China’s Fosun group, has received the Securities and Exchange Board of India’s (Sebi) approval to go ahead with its proposed ₹6,000 crore IPO, a person aware of the development told Mint.>, <Sentence: The company, backed by China's Fosun Pharma, had filed the draft red herring prospectus (DRHP) for its IPO with Sebi in July.>, <Sentence: The company plans to raise ₹1,250 crore in fresh capital through the IPO, while the existing promoters plan to sell around 34 million shares, which could be worth around ₹4,750 crore.>)\n",
            "-----\n",
            "(<Sentence: Investigations by states including New York and Massachusetts will continue.>, <Sentence: The settlement is likely to boost Purdue’s effort to move past claims it helped spark a public-health crisis over opioids with its marketing of OxyContin.>, <Sentence: Yet the company still faces thousands of civil claims by local and state officials, for which Purdue has proposed a separate $10 billion settlement.>, <Sentence: Governments are seeking reimbursement from Purdue and others for tax dollars spent coping with the crisis, which led to over 200,000 US overdose deaths and chronic addiction.>, <Sentence: “Resolving the DOJ investigations is an essential step in our bankruptcy process.>)\n",
            "-----\n"
          ],
          "name": "stdout"
        }
      ]
    },
    {
      "cell_type": "code",
      "metadata": {
        "id": "XzAh8FBTmlXa",
        "outputId": "61e369d3-4b03-4f53-86ea-79eb23f4f4eb",
        "colab": {
          "base_uri": "https://localhost:8080/",
          "height": 557
        }
      },
      "source": [
        "for i in links: \n",
        "  bert_sum(i)\n",
        "  print('-----')"
      ],
      "execution_count": 70,
      "outputs": [
        {
          "output_type": "stream",
          "text": [
            "We expect more stock-specific action as the earnings season progress,” said Siddhartha Khemka, Head – Retail Research, Motilal Oswal Financial Services Ltd.\n",
            "\n",
            "Stocks in focus today:\n",
            "\n",
            "Reliance Industries: RIL’s digital arm Reliance Jio has launched new, revamped ‘JioPages’, its Made-in-India mobile browser that is available in eight Indian languages and promises enhanced browsing experience while focusing on data privacy. Bajaj Finance: Bajaj Finance, a non-banking finance company, on Wednesday reported a steep 36% year-on-year fall in net profit to Rs 965 crore for the quarter ended September on higher loan losses, provisioning and a drop in new loans booked.\n",
            "-----\n",
            "At the upper price band, investors will need to shell out Rs 14,850 to bid for a single lot of Equitas SFB unit\n",
            "The 518-crore Equitas Small Finance Bank initial public offer (IPO) has been subscribed 64 per cent so far on day 2 of the three-day bidding process. Furthermore, investors are cautious due to anticipated stake sales in Equitas Small Finance Bank by the holding company to bring down its stake to 40 per cent by September 2021, as per the Reserve Bank of India’s (RBI) norms.\n",
            "-----\n",
            "UltraTech Cement's consolidated net profit more than doubled to Rs 1,234 crore on a year-on-year (y-o-y) basis for the quarter ended September 30, on the back of operational efficiencies and lower finance cost.\n",
            "-----\n",
            "Month-on-month sales gain momentum\n",
            "Leading truck and bus maker Tata Motors expects demand revival in the commercial vehicle industry to improve further in the coming months, aided by multiple factors. Volume growth\n",
            "With the Unlock 5.0 and consequent increase in economic activity, Government’s infrastructure push, particularly in the road construction sector and an uptick in the rural economy after a good monsoon, the company is beginning to see a revival in the M&HCV (medium and heavy commercial vehicle) volumes.\n",
            "-----\n",
            "The company's operating margins were up 27 per cent driven by both revenue growth and tight cost management\n",
            "Aditya Birla group firm UltraTech Cement Ltd on Wednesday reported over two-fold jump in consolidated net profit to Rs 1,235.11 crore in the September quarter, mainly on account of operational efficiencies.\n",
            "-----\n",
            "‘We expect demand from real estate to remain sluggish this fiscal due to non-availability of credit’\n",
            "UltraTech Cement has managed to double its profit despite Covid challenges on the back of tight cost control.\n",
            "-----\n",
            "China’s Fosun-owned Gland Pharma gets Sebi nod for proposed ₹6,000 cr IPO\n",
            "\n",
            "Gland Pharma had filed the draft red herring prospectus for its IPO with Sebi in July. It develops, manufactures and markets complex injectables\n",
            "The Fosun group-owned company will use the proceeds of the IPO for capital expenditure and working capital requirements\n",
            "MUMBAI: Gland Pharma Ltd, which is majority owned by China’s Fosun group, has received the Securities and Exchange Board of India’s (Sebi) approval to go ahead with its proposed ₹6,000 crore IPO, a person aware of the development told Mint.\n",
            "-----\n",
            "Purdue Pharma to plead guilty, pay $8.3 bn over opioid probes\n",
            "Purdue Pharma LP will plead guilty to three felonies and pay $8.3 billion to settle federal probes of how it marketed OxyContin, the addictive painkiller blamed for helping to spark the opioid epidemic. Previously in bankruptcy court, Purdue has proposed a $10 billion deal calling for Sackler family members to hand over the company to a trust controlled by the states, cities and counties that are suing it.\n",
            "-----\n"
          ],
          "name": "stdout"
        }
      ]
    },
    {
      "cell_type": "code",
      "metadata": {
        "id": "Sj2fHX4wnFPM"
      },
      "source": [
        "def sentiment_textblob(text):# Sentiment analysis with TextBlob\n",
        "  from textblob import TextBlob\n",
        "  blob=TextBlob(text)\n",
        "\n",
        "  # Using the sentiment attribute \n",
        "  print(blob.sentiment)\n",
        "  if(blob.sentiment.polarity > 0):\n",
        "    print(\"Positive\")\n",
        "  if(blob.sentiment.polarity < 0):  \n",
        "    print(\"Negative\")\n",
        "  if(blob.sentiment.polarity == 0):\n",
        "    print(\"Neutral\")  "
      ],
      "execution_count": 71,
      "outputs": []
    },
    {
      "cell_type": "code",
      "metadata": {
        "id": "460sYhm4oYCY",
        "outputId": "4a8d4844-84d9-46ea-bfa1-403d8edd9aa3",
        "colab": {
          "base_uri": "https://localhost:8080/",
          "height": 433
        }
      },
      "source": [
        "for i in links: \n",
        "  sentiment_textblob(i)\n",
        "  print('-----')"
      ],
      "execution_count": 72,
      "outputs": [
        {
          "output_type": "stream",
          "text": [
            "Sentiment(polarity=0.13255331088664424, subjectivity=0.3020931537598205)\n",
            "Positive\n",
            "-----\n",
            "Sentiment(polarity=-0.027230158730158726, subjectivity=0.3187730158730159)\n",
            "Negative\n",
            "-----\n",
            "Sentiment(polarity=0.10025252525252526, subjectivity=0.23333333333333334)\n",
            "Positive\n",
            "-----\n",
            "Sentiment(polarity=0.09629329004329006, subjectivity=0.28303070386403717)\n",
            "Positive\n",
            "-----\n",
            "Sentiment(polarity=0.012492651381540272, subjectivity=0.23062904174015286)\n",
            "Positive\n",
            "-----\n",
            "Sentiment(polarity=0.08520895770895771, subjectivity=0.3582809782809784)\n",
            "Positive\n",
            "-----\n",
            "Sentiment(polarity=0.05694444444444444, subjectivity=0.20694444444444446)\n",
            "Positive\n",
            "-----\n",
            "Sentiment(polarity=-0.10194805194805198, subjectivity=0.4998556998556999)\n",
            "Negative\n",
            "-----\n"
          ],
          "name": "stdout"
        }
      ]
    },
    {
      "cell_type": "code",
      "metadata": {
        "id": "1nN1-xeQoa2C"
      },
      "source": [
        ""
      ],
      "execution_count": null,
      "outputs": []
    }
  ]
}